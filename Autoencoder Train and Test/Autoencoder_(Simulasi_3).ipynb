{
  "nbformat": 4,
  "nbformat_minor": 0,
  "metadata": {
    "colab": {
      "name": "Autoencoder (Simulasi 3)",
      "provenance": [],
      "collapsed_sections": []
    },
    "kernelspec": {
      "display_name": "Python 3",
      "name": "python3"
    },
    "language_info": {
      "name": "python"
    }
  },
  "cells": [
    {
      "cell_type": "code",
      "metadata": {
        "id": "CRG8dvDMDxVA",
        "colab": {
          "base_uri": "https://localhost:8080/"
        },
        "outputId": "68d170ff-b916-4529-dae2-c8c58f254e48"
      },
      "source": [
        "from google.colab import drive\n",
        "from keras.optimizers import Adam\n",
        "drive.mount('/content/drive')"
      ],
      "execution_count": null,
      "outputs": [
        {
          "output_type": "stream",
          "text": [
            "Mounted at /content/drive\n"
          ],
          "name": "stdout"
        }
      ]
    },
    {
      "cell_type": "code",
      "metadata": {
        "id": "E-WGujeZDunB"
      },
      "source": [
        "import pandas as pd\n",
        "import numpy as np\n",
        "import seaborn as sns\n",
        "import matplotlib.pyplot as plt\n",
        "from sklearn.preprocessing import StandardScaler, normalize\n",
        "from sklearn.cluster import KMeans\n",
        "from sklearn.decomposition import PCA\n",
        "from sklearn.preprocessing import OneHotEncoder\n",
        "from numpy.core.defchararray import add\n",
        "\n",
        "from tensorflow.keras.layers import Input, Add, Dense, Activation, ZeroPadding2D, BatchNormalization, Flatten, Conv2D, AveragePooling2D, MaxPooling2D\n",
        "from tensorflow.keras.models import Model, load_model\n",
        "from tensorflow.keras.initializers import glorot_uniform # Xavier's initialization\n",
        "from keras.optimizers import SGD                         # Stochastic Gradient Descent\n",
        "from sklearn.model_selection import train_test_split"
      ],
      "execution_count": null,
      "outputs": []
    },
    {
      "cell_type": "code",
      "metadata": {
        "id": "OrWknSxjDzHH",
        "colab": {
          "base_uri": "https://localhost:8080/"
        },
        "outputId": "abd693d8-aba3-46e0-b107-3de73f1f5468"
      },
      "source": [
        "import pandas as pd\n",
        "import numpy as np\n",
        "\n",
        "data = pd.read_csv('/content/drive/MyDrive/TA-02 /Data Sampel/fkrtl_not_transformation.csv')"
      ],
      "execution_count": null,
      "outputs": [
        {
          "output_type": "stream",
          "text": [
            "/usr/local/lib/python3.7/dist-packages/IPython/core/interactiveshell.py:2718: DtypeWarning: Columns (13) have mixed types.Specify dtype option on import or set low_memory=False.\n",
            "  interactivity=interactivity, compiler=compiler, result=result)\n"
          ],
          "name": "stderr"
        }
      ]
    },
    {
      "cell_type": "code",
      "metadata": {
        "id": "ZfXN-eKBD93k"
      },
      "source": [
        "# Load data set\n",
        "\n",
        "data.drop(['Unnamed: 0', 'fkrtl-tanggal datang', 'FKRTL-ID Kunjungan', 'Nomor Peserta', 'fkrtl-tanggal pulang',\n",
        "           'FKRTL-Provinsi Faskes', 'FKRTL-Kab/Kota Faskes', 'FKRTL-Provinsi Faskes Perujuk', 'FKRTL-Kab/Kota Faskes Perujuk', \n",
        "           'FKRTL-Kepemilikan Faskes Perujuk', 'FKRTL-Jenis Faskes Perujuk', 'FKRTL-Tipe Faskes Perujuk', 'Segmen Peserta yang Terdaftar', \n",
        "           'Kepemilikan Faskes yang Terdaftar', 'Jenis Faskes yang Terdaftar', 'Provinsi Peserta Terdaftar', 'Kab/Kota Peserta Terdaftar', 'fkrtl-Year',\n",
        "          'FKRTL-Kode dan Nama Diagnosis Masuk', 'FKRTL-Kode dan Nama Diagnosis Sekunder', 'FKRTL-Kode dan Nama Diagnosis Primer', 'Status Kawin', 'Hubungan Keluarga',\n",
        "          'fkrtl-Month', 'fkrtl-Hari Kunjungan', 'provinsi perujuk sama?', 'kab/kota perujuk sama?', 'Kelas Rawat Peserta', 'Umur', 'FKRTL-Biaya Verifikasi'], axis=1, inplace=True)"
      ],
      "execution_count": null,
      "outputs": []
    },
    {
      "cell_type": "code",
      "metadata": {
        "id": "l85WPBb8KCoD"
      },
      "source": [
        "data['fkrtl-Weekend?'] = data['fkrtl-Weekend?'].astype('category')\n",
        "data['fkrtl-Quarter'] = data['fkrtl-Quarter'].astype('category')"
      ],
      "execution_count": null,
      "outputs": []
    },
    {
      "cell_type": "code",
      "metadata": {
        "id": "Iv9WkWkiKCuq"
      },
      "source": [
        "bins = np.linspace(min(data['FKRTL-Biaya Tagih']), max(data['FKRTL-Biaya Tagih']), 6)\n",
        "kategori = ['sangat murah', 'murah', 'standar', 'mahal', 'sangat mahal']\n",
        "data['biaya_tagih_binned'] = pd.cut(data['FKRTL-Biaya Tagih'], bins, labels=kategori, include_lowest=True)\n",
        "\n",
        "bins = np.linspace(min(data['fkrtl-Lama Kunjungan']), max(data['fkrtl-Lama Kunjungan']), 6)\n",
        "kategori = ['sangat sebentar', 'sebentar', 'standar', 'lama', 'sangat lama']\n",
        "data['lama_kunjungan_binned'] = pd.cut(data['fkrtl-Lama Kunjungan'], bins, labels=kategori, include_lowest=True)\n"
      ],
      "execution_count": null,
      "outputs": []
    },
    {
      "cell_type": "code",
      "metadata": {
        "id": "BShJF4fAKCw6"
      },
      "source": [
        "data_num = data.select_dtypes(include=[np.number])\n",
        "data_cat = data.select_dtypes(exclude=[np.number])"
      ],
      "execution_count": null,
      "outputs": []
    },
    {
      "cell_type": "code",
      "metadata": {
        "id": "ZaExoHUMKCzI"
      },
      "source": [
        "# Get dummies\n",
        "\n",
        "X = pd.get_dummies(data_cat, prefix_sep='_', drop_first=True)"
      ],
      "execution_count": null,
      "outputs": []
    },
    {
      "cell_type": "code",
      "metadata": {
        "id": "IyKur3QCKJMq"
      },
      "source": [
        "data_num = data.select_dtypes(include=[np.number])\n",
        "data_cat = data.select_dtypes(exclude=[np.number])"
      ],
      "execution_count": null,
      "outputs": []
    },
    {
      "cell_type": "markdown",
      "metadata": {
        "id": "iP1vIUL81nt_"
      },
      "source": [
        "One Hot Encoding"
      ]
    },
    {
      "cell_type": "code",
      "metadata": {
        "id": "H2wzyYFt1kG-"
      },
      "source": [
        "one_hot_encoder = pd.get_dummies(data_cat, prefix_sep='_', drop_first=True)"
      ],
      "execution_count": null,
      "outputs": []
    },
    {
      "cell_type": "code",
      "metadata": {
        "colab": {
          "base_uri": "https://localhost:8080/"
        },
        "id": "yANU2fKEKbfZ",
        "outputId": "7470cd83-b167-4230-fdaf-ef96c65b82ff"
      },
      "source": [
        "one_hot_encoder.shape"
      ],
      "execution_count": null,
      "outputs": [
        {
          "output_type": "execute_result",
          "data": {
            "text/plain": [
              "(906905, 70)"
            ]
          },
          "metadata": {
            "tags": []
          },
          "execution_count": 11
        }
      ]
    },
    {
      "cell_type": "markdown",
      "metadata": {
        "id": "3ZTqvEFs1xGM"
      },
      "source": [
        "Autoencoder"
      ]
    },
    {
      "cell_type": "code",
      "metadata": {
        "id": "McxcOUgqMumG"
      },
      "source": [
        "# Let's scale the data first\n",
        "scaler = StandardScaler()\n",
        "normalized_df = scaler.fit_transform(one_hot_encoder)\n"
      ],
      "execution_count": null,
      "outputs": []
    },
    {
      "cell_type": "code",
      "metadata": {
        "colab": {
          "base_uri": "https://localhost:8080/"
        },
        "id": "52aYtWWUNLbF",
        "outputId": "c4bc4c8d-3ac1-4386-b005-3f81f459d296"
      },
      "source": [
        "normalized_df.shape"
      ],
      "execution_count": null,
      "outputs": [
        {
          "output_type": "execute_result",
          "data": {
            "text/plain": [
              "(906905, 70)"
            ]
          },
          "metadata": {
            "tags": []
          },
          "execution_count": 13
        }
      ]
    },
    {
      "cell_type": "markdown",
      "metadata": {
        "id": "RpUNIkpvNPhX"
      },
      "source": [
        "SIMULASI 1\n",
        "Train: 80%, Test: 20%"
      ]
    },
    {
      "cell_type": "code",
      "metadata": {
        "id": "mR38ggjKLjr2"
      },
      "source": [
        "train, test = train_test_split(normalized_df, test_size = 0.20)"
      ],
      "execution_count": null,
      "outputs": []
    },
    {
      "cell_type": "code",
      "metadata": {
        "colab": {
          "base_uri": "https://localhost:8080/"
        },
        "id": "HvCbStqZPGA5",
        "outputId": "f43c103f-47d8-4e7f-b988-2db4d65d3550"
      },
      "source": [
        "test.shape"
      ],
      "execution_count": null,
      "outputs": [
        {
          "output_type": "execute_result",
          "data": {
            "text/plain": [
              "(181381, 70)"
            ]
          },
          "metadata": {
            "tags": []
          },
          "execution_count": 15
        }
      ]
    },
    {
      "cell_type": "code",
      "metadata": {
        "id": "1HxoBMIKEE_3",
        "colab": {
          "base_uri": "https://localhost:8080/"
        },
        "outputId": "545b3fbb-044c-4cff-82da-da774eb8e6d0"
      },
      "source": [
        "# AUTOENCODERS (PERFORM DIMENSIONALITY REDUCTION USING AUTOENCODERS)\n",
        "input_df = Input(shape=(70,))  # The 31 features of our dataset\n",
        "\n",
        "# Encoder\n",
        "x = Dense(units=256, activation='relu')(input_df)\n",
        "x = Dense(units=128, activation='relu', kernel_initializer='glorot_uniform')(x)\n",
        "x = Dense(units=64, activation='relu', kernel_initializer='glorot_uniform')(x)\n",
        "x = Dense(units=32, activation='relu', kernel_initializer='glorot_uniform')(x)\n",
        "\n",
        "# Coded\n",
        "encoded = Dense(10, activation='relu')(x)\n",
        "\n",
        "# Decoder\n",
        "h_decode = Dense(32, activation='relu')(encoded)\n",
        "h_decode = Dense(64, activation='relu')(h_decode)\n",
        "h_decode = Dense(128, activation='relu')(h_decode)\n",
        "h_decode = Dense(256, activation='relu')(h_decode)\n",
        "\n",
        "# we reconstruct the same number of features as the input\n",
        "outputs = Dense(70, activation='linear')(h_decode)\n",
        "\n",
        "# Autoencoder\n",
        "autoencoder = Model(inputs=input_df, outputs = outputs)\n",
        "\n",
        "# Encoder\n",
        "encoder = Model(inputs = input_df, outputs = encoded)\n",
        "\n",
        "# Optimizer / Update Rule\n",
        "adam = Adam(lr=0.001)\n",
        "\n",
        "# Compile the autoencoder model with adam optimizer and mean_squared_error\n",
        "autoencoder.compile(optimizer='adam', loss='mean_squared_error')"
      ],
      "execution_count": null,
      "outputs": [
        {
          "output_type": "stream",
          "text": [
            "/usr/local/lib/python3.7/dist-packages/tensorflow/python/keras/optimizer_v2/optimizer_v2.py:375: UserWarning: The `lr` argument is deprecated, use `learning_rate` instead.\n",
            "  \"The `lr` argument is deprecated, use `learning_rate` instead.\")\n"
          ],
          "name": "stderr"
        }
      ]
    },
    {
      "cell_type": "code",
      "metadata": {
        "colab": {
          "base_uri": "https://localhost:8080/"
        },
        "id": "qLS0cmuWaIPb",
        "outputId": "dfdf6a60-4c3a-47c1-cd43-fee58f819bf4"
      },
      "source": [
        "history = autoencoder.fit(x = train, y = train,\n",
        "                    epochs=25,\n",
        "                    batch_size=100,\n",
        "                    validation_split=0.2)"
      ],
      "execution_count": null,
      "outputs": [
        {
          "output_type": "stream",
          "text": [
            "Epoch 1/25\n",
            "5805/5805 [==============================] - 30s 5ms/step - loss: 0.2946 - val_loss: 0.1146\n",
            "Epoch 2/25\n",
            "5805/5805 [==============================] - 29s 5ms/step - loss: 0.2032 - val_loss: 0.0936\n",
            "Epoch 3/25\n",
            "5805/5805 [==============================] - 30s 5ms/step - loss: 0.1849 - val_loss: 0.1018\n",
            "Epoch 4/25\n",
            "5805/5805 [==============================] - 29s 5ms/step - loss: 0.1693 - val_loss: 0.0711\n",
            "Epoch 5/25\n",
            "5805/5805 [==============================] - 29s 5ms/step - loss: 0.1692 - val_loss: 0.0652\n",
            "Epoch 6/25\n",
            "5805/5805 [==============================] - 28s 5ms/step - loss: 0.1666 - val_loss: 0.0684\n",
            "Epoch 7/25\n",
            "5805/5805 [==============================] - 29s 5ms/step - loss: 0.1558 - val_loss: 0.0693\n",
            "Epoch 8/25\n",
            "5805/5805 [==============================] - 28s 5ms/step - loss: 0.1480 - val_loss: 0.0732\n",
            "Epoch 9/25\n",
            "5805/5805 [==============================] - 29s 5ms/step - loss: 0.1496 - val_loss: 0.0489\n",
            "Epoch 10/25\n",
            "5805/5805 [==============================] - 29s 5ms/step - loss: 0.1313 - val_loss: 0.0497\n",
            "Epoch 11/25\n",
            "5805/5805 [==============================] - 30s 5ms/step - loss: 0.1337 - val_loss: 0.0483\n",
            "Epoch 12/25\n",
            "5805/5805 [==============================] - 32s 5ms/step - loss: 0.1262 - val_loss: 0.0631\n",
            "Epoch 13/25\n",
            "5805/5805 [==============================] - 29s 5ms/step - loss: 0.1139 - val_loss: 0.0687\n",
            "Epoch 14/25\n",
            "5805/5805 [==============================] - 30s 5ms/step - loss: 0.1280 - val_loss: 0.0646\n",
            "Epoch 15/25\n",
            "5805/5805 [==============================] - 31s 5ms/step - loss: 0.1176 - val_loss: 0.0464\n",
            "Epoch 16/25\n",
            "5805/5805 [==============================] - 31s 5ms/step - loss: 0.1184 - val_loss: 0.0440\n",
            "Epoch 17/25\n",
            "5805/5805 [==============================] - 31s 5ms/step - loss: 0.1128 - val_loss: 0.0434\n",
            "Epoch 18/25\n",
            "5805/5805 [==============================] - 30s 5ms/step - loss: 0.1051 - val_loss: 0.0389\n",
            "Epoch 19/25\n",
            "5805/5805 [==============================] - 30s 5ms/step - loss: 0.0978 - val_loss: 0.0923\n",
            "Epoch 20/25\n",
            "5805/5805 [==============================] - 29s 5ms/step - loss: 0.1124 - val_loss: 0.0428\n",
            "Epoch 21/25\n",
            "5805/5805 [==============================] - 30s 5ms/step - loss: 0.1489 - val_loss: 0.0438\n",
            "Epoch 22/25\n",
            "5805/5805 [==============================] - 29s 5ms/step - loss: 0.1030 - val_loss: 0.0392\n",
            "Epoch 23/25\n",
            "5805/5805 [==============================] - 29s 5ms/step - loss: 0.0967 - val_loss: 0.0324\n",
            "Epoch 24/25\n",
            "5805/5805 [==============================] - 29s 5ms/step - loss: 0.1033 - val_loss: 0.0439\n",
            "Epoch 25/25\n",
            "5805/5805 [==============================] - 29s 5ms/step - loss: 0.1257 - val_loss: 0.0413\n"
          ],
          "name": "stdout"
        }
      ]
    },
    {
      "cell_type": "code",
      "metadata": {
        "colab": {
          "base_uri": "https://localhost:8080/",
          "height": 281
        },
        "id": "LksRnbS9fgFD",
        "outputId": "48921f23-7903-4c44-9568-c94fee2ec468"
      },
      "source": [
        "# Use Autoencoder to reduce the number of features / dimensions\n",
        "#testing\n",
        "pred = encoder.predict(test)\n",
        "X_std = train.std()\n",
        "X_mean = train.mean()\n",
        "for i in range(len(pred)):\n",
        "    pred[i] = np.multiply(pred[i], X_std) + X_mean\n",
        "\n",
        "loss = history.history['loss']\n",
        "val_loss = history.history['val_loss']\n",
        "epochs = range(25)\n",
        "plt.figure()\n",
        "plt.plot(epochs, loss, 'bo', label='Training loss')\n",
        "plt.plot(epochs, val_loss, 'b', label='Validation loss')\n",
        "plt.title('Training and validation loss')\n",
        "plt.legend()\n",
        "plt.show()\n",
        "plt.close()"
      ],
      "execution_count": null,
      "outputs": [
        {
          "output_type": "display_data",
          "data": {
            "image/png": "[encoded data removed]",
            "text/plain": [
              "<Figure size 432x288 with 1 Axes>"
            ]
          },
          "metadata": {
            "tags": [],
            "needs_background": "light"
          }
        }
      ]
    },
    {
      "cell_type": "code",
      "metadata": {
        "id": "poKdn1safkSK"
      },
      "source": [
        ""
      ],
      "execution_count": null,
      "outputs": []
    }
  ]
}