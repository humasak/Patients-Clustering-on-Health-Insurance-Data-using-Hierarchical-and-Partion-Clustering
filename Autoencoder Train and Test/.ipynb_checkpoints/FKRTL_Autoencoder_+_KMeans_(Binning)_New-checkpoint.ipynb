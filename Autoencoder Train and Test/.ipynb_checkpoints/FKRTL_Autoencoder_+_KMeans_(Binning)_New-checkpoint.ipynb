{
 "cells": [
  {
   "cell_type": "code",
   "execution_count": null,
   "metadata": {
    "id": "E-WGujeZDunB"
   },
   "outputs": [],
   "source": [
    "import pandas as pd\n",
    "import numpy as np\n",
    "import seaborn as sns\n",
    "import matplotlib.pyplot as plt\n",
    "from sklearn.preprocessing import StandardScaler, normalize\n",
    "from sklearn.cluster import KMeans\n",
    "from sklearn.decomposition import PCA\n",
    "from sklearn.preprocessing import OneHotEncoder\n",
    "from numpy.core.defchararray import add\n",
    "from keras.optimizers import Adam\n",
    "\n",
    "from tensorflow.keras.layers import Input, Add, Dense, Activation, ZeroPadding2D, BatchNormalization, Flatten, Conv2D, AveragePooling2D, MaxPooling2D\n",
    "from tensorflow.keras.models import Model, load_model\n",
    "from tensorflow.keras.initializers import glorot_uniform # Xavier's initialization\n",
    "from keras.optimizers import SGD                         # Stochastic Gradient Descent\n",
    "from sklearn.model_selection import train_test_split"
   ]
  },
  {
   "cell_type": "code",
   "execution_count": null,
   "metadata": {
    "id": "ZfXN-eKBD93k"
   },
   "outputs": [],
   "source": [
    "# Load data set\n",
    "data = pd.read_csv('D:/KULIAHHH/TUGAS AKHIR/TA-2/datasampel/fkrtl_not_transformation.csv')\n",
    "data.drop(['Unnamed: 0', 'fkrtl-tanggal datang', 'FKRTL-ID Kunjungan', 'Nomor Peserta', 'fkrtl-tanggal pulang',\n",
    "           'FKRTL-Provinsi Faskes', 'FKRTL-Kab/Kota Faskes', 'FKRTL-Provinsi Faskes Perujuk', 'FKRTL-Kab/Kota Faskes Perujuk', \n",
    "           'FKRTL-Kepemilikan Faskes Perujuk', 'FKRTL-Jenis Faskes Perujuk', 'FKRTL-Tipe Faskes Perujuk', 'Segmen Peserta yang Terdaftar', \n",
    "           'Kepemilikan Faskes yang Terdaftar', 'Jenis Faskes yang Terdaftar', 'Provinsi Peserta Terdaftar', 'Kab/Kota Peserta Terdaftar', 'fkrtl-Year',\n",
    "          'FKRTL-Kode dan Nama Diagnosis Masuk', 'FKRTL-Kode dan Nama Diagnosis Sekunder', 'FKRTL-Kode dan Nama Diagnosis Primer', 'Status Kawin', 'Hubungan Keluarga',\n",
    "          'fkrtl-Month', 'fkrtl-Hari Kunjungan', 'provinsi perujuk sama?', 'kab/kota perujuk sama?', 'Kelas Rawat Peserta', 'Umur', 'FKRTL-Biaya Verifikasi'], axis=1, inplace=True)"
   ]
  },
  {
   "cell_type": "code",
   "execution_count": null,
   "metadata": {
    "id": "l85WPBb8KCoD"
   },
   "outputs": [],
   "source": [
    "data['fkrtl-Weekend?'] = data['fkrtl-Weekend?'].astype('category')\n",
    "data['fkrtl-Quarter'] = data['fkrtl-Quarter'].astype('category')"
   ]
  },
  {
   "cell_type": "code",
   "execution_count": null,
   "metadata": {
    "id": "Iv9WkWkiKCuq"
   },
   "outputs": [],
   "source": [
    "bins = np.linspace(min(data['FKRTL-Biaya Tagih']), max(data['FKRTL-Biaya Tagih']), 6)\n",
    "kategori = ['sangat murah', 'murah', 'standar', 'mahal', 'sangat mahal']\n",
    "data['biaya_tagih_binned'] = pd.cut(data['FKRTL-Biaya Tagih'], bins, labels=kategori, include_lowest=True)\n",
    "\n",
    "bins = np.linspace(min(data['fkrtl-Lama Kunjungan']), max(data['fkrtl-Lama Kunjungan']), 6)\n",
    "kategori = ['sangat sebentar', 'sebentar', 'standar', 'lama', 'sangat lama']\n",
    "data['lama_kunjungan_binned'] = pd.cut(data['fkrtl-Lama Kunjungan'], bins, labels=kategori, include_lowest=True)\n"
   ]
  },
  {
   "cell_type": "code",
   "execution_count": null,
   "metadata": {
    "id": "BShJF4fAKCw6"
   },
   "outputs": [],
   "source": [
    "data_num = data.select_dtypes(include=[np.number])\n",
    "data_cat = data.select_dtypes(exclude=[np.number])"
   ]
  },
  {
   "cell_type": "code",
   "execution_count": null,
   "metadata": {
    "id": "ZaExoHUMKCzI"
   },
   "outputs": [],
   "source": [
    "# Get dummies\n",
    "\n",
    "X = pd.get_dummies(data_cat, prefix_sep='_', drop_first=True)"
   ]
  },
  {
   "cell_type": "code",
   "execution_count": null,
   "metadata": {
    "id": "IyKur3QCKJMq"
   },
   "outputs": [],
   "source": [
    "data_num = data.select_dtypes(include=[np.number])\n",
    "data_cat = data.select_dtypes(exclude=[np.number])"
   ]
  },
  {
   "cell_type": "markdown",
   "metadata": {
    "id": "iP1vIUL81nt_"
   },
   "source": [
    "One Hot Encoding"
   ]
  },
  {
   "cell_type": "code",
   "execution_count": null,
   "metadata": {
    "id": "H2wzyYFt1kG-"
   },
   "outputs": [],
   "source": [
    "one_hot_encoder = pd.get_dummies(data_cat, prefix_sep='_', drop_first=True)"
   ]
  },
  {
   "cell_type": "code",
   "execution_count": null,
   "metadata": {
    "colab": {
     "base_uri": "https://localhost:8080/"
    },
    "id": "yANU2fKEKbfZ",
    "outputId": "47bee799-e724-4233-da1d-c4c04cccbf0f"
   },
   "outputs": [],
   "source": [
    "one_hot_encoder.shape"
   ]
  },
  {
   "cell_type": "markdown",
   "metadata": {
    "id": "3ZTqvEFs1xGM"
   },
   "source": [
    "Autoencoder"
   ]
  },
  {
   "cell_type": "code",
   "execution_count": null,
   "metadata": {
    "id": "McxcOUgqMumG"
   },
   "outputs": [],
   "source": [
    "# Let's scale the data first\n",
    "scaler = StandardScaler()\n",
    "normalized_df = scaler.fit_transform(one_hot_encoder)\n"
   ]
  },
  {
   "cell_type": "code",
   "execution_count": null,
   "metadata": {
    "colab": {
     "base_uri": "https://localhost:8080/"
    },
    "id": "52aYtWWUNLbF",
    "outputId": "b6d54e87-f757-4e21-ae9d-a8b8d2b2cce8"
   },
   "outputs": [],
   "source": [
    "normalized_df.shape"
   ]
  },
  {
   "cell_type": "markdown",
   "metadata": {
    "id": "RpUNIkpvNPhX"
   },
   "source": [
    "SIMULASI 1\n",
    "Train: 80%, Test: 20%"
   ]
  },
  {
   "cell_type": "code",
   "execution_count": null,
   "metadata": {
    "id": "mR38ggjKLjr2"
   },
   "outputs": [],
   "source": [
    "train, test = train_test_split(normalized_df, test_size = 0.20)"
   ]
  },
  {
   "cell_type": "code",
   "execution_count": null,
   "metadata": {
    "colab": {
     "base_uri": "https://localhost:8080/"
    },
    "id": "HvCbStqZPGA5",
    "outputId": "e8abc3de-2133-4053-f71c-bc3b16b9c1b6"
   },
   "outputs": [],
   "source": [
    "test.shape"
   ]
  },
  {
   "cell_type": "code",
   "execution_count": 37,
   "metadata": {
    "colab": {
     "base_uri": "https://localhost:8080/"
    },
    "id": "1HxoBMIKEE_3",
    "outputId": "a3b22201-b878-40d4-af6c-f06d0ddc5724"
   },
   "outputs": [
    {
     "name": "stderr",
     "output_type": "stream",
     "text": [
      "/usr/local/lib/python3.7/dist-packages/tensorflow/python/keras/optimizer_v2/optimizer_v2.py:375: UserWarning: The `lr` argument is deprecated, use `learning_rate` instead.\n",
      "  \"The `lr` argument is deprecated, use `learning_rate` instead.\")\n"
     ]
    }
   ],
   "source": [
    "# AUTOENCODERS (PERFORM DIMENSIONALITY REDUCTION USING AUTOENCODERS)\n",
    "input_df = Input(shape=(70,))  # The 31 features of our dataset\n",
    "\n",
    "# Encoder\n",
    "x = Dense(units=256, activation='relu')(input_df)\n",
    "x = Dense(units=128, activation='relu', kernel_initializer='glorot_uniform')(x)\n",
    "x = Dense(units=64, activation='relu', kernel_initializer='glorot_uniform')(x)\n",
    "x = Dense(units=32, activation='relu', kernel_initializer='glorot_uniform')(x)\n",
    "\n",
    "# Coded\n",
    "encoded = Dense(10, activation='relu')(x)\n",
    "\n",
    "# Decoder\n",
    "h_decode = Dense(32, activation='relu')(encoded)\n",
    "h_decode = Dense(64, activation='relu')(h_decode)\n",
    "h_decode = Dense(128, activation='relu')(h_decode)\n",
    "h_decode = Dense(256, activation='relu')(h_decode)\n",
    "\n",
    "# we reconstruct the same number of features as the input\n",
    "outputs = Dense(70, activation='sigmoid')(h_decode)\n",
    "\n",
    "# Autoencoder\n",
    "autoencoder = Model(inputs=input_df, outputs = outputs)\n",
    "\n",
    "# Encoder\n",
    "encoder = Model(inputs = input_df, outputs = encoded)\n",
    "\n",
    "# Optimizer / Update Rule\n",
    "adam = Adam(lr=0.001)\n",
    "\n",
    "# Compile the autoencoder model with adam optimizer and mean_squared_error\n",
    "autoencoder.compile(optimizer='adam', loss='mean_squared_error')"
   ]
  },
  {
   "cell_type": "code",
   "execution_count": 42,
   "metadata": {
    "colab": {
     "base_uri": "https://localhost:8080/",
     "height": 1000
    },
    "id": "nvbsi12XyttT",
    "outputId": "1b674913-6dd5-4d71-97de-24c390816c0e"
   },
   "outputs": [
    {
     "name": "stdout",
     "output_type": "stream",
     "text": [
      "Epoch 1/25\n",
      "7256/7256 [==============================] - 41s 6ms/step - loss: 1.0036\n",
      "Epoch 2/25\n",
      "7256/7256 [==============================] - 43s 6ms/step - loss: 1.0036\n",
      "Epoch 3/25\n",
      "7256/7256 [==============================] - 47s 6ms/step - loss: 1.0036\n",
      "Epoch 4/25\n",
      "7256/7256 [==============================] - 47s 7ms/step - loss: 0.9838\n",
      "Epoch 5/25\n",
      "7256/7256 [==============================] - 50s 7ms/step - loss: 0.9595\n",
      "Epoch 6/25\n",
      "7256/7256 [==============================] - 44s 6ms/step - loss: 0.9625\n",
      "Epoch 7/25\n",
      "7256/7256 [==============================] - 43s 6ms/step - loss: 0.9653\n",
      "Epoch 8/25\n",
      "7256/7256 [==============================] - 42s 6ms/step - loss: 0.9581\n",
      "Epoch 9/25\n",
      "7256/7256 [==============================] - 45s 6ms/step - loss: 0.9448\n",
      "Epoch 10/25\n",
      "7256/7256 [==============================] - 45s 6ms/step - loss: 0.9402\n",
      "Epoch 11/25\n",
      "7256/7256 [==============================] - 44s 6ms/step - loss: 0.9347\n",
      "Epoch 12/25\n",
      "7256/7256 [==============================] - 45s 6ms/step - loss: 0.9257\n",
      "Epoch 13/25\n",
      "7256/7256 [==============================] - 45s 6ms/step - loss: 0.9228\n",
      "Epoch 14/25\n",
      "7256/7256 [==============================] - 43s 6ms/step - loss: 0.9094\n",
      "Epoch 15/25\n",
      "7256/7256 [==============================] - 43s 6ms/step - loss: 0.9007\n",
      "Epoch 16/25\n",
      "7256/7256 [==============================] - 44s 6ms/step - loss: 0.8975\n",
      "Epoch 17/25\n",
      "7256/7256 [==============================] - 45s 6ms/step - loss: 0.8958\n",
      "Epoch 18/25\n",
      "7256/7256 [==============================] - 43s 6ms/step - loss: 0.8954\n",
      "Epoch 19/25\n",
      "7256/7256 [==============================] - 43s 6ms/step - loss: 0.8942\n",
      "Epoch 20/25\n",
      "7256/7256 [==============================] - 42s 6ms/step - loss: 0.8931\n",
      "Epoch 21/25\n",
      "7256/7256 [==============================] - 45s 6ms/step - loss: 0.8930\n",
      "Epoch 22/25\n",
      "7256/7256 [==============================] - 44s 6ms/step - loss: 0.8921\n",
      "Epoch 23/25\n",
      "7256/7256 [==============================] - 46s 6ms/step - loss: 0.8915\n",
      "Epoch 24/25\n",
      "7256/7256 [==============================] - 45s 6ms/step - loss: 0.8913\n",
      "Epoch 25/25\n",
      "7256/7256 [==============================] - 43s 6ms/step - loss: 0.8841\n"
     ]
    },
    {
     "ename": "NameError",
     "evalue": "ignored",
     "output_type": "error",
     "traceback": [
      "\u001b[0;31m---------------------------------------------------------------------------\u001b[0m",
      "\u001b[0;31mNameError\u001b[0m                                 Traceback (most recent call last)",
      "\u001b[0;32m<ipython-input-42-71e3da81d070>\u001b[0m in \u001b[0;36m<module>\u001b[0;34m()\u001b[0m\n\u001b[1;32m      6\u001b[0m \u001b[0;31m#testing\u001b[0m\u001b[0;34m\u001b[0m\u001b[0;34m\u001b[0m\u001b[0;34m\u001b[0m\u001b[0m\n\u001b[1;32m      7\u001b[0m \u001b[0mpred\u001b[0m \u001b[0;34m=\u001b[0m \u001b[0mencoder\u001b[0m\u001b[0;34m.\u001b[0m\u001b[0mpredict\u001b[0m\u001b[0;34m(\u001b[0m\u001b[0mtest\u001b[0m\u001b[0;34m)\u001b[0m\u001b[0;34m\u001b[0m\u001b[0;34m\u001b[0m\u001b[0m\n\u001b[0;32m----> 8\u001b[0;31m \u001b[0;32mfor\u001b[0m \u001b[0mi\u001b[0m \u001b[0;32min\u001b[0m \u001b[0mrange\u001b[0m\u001b[0;34m(\u001b[0m\u001b[0mlen\u001b[0m\u001b[0;34m(\u001b[0m\u001b[0mprediction\u001b[0m\u001b[0;34m)\u001b[0m\u001b[0;34m)\u001b[0m\u001b[0;34m:\u001b[0m\u001b[0;34m\u001b[0m\u001b[0;34m\u001b[0m\u001b[0m\n\u001b[0m\u001b[1;32m      9\u001b[0m     \u001b[0mprediction\u001b[0m\u001b[0;34m[\u001b[0m\u001b[0mi\u001b[0m\u001b[0;34m]\u001b[0m \u001b[0;34m=\u001b[0m \u001b[0mnp\u001b[0m\u001b[0;34m.\u001b[0m\u001b[0mmultiply\u001b[0m\u001b[0;34m(\u001b[0m\u001b[0mprediction\u001b[0m\u001b[0;34m[\u001b[0m\u001b[0mi\u001b[0m\u001b[0;34m]\u001b[0m\u001b[0;34m,\u001b[0m \u001b[0mX_std\u001b[0m\u001b[0;34m)\u001b[0m \u001b[0;34m+\u001b[0m \u001b[0mX_mean\u001b[0m\u001b[0;34m\u001b[0m\u001b[0;34m\u001b[0m\u001b[0m\n\u001b[1;32m     10\u001b[0m \u001b[0;34m\u001b[0m\u001b[0m\n",
      "\u001b[0;31mNameError\u001b[0m: name 'prediction' is not defined"
     ]
    }
   ],
   "source": [
    "# autoencoder.compile(optimizer='adam', loss='mean_squared_error')\n",
    "autoencoder.fit(x= train, y= train, batch_size=100, epochs=25,verbose=1)"
   ]
  },
  {
   "cell_type": "code",
   "execution_count": null,
   "metadata": {
    "colab": {
     "base_uri": "https://localhost:8080/"
    },
    "id": "qLS0cmuWaIPb",
    "outputId": "36448b13-29a9-4fce-da33-039a967a3b7a"
   },
   "outputs": [
    {
     "name": "stdout",
     "output_type": "stream",
     "text": [
      "Epoch 1/25\n",
      "5805/5805 [==============================] - 37s 6ms/step - loss: 0.8775 - val_loss: 0.8709\n",
      "Epoch 2/25\n",
      "5805/5805 [==============================] - 37s 6ms/step - loss: 0.8745 - val_loss: 0.8650\n",
      "Epoch 3/25\n",
      "5805/5805 [==============================] - 37s 6ms/step - loss: 0.8661 - val_loss: 0.8579\n",
      "Epoch 4/25\n",
      "5805/5805 [==============================] - 37s 6ms/step - loss: 0.8640 - val_loss: 0.8585\n",
      "Epoch 5/25\n",
      "5805/5805 [==============================] - 36s 6ms/step - loss: 0.8636 - val_loss: 0.8570\n",
      "Epoch 6/25\n",
      "5805/5805 [==============================] - 36s 6ms/step - loss: 0.8633 - val_loss: 0.8577\n",
      "Epoch 7/25\n",
      "5805/5805 [==============================] - 38s 7ms/step - loss: 0.8631 - val_loss: 0.8561\n",
      "Epoch 8/25\n",
      "5805/5805 [==============================] - 37s 6ms/step - loss: 0.8628 - val_loss: 0.8568\n",
      "Epoch 9/25\n",
      "5805/5805 [==============================] - 36s 6ms/step - loss: 0.8629 - val_loss: 0.8560\n",
      "Epoch 10/25\n",
      "5805/5805 [==============================] - 36s 6ms/step - loss: 0.8625 - val_loss: 0.8574\n",
      "Epoch 11/25\n",
      "5805/5805 [==============================] - 37s 6ms/step - loss: 0.8626 - val_loss: 0.8560\n",
      "Epoch 12/25\n",
      "5805/5805 [==============================] - 36s 6ms/step - loss: 0.8623 - val_loss: 0.8557\n",
      "Epoch 13/25\n",
      "5805/5805 [==============================] - 36s 6ms/step - loss: 0.8622 - val_loss: 0.8568\n",
      "Epoch 14/25\n",
      "5338/5805 [==========================>...] - ETA: 2s - loss: 0.8669"
     ]
    }
   ],
   "source": [
    "history = autoencoder.fit(x = train, y = train,\n",
    "                    epochs=25,\n",
    "                    batch_size=100,\n",
    "                    validation_split=0.2)\n",
    "\n",
    "# Use Autoencoder to reduce the number of features / dimensions\n",
    "#testing\n",
    "pred = encoder.predict(test)\n",
    "X_std = train.std()\n",
    "X_mean = train.mean()\n",
    "for i in range(len(pred)):\n",
    "    pred[i] = np.multiply(pred[i], X_std) + X_mean\n",
    "\n",
    "loss = autoencder.autoencoder['loss']\n",
    "val_loss = history.history['val_loss']\n",
    "epochs = range(epochs)\n",
    "plt.figure()\n",
    "plt.plot(epochs, loss, 'bo', label='Training loss')\n",
    "plt.plot(epochs, val_loss, 'b', label='Validation loss')\n",
    "plt.title('Training and validation loss')\n",
    "plt.legend()\n",
    "plt.show()\n",
    "plt.close()"
   ]
  }
 ],
 "metadata": {
  "colab": {
   "collapsed_sections": [],
   "name": "FKRTL Autoencoder + KMeans (Binning)-New.ipynb",
   "provenance": []
  },
  "kernelspec": {
   "display_name": "Python 3",
   "language": "python",
   "name": "python3"
  },
  "language_info": {
   "codemirror_mode": {
    "name": "ipython",
    "version": 3
   },
   "file_extension": ".py",
   "mimetype": "text/x-python",
   "name": "python",
   "nbconvert_exporter": "python",
   "pygments_lexer": "ipython3",
   "version": "3.6.5"
  }
 },
 "nbformat": 4,
 "nbformat_minor": 1
}
