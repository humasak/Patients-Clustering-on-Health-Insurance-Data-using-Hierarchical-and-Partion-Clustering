{
 "cells": [
  {
   "cell_type": "code",
   "execution_count": 1,
   "metadata": {},
   "outputs": [
    {
     "name": "stderr",
     "output_type": "stream",
     "text": [
      "Warning message:\n",
      "\"package 'factoextra' was built under R version 3.6.3\"Loading required package: ggplot2\n",
      "Warning message:\n",
      "\"package 'ggplot2' was built under R version 3.6.3\"Welcome! Want to learn more? See two factoextra-related books at https://goo.gl/ve3WBa\n",
      "Warning message:\n",
      "\"package 'FactoMineR' was built under R version 3.6.3\"\n",
      "Attaching package: 'gplots'\n",
      "\n",
      "The following object is masked from 'package:stats':\n",
      "\n",
      "    lowess\n",
      "\n"
     ]
    }
   ],
   "source": [
    "# Import libraries\n",
    "library(factoextra)\n",
    "library(FactoMineR)\n",
    "library(gplots)"
   ]
  },
  {
   "cell_type": "code",
   "execution_count": 2,
   "metadata": {},
   "outputs": [],
   "source": [
    "delim = \",\"  # or is it \"\\t\" ?\n",
    "dec = \".\"    # or is it \",\" ?\n",
    "myDataFrame <- read.csv(\"D:/KULIAHHH/TUGAS AKHIR/TA-2/datasampel/FKRTL MCA PCA data category only.csv\", header=TRUE, sep=delim, dec=dec, stringsAsFactors=FALSE)\n"
   ]
  },
  {
   "cell_type": "code",
   "execution_count": 3,
   "metadata": {},
   "outputs": [
    {
     "data": {
      "text/html": [
       "<dl class=dl-horizontal>\n",
       "\t<dt>X</dt>\n",
       "\t\t<dd>'integer'</dd>\n",
       "\t<dt>Hasil.Rujukan.FKTP.</dt>\n",
       "\t\t<dd>'character'</dd>\n",
       "\t<dt>FKRTL.Kepemilikan.Faskes</dt>\n",
       "\t\t<dd>'character'</dd>\n",
       "\t<dt>FKRTL.Jenis.Faskes</dt>\n",
       "\t\t<dd>'character'</dd>\n",
       "\t<dt>FKRTL.Tipe.Faskes</dt>\n",
       "\t\t<dd>'character'</dd>\n",
       "\t<dt>FKRTL.Tingkat.Layanan</dt>\n",
       "\t\t<dd>'character'</dd>\n",
       "\t<dt>FKRTL.Segmen.Peserta</dt>\n",
       "\t\t<dd>'character'</dd>\n",
       "\t<dt>FKRTL.Kelas.Rawat</dt>\n",
       "\t\t<dd>'character'</dd>\n",
       "\t<dt>FKRTL.Status.Pulang</dt>\n",
       "\t\t<dd>'character'</dd>\n",
       "\t<dt>Kelas.Rawat.Peserta</dt>\n",
       "\t\t<dd>'character'</dd>\n",
       "\t<dt>Jenis.Kelamin.Peserta</dt>\n",
       "\t\t<dd>'character'</dd>\n",
       "</dl>\n"
      ],
      "text/latex": [
       "\\begin{description*}\n",
       "\\item[X] 'integer'\n",
       "\\item[Hasil.Rujukan.FKTP.] 'character'\n",
       "\\item[FKRTL.Kepemilikan.Faskes] 'character'\n",
       "\\item[FKRTL.Jenis.Faskes] 'character'\n",
       "\\item[FKRTL.Tipe.Faskes] 'character'\n",
       "\\item[FKRTL.Tingkat.Layanan] 'character'\n",
       "\\item[FKRTL.Segmen.Peserta] 'character'\n",
       "\\item[FKRTL.Kelas.Rawat] 'character'\n",
       "\\item[FKRTL.Status.Pulang] 'character'\n",
       "\\item[Kelas.Rawat.Peserta] 'character'\n",
       "\\item[Jenis.Kelamin.Peserta] 'character'\n",
       "\\end{description*}\n"
      ],
      "text/markdown": [
       "X\n",
       ":   'integer'Hasil.Rujukan.FKTP.\n",
       ":   'character'FKRTL.Kepemilikan.Faskes\n",
       ":   'character'FKRTL.Jenis.Faskes\n",
       ":   'character'FKRTL.Tipe.Faskes\n",
       ":   'character'FKRTL.Tingkat.Layanan\n",
       ":   'character'FKRTL.Segmen.Peserta\n",
       ":   'character'FKRTL.Kelas.Rawat\n",
       ":   'character'FKRTL.Status.Pulang\n",
       ":   'character'Kelas.Rawat.Peserta\n",
       ":   'character'Jenis.Kelamin.Peserta\n",
       ":   'character'\n",
       "\n"
      ],
      "text/plain": [
       "                       X      Hasil.Rujukan.FKTP. FKRTL.Kepemilikan.Faskes \n",
       "               \"integer\"              \"character\"              \"character\" \n",
       "      FKRTL.Jenis.Faskes        FKRTL.Tipe.Faskes    FKRTL.Tingkat.Layanan \n",
       "             \"character\"              \"character\"              \"character\" \n",
       "    FKRTL.Segmen.Peserta        FKRTL.Kelas.Rawat      FKRTL.Status.Pulang \n",
       "             \"character\"              \"character\"              \"character\" \n",
       "     Kelas.Rawat.Peserta    Jenis.Kelamin.Peserta \n",
       "             \"character\"              \"character\" "
      ]
     },
     "metadata": {},
     "output_type": "display_data"
    }
   ],
   "source": [
    "sapply(myDataFrame, typeof)"
   ]
  },
  {
   "cell_type": "code",
   "execution_count": 4,
   "metadata": {},
   "outputs": [],
   "source": [
    "drop <- c('X')\n",
    "df = myDataFrame[,!(names(myDataFrame) %in% drop)]"
   ]
  },
  {
   "cell_type": "code",
   "execution_count": 5,
   "metadata": {},
   "outputs": [
    {
     "data": {
      "text/html": [
       "<dl class=dl-horizontal>\n",
       "\t<dt>Hasil.Rujukan.FKTP.</dt>\n",
       "\t\t<dd>'character'</dd>\n",
       "\t<dt>FKRTL.Kepemilikan.Faskes</dt>\n",
       "\t\t<dd>'character'</dd>\n",
       "\t<dt>FKRTL.Jenis.Faskes</dt>\n",
       "\t\t<dd>'character'</dd>\n",
       "\t<dt>FKRTL.Tipe.Faskes</dt>\n",
       "\t\t<dd>'character'</dd>\n",
       "\t<dt>FKRTL.Tingkat.Layanan</dt>\n",
       "\t\t<dd>'character'</dd>\n",
       "\t<dt>FKRTL.Segmen.Peserta</dt>\n",
       "\t\t<dd>'character'</dd>\n",
       "\t<dt>FKRTL.Kelas.Rawat</dt>\n",
       "\t\t<dd>'character'</dd>\n",
       "\t<dt>FKRTL.Status.Pulang</dt>\n",
       "\t\t<dd>'character'</dd>\n",
       "\t<dt>Kelas.Rawat.Peserta</dt>\n",
       "\t\t<dd>'character'</dd>\n",
       "\t<dt>Jenis.Kelamin.Peserta</dt>\n",
       "\t\t<dd>'character'</dd>\n",
       "</dl>\n"
      ],
      "text/latex": [
       "\\begin{description*}\n",
       "\\item[Hasil.Rujukan.FKTP.] 'character'\n",
       "\\item[FKRTL.Kepemilikan.Faskes] 'character'\n",
       "\\item[FKRTL.Jenis.Faskes] 'character'\n",
       "\\item[FKRTL.Tipe.Faskes] 'character'\n",
       "\\item[FKRTL.Tingkat.Layanan] 'character'\n",
       "\\item[FKRTL.Segmen.Peserta] 'character'\n",
       "\\item[FKRTL.Kelas.Rawat] 'character'\n",
       "\\item[FKRTL.Status.Pulang] 'character'\n",
       "\\item[Kelas.Rawat.Peserta] 'character'\n",
       "\\item[Jenis.Kelamin.Peserta] 'character'\n",
       "\\end{description*}\n"
      ],
      "text/markdown": [
       "Hasil.Rujukan.FKTP.\n",
       ":   'character'FKRTL.Kepemilikan.Faskes\n",
       ":   'character'FKRTL.Jenis.Faskes\n",
       ":   'character'FKRTL.Tipe.Faskes\n",
       ":   'character'FKRTL.Tingkat.Layanan\n",
       ":   'character'FKRTL.Segmen.Peserta\n",
       ":   'character'FKRTL.Kelas.Rawat\n",
       ":   'character'FKRTL.Status.Pulang\n",
       ":   'character'Kelas.Rawat.Peserta\n",
       ":   'character'Jenis.Kelamin.Peserta\n",
       ":   'character'\n",
       "\n"
      ],
      "text/plain": [
       "     Hasil.Rujukan.FKTP. FKRTL.Kepemilikan.Faskes       FKRTL.Jenis.Faskes \n",
       "             \"character\"              \"character\"              \"character\" \n",
       "       FKRTL.Tipe.Faskes    FKRTL.Tingkat.Layanan     FKRTL.Segmen.Peserta \n",
       "             \"character\"              \"character\"              \"character\" \n",
       "       FKRTL.Kelas.Rawat      FKRTL.Status.Pulang      Kelas.Rawat.Peserta \n",
       "             \"character\"              \"character\"              \"character\" \n",
       "   Jenis.Kelamin.Peserta \n",
       "             \"character\" "
      ]
     },
     "metadata": {},
     "output_type": "display_data"
    }
   ],
   "source": [
    "sapply(df, typeof)"
   ]
  },
  {
   "cell_type": "code",
   "execution_count": 25,
   "metadata": {},
   "outputs": [],
   "source": [
    "df1 = df[0:10,]"
   ]
  },
  {
   "cell_type": "code",
   "execution_count": 26,
   "metadata": {},
   "outputs": [
    {
     "data": {
      "text/html": [
       "<table>\n",
       "<thead><tr><th scope=col>Hasil.Rujukan.FKTP.</th><th scope=col>FKRTL.Kepemilikan.Faskes</th><th scope=col>FKRTL.Jenis.Faskes</th><th scope=col>FKRTL.Tipe.Faskes</th><th scope=col>FKRTL.Tingkat.Layanan</th><th scope=col>FKRTL.Segmen.Peserta</th><th scope=col>FKRTL.Kelas.Rawat</th><th scope=col>FKRTL.Status.Pulang</th><th scope=col>Jenis.Kelamin.Peserta</th><th scope=col>kategori.umur</th><th scope=col>biaya_tagih_binned</th><th scope=col>lama_kunjungan_binned</th></tr></thead>\n",
       "<tbody>\n",
       "\t<tr><td>No                       </td><td>PEMERINTAH KABUPATEN/KOTA</td><td>RUMAH SAKIT              </td><td>RS KELAS C               </td><td>RAWAT INAP TINGKAT LANJUT</td><td>PBI APBN                 </td><td>KELAS III                </td><td>SEHAT                    </td><td>PEREMPUAN                </td><td>lanjut usia              </td><td>sangat murah             </td><td>sebentar                 </td></tr>\n",
       "\t<tr><td>No                       </td><td>VERTIKAL/PUSAT           </td><td>RUMAH SAKIT              </td><td>KHUSUS KANKER ONKOLOGI   </td><td>RAWAT INAP TINGKAT LANJUT</td><td>PPU                      </td><td>KELAS II                 </td><td>MENINGGAL                </td><td>PEREMPUAN                </td><td>dewasa                   </td><td>sangat murah             </td><td>sebentar                 </td></tr>\n",
       "\t<tr><td>No                       </td><td>VERTIKAL/PUSAT           </td><td>RUMAH SAKIT              </td><td>RS KELAS A               </td><td>RAWAT INAP TINGKAT LANJUT</td><td>PBPU                     </td><td>KELAS III                </td><td>SEHAT                    </td><td>LAKI-LAKI                </td><td>bayi                     </td><td>sangat murah             </td><td>sebentar                 </td></tr>\n",
       "\t<tr><td>No                       </td><td>SWASTA                   </td><td>RUMAH SAKIT              </td><td>RS SWASTA SETARA TYPE C  </td><td>RAWAT INAP TINGKAT LANJUT</td><td>PPU                      </td><td>KELAS II                 </td><td>SEHAT                    </td><td>PEREMPUAN                </td><td>dewasa                   </td><td>sangat murah             </td><td>sebentar                 </td></tr>\n",
       "\t<tr><td>No                       </td><td>PEMERINTAH KABUPATEN/KOTA</td><td>RUMAH SAKIT              </td><td>RS KELAS C               </td><td>RAWAT INAP TINGKAT LANJUT</td><td>PBI APBN                 </td><td>KELAS III                </td><td>SEHAT                    </td><td>PEREMPUAN                </td><td>dewasa                   </td><td>sangat murah             </td><td>sebentar                 </td></tr>\n",
       "\t<tr><td>No                       </td><td>SWASTA                   </td><td>RUMAH SAKIT              </td><td>RS SWASTA SETARA TYPE D  </td><td>RAWAT INAP TINGKAT LANJUT</td><td>PPU                      </td><td>KELAS II                 </td><td>SEHAT                    </td><td>PEREMPUAN                </td><td>dewasa                   </td><td>sangat murah             </td><td>sebentar                 </td></tr>\n",
       "\t<tr><td>No                       </td><td>PEMERINTAH KABUPATEN/KOTA</td><td>RUMAH SAKIT              </td><td>RS KELAS C               </td><td>RAWAT INAP TINGKAT LANJUT</td><td>PBI APBN                 </td><td>KELAS III                </td><td>SEHAT                    </td><td>PEREMPUAN                </td><td>anak-anak                </td><td>sangat murah             </td><td>sebentar                 </td></tr>\n",
       "\t<tr><td>No                       </td><td>PEMERINTAH KABUPATEN/KOTA</td><td>RUMAH SAKIT              </td><td>RS KELAS C               </td><td>RAWAT INAP TINGKAT LANJUT</td><td>PBPU                     </td><td>KELAS II                 </td><td>SEHAT                    </td><td>LAKI-LAKI                </td><td>dewasa                   </td><td>sangat murah             </td><td>sebentar                 </td></tr>\n",
       "\t<tr><td>No                       </td><td>PEMERINTAH KABUPATEN/KOTA</td><td>RUMAH SAKIT              </td><td>RS KELAS B               </td><td>RAWAT INAP TINGKAT LANJUT</td><td>PBI APBN                 </td><td>KELAS III                </td><td>SEHAT                    </td><td>LAKI-LAKI                </td><td>anak-anak                </td><td>sangat murah             </td><td>sebentar                 </td></tr>\n",
       "\t<tr><td>No                       </td><td>PEMERINTAH KABUPATEN/KOTA</td><td>RUMAH SAKIT              </td><td>RS KELAS C               </td><td>RAWAT INAP TINGKAT LANJUT</td><td>PBI APBN                 </td><td>KELAS III                </td><td>SEHAT                    </td><td>LAKI-LAKI                </td><td>remaja                   </td><td>sangat murah             </td><td>sebentar                 </td></tr>\n",
       "</tbody>\n",
       "</table>\n"
      ],
      "text/latex": [
       "\\begin{tabular}{r|llllllllllll}\n",
       " Hasil.Rujukan.FKTP. & FKRTL.Kepemilikan.Faskes & FKRTL.Jenis.Faskes & FKRTL.Tipe.Faskes & FKRTL.Tingkat.Layanan & FKRTL.Segmen.Peserta & FKRTL.Kelas.Rawat & FKRTL.Status.Pulang & Jenis.Kelamin.Peserta & kategori.umur & biaya\\_tagih\\_binned & lama\\_kunjungan\\_binned\\\\\n",
       "\\hline\n",
       "\t No                        & PEMERINTAH KABUPATEN/KOTA & RUMAH SAKIT               & RS KELAS C                & RAWAT INAP TINGKAT LANJUT & PBI APBN                  & KELAS III                 & SEHAT                     & PEREMPUAN                 & lanjut usia               & sangat murah              & sebentar                 \\\\\n",
       "\t No                        & VERTIKAL/PUSAT            & RUMAH SAKIT               & KHUSUS KANKER ONKOLOGI    & RAWAT INAP TINGKAT LANJUT & PPU                       & KELAS II                  & MENINGGAL                 & PEREMPUAN                 & dewasa                    & sangat murah              & sebentar                 \\\\\n",
       "\t No                        & VERTIKAL/PUSAT            & RUMAH SAKIT               & RS KELAS A                & RAWAT INAP TINGKAT LANJUT & PBPU                      & KELAS III                 & SEHAT                     & LAKI-LAKI                 & bayi                      & sangat murah              & sebentar                 \\\\\n",
       "\t No                        & SWASTA                    & RUMAH SAKIT               & RS SWASTA SETARA TYPE C   & RAWAT INAP TINGKAT LANJUT & PPU                       & KELAS II                  & SEHAT                     & PEREMPUAN                 & dewasa                    & sangat murah              & sebentar                 \\\\\n",
       "\t No                        & PEMERINTAH KABUPATEN/KOTA & RUMAH SAKIT               & RS KELAS C                & RAWAT INAP TINGKAT LANJUT & PBI APBN                  & KELAS III                 & SEHAT                     & PEREMPUAN                 & dewasa                    & sangat murah              & sebentar                 \\\\\n",
       "\t No                        & SWASTA                    & RUMAH SAKIT               & RS SWASTA SETARA TYPE D   & RAWAT INAP TINGKAT LANJUT & PPU                       & KELAS II                  & SEHAT                     & PEREMPUAN                 & dewasa                    & sangat murah              & sebentar                 \\\\\n",
       "\t No                        & PEMERINTAH KABUPATEN/KOTA & RUMAH SAKIT               & RS KELAS C                & RAWAT INAP TINGKAT LANJUT & PBI APBN                  & KELAS III                 & SEHAT                     & PEREMPUAN                 & anak-anak                 & sangat murah              & sebentar                 \\\\\n",
       "\t No                        & PEMERINTAH KABUPATEN/KOTA & RUMAH SAKIT               & RS KELAS C                & RAWAT INAP TINGKAT LANJUT & PBPU                      & KELAS II                  & SEHAT                     & LAKI-LAKI                 & dewasa                    & sangat murah              & sebentar                 \\\\\n",
       "\t No                        & PEMERINTAH KABUPATEN/KOTA & RUMAH SAKIT               & RS KELAS B                & RAWAT INAP TINGKAT LANJUT & PBI APBN                  & KELAS III                 & SEHAT                     & LAKI-LAKI                 & anak-anak                 & sangat murah              & sebentar                 \\\\\n",
       "\t No                        & PEMERINTAH KABUPATEN/KOTA & RUMAH SAKIT               & RS KELAS C                & RAWAT INAP TINGKAT LANJUT & PBI APBN                  & KELAS III                 & SEHAT                     & LAKI-LAKI                 & remaja                    & sangat murah              & sebentar                 \\\\\n",
       "\\end{tabular}\n"
      ],
      "text/markdown": [
       "\n",
       "| Hasil.Rujukan.FKTP. | FKRTL.Kepemilikan.Faskes | FKRTL.Jenis.Faskes | FKRTL.Tipe.Faskes | FKRTL.Tingkat.Layanan | FKRTL.Segmen.Peserta | FKRTL.Kelas.Rawat | FKRTL.Status.Pulang | Jenis.Kelamin.Peserta | kategori.umur | biaya_tagih_binned | lama_kunjungan_binned |\n",
       "|---|---|---|---|---|---|---|---|---|---|---|---|\n",
       "| No                        | PEMERINTAH KABUPATEN/KOTA | RUMAH SAKIT               | RS KELAS C                | RAWAT INAP TINGKAT LANJUT | PBI APBN                  | KELAS III                 | SEHAT                     | PEREMPUAN                 | lanjut usia               | sangat murah              | sebentar                  |\n",
       "| No                        | VERTIKAL/PUSAT            | RUMAH SAKIT               | KHUSUS KANKER ONKOLOGI    | RAWAT INAP TINGKAT LANJUT | PPU                       | KELAS II                  | MENINGGAL                 | PEREMPUAN                 | dewasa                    | sangat murah              | sebentar                  |\n",
       "| No                        | VERTIKAL/PUSAT            | RUMAH SAKIT               | RS KELAS A                | RAWAT INAP TINGKAT LANJUT | PBPU                      | KELAS III                 | SEHAT                     | LAKI-LAKI                 | bayi                      | sangat murah              | sebentar                  |\n",
       "| No                        | SWASTA                    | RUMAH SAKIT               | RS SWASTA SETARA TYPE C   | RAWAT INAP TINGKAT LANJUT | PPU                       | KELAS II                  | SEHAT                     | PEREMPUAN                 | dewasa                    | sangat murah              | sebentar                  |\n",
       "| No                        | PEMERINTAH KABUPATEN/KOTA | RUMAH SAKIT               | RS KELAS C                | RAWAT INAP TINGKAT LANJUT | PBI APBN                  | KELAS III                 | SEHAT                     | PEREMPUAN                 | dewasa                    | sangat murah              | sebentar                  |\n",
       "| No                        | SWASTA                    | RUMAH SAKIT               | RS SWASTA SETARA TYPE D   | RAWAT INAP TINGKAT LANJUT | PPU                       | KELAS II                  | SEHAT                     | PEREMPUAN                 | dewasa                    | sangat murah              | sebentar                  |\n",
       "| No                        | PEMERINTAH KABUPATEN/KOTA | RUMAH SAKIT               | RS KELAS C                | RAWAT INAP TINGKAT LANJUT | PBI APBN                  | KELAS III                 | SEHAT                     | PEREMPUAN                 | anak-anak                 | sangat murah              | sebentar                  |\n",
       "| No                        | PEMERINTAH KABUPATEN/KOTA | RUMAH SAKIT               | RS KELAS C                | RAWAT INAP TINGKAT LANJUT | PBPU                      | KELAS II                  | SEHAT                     | LAKI-LAKI                 | dewasa                    | sangat murah              | sebentar                  |\n",
       "| No                        | PEMERINTAH KABUPATEN/KOTA | RUMAH SAKIT               | RS KELAS B                | RAWAT INAP TINGKAT LANJUT | PBI APBN                  | KELAS III                 | SEHAT                     | LAKI-LAKI                 | anak-anak                 | sangat murah              | sebentar                  |\n",
       "| No                        | PEMERINTAH KABUPATEN/KOTA | RUMAH SAKIT               | RS KELAS C                | RAWAT INAP TINGKAT LANJUT | PBI APBN                  | KELAS III                 | SEHAT                     | LAKI-LAKI                 | remaja                    | sangat murah              | sebentar                  |\n",
       "\n"
      ],
      "text/plain": [
       "   Hasil.Rujukan.FKTP. FKRTL.Kepemilikan.Faskes  FKRTL.Jenis.Faskes\n",
       "1  No                  PEMERINTAH KABUPATEN/KOTA RUMAH SAKIT       \n",
       "2  No                  VERTIKAL/PUSAT            RUMAH SAKIT       \n",
       "3  No                  VERTIKAL/PUSAT            RUMAH SAKIT       \n",
       "4  No                  SWASTA                    RUMAH SAKIT       \n",
       "5  No                  PEMERINTAH KABUPATEN/KOTA RUMAH SAKIT       \n",
       "6  No                  SWASTA                    RUMAH SAKIT       \n",
       "7  No                  PEMERINTAH KABUPATEN/KOTA RUMAH SAKIT       \n",
       "8  No                  PEMERINTAH KABUPATEN/KOTA RUMAH SAKIT       \n",
       "9  No                  PEMERINTAH KABUPATEN/KOTA RUMAH SAKIT       \n",
       "10 No                  PEMERINTAH KABUPATEN/KOTA RUMAH SAKIT       \n",
       "   FKRTL.Tipe.Faskes       FKRTL.Tingkat.Layanan     FKRTL.Segmen.Peserta\n",
       "1  RS KELAS C              RAWAT INAP TINGKAT LANJUT PBI APBN            \n",
       "2  KHUSUS KANKER ONKOLOGI  RAWAT INAP TINGKAT LANJUT PPU                 \n",
       "3  RS KELAS A              RAWAT INAP TINGKAT LANJUT PBPU                \n",
       "4  RS SWASTA SETARA TYPE C RAWAT INAP TINGKAT LANJUT PPU                 \n",
       "5  RS KELAS C              RAWAT INAP TINGKAT LANJUT PBI APBN            \n",
       "6  RS SWASTA SETARA TYPE D RAWAT INAP TINGKAT LANJUT PPU                 \n",
       "7  RS KELAS C              RAWAT INAP TINGKAT LANJUT PBI APBN            \n",
       "8  RS KELAS C              RAWAT INAP TINGKAT LANJUT PBPU                \n",
       "9  RS KELAS B              RAWAT INAP TINGKAT LANJUT PBI APBN            \n",
       "10 RS KELAS C              RAWAT INAP TINGKAT LANJUT PBI APBN            \n",
       "   FKRTL.Kelas.Rawat FKRTL.Status.Pulang Jenis.Kelamin.Peserta kategori.umur\n",
       "1  KELAS III         SEHAT               PEREMPUAN             lanjut usia  \n",
       "2  KELAS II          MENINGGAL           PEREMPUAN             dewasa       \n",
       "3  KELAS III         SEHAT               LAKI-LAKI             bayi         \n",
       "4  KELAS II          SEHAT               PEREMPUAN             dewasa       \n",
       "5  KELAS III         SEHAT               PEREMPUAN             dewasa       \n",
       "6  KELAS II          SEHAT               PEREMPUAN             dewasa       \n",
       "7  KELAS III         SEHAT               PEREMPUAN             anak-anak    \n",
       "8  KELAS II          SEHAT               LAKI-LAKI             dewasa       \n",
       "9  KELAS III         SEHAT               LAKI-LAKI             anak-anak    \n",
       "10 KELAS III         SEHAT               LAKI-LAKI             remaja       \n",
       "   biaya_tagih_binned lama_kunjungan_binned\n",
       "1  sangat murah       sebentar             \n",
       "2  sangat murah       sebentar             \n",
       "3  sangat murah       sebentar             \n",
       "4  sangat murah       sebentar             \n",
       "5  sangat murah       sebentar             \n",
       "6  sangat murah       sebentar             \n",
       "7  sangat murah       sebentar             \n",
       "8  sangat murah       sebentar             \n",
       "9  sangat murah       sebentar             \n",
       "10 sangat murah       sebentar             "
      ]
     },
     "metadata": {},
     "output_type": "display_data"
    }
   ],
   "source": [
    "df1"
   ]
  },
  {
   "cell_type": "code",
   "execution_count": 12,
   "metadata": {},
   "outputs": [],
   "source": [
    "a = MCA(df, ncp = 5, graph = FALSE)"
   ]
  },
  {
   "cell_type": "code",
   "execution_count": 7,
   "metadata": {},
   "outputs": [],
   "source": [
    "res.mca <- MCA(df, graph = FALSE)"
   ]
  },
  {
   "cell_type": "code",
   "execution_count": 8,
   "metadata": {},
   "outputs": [
    {
     "name": "stdout",
     "output_type": "stream",
     "text": [
      "**Results of the Multiple Correspondence Analysis (MCA)**\n",
      "The analysis was performed on 906905 individuals, described by 10 variables\n",
      "*The results are available in the following objects:\n",
      "\n",
      "   name              description                       \n",
      "1  \"$eig\"            \"eigenvalues\"                     \n",
      "2  \"$var\"            \"results for the variables\"       \n",
      "3  \"$var$coord\"      \"coord. of the categories\"        \n",
      "4  \"$var$cos2\"       \"cos2 for the categories\"         \n",
      "5  \"$var$contrib\"    \"contributions of the categories\" \n",
      "6  \"$var$v.test\"     \"v-test for the categories\"       \n",
      "7  \"$ind\"            \"results for the individuals\"     \n",
      "8  \"$ind$coord\"      \"coord. for the individuals\"      \n",
      "9  \"$ind$cos2\"       \"cos2 for the individuals\"        \n",
      "10 \"$ind$contrib\"    \"contributions of the individuals\"\n",
      "11 \"$call\"           \"intermediate results\"            \n",
      "12 \"$call$marge.col\" \"weights of columns\"              \n",
      "13 \"$call$marge.li\"  \"weights of rows\"                 \n"
     ]
    }
   ],
   "source": [
    "print(res.mca)"
   ]
  },
  {
   "cell_type": "code",
   "execution_count": 9,
   "metadata": {
    "scrolled": true
   },
   "outputs": [
    {
     "data": {
      "text/html": [
       "<table>\n",
       "<thead><tr><th></th><th scope=col>eigenvalue</th><th scope=col>variance.percent</th><th scope=col>cumulative.variance.percent</th></tr></thead>\n",
       "<tbody>\n",
       "\t<tr><th scope=row>Dim.1</th><td>2.305946e-01</td><td>4.045520e+00</td><td>  4.045520  </td></tr>\n",
       "\t<tr><th scope=row>Dim.2</th><td>2.044061e-01</td><td>3.586072e+00</td><td>  7.631592  </td></tr>\n",
       "\t<tr><th scope=row>Dim.3</th><td>2.021772e-01</td><td>3.546969e+00</td><td> 11.178561  </td></tr>\n",
       "\t<tr><th scope=row>Dim.4</th><td>1.999949e-01</td><td>3.508682e+00</td><td> 14.687243  </td></tr>\n",
       "\t<tr><th scope=row>Dim.5</th><td>1.802895e-01</td><td>3.162974e+00</td><td> 17.850217  </td></tr>\n",
       "\t<tr><th scope=row>Dim.6</th><td>1.695838e-01</td><td>2.975155e+00</td><td> 20.825372  </td></tr>\n",
       "\t<tr><th scope=row>Dim.7</th><td>1.627432e-01</td><td>2.855144e+00</td><td> 23.680515  </td></tr>\n",
       "\t<tr><th scope=row>Dim.8</th><td>1.432660e-01</td><td>2.513439e+00</td><td> 26.193954  </td></tr>\n",
       "\t<tr><th scope=row>Dim.9</th><td>1.361682e-01</td><td>2.388915e+00</td><td> 28.582870  </td></tr>\n",
       "\t<tr><th scope=row>Dim.10</th><td>1.299126e-01</td><td>2.279168e+00</td><td> 30.862037  </td></tr>\n",
       "\t<tr><th scope=row>Dim.11</th><td>1.243495e-01</td><td>2.181571e+00</td><td> 33.043608  </td></tr>\n",
       "\t<tr><th scope=row>Dim.12</th><td>1.179306e-01</td><td>2.068957e+00</td><td> 35.112565  </td></tr>\n",
       "\t<tr><th scope=row>Dim.13</th><td>1.079652e-01</td><td>1.894127e+00</td><td> 37.006693  </td></tr>\n",
       "\t<tr><th scope=row>Dim.14</th><td>1.068106e-01</td><td>1.873871e+00</td><td> 38.880563  </td></tr>\n",
       "\t<tr><th scope=row>Dim.15</th><td>1.064362e-01</td><td>1.867302e+00</td><td> 40.747865  </td></tr>\n",
       "\t<tr><th scope=row>Dim.16</th><td>1.051672e-01</td><td>1.845038e+00</td><td> 42.592903  </td></tr>\n",
       "\t<tr><th scope=row>Dim.17</th><td>1.036938e-01</td><td>1.819190e+00</td><td> 44.412093  </td></tr>\n",
       "\t<tr><th scope=row>Dim.18</th><td>1.028865e-01</td><td>1.805026e+00</td><td> 46.217119  </td></tr>\n",
       "\t<tr><th scope=row>Dim.19</th><td>1.019532e-01</td><td>1.788652e+00</td><td> 48.005771  </td></tr>\n",
       "\t<tr><th scope=row>Dim.20</th><td>1.014332e-01</td><td>1.779530e+00</td><td> 49.785301  </td></tr>\n",
       "\t<tr><th scope=row>Dim.21</th><td>1.006871e-01</td><td>1.766441e+00</td><td> 51.551741  </td></tr>\n",
       "\t<tr><th scope=row>Dim.22</th><td>1.005627e-01</td><td>1.764258e+00</td><td> 53.316000  </td></tr>\n",
       "\t<tr><th scope=row>Dim.23</th><td>1.003285e-01</td><td>1.760150e+00</td><td> 55.076150  </td></tr>\n",
       "\t<tr><th scope=row>Dim.24</th><td>1.001978e-01</td><td>1.757856e+00</td><td> 56.834006  </td></tr>\n",
       "\t<tr><th scope=row>Dim.25</th><td>1.001579e-01</td><td>1.757156e+00</td><td> 58.591161  </td></tr>\n",
       "\t<tr><th scope=row>Dim.26</th><td>1.001166e-01</td><td>1.756432e+00</td><td> 60.347593  </td></tr>\n",
       "\t<tr><th scope=row>Dim.27</th><td>1.000058e-01</td><td>1.754489e+00</td><td> 62.102082  </td></tr>\n",
       "\t<tr><th scope=row>Dim.28</th><td>9.999407e-02</td><td>1.754282e+00</td><td> 63.856364  </td></tr>\n",
       "\t<tr><th scope=row>Dim.29</th><td>9.995921e-02</td><td>1.753670e+00</td><td> 65.610034  </td></tr>\n",
       "\t<tr><th scope=row>Dim.30</th><td>9.988282e-02</td><td>1.752330e+00</td><td> 67.362364  </td></tr>\n",
       "\t<tr><th scope=row>Dim.31</th><td>9.976217e-02</td><td>1.750214e+00</td><td> 69.112578  </td></tr>\n",
       "\t<tr><th scope=row>Dim.32</th><td>9.960730e-02</td><td>1.747497e+00</td><td> 70.860074  </td></tr>\n",
       "\t<tr><th scope=row>Dim.33</th><td>9.934171e-02</td><td>1.742837e+00</td><td> 72.602911  </td></tr>\n",
       "\t<tr><th scope=row>Dim.34</th><td>9.921265e-02</td><td>1.740573e+00</td><td> 74.343484  </td></tr>\n",
       "\t<tr><th scope=row>Dim.35</th><td>9.879571e-02</td><td>1.733258e+00</td><td> 76.076742  </td></tr>\n",
       "\t<tr><th scope=row>Dim.36</th><td>9.856180e-02</td><td>1.729154e+00</td><td> 77.805896  </td></tr>\n",
       "\t<tr><th scope=row>Dim.37</th><td>9.787694e-02</td><td>1.717139e+00</td><td> 79.523036  </td></tr>\n",
       "\t<tr><th scope=row>Dim.38</th><td>9.698784e-02</td><td>1.701541e+00</td><td> 81.224577  </td></tr>\n",
       "\t<tr><th scope=row>Dim.39</th><td>9.511904e-02</td><td>1.668755e+00</td><td> 82.893332  </td></tr>\n",
       "\t<tr><th scope=row>Dim.40</th><td>9.495268e-02</td><td>1.665836e+00</td><td> 84.559168  </td></tr>\n",
       "\t<tr><th scope=row>Dim.41</th><td>9.351401e-02</td><td>1.640597e+00</td><td> 86.199765  </td></tr>\n",
       "\t<tr><th scope=row>Dim.42</th><td>9.223114e-02</td><td>1.618090e+00</td><td> 87.817855  </td></tr>\n",
       "\t<tr><th scope=row>Dim.43</th><td>8.876863e-02</td><td>1.557344e+00</td><td> 89.375200  </td></tr>\n",
       "\t<tr><th scope=row>Dim.44</th><td>8.318804e-02</td><td>1.459439e+00</td><td> 90.834639  </td></tr>\n",
       "\t<tr><th scope=row>Dim.45</th><td>8.119077e-02</td><td>1.424399e+00</td><td> 92.259038  </td></tr>\n",
       "\t<tr><th scope=row>Dim.46</th><td>7.946253e-02</td><td>1.394079e+00</td><td> 93.653118  </td></tr>\n",
       "\t<tr><th scope=row>Dim.47</th><td>7.539137e-02</td><td>1.322656e+00</td><td> 94.975773  </td></tr>\n",
       "\t<tr><th scope=row>Dim.48</th><td>6.854820e-02</td><td>1.202600e+00</td><td> 96.178373  </td></tr>\n",
       "\t<tr><th scope=row>Dim.49</th><td>6.301674e-02</td><td>1.105557e+00</td><td> 97.283930  </td></tr>\n",
       "\t<tr><th scope=row>Dim.50</th><td>6.090298e-02</td><td>1.068473e+00</td><td> 98.352403  </td></tr>\n",
       "\t<tr><th scope=row>Dim.51</th><td>3.108386e-02</td><td>5.453309e-01</td><td> 98.897734  </td></tr>\n",
       "\t<tr><th scope=row>Dim.52</th><td>2.290495e-02</td><td>4.018411e-01</td><td> 99.299576  </td></tr>\n",
       "\t<tr><th scope=row>Dim.53</th><td>1.918704e-02</td><td>3.366147e-01</td><td> 99.636190  </td></tr>\n",
       "\t<tr><th scope=row>Dim.54</th><td>1.791617e-02</td><td>3.143187e-01</td><td> 99.950509  </td></tr>\n",
       "\t<tr><th scope=row>Dim.55</th><td>2.217172e-03</td><td>3.889776e-02</td><td> 99.989407  </td></tr>\n",
       "\t<tr><th scope=row>Dim.56</th><td>6.038203e-04</td><td>1.059334e-02</td><td>100.000000  </td></tr>\n",
       "\t<tr><th scope=row>Dim.57</th><td>2.132647e-24</td><td>3.741487e-23</td><td>100.000000  </td></tr>\n",
       "</tbody>\n",
       "</table>\n"
      ],
      "text/latex": [
       "\\begin{tabular}{r|lll}\n",
       "  & eigenvalue & variance.percent & cumulative.variance.percent\\\\\n",
       "\\hline\n",
       "\tDim.1 & 2.305946e-01 & 4.045520e+00 &   4.045520  \\\\\n",
       "\tDim.2 & 2.044061e-01 & 3.586072e+00 &   7.631592  \\\\\n",
       "\tDim.3 & 2.021772e-01 & 3.546969e+00 &  11.178561  \\\\\n",
       "\tDim.4 & 1.999949e-01 & 3.508682e+00 &  14.687243  \\\\\n",
       "\tDim.5 & 1.802895e-01 & 3.162974e+00 &  17.850217  \\\\\n",
       "\tDim.6 & 1.695838e-01 & 2.975155e+00 &  20.825372  \\\\\n",
       "\tDim.7 & 1.627432e-01 & 2.855144e+00 &  23.680515  \\\\\n",
       "\tDim.8 & 1.432660e-01 & 2.513439e+00 &  26.193954  \\\\\n",
       "\tDim.9 & 1.361682e-01 & 2.388915e+00 &  28.582870  \\\\\n",
       "\tDim.10 & 1.299126e-01 & 2.279168e+00 &  30.862037  \\\\\n",
       "\tDim.11 & 1.243495e-01 & 2.181571e+00 &  33.043608  \\\\\n",
       "\tDim.12 & 1.179306e-01 & 2.068957e+00 &  35.112565  \\\\\n",
       "\tDim.13 & 1.079652e-01 & 1.894127e+00 &  37.006693  \\\\\n",
       "\tDim.14 & 1.068106e-01 & 1.873871e+00 &  38.880563  \\\\\n",
       "\tDim.15 & 1.064362e-01 & 1.867302e+00 &  40.747865  \\\\\n",
       "\tDim.16 & 1.051672e-01 & 1.845038e+00 &  42.592903  \\\\\n",
       "\tDim.17 & 1.036938e-01 & 1.819190e+00 &  44.412093  \\\\\n",
       "\tDim.18 & 1.028865e-01 & 1.805026e+00 &  46.217119  \\\\\n",
       "\tDim.19 & 1.019532e-01 & 1.788652e+00 &  48.005771  \\\\\n",
       "\tDim.20 & 1.014332e-01 & 1.779530e+00 &  49.785301  \\\\\n",
       "\tDim.21 & 1.006871e-01 & 1.766441e+00 &  51.551741  \\\\\n",
       "\tDim.22 & 1.005627e-01 & 1.764258e+00 &  53.316000  \\\\\n",
       "\tDim.23 & 1.003285e-01 & 1.760150e+00 &  55.076150  \\\\\n",
       "\tDim.24 & 1.001978e-01 & 1.757856e+00 &  56.834006  \\\\\n",
       "\tDim.25 & 1.001579e-01 & 1.757156e+00 &  58.591161  \\\\\n",
       "\tDim.26 & 1.001166e-01 & 1.756432e+00 &  60.347593  \\\\\n",
       "\tDim.27 & 1.000058e-01 & 1.754489e+00 &  62.102082  \\\\\n",
       "\tDim.28 & 9.999407e-02 & 1.754282e+00 &  63.856364  \\\\\n",
       "\tDim.29 & 9.995921e-02 & 1.753670e+00 &  65.610034  \\\\\n",
       "\tDim.30 & 9.988282e-02 & 1.752330e+00 &  67.362364  \\\\\n",
       "\tDim.31 & 9.976217e-02 & 1.750214e+00 &  69.112578  \\\\\n",
       "\tDim.32 & 9.960730e-02 & 1.747497e+00 &  70.860074  \\\\\n",
       "\tDim.33 & 9.934171e-02 & 1.742837e+00 &  72.602911  \\\\\n",
       "\tDim.34 & 9.921265e-02 & 1.740573e+00 &  74.343484  \\\\\n",
       "\tDim.35 & 9.879571e-02 & 1.733258e+00 &  76.076742  \\\\\n",
       "\tDim.36 & 9.856180e-02 & 1.729154e+00 &  77.805896  \\\\\n",
       "\tDim.37 & 9.787694e-02 & 1.717139e+00 &  79.523036  \\\\\n",
       "\tDim.38 & 9.698784e-02 & 1.701541e+00 &  81.224577  \\\\\n",
       "\tDim.39 & 9.511904e-02 & 1.668755e+00 &  82.893332  \\\\\n",
       "\tDim.40 & 9.495268e-02 & 1.665836e+00 &  84.559168  \\\\\n",
       "\tDim.41 & 9.351401e-02 & 1.640597e+00 &  86.199765  \\\\\n",
       "\tDim.42 & 9.223114e-02 & 1.618090e+00 &  87.817855  \\\\\n",
       "\tDim.43 & 8.876863e-02 & 1.557344e+00 &  89.375200  \\\\\n",
       "\tDim.44 & 8.318804e-02 & 1.459439e+00 &  90.834639  \\\\\n",
       "\tDim.45 & 8.119077e-02 & 1.424399e+00 &  92.259038  \\\\\n",
       "\tDim.46 & 7.946253e-02 & 1.394079e+00 &  93.653118  \\\\\n",
       "\tDim.47 & 7.539137e-02 & 1.322656e+00 &  94.975773  \\\\\n",
       "\tDim.48 & 6.854820e-02 & 1.202600e+00 &  96.178373  \\\\\n",
       "\tDim.49 & 6.301674e-02 & 1.105557e+00 &  97.283930  \\\\\n",
       "\tDim.50 & 6.090298e-02 & 1.068473e+00 &  98.352403  \\\\\n",
       "\tDim.51 & 3.108386e-02 & 5.453309e-01 &  98.897734  \\\\\n",
       "\tDim.52 & 2.290495e-02 & 4.018411e-01 &  99.299576  \\\\\n",
       "\tDim.53 & 1.918704e-02 & 3.366147e-01 &  99.636190  \\\\\n",
       "\tDim.54 & 1.791617e-02 & 3.143187e-01 &  99.950509  \\\\\n",
       "\tDim.55 & 2.217172e-03 & 3.889776e-02 &  99.989407  \\\\\n",
       "\tDim.56 & 6.038203e-04 & 1.059334e-02 & 100.000000  \\\\\n",
       "\tDim.57 & 2.132647e-24 & 3.741487e-23 & 100.000000  \\\\\n",
       "\\end{tabular}\n"
      ],
      "text/markdown": [
       "\n",
       "| <!--/--> | eigenvalue | variance.percent | cumulative.variance.percent |\n",
       "|---|---|---|---|\n",
       "| Dim.1 | 2.305946e-01 | 4.045520e+00 |   4.045520   |\n",
       "| Dim.2 | 2.044061e-01 | 3.586072e+00 |   7.631592   |\n",
       "| Dim.3 | 2.021772e-01 | 3.546969e+00 |  11.178561   |\n",
       "| Dim.4 | 1.999949e-01 | 3.508682e+00 |  14.687243   |\n",
       "| Dim.5 | 1.802895e-01 | 3.162974e+00 |  17.850217   |\n",
       "| Dim.6 | 1.695838e-01 | 2.975155e+00 |  20.825372   |\n",
       "| Dim.7 | 1.627432e-01 | 2.855144e+00 |  23.680515   |\n",
       "| Dim.8 | 1.432660e-01 | 2.513439e+00 |  26.193954   |\n",
       "| Dim.9 | 1.361682e-01 | 2.388915e+00 |  28.582870   |\n",
       "| Dim.10 | 1.299126e-01 | 2.279168e+00 |  30.862037   |\n",
       "| Dim.11 | 1.243495e-01 | 2.181571e+00 |  33.043608   |\n",
       "| Dim.12 | 1.179306e-01 | 2.068957e+00 |  35.112565   |\n",
       "| Dim.13 | 1.079652e-01 | 1.894127e+00 |  37.006693   |\n",
       "| Dim.14 | 1.068106e-01 | 1.873871e+00 |  38.880563   |\n",
       "| Dim.15 | 1.064362e-01 | 1.867302e+00 |  40.747865   |\n",
       "| Dim.16 | 1.051672e-01 | 1.845038e+00 |  42.592903   |\n",
       "| Dim.17 | 1.036938e-01 | 1.819190e+00 |  44.412093   |\n",
       "| Dim.18 | 1.028865e-01 | 1.805026e+00 |  46.217119   |\n",
       "| Dim.19 | 1.019532e-01 | 1.788652e+00 |  48.005771   |\n",
       "| Dim.20 | 1.014332e-01 | 1.779530e+00 |  49.785301   |\n",
       "| Dim.21 | 1.006871e-01 | 1.766441e+00 |  51.551741   |\n",
       "| Dim.22 | 1.005627e-01 | 1.764258e+00 |  53.316000   |\n",
       "| Dim.23 | 1.003285e-01 | 1.760150e+00 |  55.076150   |\n",
       "| Dim.24 | 1.001978e-01 | 1.757856e+00 |  56.834006   |\n",
       "| Dim.25 | 1.001579e-01 | 1.757156e+00 |  58.591161   |\n",
       "| Dim.26 | 1.001166e-01 | 1.756432e+00 |  60.347593   |\n",
       "| Dim.27 | 1.000058e-01 | 1.754489e+00 |  62.102082   |\n",
       "| Dim.28 | 9.999407e-02 | 1.754282e+00 |  63.856364   |\n",
       "| Dim.29 | 9.995921e-02 | 1.753670e+00 |  65.610034   |\n",
       "| Dim.30 | 9.988282e-02 | 1.752330e+00 |  67.362364   |\n",
       "| Dim.31 | 9.976217e-02 | 1.750214e+00 |  69.112578   |\n",
       "| Dim.32 | 9.960730e-02 | 1.747497e+00 |  70.860074   |\n",
       "| Dim.33 | 9.934171e-02 | 1.742837e+00 |  72.602911   |\n",
       "| Dim.34 | 9.921265e-02 | 1.740573e+00 |  74.343484   |\n",
       "| Dim.35 | 9.879571e-02 | 1.733258e+00 |  76.076742   |\n",
       "| Dim.36 | 9.856180e-02 | 1.729154e+00 |  77.805896   |\n",
       "| Dim.37 | 9.787694e-02 | 1.717139e+00 |  79.523036   |\n",
       "| Dim.38 | 9.698784e-02 | 1.701541e+00 |  81.224577   |\n",
       "| Dim.39 | 9.511904e-02 | 1.668755e+00 |  82.893332   |\n",
       "| Dim.40 | 9.495268e-02 | 1.665836e+00 |  84.559168   |\n",
       "| Dim.41 | 9.351401e-02 | 1.640597e+00 |  86.199765   |\n",
       "| Dim.42 | 9.223114e-02 | 1.618090e+00 |  87.817855   |\n",
       "| Dim.43 | 8.876863e-02 | 1.557344e+00 |  89.375200   |\n",
       "| Dim.44 | 8.318804e-02 | 1.459439e+00 |  90.834639   |\n",
       "| Dim.45 | 8.119077e-02 | 1.424399e+00 |  92.259038   |\n",
       "| Dim.46 | 7.946253e-02 | 1.394079e+00 |  93.653118   |\n",
       "| Dim.47 | 7.539137e-02 | 1.322656e+00 |  94.975773   |\n",
       "| Dim.48 | 6.854820e-02 | 1.202600e+00 |  96.178373   |\n",
       "| Dim.49 | 6.301674e-02 | 1.105557e+00 |  97.283930   |\n",
       "| Dim.50 | 6.090298e-02 | 1.068473e+00 |  98.352403   |\n",
       "| Dim.51 | 3.108386e-02 | 5.453309e-01 |  98.897734   |\n",
       "| Dim.52 | 2.290495e-02 | 4.018411e-01 |  99.299576   |\n",
       "| Dim.53 | 1.918704e-02 | 3.366147e-01 |  99.636190   |\n",
       "| Dim.54 | 1.791617e-02 | 3.143187e-01 |  99.950509   |\n",
       "| Dim.55 | 2.217172e-03 | 3.889776e-02 |  99.989407   |\n",
       "| Dim.56 | 6.038203e-04 | 1.059334e-02 | 100.000000   |\n",
       "| Dim.57 | 2.132647e-24 | 3.741487e-23 | 100.000000   |\n",
       "\n"
      ],
      "text/plain": [
       "       eigenvalue   variance.percent cumulative.variance.percent\n",
       "Dim.1  2.305946e-01 4.045520e+00       4.045520                 \n",
       "Dim.2  2.044061e-01 3.586072e+00       7.631592                 \n",
       "Dim.3  2.021772e-01 3.546969e+00      11.178561                 \n",
       "Dim.4  1.999949e-01 3.508682e+00      14.687243                 \n",
       "Dim.5  1.802895e-01 3.162974e+00      17.850217                 \n",
       "Dim.6  1.695838e-01 2.975155e+00      20.825372                 \n",
       "Dim.7  1.627432e-01 2.855144e+00      23.680515                 \n",
       "Dim.8  1.432660e-01 2.513439e+00      26.193954                 \n",
       "Dim.9  1.361682e-01 2.388915e+00      28.582870                 \n",
       "Dim.10 1.299126e-01 2.279168e+00      30.862037                 \n",
       "Dim.11 1.243495e-01 2.181571e+00      33.043608                 \n",
       "Dim.12 1.179306e-01 2.068957e+00      35.112565                 \n",
       "Dim.13 1.079652e-01 1.894127e+00      37.006693                 \n",
       "Dim.14 1.068106e-01 1.873871e+00      38.880563                 \n",
       "Dim.15 1.064362e-01 1.867302e+00      40.747865                 \n",
       "Dim.16 1.051672e-01 1.845038e+00      42.592903                 \n",
       "Dim.17 1.036938e-01 1.819190e+00      44.412093                 \n",
       "Dim.18 1.028865e-01 1.805026e+00      46.217119                 \n",
       "Dim.19 1.019532e-01 1.788652e+00      48.005771                 \n",
       "Dim.20 1.014332e-01 1.779530e+00      49.785301                 \n",
       "Dim.21 1.006871e-01 1.766441e+00      51.551741                 \n",
       "Dim.22 1.005627e-01 1.764258e+00      53.316000                 \n",
       "Dim.23 1.003285e-01 1.760150e+00      55.076150                 \n",
       "Dim.24 1.001978e-01 1.757856e+00      56.834006                 \n",
       "Dim.25 1.001579e-01 1.757156e+00      58.591161                 \n",
       "Dim.26 1.001166e-01 1.756432e+00      60.347593                 \n",
       "Dim.27 1.000058e-01 1.754489e+00      62.102082                 \n",
       "Dim.28 9.999407e-02 1.754282e+00      63.856364                 \n",
       "Dim.29 9.995921e-02 1.753670e+00      65.610034                 \n",
       "Dim.30 9.988282e-02 1.752330e+00      67.362364                 \n",
       "Dim.31 9.976217e-02 1.750214e+00      69.112578                 \n",
       "Dim.32 9.960730e-02 1.747497e+00      70.860074                 \n",
       "Dim.33 9.934171e-02 1.742837e+00      72.602911                 \n",
       "Dim.34 9.921265e-02 1.740573e+00      74.343484                 \n",
       "Dim.35 9.879571e-02 1.733258e+00      76.076742                 \n",
       "Dim.36 9.856180e-02 1.729154e+00      77.805896                 \n",
       "Dim.37 9.787694e-02 1.717139e+00      79.523036                 \n",
       "Dim.38 9.698784e-02 1.701541e+00      81.224577                 \n",
       "Dim.39 9.511904e-02 1.668755e+00      82.893332                 \n",
       "Dim.40 9.495268e-02 1.665836e+00      84.559168                 \n",
       "Dim.41 9.351401e-02 1.640597e+00      86.199765                 \n",
       "Dim.42 9.223114e-02 1.618090e+00      87.817855                 \n",
       "Dim.43 8.876863e-02 1.557344e+00      89.375200                 \n",
       "Dim.44 8.318804e-02 1.459439e+00      90.834639                 \n",
       "Dim.45 8.119077e-02 1.424399e+00      92.259038                 \n",
       "Dim.46 7.946253e-02 1.394079e+00      93.653118                 \n",
       "Dim.47 7.539137e-02 1.322656e+00      94.975773                 \n",
       "Dim.48 6.854820e-02 1.202600e+00      96.178373                 \n",
       "Dim.49 6.301674e-02 1.105557e+00      97.283930                 \n",
       "Dim.50 6.090298e-02 1.068473e+00      98.352403                 \n",
       "Dim.51 3.108386e-02 5.453309e-01      98.897734                 \n",
       "Dim.52 2.290495e-02 4.018411e-01      99.299576                 \n",
       "Dim.53 1.918704e-02 3.366147e-01      99.636190                 \n",
       "Dim.54 1.791617e-02 3.143187e-01      99.950509                 \n",
       "Dim.55 2.217172e-03 3.889776e-02      99.989407                 \n",
       "Dim.56 6.038203e-04 1.059334e-02     100.000000                 \n",
       "Dim.57 2.132647e-24 3.741487e-23     100.000000                 "
      ]
     },
     "metadata": {},
     "output_type": "display_data"
    }
   ],
   "source": [
    "library(\"factoextra\")\n",
    "eig.val <- get_eigenvalue(res.mca)\n",
    "eig.val"
   ]
  },
  {
   "cell_type": "code",
   "execution_count": 10,
   "metadata": {},
   "outputs": [
    {
     "data": {
      "image/png": "[encoded data removed]",
      "text/plain": [
       "plot without title"
      ]
     },
     "metadata": {},
     "output_type": "display_data"
    }
   ],
   "source": [
    "fviz_screeplot(res.mca, addlabels = TRUE, ylim = c(0, 45))"
   ]
  },
  {
   "cell_type": "code",
   "execution_count": 13,
   "metadata": {},
   "outputs": [
    {
     "data": {
      "image/png": "[encoded data removed]",
      "text/plain": [
       "plot without title"
      ]
     },
     "metadata": {},
     "output_type": "display_data"
    }
   ],
   "source": [
    "fviz_screeplot(a, addlabels = TRUE, ylim = c(0, 45))"
   ]
  },
  {
   "cell_type": "markdown",
   "metadata": {},
   "source": [
    "Based on the scree plot, it was found that up to component 5 the percentage of variability that could be explained did not decrease too sharply. This shows that the addition of components does not significantly affect the variability of the data that can be explained. So that component 1 to component 5 will be selected.\n",
    "The percentage of total variability that can be explained through the 5 selected components is about 82.7%."
   ]
  },
  {
   "cell_type": "code",
   "execution_count": 11,
   "metadata": {},
   "outputs": [
    {
     "data": {
      "text/plain": [
       "Multiple Correspondence Analysis Results for variables\n",
       " ===================================================\n",
       "  Name       Description                  \n",
       "1 \"$coord\"   \"Coordinates for categories\" \n",
       "2 \"$cos2\"    \"Cos2 for categories\"        \n",
       "3 \"$contrib\" \"contributions of categories\""
      ]
     },
     "metadata": {},
     "output_type": "display_data"
    }
   ],
   "source": [
    "var <- get_mca_var(res.mca)\n",
    "var"
   ]
  },
  {
   "cell_type": "code",
   "execution_count": null,
   "metadata": {},
   "outputs": [],
   "source": []
  }
 ],
 "metadata": {
  "kernelspec": {
   "display_name": "R",
   "language": "R",
   "name": "ir"
  },
  "language_info": {
   "codemirror_mode": "r",
   "file_extension": ".r",
   "mimetype": "text/x-r-source",
   "name": "R",
   "pygments_lexer": "r",
   "version": "3.6.1"
  }
 },
 "nbformat": 4,
 "nbformat_minor": 2
}
