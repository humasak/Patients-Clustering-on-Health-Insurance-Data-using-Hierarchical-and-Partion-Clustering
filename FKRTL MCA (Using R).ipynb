{
 "cells": [
  {
   "cell_type": "code",
   "execution_count": 10,
   "metadata": {},
   "outputs": [],
   "source": [
    "# Import libraries\n",
    "library(factoextra)\n",
    "library(FactoMineR)\n",
    "library(gplots)"
   ]
  },
  {
   "cell_type": "code",
   "execution_count": 17,
   "metadata": {},
   "outputs": [],
   "source": [
    "delim = \",\"  # or is it \"\\t\" ?\n",
    "dec = \".\"    # or is it \",\" ?\n",
    "myDataFrame <- read.csv(\"D:/KULIAHHH/TUGAS AKHIR/TA-2/datasampel/FKRTL data Binning.csv\", header=TRUE, sep=delim, dec=dec, stringsAsFactors=FALSE)\n"
   ]
  },
  {
   "cell_type": "code",
   "execution_count": 18,
   "metadata": {},
   "outputs": [
    {
     "data": {
      "text/html": [
       "<dl class=dl-horizontal>\n",
       "\t<dt>X</dt>\n",
       "\t\t<dd>'integer'</dd>\n",
       "\t<dt>Hasil.Rujukan.FKTP.</dt>\n",
       "\t\t<dd>'character'</dd>\n",
       "\t<dt>fkrtl.Weekend.</dt>\n",
       "\t\t<dd>'integer'</dd>\n",
       "\t<dt>fkrtl.Quarter</dt>\n",
       "\t\t<dd>'integer'</dd>\n",
       "\t<dt>FKRTL.Kepemilikan.Faskes</dt>\n",
       "\t\t<dd>'character'</dd>\n",
       "\t<dt>FKRTL.Jenis.Faskes</dt>\n",
       "\t\t<dd>'character'</dd>\n",
       "\t<dt>FKRTL.Tipe.Faskes</dt>\n",
       "\t\t<dd>'character'</dd>\n",
       "\t<dt>FKRTL.Tingkat.Layanan</dt>\n",
       "\t\t<dd>'character'</dd>\n",
       "\t<dt>FKRTL.Segmen.Peserta</dt>\n",
       "\t\t<dd>'character'</dd>\n",
       "\t<dt>FKRTL.Kelas.Rawat</dt>\n",
       "\t\t<dd>'character'</dd>\n",
       "\t<dt>FKRTL.Status.Pulang</dt>\n",
       "\t\t<dd>'character'</dd>\n",
       "\t<dt>Jenis.Kelamin.Peserta</dt>\n",
       "\t\t<dd>'character'</dd>\n",
       "\t<dt>kategori.umur</dt>\n",
       "\t\t<dd>'character'</dd>\n",
       "\t<dt>biaya_tagih_binned</dt>\n",
       "\t\t<dd>'character'</dd>\n",
       "\t<dt>lama_kunjungan_binned</dt>\n",
       "\t\t<dd>'character'</dd>\n",
       "</dl>\n"
      ],
      "text/latex": [
       "\\begin{description*}\n",
       "\\item[X] 'integer'\n",
       "\\item[Hasil.Rujukan.FKTP.] 'character'\n",
       "\\item[fkrtl.Weekend.] 'integer'\n",
       "\\item[fkrtl.Quarter] 'integer'\n",
       "\\item[FKRTL.Kepemilikan.Faskes] 'character'\n",
       "\\item[FKRTL.Jenis.Faskes] 'character'\n",
       "\\item[FKRTL.Tipe.Faskes] 'character'\n",
       "\\item[FKRTL.Tingkat.Layanan] 'character'\n",
       "\\item[FKRTL.Segmen.Peserta] 'character'\n",
       "\\item[FKRTL.Kelas.Rawat] 'character'\n",
       "\\item[FKRTL.Status.Pulang] 'character'\n",
       "\\item[Jenis.Kelamin.Peserta] 'character'\n",
       "\\item[kategori.umur] 'character'\n",
       "\\item[biaya\\textbackslash{}\\_tagih\\textbackslash{}\\_binned] 'character'\n",
       "\\item[lama\\textbackslash{}\\_kunjungan\\textbackslash{}\\_binned] 'character'\n",
       "\\end{description*}\n"
      ],
      "text/markdown": [
       "X\n",
       ":   'integer'Hasil.Rujukan.FKTP.\n",
       ":   'character'fkrtl.Weekend.\n",
       ":   'integer'fkrtl.Quarter\n",
       ":   'integer'FKRTL.Kepemilikan.Faskes\n",
       ":   'character'FKRTL.Jenis.Faskes\n",
       ":   'character'FKRTL.Tipe.Faskes\n",
       ":   'character'FKRTL.Tingkat.Layanan\n",
       ":   'character'FKRTL.Segmen.Peserta\n",
       ":   'character'FKRTL.Kelas.Rawat\n",
       ":   'character'FKRTL.Status.Pulang\n",
       ":   'character'Jenis.Kelamin.Peserta\n",
       ":   'character'kategori.umur\n",
       ":   'character'biaya_tagih_binned\n",
       ":   'character'lama_kunjungan_binned\n",
       ":   'character'\n",
       "\n"
      ],
      "text/plain": [
       "                       X      Hasil.Rujukan.FKTP.           fkrtl.Weekend. \n",
       "               \"integer\"              \"character\"                \"integer\" \n",
       "           fkrtl.Quarter FKRTL.Kepemilikan.Faskes       FKRTL.Jenis.Faskes \n",
       "               \"integer\"              \"character\"              \"character\" \n",
       "       FKRTL.Tipe.Faskes    FKRTL.Tingkat.Layanan     FKRTL.Segmen.Peserta \n",
       "             \"character\"              \"character\"              \"character\" \n",
       "       FKRTL.Kelas.Rawat      FKRTL.Status.Pulang    Jenis.Kelamin.Peserta \n",
       "             \"character\"              \"character\"              \"character\" \n",
       "           kategori.umur       biaya_tagih_binned    lama_kunjungan_binned \n",
       "             \"character\"              \"character\"              \"character\" "
      ]
     },
     "metadata": {},
     "output_type": "display_data"
    }
   ],
   "source": [
    "sapply(myDataFrame, typeof)"
   ]
  },
  {
   "cell_type": "code",
   "execution_count": 23,
   "metadata": {},
   "outputs": [],
   "source": [
    "drop <- c('X', 'fkrtl.Weekend.', 'fkrtl.Quarter')\n",
    "df = myDataFrame[,!(names(myDataFrame) %in% drop)]"
   ]
  },
  {
   "cell_type": "code",
   "execution_count": 24,
   "metadata": {},
   "outputs": [
    {
     "data": {
      "text/html": [
       "<dl class=dl-horizontal>\n",
       "\t<dt>Hasil.Rujukan.FKTP.</dt>\n",
       "\t\t<dd>'character'</dd>\n",
       "\t<dt>FKRTL.Kepemilikan.Faskes</dt>\n",
       "\t\t<dd>'character'</dd>\n",
       "\t<dt>FKRTL.Jenis.Faskes</dt>\n",
       "\t\t<dd>'character'</dd>\n",
       "\t<dt>FKRTL.Tipe.Faskes</dt>\n",
       "\t\t<dd>'character'</dd>\n",
       "\t<dt>FKRTL.Tingkat.Layanan</dt>\n",
       "\t\t<dd>'character'</dd>\n",
       "\t<dt>FKRTL.Segmen.Peserta</dt>\n",
       "\t\t<dd>'character'</dd>\n",
       "\t<dt>FKRTL.Kelas.Rawat</dt>\n",
       "\t\t<dd>'character'</dd>\n",
       "\t<dt>FKRTL.Status.Pulang</dt>\n",
       "\t\t<dd>'character'</dd>\n",
       "\t<dt>Jenis.Kelamin.Peserta</dt>\n",
       "\t\t<dd>'character'</dd>\n",
       "\t<dt>kategori.umur</dt>\n",
       "\t\t<dd>'character'</dd>\n",
       "\t<dt>biaya_tagih_binned</dt>\n",
       "\t\t<dd>'character'</dd>\n",
       "\t<dt>lama_kunjungan_binned</dt>\n",
       "\t\t<dd>'character'</dd>\n",
       "</dl>\n"
      ],
      "text/latex": [
       "\\begin{description*}\n",
       "\\item[Hasil.Rujukan.FKTP.] 'character'\n",
       "\\item[FKRTL.Kepemilikan.Faskes] 'character'\n",
       "\\item[FKRTL.Jenis.Faskes] 'character'\n",
       "\\item[FKRTL.Tipe.Faskes] 'character'\n",
       "\\item[FKRTL.Tingkat.Layanan] 'character'\n",
       "\\item[FKRTL.Segmen.Peserta] 'character'\n",
       "\\item[FKRTL.Kelas.Rawat] 'character'\n",
       "\\item[FKRTL.Status.Pulang] 'character'\n",
       "\\item[Jenis.Kelamin.Peserta] 'character'\n",
       "\\item[kategori.umur] 'character'\n",
       "\\item[biaya\\textbackslash{}\\_tagih\\textbackslash{}\\_binned] 'character'\n",
       "\\item[lama\\textbackslash{}\\_kunjungan\\textbackslash{}\\_binned] 'character'\n",
       "\\end{description*}\n"
      ],
      "text/markdown": [
       "Hasil.Rujukan.FKTP.\n",
       ":   'character'FKRTL.Kepemilikan.Faskes\n",
       ":   'character'FKRTL.Jenis.Faskes\n",
       ":   'character'FKRTL.Tipe.Faskes\n",
       ":   'character'FKRTL.Tingkat.Layanan\n",
       ":   'character'FKRTL.Segmen.Peserta\n",
       ":   'character'FKRTL.Kelas.Rawat\n",
       ":   'character'FKRTL.Status.Pulang\n",
       ":   'character'Jenis.Kelamin.Peserta\n",
       ":   'character'kategori.umur\n",
       ":   'character'biaya_tagih_binned\n",
       ":   'character'lama_kunjungan_binned\n",
       ":   'character'\n",
       "\n"
      ],
      "text/plain": [
       "     Hasil.Rujukan.FKTP. FKRTL.Kepemilikan.Faskes       FKRTL.Jenis.Faskes \n",
       "             \"character\"              \"character\"              \"character\" \n",
       "       FKRTL.Tipe.Faskes    FKRTL.Tingkat.Layanan     FKRTL.Segmen.Peserta \n",
       "             \"character\"              \"character\"              \"character\" \n",
       "       FKRTL.Kelas.Rawat      FKRTL.Status.Pulang    Jenis.Kelamin.Peserta \n",
       "             \"character\"              \"character\"              \"character\" \n",
       "           kategori.umur       biaya_tagih_binned    lama_kunjungan_binned \n",
       "             \"character\"              \"character\"              \"character\" "
      ]
     },
     "metadata": {},
     "output_type": "display_data"
    }
   ],
   "source": [
    "sapply(df, typeof)"
   ]
  },
  {
   "cell_type": "code",
   "execution_count": 25,
   "metadata": {},
   "outputs": [],
   "source": [
    "df1 = df[0:10,]"
   ]
  },
  {
   "cell_type": "code",
   "execution_count": 26,
   "metadata": {},
   "outputs": [
    {
     "data": {
      "text/html": [
       "<table>\n",
       "<thead><tr><th scope=col>Hasil.Rujukan.FKTP.</th><th scope=col>FKRTL.Kepemilikan.Faskes</th><th scope=col>FKRTL.Jenis.Faskes</th><th scope=col>FKRTL.Tipe.Faskes</th><th scope=col>FKRTL.Tingkat.Layanan</th><th scope=col>FKRTL.Segmen.Peserta</th><th scope=col>FKRTL.Kelas.Rawat</th><th scope=col>FKRTL.Status.Pulang</th><th scope=col>Jenis.Kelamin.Peserta</th><th scope=col>kategori.umur</th><th scope=col>biaya_tagih_binned</th><th scope=col>lama_kunjungan_binned</th></tr></thead>\n",
       "<tbody>\n",
       "\t<tr><td>No                       </td><td>PEMERINTAH KABUPATEN/KOTA</td><td>RUMAH SAKIT              </td><td>RS KELAS C               </td><td>RAWAT INAP TINGKAT LANJUT</td><td>PBI APBN                 </td><td>KELAS III                </td><td>SEHAT                    </td><td>PEREMPUAN                </td><td>lanjut usia              </td><td>sangat murah             </td><td>sebentar                 </td></tr>\n",
       "\t<tr><td>No                       </td><td>VERTIKAL/PUSAT           </td><td>RUMAH SAKIT              </td><td>KHUSUS KANKER ONKOLOGI   </td><td>RAWAT INAP TINGKAT LANJUT</td><td>PPU                      </td><td>KELAS II                 </td><td>MENINGGAL                </td><td>PEREMPUAN                </td><td>dewasa                   </td><td>sangat murah             </td><td>sebentar                 </td></tr>\n",
       "\t<tr><td>No                       </td><td>VERTIKAL/PUSAT           </td><td>RUMAH SAKIT              </td><td>RS KELAS A               </td><td>RAWAT INAP TINGKAT LANJUT</td><td>PBPU                     </td><td>KELAS III                </td><td>SEHAT                    </td><td>LAKI-LAKI                </td><td>bayi                     </td><td>sangat murah             </td><td>sebentar                 </td></tr>\n",
       "\t<tr><td>No                       </td><td>SWASTA                   </td><td>RUMAH SAKIT              </td><td>RS SWASTA SETARA TYPE C  </td><td>RAWAT INAP TINGKAT LANJUT</td><td>PPU                      </td><td>KELAS II                 </td><td>SEHAT                    </td><td>PEREMPUAN                </td><td>dewasa                   </td><td>sangat murah             </td><td>sebentar                 </td></tr>\n",
       "\t<tr><td>No                       </td><td>PEMERINTAH KABUPATEN/KOTA</td><td>RUMAH SAKIT              </td><td>RS KELAS C               </td><td>RAWAT INAP TINGKAT LANJUT</td><td>PBI APBN                 </td><td>KELAS III                </td><td>SEHAT                    </td><td>PEREMPUAN                </td><td>dewasa                   </td><td>sangat murah             </td><td>sebentar                 </td></tr>\n",
       "\t<tr><td>No                       </td><td>SWASTA                   </td><td>RUMAH SAKIT              </td><td>RS SWASTA SETARA TYPE D  </td><td>RAWAT INAP TINGKAT LANJUT</td><td>PPU                      </td><td>KELAS II                 </td><td>SEHAT                    </td><td>PEREMPUAN                </td><td>dewasa                   </td><td>sangat murah             </td><td>sebentar                 </td></tr>\n",
       "\t<tr><td>No                       </td><td>PEMERINTAH KABUPATEN/KOTA</td><td>RUMAH SAKIT              </td><td>RS KELAS C               </td><td>RAWAT INAP TINGKAT LANJUT</td><td>PBI APBN                 </td><td>KELAS III                </td><td>SEHAT                    </td><td>PEREMPUAN                </td><td>anak-anak                </td><td>sangat murah             </td><td>sebentar                 </td></tr>\n",
       "\t<tr><td>No                       </td><td>PEMERINTAH KABUPATEN/KOTA</td><td>RUMAH SAKIT              </td><td>RS KELAS C               </td><td>RAWAT INAP TINGKAT LANJUT</td><td>PBPU                     </td><td>KELAS II                 </td><td>SEHAT                    </td><td>LAKI-LAKI                </td><td>dewasa                   </td><td>sangat murah             </td><td>sebentar                 </td></tr>\n",
       "\t<tr><td>No                       </td><td>PEMERINTAH KABUPATEN/KOTA</td><td>RUMAH SAKIT              </td><td>RS KELAS B               </td><td>RAWAT INAP TINGKAT LANJUT</td><td>PBI APBN                 </td><td>KELAS III                </td><td>SEHAT                    </td><td>LAKI-LAKI                </td><td>anak-anak                </td><td>sangat murah             </td><td>sebentar                 </td></tr>\n",
       "\t<tr><td>No                       </td><td>PEMERINTAH KABUPATEN/KOTA</td><td>RUMAH SAKIT              </td><td>RS KELAS C               </td><td>RAWAT INAP TINGKAT LANJUT</td><td>PBI APBN                 </td><td>KELAS III                </td><td>SEHAT                    </td><td>LAKI-LAKI                </td><td>remaja                   </td><td>sangat murah             </td><td>sebentar                 </td></tr>\n",
       "</tbody>\n",
       "</table>\n"
      ],
      "text/latex": [
       "\\begin{tabular}{r|llllllllllll}\n",
       " Hasil.Rujukan.FKTP. & FKRTL.Kepemilikan.Faskes & FKRTL.Jenis.Faskes & FKRTL.Tipe.Faskes & FKRTL.Tingkat.Layanan & FKRTL.Segmen.Peserta & FKRTL.Kelas.Rawat & FKRTL.Status.Pulang & Jenis.Kelamin.Peserta & kategori.umur & biaya\\_tagih\\_binned & lama\\_kunjungan\\_binned\\\\\n",
       "\\hline\n",
       "\t No                        & PEMERINTAH KABUPATEN/KOTA & RUMAH SAKIT               & RS KELAS C                & RAWAT INAP TINGKAT LANJUT & PBI APBN                  & KELAS III                 & SEHAT                     & PEREMPUAN                 & lanjut usia               & sangat murah              & sebentar                 \\\\\n",
       "\t No                        & VERTIKAL/PUSAT            & RUMAH SAKIT               & KHUSUS KANKER ONKOLOGI    & RAWAT INAP TINGKAT LANJUT & PPU                       & KELAS II                  & MENINGGAL                 & PEREMPUAN                 & dewasa                    & sangat murah              & sebentar                 \\\\\n",
       "\t No                        & VERTIKAL/PUSAT            & RUMAH SAKIT               & RS KELAS A                & RAWAT INAP TINGKAT LANJUT & PBPU                      & KELAS III                 & SEHAT                     & LAKI-LAKI                 & bayi                      & sangat murah              & sebentar                 \\\\\n",
       "\t No                        & SWASTA                    & RUMAH SAKIT               & RS SWASTA SETARA TYPE C   & RAWAT INAP TINGKAT LANJUT & PPU                       & KELAS II                  & SEHAT                     & PEREMPUAN                 & dewasa                    & sangat murah              & sebentar                 \\\\\n",
       "\t No                        & PEMERINTAH KABUPATEN/KOTA & RUMAH SAKIT               & RS KELAS C                & RAWAT INAP TINGKAT LANJUT & PBI APBN                  & KELAS III                 & SEHAT                     & PEREMPUAN                 & dewasa                    & sangat murah              & sebentar                 \\\\\n",
       "\t No                        & SWASTA                    & RUMAH SAKIT               & RS SWASTA SETARA TYPE D   & RAWAT INAP TINGKAT LANJUT & PPU                       & KELAS II                  & SEHAT                     & PEREMPUAN                 & dewasa                    & sangat murah              & sebentar                 \\\\\n",
       "\t No                        & PEMERINTAH KABUPATEN/KOTA & RUMAH SAKIT               & RS KELAS C                & RAWAT INAP TINGKAT LANJUT & PBI APBN                  & KELAS III                 & SEHAT                     & PEREMPUAN                 & anak-anak                 & sangat murah              & sebentar                 \\\\\n",
       "\t No                        & PEMERINTAH KABUPATEN/KOTA & RUMAH SAKIT               & RS KELAS C                & RAWAT INAP TINGKAT LANJUT & PBPU                      & KELAS II                  & SEHAT                     & LAKI-LAKI                 & dewasa                    & sangat murah              & sebentar                 \\\\\n",
       "\t No                        & PEMERINTAH KABUPATEN/KOTA & RUMAH SAKIT               & RS KELAS B                & RAWAT INAP TINGKAT LANJUT & PBI APBN                  & KELAS III                 & SEHAT                     & LAKI-LAKI                 & anak-anak                 & sangat murah              & sebentar                 \\\\\n",
       "\t No                        & PEMERINTAH KABUPATEN/KOTA & RUMAH SAKIT               & RS KELAS C                & RAWAT INAP TINGKAT LANJUT & PBI APBN                  & KELAS III                 & SEHAT                     & LAKI-LAKI                 & remaja                    & sangat murah              & sebentar                 \\\\\n",
       "\\end{tabular}\n"
      ],
      "text/markdown": [
       "\n",
       "| Hasil.Rujukan.FKTP. | FKRTL.Kepemilikan.Faskes | FKRTL.Jenis.Faskes | FKRTL.Tipe.Faskes | FKRTL.Tingkat.Layanan | FKRTL.Segmen.Peserta | FKRTL.Kelas.Rawat | FKRTL.Status.Pulang | Jenis.Kelamin.Peserta | kategori.umur | biaya_tagih_binned | lama_kunjungan_binned |\n",
       "|---|---|---|---|---|---|---|---|---|---|---|---|\n",
       "| No                        | PEMERINTAH KABUPATEN/KOTA | RUMAH SAKIT               | RS KELAS C                | RAWAT INAP TINGKAT LANJUT | PBI APBN                  | KELAS III                 | SEHAT                     | PEREMPUAN                 | lanjut usia               | sangat murah              | sebentar                  |\n",
       "| No                        | VERTIKAL/PUSAT            | RUMAH SAKIT               | KHUSUS KANKER ONKOLOGI    | RAWAT INAP TINGKAT LANJUT | PPU                       | KELAS II                  | MENINGGAL                 | PEREMPUAN                 | dewasa                    | sangat murah              | sebentar                  |\n",
       "| No                        | VERTIKAL/PUSAT            | RUMAH SAKIT               | RS KELAS A                | RAWAT INAP TINGKAT LANJUT | PBPU                      | KELAS III                 | SEHAT                     | LAKI-LAKI                 | bayi                      | sangat murah              | sebentar                  |\n",
       "| No                        | SWASTA                    | RUMAH SAKIT               | RS SWASTA SETARA TYPE C   | RAWAT INAP TINGKAT LANJUT | PPU                       | KELAS II                  | SEHAT                     | PEREMPUAN                 | dewasa                    | sangat murah              | sebentar                  |\n",
       "| No                        | PEMERINTAH KABUPATEN/KOTA | RUMAH SAKIT               | RS KELAS C                | RAWAT INAP TINGKAT LANJUT | PBI APBN                  | KELAS III                 | SEHAT                     | PEREMPUAN                 | dewasa                    | sangat murah              | sebentar                  |\n",
       "| No                        | SWASTA                    | RUMAH SAKIT               | RS SWASTA SETARA TYPE D   | RAWAT INAP TINGKAT LANJUT | PPU                       | KELAS II                  | SEHAT                     | PEREMPUAN                 | dewasa                    | sangat murah              | sebentar                  |\n",
       "| No                        | PEMERINTAH KABUPATEN/KOTA | RUMAH SAKIT               | RS KELAS C                | RAWAT INAP TINGKAT LANJUT | PBI APBN                  | KELAS III                 | SEHAT                     | PEREMPUAN                 | anak-anak                 | sangat murah              | sebentar                  |\n",
       "| No                        | PEMERINTAH KABUPATEN/KOTA | RUMAH SAKIT               | RS KELAS C                | RAWAT INAP TINGKAT LANJUT | PBPU                      | KELAS II                  | SEHAT                     | LAKI-LAKI                 | dewasa                    | sangat murah              | sebentar                  |\n",
       "| No                        | PEMERINTAH KABUPATEN/KOTA | RUMAH SAKIT               | RS KELAS B                | RAWAT INAP TINGKAT LANJUT | PBI APBN                  | KELAS III                 | SEHAT                     | LAKI-LAKI                 | anak-anak                 | sangat murah              | sebentar                  |\n",
       "| No                        | PEMERINTAH KABUPATEN/KOTA | RUMAH SAKIT               | RS KELAS C                | RAWAT INAP TINGKAT LANJUT | PBI APBN                  | KELAS III                 | SEHAT                     | LAKI-LAKI                 | remaja                    | sangat murah              | sebentar                  |\n",
       "\n"
      ],
      "text/plain": [
       "   Hasil.Rujukan.FKTP. FKRTL.Kepemilikan.Faskes  FKRTL.Jenis.Faskes\n",
       "1  No                  PEMERINTAH KABUPATEN/KOTA RUMAH SAKIT       \n",
       "2  No                  VERTIKAL/PUSAT            RUMAH SAKIT       \n",
       "3  No                  VERTIKAL/PUSAT            RUMAH SAKIT       \n",
       "4  No                  SWASTA                    RUMAH SAKIT       \n",
       "5  No                  PEMERINTAH KABUPATEN/KOTA RUMAH SAKIT       \n",
       "6  No                  SWASTA                    RUMAH SAKIT       \n",
       "7  No                  PEMERINTAH KABUPATEN/KOTA RUMAH SAKIT       \n",
       "8  No                  PEMERINTAH KABUPATEN/KOTA RUMAH SAKIT       \n",
       "9  No                  PEMERINTAH KABUPATEN/KOTA RUMAH SAKIT       \n",
       "10 No                  PEMERINTAH KABUPATEN/KOTA RUMAH SAKIT       \n",
       "   FKRTL.Tipe.Faskes       FKRTL.Tingkat.Layanan     FKRTL.Segmen.Peserta\n",
       "1  RS KELAS C              RAWAT INAP TINGKAT LANJUT PBI APBN            \n",
       "2  KHUSUS KANKER ONKOLOGI  RAWAT INAP TINGKAT LANJUT PPU                 \n",
       "3  RS KELAS A              RAWAT INAP TINGKAT LANJUT PBPU                \n",
       "4  RS SWASTA SETARA TYPE C RAWAT INAP TINGKAT LANJUT PPU                 \n",
       "5  RS KELAS C              RAWAT INAP TINGKAT LANJUT PBI APBN            \n",
       "6  RS SWASTA SETARA TYPE D RAWAT INAP TINGKAT LANJUT PPU                 \n",
       "7  RS KELAS C              RAWAT INAP TINGKAT LANJUT PBI APBN            \n",
       "8  RS KELAS C              RAWAT INAP TINGKAT LANJUT PBPU                \n",
       "9  RS KELAS B              RAWAT INAP TINGKAT LANJUT PBI APBN            \n",
       "10 RS KELAS C              RAWAT INAP TINGKAT LANJUT PBI APBN            \n",
       "   FKRTL.Kelas.Rawat FKRTL.Status.Pulang Jenis.Kelamin.Peserta kategori.umur\n",
       "1  KELAS III         SEHAT               PEREMPUAN             lanjut usia  \n",
       "2  KELAS II          MENINGGAL           PEREMPUAN             dewasa       \n",
       "3  KELAS III         SEHAT               LAKI-LAKI             bayi         \n",
       "4  KELAS II          SEHAT               PEREMPUAN             dewasa       \n",
       "5  KELAS III         SEHAT               PEREMPUAN             dewasa       \n",
       "6  KELAS II          SEHAT               PEREMPUAN             dewasa       \n",
       "7  KELAS III         SEHAT               PEREMPUAN             anak-anak    \n",
       "8  KELAS II          SEHAT               LAKI-LAKI             dewasa       \n",
       "9  KELAS III         SEHAT               LAKI-LAKI             anak-anak    \n",
       "10 KELAS III         SEHAT               LAKI-LAKI             remaja       \n",
       "   biaya_tagih_binned lama_kunjungan_binned\n",
       "1  sangat murah       sebentar             \n",
       "2  sangat murah       sebentar             \n",
       "3  sangat murah       sebentar             \n",
       "4  sangat murah       sebentar             \n",
       "5  sangat murah       sebentar             \n",
       "6  sangat murah       sebentar             \n",
       "7  sangat murah       sebentar             \n",
       "8  sangat murah       sebentar             \n",
       "9  sangat murah       sebentar             \n",
       "10 sangat murah       sebentar             "
      ]
     },
     "metadata": {},
     "output_type": "display_data"
    }
   ],
   "source": [
    "df1"
   ]
  },
  {
   "cell_type": "code",
   "execution_count": 32,
   "metadata": {},
   "outputs": [
    {
     "data": {
      "text/plain": [
       "**Results of the Multiple Correspondence Analysis (MCA)**\n",
       "The analysis was performed on 906905 individuals, described by 12 variables\n",
       "*The results are available in the following objects:\n",
       "\n",
       "   name              description                       \n",
       "1  \"$eig\"            \"eigenvalues\"                     \n",
       "2  \"$var\"            \"results for the variables\"       \n",
       "3  \"$var$coord\"      \"coord. of the categories\"        \n",
       "4  \"$var$cos2\"       \"cos2 for the categories\"         \n",
       "5  \"$var$contrib\"    \"contributions of the categories\" \n",
       "6  \"$var$v.test\"     \"v-test for the categories\"       \n",
       "7  \"$ind\"            \"results for the individuals\"     \n",
       "8  \"$ind$coord\"      \"coord. for the individuals\"      \n",
       "9  \"$ind$cos2\"       \"cos2 for the individuals\"        \n",
       "10 \"$ind$contrib\"    \"contributions of the individuals\"\n",
       "11 \"$call\"           \"intermediate results\"            \n",
       "12 \"$call$marge.col\" \"weights of columns\"              \n",
       "13 \"$call$marge.li\"  \"weights of rows\"                 "
      ]
     },
     "metadata": {},
     "output_type": "display_data"
    }
   ],
   "source": [
    "MCA(df, ncp = 5, graph = FALSE)"
   ]
  },
  {
   "cell_type": "code",
   "execution_count": 33,
   "metadata": {},
   "outputs": [],
   "source": [
    "res.mca <- MCA(df, graph = FALSE)"
   ]
  },
  {
   "cell_type": "code",
   "execution_count": 29,
   "metadata": {},
   "outputs": [
    {
     "name": "stdout",
     "output_type": "stream",
     "text": [
      "**Results of the Multiple Correspondence Analysis (MCA)**\n",
      "The analysis was performed on 10 individuals, described by 12 variables\n",
      "*The results are available in the following objects:\n",
      "\n",
      "   name              description                       \n",
      "1  \"$eig\"            \"eigenvalues\"                     \n",
      "2  \"$var\"            \"results for the variables\"       \n",
      "3  \"$var$coord\"      \"coord. of the categories\"        \n",
      "4  \"$var$cos2\"       \"cos2 for the categories\"         \n",
      "5  \"$var$contrib\"    \"contributions of the categories\" \n",
      "6  \"$var$v.test\"     \"v-test for the categories\"       \n",
      "7  \"$ind\"            \"results for the individuals\"     \n",
      "8  \"$ind$coord\"      \"coord. for the individuals\"      \n",
      "9  \"$ind$cos2\"       \"cos2 for the individuals\"        \n",
      "10 \"$ind$contrib\"    \"contributions of the individuals\"\n",
      "11 \"$call\"           \"intermediate results\"            \n",
      "12 \"$call$marge.col\" \"weights of columns\"              \n",
      "13 \"$call$marge.li\"  \"weights of rows\"                 \n"
     ]
    }
   ],
   "source": [
    "print(res.mca)"
   ]
  },
  {
   "cell_type": "code",
   "execution_count": 34,
   "metadata": {
    "scrolled": true
   },
   "outputs": [
    {
     "data": {
      "text/html": [
       "<table>\n",
       "<thead><tr><th></th><th scope=col>eigenvalue</th><th scope=col>variance.percent</th><th scope=col>cumulative.variance.percent</th></tr></thead>\n",
       "<tbody>\n",
       "\t<tr><th scope=row>Dim.1</th><td>0.17996691</td><td>3.272126  </td><td> 3.272126 </td></tr>\n",
       "\t<tr><th scope=row>Dim.2</th><td>0.16865109</td><td>3.066383  </td><td> 6.338509 </td></tr>\n",
       "\t<tr><th scope=row>Dim.3</th><td>0.16670628</td><td>3.031023  </td><td> 9.369532 </td></tr>\n",
       "\t<tr><th scope=row>Dim.4</th><td>0.16651018</td><td>3.027458  </td><td>12.396990 </td></tr>\n",
       "\t<tr><th scope=row>Dim.5</th><td>0.15183980</td><td>2.760724  </td><td>15.157714 </td></tr>\n",
       "\t<tr><th scope=row>Dim.6</th><td>0.14054683</td><td>2.555397  </td><td>17.713111 </td></tr>\n",
       "\t<tr><th scope=row>Dim.7</th><td>0.13061962</td><td>2.374902  </td><td>20.088013 </td></tr>\n",
       "\t<tr><th scope=row>Dim.8</th><td>0.11331498</td><td>2.060272  </td><td>22.148285 </td></tr>\n",
       "\t<tr><th scope=row>Dim.9</th><td>0.10931866</td><td>1.987612  </td><td>24.135897 </td></tr>\n",
       "\t<tr><th scope=row>Dim.10</th><td>0.10393165</td><td>1.889666  </td><td>26.025564 </td></tr>\n",
       "\t<tr><th scope=row>Dim.11</th><td>0.09998136</td><td>1.817843  </td><td>27.843407 </td></tr>\n",
       "\t<tr><th scope=row>Dim.12</th><td>0.09801792</td><td>1.782144  </td><td>29.625551 </td></tr>\n",
       "\t<tr><th scope=row>Dim.13</th><td>0.09620684</td><td>1.749215  </td><td>31.374766 </td></tr>\n",
       "\t<tr><th scope=row>Dim.14</th><td>0.09210313</td><td>1.674602  </td><td>33.049368 </td></tr>\n",
       "\t<tr><th scope=row>Dim.15</th><td>0.09061312</td><td>1.647511  </td><td>34.696880 </td></tr>\n",
       "\t<tr><th scope=row>Dim.16</th><td>0.08986804</td><td>1.633964  </td><td>36.330844 </td></tr>\n",
       "\t<tr><th scope=row>Dim.17</th><td>0.08775645</td><td>1.595572  </td><td>37.926416 </td></tr>\n",
       "\t<tr><th scope=row>Dim.18</th><td>0.08694612</td><td>1.580838  </td><td>39.507254 </td></tr>\n",
       "\t<tr><th scope=row>Dim.19</th><td>0.08613524</td><td>1.566095  </td><td>41.073350 </td></tr>\n",
       "\t<tr><th scope=row>Dim.20</th><td>0.08554195</td><td>1.555308  </td><td>42.628658 </td></tr>\n",
       "\t<tr><th scope=row>Dim.21</th><td>0.08502754</td><td>1.545955  </td><td>44.174613 </td></tr>\n",
       "\t<tr><th scope=row>Dim.22</th><td>0.08487397</td><td>1.543163  </td><td>45.717776 </td></tr>\n",
       "\t<tr><th scope=row>Dim.23</th><td>0.08451397</td><td>1.536618  </td><td>47.254394 </td></tr>\n",
       "\t<tr><th scope=row>Dim.24</th><td>0.08421611</td><td>1.531202  </td><td>48.785596 </td></tr>\n",
       "\t<tr><th scope=row>Dim.25</th><td>0.08391827</td><td>1.525787  </td><td>50.311383 </td></tr>\n",
       "\t<tr><th scope=row>Dim.26</th><td>0.08385742</td><td>1.524680  </td><td>51.836063 </td></tr>\n",
       "\t<tr><th scope=row>Dim.27</th><td>0.08358980</td><td>1.519814  </td><td>53.355878 </td></tr>\n",
       "\t<tr><th scope=row>Dim.28</th><td>0.08355513</td><td>1.519184  </td><td>54.875062 </td></tr>\n",
       "\t<tr><th scope=row>Dim.29</th><td>0.08348665</td><td>1.517939  </td><td>56.393001 </td></tr>\n",
       "\t<tr><th scope=row>Dim.30</th><td>0.08342976</td><td>1.516905  </td><td>57.909906 </td></tr>\n",
       "\t<tr><th scope=row>...</th><td>...</td><td>...</td><td>...</td></tr>\n",
       "\t<tr><th scope=row>Dim.37</th><td>8.281502e-02</td><td>1.505728e+00</td><td> 68.48821   </td></tr>\n",
       "\t<tr><th scope=row>Dim.38</th><td>8.258293e-02</td><td>1.501508e+00</td><td> 69.98972   </td></tr>\n",
       "\t<tr><th scope=row>Dim.39</th><td>8.255440e-02</td><td>1.500989e+00</td><td> 71.49071   </td></tr>\n",
       "\t<tr><th scope=row>Dim.40</th><td>8.243485e-02</td><td>1.498815e+00</td><td> 72.98952   </td></tr>\n",
       "\t<tr><th scope=row>Dim.41</th><td>8.196248e-02</td><td>1.490227e+00</td><td> 74.47975   </td></tr>\n",
       "\t<tr><th scope=row>Dim.42</th><td>8.186845e-02</td><td>1.488517e+00</td><td> 75.96827   </td></tr>\n",
       "\t<tr><th scope=row>Dim.43</th><td>8.167699e-02</td><td>1.485036e+00</td><td> 77.45330   </td></tr>\n",
       "\t<tr><th scope=row>Dim.44</th><td>8.123755e-02</td><td>1.477046e+00</td><td> 78.93035   </td></tr>\n",
       "\t<tr><th scope=row>Dim.45</th><td>8.071704e-02</td><td>1.467583e+00</td><td> 80.39793   </td></tr>\n",
       "\t<tr><th scope=row>Dim.46</th><td>7.972743e-02</td><td>1.449590e+00</td><td> 81.84752   </td></tr>\n",
       "\t<tr><th scope=row>Dim.47</th><td>7.821692e-02</td><td>1.422126e+00</td><td> 83.26965   </td></tr>\n",
       "\t<tr><th scope=row>Dim.48</th><td>7.765650e-02</td><td>1.411936e+00</td><td> 84.68158   </td></tr>\n",
       "\t<tr><th scope=row>Dim.49</th><td>7.713732e-02</td><td>1.402497e+00</td><td> 86.08408   </td></tr>\n",
       "\t<tr><th scope=row>Dim.50</th><td>7.658544e-02</td><td>1.392463e+00</td><td> 87.47654   </td></tr>\n",
       "\t<tr><th scope=row>Dim.51</th><td>7.586746e-02</td><td>1.379408e+00</td><td> 88.85595   </td></tr>\n",
       "\t<tr><th scope=row>Dim.52</th><td>7.352553e-02</td><td>1.336828e+00</td><td> 90.19278   </td></tr>\n",
       "\t<tr><th scope=row>Dim.53</th><td>6.922641e-02</td><td>1.258662e+00</td><td> 91.45144   </td></tr>\n",
       "\t<tr><th scope=row>Dim.54</th><td>6.840359e-02</td><td>1.243702e+00</td><td> 92.69514   </td></tr>\n",
       "\t<tr><th scope=row>Dim.55</th><td>6.652408e-02</td><td>1.209529e+00</td><td> 93.90467   </td></tr>\n",
       "\t<tr><th scope=row>Dim.56</th><td>6.373447e-02</td><td>1.158809e+00</td><td> 95.06348   </td></tr>\n",
       "\t<tr><th scope=row>Dim.57</th><td>6.285318e-02</td><td>1.142785e+00</td><td> 96.20627   </td></tr>\n",
       "\t<tr><th scope=row>Dim.58</th><td>5.715548e-02</td><td>1.039191e+00</td><td> 97.24546   </td></tr>\n",
       "\t<tr><th scope=row>Dim.59</th><td>5.256017e-02</td><td>9.556395e-01</td><td> 98.20110   </td></tr>\n",
       "\t<tr><th scope=row>Dim.60</th><td>3.781987e-02</td><td>6.876340e-01</td><td> 98.88873   </td></tr>\n",
       "\t<tr><th scope=row>Dim.61</th><td>2.588897e-02</td><td>4.707086e-01</td><td> 99.35944   </td></tr>\n",
       "\t<tr><th scope=row>Dim.62</th><td>1.795458e-02</td><td>3.264468e-01</td><td> 99.68588   </td></tr>\n",
       "\t<tr><th scope=row>Dim.63</th><td>1.492596e-02</td><td>2.713811e-01</td><td> 99.95727   </td></tr>\n",
       "\t<tr><th scope=row>Dim.64</th><td>1.847229e-03</td><td>3.358598e-02</td><td> 99.99085   </td></tr>\n",
       "\t<tr><th scope=row>Dim.65</th><td>5.031631e-04</td><td>9.148421e-03</td><td>100.00000   </td></tr>\n",
       "\t<tr><th scope=row>Dim.66</th><td>1.839030e-24</td><td>3.343691e-23</td><td>100.00000   </td></tr>\n",
       "</tbody>\n",
       "</table>\n"
      ],
      "text/latex": [
       "\\begin{tabular}{r|lll}\n",
       "  & eigenvalue & variance.percent & cumulative.variance.percent\\\\\n",
       "\\hline\n",
       "\tDim.1 & 0.17996691 & 3.272126   &  3.272126 \\\\\n",
       "\tDim.2 & 0.16865109 & 3.066383   &  6.338509 \\\\\n",
       "\tDim.3 & 0.16670628 & 3.031023   &  9.369532 \\\\\n",
       "\tDim.4 & 0.16651018 & 3.027458   & 12.396990 \\\\\n",
       "\tDim.5 & 0.15183980 & 2.760724   & 15.157714 \\\\\n",
       "\tDim.6 & 0.14054683 & 2.555397   & 17.713111 \\\\\n",
       "\tDim.7 & 0.13061962 & 2.374902   & 20.088013 \\\\\n",
       "\tDim.8 & 0.11331498 & 2.060272   & 22.148285 \\\\\n",
       "\tDim.9 & 0.10931866 & 1.987612   & 24.135897 \\\\\n",
       "\tDim.10 & 0.10393165 & 1.889666   & 26.025564 \\\\\n",
       "\tDim.11 & 0.09998136 & 1.817843   & 27.843407 \\\\\n",
       "\tDim.12 & 0.09801792 & 1.782144   & 29.625551 \\\\\n",
       "\tDim.13 & 0.09620684 & 1.749215   & 31.374766 \\\\\n",
       "\tDim.14 & 0.09210313 & 1.674602   & 33.049368 \\\\\n",
       "\tDim.15 & 0.09061312 & 1.647511   & 34.696880 \\\\\n",
       "\tDim.16 & 0.08986804 & 1.633964   & 36.330844 \\\\\n",
       "\tDim.17 & 0.08775645 & 1.595572   & 37.926416 \\\\\n",
       "\tDim.18 & 0.08694612 & 1.580838   & 39.507254 \\\\\n",
       "\tDim.19 & 0.08613524 & 1.566095   & 41.073350 \\\\\n",
       "\tDim.20 & 0.08554195 & 1.555308   & 42.628658 \\\\\n",
       "\tDim.21 & 0.08502754 & 1.545955   & 44.174613 \\\\\n",
       "\tDim.22 & 0.08487397 & 1.543163   & 45.717776 \\\\\n",
       "\tDim.23 & 0.08451397 & 1.536618   & 47.254394 \\\\\n",
       "\tDim.24 & 0.08421611 & 1.531202   & 48.785596 \\\\\n",
       "\tDim.25 & 0.08391827 & 1.525787   & 50.311383 \\\\\n",
       "\tDim.26 & 0.08385742 & 1.524680   & 51.836063 \\\\\n",
       "\tDim.27 & 0.08358980 & 1.519814   & 53.355878 \\\\\n",
       "\tDim.28 & 0.08355513 & 1.519184   & 54.875062 \\\\\n",
       "\tDim.29 & 0.08348665 & 1.517939   & 56.393001 \\\\\n",
       "\tDim.30 & 0.08342976 & 1.516905   & 57.909906 \\\\\n",
       "\t... & ... & ... & ...\\\\\n",
       "\tDim.37 & 8.281502e-02 & 1.505728e+00 &  68.48821   \\\\\n",
       "\tDim.38 & 8.258293e-02 & 1.501508e+00 &  69.98972   \\\\\n",
       "\tDim.39 & 8.255440e-02 & 1.500989e+00 &  71.49071   \\\\\n",
       "\tDim.40 & 8.243485e-02 & 1.498815e+00 &  72.98952   \\\\\n",
       "\tDim.41 & 8.196248e-02 & 1.490227e+00 &  74.47975   \\\\\n",
       "\tDim.42 & 8.186845e-02 & 1.488517e+00 &  75.96827   \\\\\n",
       "\tDim.43 & 8.167699e-02 & 1.485036e+00 &  77.45330   \\\\\n",
       "\tDim.44 & 8.123755e-02 & 1.477046e+00 &  78.93035   \\\\\n",
       "\tDim.45 & 8.071704e-02 & 1.467583e+00 &  80.39793   \\\\\n",
       "\tDim.46 & 7.972743e-02 & 1.449590e+00 &  81.84752   \\\\\n",
       "\tDim.47 & 7.821692e-02 & 1.422126e+00 &  83.26965   \\\\\n",
       "\tDim.48 & 7.765650e-02 & 1.411936e+00 &  84.68158   \\\\\n",
       "\tDim.49 & 7.713732e-02 & 1.402497e+00 &  86.08408   \\\\\n",
       "\tDim.50 & 7.658544e-02 & 1.392463e+00 &  87.47654   \\\\\n",
       "\tDim.51 & 7.586746e-02 & 1.379408e+00 &  88.85595   \\\\\n",
       "\tDim.52 & 7.352553e-02 & 1.336828e+00 &  90.19278   \\\\\n",
       "\tDim.53 & 6.922641e-02 & 1.258662e+00 &  91.45144   \\\\\n",
       "\tDim.54 & 6.840359e-02 & 1.243702e+00 &  92.69514   \\\\\n",
       "\tDim.55 & 6.652408e-02 & 1.209529e+00 &  93.90467   \\\\\n",
       "\tDim.56 & 6.373447e-02 & 1.158809e+00 &  95.06348   \\\\\n",
       "\tDim.57 & 6.285318e-02 & 1.142785e+00 &  96.20627   \\\\\n",
       "\tDim.58 & 5.715548e-02 & 1.039191e+00 &  97.24546   \\\\\n",
       "\tDim.59 & 5.256017e-02 & 9.556395e-01 &  98.20110   \\\\\n",
       "\tDim.60 & 3.781987e-02 & 6.876340e-01 &  98.88873   \\\\\n",
       "\tDim.61 & 2.588897e-02 & 4.707086e-01 &  99.35944   \\\\\n",
       "\tDim.62 & 1.795458e-02 & 3.264468e-01 &  99.68588   \\\\\n",
       "\tDim.63 & 1.492596e-02 & 2.713811e-01 &  99.95727   \\\\\n",
       "\tDim.64 & 1.847229e-03 & 3.358598e-02 &  99.99085   \\\\\n",
       "\tDim.65 & 5.031631e-04 & 9.148421e-03 & 100.00000   \\\\\n",
       "\tDim.66 & 1.839030e-24 & 3.343691e-23 & 100.00000   \\\\\n",
       "\\end{tabular}\n"
      ],
      "text/markdown": [
       "\n",
       "| <!--/--> | eigenvalue | variance.percent | cumulative.variance.percent |\n",
       "|---|---|---|---|\n",
       "| Dim.1 | 0.17996691 | 3.272126   |  3.272126  |\n",
       "| Dim.2 | 0.16865109 | 3.066383   |  6.338509  |\n",
       "| Dim.3 | 0.16670628 | 3.031023   |  9.369532  |\n",
       "| Dim.4 | 0.16651018 | 3.027458   | 12.396990  |\n",
       "| Dim.5 | 0.15183980 | 2.760724   | 15.157714  |\n",
       "| Dim.6 | 0.14054683 | 2.555397   | 17.713111  |\n",
       "| Dim.7 | 0.13061962 | 2.374902   | 20.088013  |\n",
       "| Dim.8 | 0.11331498 | 2.060272   | 22.148285  |\n",
       "| Dim.9 | 0.10931866 | 1.987612   | 24.135897  |\n",
       "| Dim.10 | 0.10393165 | 1.889666   | 26.025564  |\n",
       "| Dim.11 | 0.09998136 | 1.817843   | 27.843407  |\n",
       "| Dim.12 | 0.09801792 | 1.782144   | 29.625551  |\n",
       "| Dim.13 | 0.09620684 | 1.749215   | 31.374766  |\n",
       "| Dim.14 | 0.09210313 | 1.674602   | 33.049368  |\n",
       "| Dim.15 | 0.09061312 | 1.647511   | 34.696880  |\n",
       "| Dim.16 | 0.08986804 | 1.633964   | 36.330844  |\n",
       "| Dim.17 | 0.08775645 | 1.595572   | 37.926416  |\n",
       "| Dim.18 | 0.08694612 | 1.580838   | 39.507254  |\n",
       "| Dim.19 | 0.08613524 | 1.566095   | 41.073350  |\n",
       "| Dim.20 | 0.08554195 | 1.555308   | 42.628658  |\n",
       "| Dim.21 | 0.08502754 | 1.545955   | 44.174613  |\n",
       "| Dim.22 | 0.08487397 | 1.543163   | 45.717776  |\n",
       "| Dim.23 | 0.08451397 | 1.536618   | 47.254394  |\n",
       "| Dim.24 | 0.08421611 | 1.531202   | 48.785596  |\n",
       "| Dim.25 | 0.08391827 | 1.525787   | 50.311383  |\n",
       "| Dim.26 | 0.08385742 | 1.524680   | 51.836063  |\n",
       "| Dim.27 | 0.08358980 | 1.519814   | 53.355878  |\n",
       "| Dim.28 | 0.08355513 | 1.519184   | 54.875062  |\n",
       "| Dim.29 | 0.08348665 | 1.517939   | 56.393001  |\n",
       "| Dim.30 | 0.08342976 | 1.516905   | 57.909906  |\n",
       "| ... | ... | ... | ... |\n",
       "| Dim.37 | 8.281502e-02 | 1.505728e+00 |  68.48821    |\n",
       "| Dim.38 | 8.258293e-02 | 1.501508e+00 |  69.98972    |\n",
       "| Dim.39 | 8.255440e-02 | 1.500989e+00 |  71.49071    |\n",
       "| Dim.40 | 8.243485e-02 | 1.498815e+00 |  72.98952    |\n",
       "| Dim.41 | 8.196248e-02 | 1.490227e+00 |  74.47975    |\n",
       "| Dim.42 | 8.186845e-02 | 1.488517e+00 |  75.96827    |\n",
       "| Dim.43 | 8.167699e-02 | 1.485036e+00 |  77.45330    |\n",
       "| Dim.44 | 8.123755e-02 | 1.477046e+00 |  78.93035    |\n",
       "| Dim.45 | 8.071704e-02 | 1.467583e+00 |  80.39793    |\n",
       "| Dim.46 | 7.972743e-02 | 1.449590e+00 |  81.84752    |\n",
       "| Dim.47 | 7.821692e-02 | 1.422126e+00 |  83.26965    |\n",
       "| Dim.48 | 7.765650e-02 | 1.411936e+00 |  84.68158    |\n",
       "| Dim.49 | 7.713732e-02 | 1.402497e+00 |  86.08408    |\n",
       "| Dim.50 | 7.658544e-02 | 1.392463e+00 |  87.47654    |\n",
       "| Dim.51 | 7.586746e-02 | 1.379408e+00 |  88.85595    |\n",
       "| Dim.52 | 7.352553e-02 | 1.336828e+00 |  90.19278    |\n",
       "| Dim.53 | 6.922641e-02 | 1.258662e+00 |  91.45144    |\n",
       "| Dim.54 | 6.840359e-02 | 1.243702e+00 |  92.69514    |\n",
       "| Dim.55 | 6.652408e-02 | 1.209529e+00 |  93.90467    |\n",
       "| Dim.56 | 6.373447e-02 | 1.158809e+00 |  95.06348    |\n",
       "| Dim.57 | 6.285318e-02 | 1.142785e+00 |  96.20627    |\n",
       "| Dim.58 | 5.715548e-02 | 1.039191e+00 |  97.24546    |\n",
       "| Dim.59 | 5.256017e-02 | 9.556395e-01 |  98.20110    |\n",
       "| Dim.60 | 3.781987e-02 | 6.876340e-01 |  98.88873    |\n",
       "| Dim.61 | 2.588897e-02 | 4.707086e-01 |  99.35944    |\n",
       "| Dim.62 | 1.795458e-02 | 3.264468e-01 |  99.68588    |\n",
       "| Dim.63 | 1.492596e-02 | 2.713811e-01 |  99.95727    |\n",
       "| Dim.64 | 1.847229e-03 | 3.358598e-02 |  99.99085    |\n",
       "| Dim.65 | 5.031631e-04 | 9.148421e-03 | 100.00000    |\n",
       "| Dim.66 | 1.839030e-24 | 3.343691e-23 | 100.00000    |\n",
       "\n"
      ],
      "text/plain": [
       "       eigenvalue   variance.percent cumulative.variance.percent\n",
       "Dim.1  0.17996691   3.272126          3.272126                  \n",
       "Dim.2  0.16865109   3.066383          6.338509                  \n",
       "Dim.3  0.16670628   3.031023          9.369532                  \n",
       "Dim.4  0.16651018   3.027458         12.396990                  \n",
       "Dim.5  0.15183980   2.760724         15.157714                  \n",
       "Dim.6  0.14054683   2.555397         17.713111                  \n",
       "Dim.7  0.13061962   2.374902         20.088013                  \n",
       "Dim.8  0.11331498   2.060272         22.148285                  \n",
       "Dim.9  0.10931866   1.987612         24.135897                  \n",
       "Dim.10 0.10393165   1.889666         26.025564                  \n",
       "Dim.11 0.09998136   1.817843         27.843407                  \n",
       "Dim.12 0.09801792   1.782144         29.625551                  \n",
       "Dim.13 0.09620684   1.749215         31.374766                  \n",
       "Dim.14 0.09210313   1.674602         33.049368                  \n",
       "Dim.15 0.09061312   1.647511         34.696880                  \n",
       "Dim.16 0.08986804   1.633964         36.330844                  \n",
       "Dim.17 0.08775645   1.595572         37.926416                  \n",
       "Dim.18 0.08694612   1.580838         39.507254                  \n",
       "Dim.19 0.08613524   1.566095         41.073350                  \n",
       "Dim.20 0.08554195   1.555308         42.628658                  \n",
       "Dim.21 0.08502754   1.545955         44.174613                  \n",
       "Dim.22 0.08487397   1.543163         45.717776                  \n",
       "Dim.23 0.08451397   1.536618         47.254394                  \n",
       "Dim.24 0.08421611   1.531202         48.785596                  \n",
       "Dim.25 0.08391827   1.525787         50.311383                  \n",
       "Dim.26 0.08385742   1.524680         51.836063                  \n",
       "Dim.27 0.08358980   1.519814         53.355878                  \n",
       "Dim.28 0.08355513   1.519184         54.875062                  \n",
       "Dim.29 0.08348665   1.517939         56.393001                  \n",
       "Dim.30 0.08342976   1.516905         57.909906                  \n",
       "...    ...          ...              ...                        \n",
       "Dim.37 8.281502e-02 1.505728e+00      68.48821                  \n",
       "Dim.38 8.258293e-02 1.501508e+00      69.98972                  \n",
       "Dim.39 8.255440e-02 1.500989e+00      71.49071                  \n",
       "Dim.40 8.243485e-02 1.498815e+00      72.98952                  \n",
       "Dim.41 8.196248e-02 1.490227e+00      74.47975                  \n",
       "Dim.42 8.186845e-02 1.488517e+00      75.96827                  \n",
       "Dim.43 8.167699e-02 1.485036e+00      77.45330                  \n",
       "Dim.44 8.123755e-02 1.477046e+00      78.93035                  \n",
       "Dim.45 8.071704e-02 1.467583e+00      80.39793                  \n",
       "Dim.46 7.972743e-02 1.449590e+00      81.84752                  \n",
       "Dim.47 7.821692e-02 1.422126e+00      83.26965                  \n",
       "Dim.48 7.765650e-02 1.411936e+00      84.68158                  \n",
       "Dim.49 7.713732e-02 1.402497e+00      86.08408                  \n",
       "Dim.50 7.658544e-02 1.392463e+00      87.47654                  \n",
       "Dim.51 7.586746e-02 1.379408e+00      88.85595                  \n",
       "Dim.52 7.352553e-02 1.336828e+00      90.19278                  \n",
       "Dim.53 6.922641e-02 1.258662e+00      91.45144                  \n",
       "Dim.54 6.840359e-02 1.243702e+00      92.69514                  \n",
       "Dim.55 6.652408e-02 1.209529e+00      93.90467                  \n",
       "Dim.56 6.373447e-02 1.158809e+00      95.06348                  \n",
       "Dim.57 6.285318e-02 1.142785e+00      96.20627                  \n",
       "Dim.58 5.715548e-02 1.039191e+00      97.24546                  \n",
       "Dim.59 5.256017e-02 9.556395e-01      98.20110                  \n",
       "Dim.60 3.781987e-02 6.876340e-01      98.88873                  \n",
       "Dim.61 2.588897e-02 4.707086e-01      99.35944                  \n",
       "Dim.62 1.795458e-02 3.264468e-01      99.68588                  \n",
       "Dim.63 1.492596e-02 2.713811e-01      99.95727                  \n",
       "Dim.64 1.847229e-03 3.358598e-02      99.99085                  \n",
       "Dim.65 5.031631e-04 9.148421e-03     100.00000                  \n",
       "Dim.66 1.839030e-24 3.343691e-23     100.00000                  "
      ]
     },
     "metadata": {},
     "output_type": "display_data"
    }
   ],
   "source": [
    "library(\"factoextra\")\n",
    "eig.val <- get_eigenvalue(res.mca)\n",
    "eig.val"
   ]
  },
  {
   "cell_type": "code",
   "execution_count": 31,
   "metadata": {},
   "outputs": [
    {
     "data": {
      "image/png": "[encoded data removed]",
      "text/plain": [
       "plot without title"
      ]
     },
     "metadata": {},
     "output_type": "display_data"
    }
   ],
   "source": [
    "fviz_screeplot(res.mca, addlabels = TRUE, ylim = c(0, 45))"
   ]
  },
  {
   "cell_type": "markdown",
   "metadata": {},
   "source": [
    "Based on the scree plot, it was found that up to component 5 the percentage of variability that could be explained did not decrease too sharply. This shows that the addition of components does not significantly affect the variability of the data that can be explained. So that component 1 to component 5 will be selected.\n",
    "The percentage of total variability that can be explained through the 5 selected components is about 82.7%."
   ]
  },
  {
   "cell_type": "code",
   "execution_count": 36,
   "metadata": {},
   "outputs": [
    {
     "data": {
      "text/plain": [
       "Multiple Correspondence Analysis Results for variables\n",
       " ===================================================\n",
       "  Name       Description                  \n",
       "1 \"$coord\"   \"Coordinates for categories\" \n",
       "2 \"$cos2\"    \"Cos2 for categories\"        \n",
       "3 \"$contrib\" \"contributions of categories\""
      ]
     },
     "metadata": {},
     "output_type": "display_data"
    }
   ],
   "source": [
    "var <- get_mca_var(res.mca)\n",
    "var"
   ]
  },
  {
   "cell_type": "code",
   "execution_count": null,
   "metadata": {},
   "outputs": [],
   "source": []
  }
 ],
 "metadata": {
  "kernelspec": {
   "display_name": "R",
   "language": "R",
   "name": "ir"
  },
  "language_info": {
   "codemirror_mode": "r",
   "file_extension": ".r",
   "mimetype": "text/x-r-source",
   "name": "R",
   "pygments_lexer": "r",
   "version": "3.6.1"
  }
 },
 "nbformat": 4,
 "nbformat_minor": 2
}
