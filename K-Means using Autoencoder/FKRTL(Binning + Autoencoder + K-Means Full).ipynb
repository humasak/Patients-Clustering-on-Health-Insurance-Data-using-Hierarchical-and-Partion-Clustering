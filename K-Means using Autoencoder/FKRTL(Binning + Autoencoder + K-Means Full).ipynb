{
 "cells": [
  {
   "cell_type": "code",
   "execution_count": 15,
   "metadata": {
    "id": "5VSY6jNXAnKJ"
   },
   "outputs": [],
   "source": [
    "import pandas as pd\n",
    "import numpy as np\n",
    "import seaborn as sns\n",
    "import matplotlib.pyplot as plt\n",
    "from sklearn.preprocessing import StandardScaler, normalize\n",
    "from sklearn.cluster import KMeans\n",
    "from sklearn.decomposition import PCA\n",
    "from sklearn.preprocessing import OneHotEncoder\n",
    "from numpy.core.defchararray import add\n",
    "\n",
    "from tensorflow.keras.layers import Input, Add, Dense, Activation, ZeroPadding2D, BatchNormalization, Flatten, Conv2D, AveragePooling2D, MaxPooling2D\n",
    "from tensorflow.keras.models import Model, load_model\n",
    "from tensorflow.keras.initializers import glorot_uniform # Xavier's initialization\n",
    "from keras.optimizers import SGD \n",
    "from scipy.spatial.distance import cdist# Stochastic Gradient Descent\n"
   ]
  },
  {
   "cell_type": "code",
   "execution_count": 2,
   "metadata": {
    "id": "46flJKv5A0_l"
   },
   "outputs": [
    {
     "name": "stderr",
     "output_type": "stream",
     "text": [
      "C:\\Users\\WIN10\\Anaconda3\\lib\\site-packages\\IPython\\core\\interactiveshell.py:2785: DtypeWarning: Columns (13) have mixed types.Specify dtype option on import or set low_memory=False.\n",
      "  interactivity=interactivity, compiler=compiler, result=result)\n"
     ]
    }
   ],
   "source": [
    "# Load data set\n",
    "data = pd.read_csv('D:/KULIAHHH/TUGAS AKHIR/TA-2/datasampel/fkrtl_not_transformation.csv')\n",
    "data.drop(['Unnamed: 0', 'fkrtl-tanggal datang', 'FKRTL-ID Kunjungan', 'Nomor Peserta', 'fkrtl-tanggal pulang',\n",
    "           'FKRTL-Provinsi Faskes', 'FKRTL-Kab/Kota Faskes', 'FKRTL-Provinsi Faskes Perujuk', 'FKRTL-Kab/Kota Faskes Perujuk', \n",
    "           'FKRTL-Kepemilikan Faskes Perujuk', 'FKRTL-Jenis Faskes Perujuk', 'FKRTL-Tipe Faskes Perujuk', 'Segmen Peserta yang Terdaftar', \n",
    "           'Kepemilikan Faskes yang Terdaftar', 'Jenis Faskes yang Terdaftar', 'Provinsi Peserta Terdaftar', 'Kab/Kota Peserta Terdaftar', 'fkrtl-Year',\n",
    "          'FKRTL-Kode dan Nama Diagnosis Masuk', 'FKRTL-Kode dan Nama Diagnosis Sekunder', 'FKRTL-Kode dan Nama Diagnosis Primer', 'Status Kawin', 'Hubungan Keluarga',\n",
    "          'fkrtl-Month', 'fkrtl-Hari Kunjungan', 'provinsi perujuk sama?', 'kab/kota perujuk sama?', 'Kelas Rawat Peserta', 'Umur', 'FKRTL-Biaya Verifikasi'], axis=1, inplace=True)"
   ]
  },
  {
   "cell_type": "code",
   "execution_count": 3,
   "metadata": {},
   "outputs": [
    {
     "name": "stdout",
     "output_type": "stream",
     "text": [
      "<class 'pandas.core.frame.DataFrame'>\n",
      "RangeIndex: 906905 entries, 0 to 906904\n",
      "Data columns (total 14 columns):\n",
      " #   Column                    Non-Null Count   Dtype \n",
      "---  ------                    --------------   ----- \n",
      " 0   Hasil Rujukan FKTP?       906905 non-null  object\n",
      " 1   fkrtl-Lama Kunjungan      906905 non-null  int64 \n",
      " 2   fkrtl-Weekend?            906905 non-null  int64 \n",
      " 3   fkrtl-Quarter             906905 non-null  int64 \n",
      " 4   FKRTL-Kepemilikan Faskes  906905 non-null  object\n",
      " 5   FKRTL-Jenis Faskes        906905 non-null  object\n",
      " 6   FKRTL-Tipe Faskes         906905 non-null  object\n",
      " 7   FKRTL-Tingkat Layanan     906905 non-null  object\n",
      " 8   FKRTL-Segmen Peserta      906905 non-null  object\n",
      " 9   FKRTL-Kelas Rawat         906905 non-null  object\n",
      " 10  FKRTL-Status Pulang       906905 non-null  object\n",
      " 11  FKRTL-Biaya Tagih         906905 non-null  int64 \n",
      " 12  Jenis Kelamin Peserta     906905 non-null  object\n",
      " 13  kategori umur             906905 non-null  object\n",
      "dtypes: int64(4), object(10)\n",
      "memory usage: 96.9+ MB\n"
     ]
    }
   ],
   "source": [
    "data.info()"
   ]
  },
  {
   "cell_type": "code",
   "execution_count": 4,
   "metadata": {},
   "outputs": [
    {
     "name": "stdout",
     "output_type": "stream",
     "text": [
      "The number of numerical variables in the dataset : 4\n",
      "The number of categorical variables in the dataset : 10\n"
     ]
    }
   ],
   "source": [
    "print(\"The number of numerical variables in the dataset : {}\".format(data.select_dtypes(include=[np.number]).shape[1]))\n",
    "print(\"The number of categorical variables in the dataset : {}\".format(data.select_dtypes(exclude=[np.number]).shape[1]))"
   ]
  },
  {
   "cell_type": "code",
   "execution_count": 5,
   "metadata": {},
   "outputs": [],
   "source": [
    "data_num = data.select_dtypes(include=[np.number])\n",
    "data_cat = data.select_dtypes(exclude=[np.number])"
   ]
  },
  {
   "cell_type": "code",
   "execution_count": 6,
   "metadata": {},
   "outputs": [
    {
     "data": {
      "text/html": [
       "<div>\n",
       "<style scoped>\n",
       "    .dataframe tbody tr th:only-of-type {\n",
       "        vertical-align: middle;\n",
       "    }\n",
       "\n",
       "    .dataframe tbody tr th {\n",
       "        vertical-align: top;\n",
       "    }\n",
       "\n",
       "    .dataframe thead th {\n",
       "        text-align: right;\n",
       "    }\n",
       "</style>\n",
       "<table border=\"1\" class=\"dataframe\">\n",
       "  <thead>\n",
       "    <tr style=\"text-align: right;\">\n",
       "      <th></th>\n",
       "      <th>fkrtl-Lama Kunjungan</th>\n",
       "      <th>fkrtl-Weekend?</th>\n",
       "      <th>fkrtl-Quarter</th>\n",
       "      <th>FKRTL-Biaya Tagih</th>\n",
       "    </tr>\n",
       "  </thead>\n",
       "  <tbody>\n",
       "    <tr>\n",
       "      <th>0</th>\n",
       "      <td>4</td>\n",
       "      <td>1</td>\n",
       "      <td>1</td>\n",
       "      <td>1567100</td>\n",
       "    </tr>\n",
       "    <tr>\n",
       "      <th>1</th>\n",
       "      <td>14</td>\n",
       "      <td>0</td>\n",
       "      <td>3</td>\n",
       "      <td>20740600</td>\n",
       "    </tr>\n",
       "    <tr>\n",
       "      <th>2</th>\n",
       "      <td>8</td>\n",
       "      <td>0</td>\n",
       "      <td>1</td>\n",
       "      <td>3432700</td>\n",
       "    </tr>\n",
       "    <tr>\n",
       "      <th>3</th>\n",
       "      <td>4</td>\n",
       "      <td>0</td>\n",
       "      <td>4</td>\n",
       "      <td>4826600</td>\n",
       "    </tr>\n",
       "    <tr>\n",
       "      <th>4</th>\n",
       "      <td>3</td>\n",
       "      <td>0</td>\n",
       "      <td>4</td>\n",
       "      <td>1245400</td>\n",
       "    </tr>\n",
       "    <tr>\n",
       "      <th>...</th>\n",
       "      <td>...</td>\n",
       "      <td>...</td>\n",
       "      <td>...</td>\n",
       "      <td>...</td>\n",
       "    </tr>\n",
       "    <tr>\n",
       "      <th>906900</th>\n",
       "      <td>1</td>\n",
       "      <td>0</td>\n",
       "      <td>2</td>\n",
       "      <td>161000</td>\n",
       "    </tr>\n",
       "    <tr>\n",
       "      <th>906901</th>\n",
       "      <td>1</td>\n",
       "      <td>0</td>\n",
       "      <td>3</td>\n",
       "      <td>179700</td>\n",
       "    </tr>\n",
       "    <tr>\n",
       "      <th>906902</th>\n",
       "      <td>1</td>\n",
       "      <td>0</td>\n",
       "      <td>4</td>\n",
       "      <td>524300</td>\n",
       "    </tr>\n",
       "    <tr>\n",
       "      <th>906903</th>\n",
       "      <td>5</td>\n",
       "      <td>0</td>\n",
       "      <td>4</td>\n",
       "      <td>4060500</td>\n",
       "    </tr>\n",
       "    <tr>\n",
       "      <th>906904</th>\n",
       "      <td>1</td>\n",
       "      <td>0</td>\n",
       "      <td>3</td>\n",
       "      <td>240600</td>\n",
       "    </tr>\n",
       "  </tbody>\n",
       "</table>\n",
       "<p>906905 rows × 4 columns</p>\n",
       "</div>"
      ],
      "text/plain": [
       "        fkrtl-Lama Kunjungan  fkrtl-Weekend?  fkrtl-Quarter  FKRTL-Biaya Tagih\n",
       "0                          4               1              1            1567100\n",
       "1                         14               0              3           20740600\n",
       "2                          8               0              1            3432700\n",
       "3                          4               0              4            4826600\n",
       "4                          3               0              4            1245400\n",
       "...                      ...             ...            ...                ...\n",
       "906900                     1               0              2             161000\n",
       "906901                     1               0              3             179700\n",
       "906902                     1               0              4             524300\n",
       "906903                     5               0              4            4060500\n",
       "906904                     1               0              3             240600\n",
       "\n",
       "[906905 rows x 4 columns]"
      ]
     },
     "execution_count": 6,
     "metadata": {},
     "output_type": "execute_result"
    }
   ],
   "source": [
    "data_num"
   ]
  },
  {
   "cell_type": "code",
   "execution_count": 7,
   "metadata": {},
   "outputs": [],
   "source": [
    "data['fkrtl-Weekend?'] = data['fkrtl-Weekend?'].astype('category')\n",
    "data['fkrtl-Quarter'] = data['fkrtl-Quarter'].astype('category')"
   ]
  },
  {
   "cell_type": "markdown",
   "metadata": {},
   "source": [
    "# Binning Numerical Feature"
   ]
  },
  {
   "cell_type": "code",
   "execution_count": 8,
   "metadata": {},
   "outputs": [],
   "source": [
    "bins = np.linspace(min(data['FKRTL-Biaya Tagih']), max(data['FKRTL-Biaya Tagih']), 6)\n",
    "kategori = ['sangat murah', 'murah', 'standar', 'mahal', 'sangat mahal']\n",
    "data['biaya_tagih_binned'] = pd.cut(data['FKRTL-Biaya Tagih'], bins, labels=kategori, include_lowest=True)"
   ]
  },
  {
   "cell_type": "code",
   "execution_count": 9,
   "metadata": {},
   "outputs": [],
   "source": [
    "bins = np.linspace(min(data['fkrtl-Lama Kunjungan']), max(data['fkrtl-Lama Kunjungan']), 6)\n",
    "kategori = ['sangat sebentar', 'sebentar', 'standar', 'lama', 'sangat lama']\n",
    "data['lama_kunjungan_binned'] = pd.cut(data['fkrtl-Lama Kunjungan'], bins, labels=kategori, include_lowest=True)"
   ]
  },
  {
   "cell_type": "code",
   "execution_count": 10,
   "metadata": {},
   "outputs": [],
   "source": [
    "data_num = data.select_dtypes(include=[np.number])\n",
    "data_cat = data.select_dtypes(exclude=[np.number])"
   ]
  },
  {
   "cell_type": "markdown",
   "metadata": {},
   "source": [
    "# One Hot Encoding"
   ]
  },
  {
   "cell_type": "code",
   "execution_count": 11,
   "metadata": {},
   "outputs": [],
   "source": [
    "one_hot_encoder = pd.get_dummies(data_cat, prefix_sep='_', drop_first=True)"
   ]
  },
  {
   "cell_type": "code",
   "execution_count": 18,
   "metadata": {},
   "outputs": [
    {
     "data": {
      "text/html": [
       "<div>\n",
       "<style scoped>\n",
       "    .dataframe tbody tr th:only-of-type {\n",
       "        vertical-align: middle;\n",
       "    }\n",
       "\n",
       "    .dataframe tbody tr th {\n",
       "        vertical-align: top;\n",
       "    }\n",
       "\n",
       "    .dataframe thead th {\n",
       "        text-align: right;\n",
       "    }\n",
       "</style>\n",
       "<table border=\"1\" class=\"dataframe\">\n",
       "  <thead>\n",
       "    <tr style=\"text-align: right;\">\n",
       "      <th></th>\n",
       "      <th>Hasil Rujukan FKTP?_Yes</th>\n",
       "      <th>fkrtl-Weekend?_1</th>\n",
       "      <th>fkrtl-Quarter_2</th>\n",
       "      <th>fkrtl-Quarter_3</th>\n",
       "      <th>fkrtl-Quarter_4</th>\n",
       "      <th>FKRTL-Kepemilikan Faskes_MISSING</th>\n",
       "      <th>FKRTL-Kepemilikan Faskes_PEMERINTAH KABUPATEN/KOTA</th>\n",
       "      <th>FKRTL-Kepemilikan Faskes_PEMERINTAH PROVINSI</th>\n",
       "      <th>FKRTL-Kepemilikan Faskes_POLRI</th>\n",
       "      <th>FKRTL-Kepemilikan Faskes_SWASTA</th>\n",
       "      <th>...</th>\n",
       "      <th>kategori umur_lanjut usia</th>\n",
       "      <th>kategori umur_remaja</th>\n",
       "      <th>biaya_tagih_binned_murah</th>\n",
       "      <th>biaya_tagih_binned_standar</th>\n",
       "      <th>biaya_tagih_binned_mahal</th>\n",
       "      <th>biaya_tagih_binned_sangat mahal</th>\n",
       "      <th>lama_kunjungan_binned_sebentar</th>\n",
       "      <th>lama_kunjungan_binned_standar</th>\n",
       "      <th>lama_kunjungan_binned_lama</th>\n",
       "      <th>lama_kunjungan_binned_sangat lama</th>\n",
       "    </tr>\n",
       "  </thead>\n",
       "  <tbody>\n",
       "    <tr>\n",
       "      <th>0</th>\n",
       "      <td>0</td>\n",
       "      <td>1</td>\n",
       "      <td>0</td>\n",
       "      <td>0</td>\n",
       "      <td>0</td>\n",
       "      <td>0</td>\n",
       "      <td>1</td>\n",
       "      <td>0</td>\n",
       "      <td>0</td>\n",
       "      <td>0</td>\n",
       "      <td>...</td>\n",
       "      <td>1</td>\n",
       "      <td>0</td>\n",
       "      <td>0</td>\n",
       "      <td>0</td>\n",
       "      <td>0</td>\n",
       "      <td>0</td>\n",
       "      <td>1</td>\n",
       "      <td>0</td>\n",
       "      <td>0</td>\n",
       "      <td>0</td>\n",
       "    </tr>\n",
       "    <tr>\n",
       "      <th>1</th>\n",
       "      <td>0</td>\n",
       "      <td>0</td>\n",
       "      <td>0</td>\n",
       "      <td>1</td>\n",
       "      <td>0</td>\n",
       "      <td>0</td>\n",
       "      <td>0</td>\n",
       "      <td>0</td>\n",
       "      <td>0</td>\n",
       "      <td>0</td>\n",
       "      <td>...</td>\n",
       "      <td>0</td>\n",
       "      <td>0</td>\n",
       "      <td>0</td>\n",
       "      <td>0</td>\n",
       "      <td>0</td>\n",
       "      <td>0</td>\n",
       "      <td>1</td>\n",
       "      <td>0</td>\n",
       "      <td>0</td>\n",
       "      <td>0</td>\n",
       "    </tr>\n",
       "    <tr>\n",
       "      <th>2</th>\n",
       "      <td>0</td>\n",
       "      <td>0</td>\n",
       "      <td>0</td>\n",
       "      <td>0</td>\n",
       "      <td>0</td>\n",
       "      <td>0</td>\n",
       "      <td>0</td>\n",
       "      <td>0</td>\n",
       "      <td>0</td>\n",
       "      <td>0</td>\n",
       "      <td>...</td>\n",
       "      <td>0</td>\n",
       "      <td>0</td>\n",
       "      <td>0</td>\n",
       "      <td>0</td>\n",
       "      <td>0</td>\n",
       "      <td>0</td>\n",
       "      <td>1</td>\n",
       "      <td>0</td>\n",
       "      <td>0</td>\n",
       "      <td>0</td>\n",
       "    </tr>\n",
       "    <tr>\n",
       "      <th>3</th>\n",
       "      <td>0</td>\n",
       "      <td>0</td>\n",
       "      <td>0</td>\n",
       "      <td>0</td>\n",
       "      <td>1</td>\n",
       "      <td>0</td>\n",
       "      <td>0</td>\n",
       "      <td>0</td>\n",
       "      <td>0</td>\n",
       "      <td>1</td>\n",
       "      <td>...</td>\n",
       "      <td>0</td>\n",
       "      <td>0</td>\n",
       "      <td>0</td>\n",
       "      <td>0</td>\n",
       "      <td>0</td>\n",
       "      <td>0</td>\n",
       "      <td>1</td>\n",
       "      <td>0</td>\n",
       "      <td>0</td>\n",
       "      <td>0</td>\n",
       "    </tr>\n",
       "    <tr>\n",
       "      <th>4</th>\n",
       "      <td>0</td>\n",
       "      <td>0</td>\n",
       "      <td>0</td>\n",
       "      <td>0</td>\n",
       "      <td>1</td>\n",
       "      <td>0</td>\n",
       "      <td>1</td>\n",
       "      <td>0</td>\n",
       "      <td>0</td>\n",
       "      <td>0</td>\n",
       "      <td>...</td>\n",
       "      <td>0</td>\n",
       "      <td>0</td>\n",
       "      <td>0</td>\n",
       "      <td>0</td>\n",
       "      <td>0</td>\n",
       "      <td>0</td>\n",
       "      <td>1</td>\n",
       "      <td>0</td>\n",
       "      <td>0</td>\n",
       "      <td>0</td>\n",
       "    </tr>\n",
       "    <tr>\n",
       "      <th>...</th>\n",
       "      <td>...</td>\n",
       "      <td>...</td>\n",
       "      <td>...</td>\n",
       "      <td>...</td>\n",
       "      <td>...</td>\n",
       "      <td>...</td>\n",
       "      <td>...</td>\n",
       "      <td>...</td>\n",
       "      <td>...</td>\n",
       "      <td>...</td>\n",
       "      <td>...</td>\n",
       "      <td>...</td>\n",
       "      <td>...</td>\n",
       "      <td>...</td>\n",
       "      <td>...</td>\n",
       "      <td>...</td>\n",
       "      <td>...</td>\n",
       "      <td>...</td>\n",
       "      <td>...</td>\n",
       "      <td>...</td>\n",
       "      <td>...</td>\n",
       "    </tr>\n",
       "    <tr>\n",
       "      <th>906900</th>\n",
       "      <td>1</td>\n",
       "      <td>0</td>\n",
       "      <td>1</td>\n",
       "      <td>0</td>\n",
       "      <td>0</td>\n",
       "      <td>0</td>\n",
       "      <td>1</td>\n",
       "      <td>0</td>\n",
       "      <td>0</td>\n",
       "      <td>0</td>\n",
       "      <td>...</td>\n",
       "      <td>1</td>\n",
       "      <td>0</td>\n",
       "      <td>0</td>\n",
       "      <td>0</td>\n",
       "      <td>0</td>\n",
       "      <td>0</td>\n",
       "      <td>1</td>\n",
       "      <td>0</td>\n",
       "      <td>0</td>\n",
       "      <td>0</td>\n",
       "    </tr>\n",
       "    <tr>\n",
       "      <th>906901</th>\n",
       "      <td>1</td>\n",
       "      <td>0</td>\n",
       "      <td>0</td>\n",
       "      <td>1</td>\n",
       "      <td>0</td>\n",
       "      <td>0</td>\n",
       "      <td>0</td>\n",
       "      <td>1</td>\n",
       "      <td>0</td>\n",
       "      <td>0</td>\n",
       "      <td>...</td>\n",
       "      <td>0</td>\n",
       "      <td>0</td>\n",
       "      <td>0</td>\n",
       "      <td>0</td>\n",
       "      <td>0</td>\n",
       "      <td>0</td>\n",
       "      <td>1</td>\n",
       "      <td>0</td>\n",
       "      <td>0</td>\n",
       "      <td>0</td>\n",
       "    </tr>\n",
       "    <tr>\n",
       "      <th>906902</th>\n",
       "      <td>1</td>\n",
       "      <td>0</td>\n",
       "      <td>0</td>\n",
       "      <td>0</td>\n",
       "      <td>1</td>\n",
       "      <td>0</td>\n",
       "      <td>1</td>\n",
       "      <td>0</td>\n",
       "      <td>0</td>\n",
       "      <td>0</td>\n",
       "      <td>...</td>\n",
       "      <td>0</td>\n",
       "      <td>0</td>\n",
       "      <td>0</td>\n",
       "      <td>0</td>\n",
       "      <td>0</td>\n",
       "      <td>0</td>\n",
       "      <td>1</td>\n",
       "      <td>0</td>\n",
       "      <td>0</td>\n",
       "      <td>0</td>\n",
       "    </tr>\n",
       "    <tr>\n",
       "      <th>906903</th>\n",
       "      <td>1</td>\n",
       "      <td>0</td>\n",
       "      <td>0</td>\n",
       "      <td>0</td>\n",
       "      <td>1</td>\n",
       "      <td>0</td>\n",
       "      <td>0</td>\n",
       "      <td>0</td>\n",
       "      <td>0</td>\n",
       "      <td>1</td>\n",
       "      <td>...</td>\n",
       "      <td>0</td>\n",
       "      <td>0</td>\n",
       "      <td>0</td>\n",
       "      <td>0</td>\n",
       "      <td>0</td>\n",
       "      <td>0</td>\n",
       "      <td>1</td>\n",
       "      <td>0</td>\n",
       "      <td>0</td>\n",
       "      <td>0</td>\n",
       "    </tr>\n",
       "    <tr>\n",
       "      <th>906904</th>\n",
       "      <td>1</td>\n",
       "      <td>0</td>\n",
       "      <td>0</td>\n",
       "      <td>1</td>\n",
       "      <td>0</td>\n",
       "      <td>0</td>\n",
       "      <td>0</td>\n",
       "      <td>0</td>\n",
       "      <td>0</td>\n",
       "      <td>1</td>\n",
       "      <td>...</td>\n",
       "      <td>0</td>\n",
       "      <td>0</td>\n",
       "      <td>0</td>\n",
       "      <td>0</td>\n",
       "      <td>0</td>\n",
       "      <td>0</td>\n",
       "      <td>1</td>\n",
       "      <td>0</td>\n",
       "      <td>0</td>\n",
       "      <td>0</td>\n",
       "    </tr>\n",
       "  </tbody>\n",
       "</table>\n",
       "<p>906905 rows × 70 columns</p>\n",
       "</div>"
      ],
      "text/plain": [
       "        Hasil Rujukan FKTP?_Yes  fkrtl-Weekend?_1  fkrtl-Quarter_2  \\\n",
       "0                             0                 1                0   \n",
       "1                             0                 0                0   \n",
       "2                             0                 0                0   \n",
       "3                             0                 0                0   \n",
       "4                             0                 0                0   \n",
       "...                         ...               ...              ...   \n",
       "906900                        1                 0                1   \n",
       "906901                        1                 0                0   \n",
       "906902                        1                 0                0   \n",
       "906903                        1                 0                0   \n",
       "906904                        1                 0                0   \n",
       "\n",
       "        fkrtl-Quarter_3  fkrtl-Quarter_4  FKRTL-Kepemilikan Faskes_MISSING  \\\n",
       "0                     0                0                                 0   \n",
       "1                     1                0                                 0   \n",
       "2                     0                0                                 0   \n",
       "3                     0                1                                 0   \n",
       "4                     0                1                                 0   \n",
       "...                 ...              ...                               ...   \n",
       "906900                0                0                                 0   \n",
       "906901                1                0                                 0   \n",
       "906902                0                1                                 0   \n",
       "906903                0                1                                 0   \n",
       "906904                1                0                                 0   \n",
       "\n",
       "        FKRTL-Kepemilikan Faskes_PEMERINTAH KABUPATEN/KOTA  \\\n",
       "0                                                       1    \n",
       "1                                                       0    \n",
       "2                                                       0    \n",
       "3                                                       0    \n",
       "4                                                       1    \n",
       "...                                                   ...    \n",
       "906900                                                  1    \n",
       "906901                                                  0    \n",
       "906902                                                  1    \n",
       "906903                                                  0    \n",
       "906904                                                  0    \n",
       "\n",
       "        FKRTL-Kepemilikan Faskes_PEMERINTAH PROVINSI  \\\n",
       "0                                                  0   \n",
       "1                                                  0   \n",
       "2                                                  0   \n",
       "3                                                  0   \n",
       "4                                                  0   \n",
       "...                                              ...   \n",
       "906900                                             0   \n",
       "906901                                             1   \n",
       "906902                                             0   \n",
       "906903                                             0   \n",
       "906904                                             0   \n",
       "\n",
       "        FKRTL-Kepemilikan Faskes_POLRI  FKRTL-Kepemilikan Faskes_SWASTA  ...  \\\n",
       "0                                    0                                0  ...   \n",
       "1                                    0                                0  ...   \n",
       "2                                    0                                0  ...   \n",
       "3                                    0                                1  ...   \n",
       "4                                    0                                0  ...   \n",
       "...                                ...                              ...  ...   \n",
       "906900                               0                                0  ...   \n",
       "906901                               0                                0  ...   \n",
       "906902                               0                                0  ...   \n",
       "906903                               0                                1  ...   \n",
       "906904                               0                                1  ...   \n",
       "\n",
       "        kategori umur_lanjut usia  kategori umur_remaja  \\\n",
       "0                               1                     0   \n",
       "1                               0                     0   \n",
       "2                               0                     0   \n",
       "3                               0                     0   \n",
       "4                               0                     0   \n",
       "...                           ...                   ...   \n",
       "906900                          1                     0   \n",
       "906901                          0                     0   \n",
       "906902                          0                     0   \n",
       "906903                          0                     0   \n",
       "906904                          0                     0   \n",
       "\n",
       "        biaya_tagih_binned_murah  biaya_tagih_binned_standar  \\\n",
       "0                              0                           0   \n",
       "1                              0                           0   \n",
       "2                              0                           0   \n",
       "3                              0                           0   \n",
       "4                              0                           0   \n",
       "...                          ...                         ...   \n",
       "906900                         0                           0   \n",
       "906901                         0                           0   \n",
       "906902                         0                           0   \n",
       "906903                         0                           0   \n",
       "906904                         0                           0   \n",
       "\n",
       "        biaya_tagih_binned_mahal  biaya_tagih_binned_sangat mahal  \\\n",
       "0                              0                                0   \n",
       "1                              0                                0   \n",
       "2                              0                                0   \n",
       "3                              0                                0   \n",
       "4                              0                                0   \n",
       "...                          ...                              ...   \n",
       "906900                         0                                0   \n",
       "906901                         0                                0   \n",
       "906902                         0                                0   \n",
       "906903                         0                                0   \n",
       "906904                         0                                0   \n",
       "\n",
       "        lama_kunjungan_binned_sebentar  lama_kunjungan_binned_standar  \\\n",
       "0                                    1                              0   \n",
       "1                                    1                              0   \n",
       "2                                    1                              0   \n",
       "3                                    1                              0   \n",
       "4                                    1                              0   \n",
       "...                                ...                            ...   \n",
       "906900                               1                              0   \n",
       "906901                               1                              0   \n",
       "906902                               1                              0   \n",
       "906903                               1                              0   \n",
       "906904                               1                              0   \n",
       "\n",
       "        lama_kunjungan_binned_lama  lama_kunjungan_binned_sangat lama  \n",
       "0                                0                                  0  \n",
       "1                                0                                  0  \n",
       "2                                0                                  0  \n",
       "3                                0                                  0  \n",
       "4                                0                                  0  \n",
       "...                            ...                                ...  \n",
       "906900                           0                                  0  \n",
       "906901                           0                                  0  \n",
       "906902                           0                                  0  \n",
       "906903                           0                                  0  \n",
       "906904                           0                                  0  \n",
       "\n",
       "[906905 rows x 70 columns]"
      ]
     },
     "execution_count": 18,
     "metadata": {},
     "output_type": "execute_result"
    }
   ],
   "source": [
    "one_hot_encoder"
   ]
  },
  {
   "cell_type": "code",
   "execution_count": 12,
   "metadata": {},
   "outputs": [
    {
     "name": "stdout",
     "output_type": "stream",
     "text": [
      "<class 'pandas.core.frame.DataFrame'>\n",
      "RangeIndex: 906905 entries, 0 to 906904\n",
      "Data columns (total 70 columns):\n",
      " #   Column                                              Non-Null Count   Dtype\n",
      "---  ------                                              --------------   -----\n",
      " 0   Hasil Rujukan FKTP?_Yes                             906905 non-null  uint8\n",
      " 1   fkrtl-Weekend?_1                                    906905 non-null  uint8\n",
      " 2   fkrtl-Quarter_2                                     906905 non-null  uint8\n",
      " 3   fkrtl-Quarter_3                                     906905 non-null  uint8\n",
      " 4   fkrtl-Quarter_4                                     906905 non-null  uint8\n",
      " 5   FKRTL-Kepemilikan Faskes_MISSING                    906905 non-null  uint8\n",
      " 6   FKRTL-Kepemilikan Faskes_PEMERINTAH KABUPATEN/KOTA  906905 non-null  uint8\n",
      " 7   FKRTL-Kepemilikan Faskes_PEMERINTAH PROVINSI        906905 non-null  uint8\n",
      " 8   FKRTL-Kepemilikan Faskes_POLRI                      906905 non-null  uint8\n",
      " 9   FKRTL-Kepemilikan Faskes_SWASTA                     906905 non-null  uint8\n",
      " 10  FKRTL-Kepemilikan Faskes_TNI AD                     906905 non-null  uint8\n",
      " 11  FKRTL-Kepemilikan Faskes_TNI AL                     906905 non-null  uint8\n",
      " 12  FKRTL-Kepemilikan Faskes_TNI AU                     906905 non-null  uint8\n",
      " 13  FKRTL-Kepemilikan Faskes_VERTIKAL/PUSAT             906905 non-null  uint8\n",
      " 14  FKRTL-Jenis Faskes_KLINIK UTAMA                     906905 non-null  uint8\n",
      " 15  FKRTL-Jenis Faskes_RUMAH SAKIT                      906905 non-null  uint8\n",
      " 16  FKRTL-Tipe Faskes_KHUSUS GIGI DAN MULUT             906905 non-null  uint8\n",
      " 17  FKRTL-Tipe Faskes_KHUSUS HEMODIALISA                906905 non-null  uint8\n",
      " 18  FKRTL-Tipe Faskes_KHUSUS IBU DAN ANAK               906905 non-null  uint8\n",
      " 19  FKRTL-Tipe Faskes_KHUSUS JANTUNG                    906905 non-null  uint8\n",
      " 20  FKRTL-Tipe Faskes_KHUSUS JIWA                       906905 non-null  uint8\n",
      " 21  FKRTL-Tipe Faskes_KHUSUS KANKER ONKOLOGI            906905 non-null  uint8\n",
      " 22  FKRTL-Tipe Faskes_KHUSUS KUSTA                      906905 non-null  uint8\n",
      " 23  FKRTL-Tipe Faskes_KHUSUS LAIN                       906905 non-null  uint8\n",
      " 24  FKRTL-Tipe Faskes_KHUSUS MATA                       906905 non-null  uint8\n",
      " 25  FKRTL-Tipe Faskes_KHUSUS PARU                       906905 non-null  uint8\n",
      " 26  FKRTL-Tipe Faskes_KHUSUS STROKE                     906905 non-null  uint8\n",
      " 27  FKRTL-Tipe Faskes_KHUSUS TULANG                     906905 non-null  uint8\n",
      " 28  FKRTL-Tipe Faskes_KLINIK NON RAWAT INAP             906905 non-null  uint8\n",
      " 29  FKRTL-Tipe Faskes_MISSING                           906905 non-null  uint8\n",
      " 30  FKRTL-Tipe Faskes_RS KELAS A                        906905 non-null  uint8\n",
      " 31  FKRTL-Tipe Faskes_RS KELAS B                        906905 non-null  uint8\n",
      " 32  FKRTL-Tipe Faskes_RS KELAS C                        906905 non-null  uint8\n",
      " 33  FKRTL-Tipe Faskes_RS KELAS D                        906905 non-null  uint8\n",
      " 34  FKRTL-Tipe Faskes_RS NON PROVIDER GAWATDARURAT      906905 non-null  uint8\n",
      " 35  FKRTL-Tipe Faskes_RS SWASTA SETARA TYPE A           906905 non-null  uint8\n",
      " 36  FKRTL-Tipe Faskes_RS SWASTA SETARA TYPE B           906905 non-null  uint8\n",
      " 37  FKRTL-Tipe Faskes_RS SWASTA SETARA TYPE C           906905 non-null  uint8\n",
      " 38  FKRTL-Tipe Faskes_RS SWASTA SETARA TYPE D           906905 non-null  uint8\n",
      " 39  FKRTL-Tipe Faskes_RS TNI POLRI KELAS I              906905 non-null  uint8\n",
      " 40  FKRTL-Tipe Faskes_RS TNI POLRI KELAS II             906905 non-null  uint8\n",
      " 41  FKRTL-Tipe Faskes_RS TNI POLRI KELAS III            906905 non-null  uint8\n",
      " 42  FKRTL-Tipe Faskes_RS TNI POLRI KELAS IV             906905 non-null  uint8\n",
      " 43  FKRTL-Tingkat Layanan_RAWAT JALAN TINGKAT LANJUT    906905 non-null  uint8\n",
      " 44  FKRTL-Segmen Peserta_MISSING                        906905 non-null  uint8\n",
      " 45  FKRTL-Segmen Peserta_PBI APBD                       906905 non-null  uint8\n",
      " 46  FKRTL-Segmen Peserta_PBI APBN                       906905 non-null  uint8\n",
      " 47  FKRTL-Segmen Peserta_PBPU                           906905 non-null  uint8\n",
      " 48  FKRTL-Segmen Peserta_PPU                            906905 non-null  uint8\n",
      " 49  FKRTL-Kelas Rawat_KELAS II                          906905 non-null  uint8\n",
      " 50  FKRTL-Kelas Rawat_KELAS III                         906905 non-null  uint8\n",
      " 51  FKRTL-Kelas Rawat_MISSING                           906905 non-null  uint8\n",
      " 52  FKRTL-Status Pulang_MISSING                         906905 non-null  uint8\n",
      " 53  FKRTL-Status Pulang_PULANG PAKSA                    906905 non-null  uint8\n",
      " 54  FKRTL-Status Pulang_RUJUK                           906905 non-null  uint8\n",
      " 55  FKRTL-Status Pulang_SEHAT                           906905 non-null  uint8\n",
      " 56  FKRTL-Status Pulang_TIDAK TAHUN                     906905 non-null  uint8\n",
      " 57  Jenis Kelamin Peserta_PEREMPUAN                     906905 non-null  uint8\n",
      " 58  kategori umur_bayi                                  906905 non-null  uint8\n",
      " 59  kategori umur_dewasa                                906905 non-null  uint8\n",
      " 60  kategori umur_lanjut usia                           906905 non-null  uint8\n",
      " 61  kategori umur_remaja                                906905 non-null  uint8\n",
      " 62  biaya_tagih_binned_murah                            906905 non-null  uint8\n",
      " 63  biaya_tagih_binned_standar                          906905 non-null  uint8\n",
      " 64  biaya_tagih_binned_mahal                            906905 non-null  uint8\n",
      " 65  biaya_tagih_binned_sangat mahal                     906905 non-null  uint8\n",
      " 66  lama_kunjungan_binned_sebentar                      906905 non-null  uint8\n",
      " 67  lama_kunjungan_binned_standar                       906905 non-null  uint8\n",
      " 68  lama_kunjungan_binned_lama                          906905 non-null  uint8\n",
      " 69  lama_kunjungan_binned_sangat lama                   906905 non-null  uint8\n",
      "dtypes: uint8(70)\n",
      "memory usage: 60.5 MB\n"
     ]
    }
   ],
   "source": [
    "one_hot_encoder.info()"
   ]
  },
  {
   "cell_type": "markdown",
   "metadata": {},
   "source": [
    "## Autoecoder "
   ]
  },
  {
   "cell_type": "code",
   "execution_count": 13,
   "metadata": {},
   "outputs": [],
   "source": [
    "# Let's scale the data first\n",
    "scaler = StandardScaler()\n",
    "normalized_df = scaler.fit_transform(one_hot_encoder)\n",
    "\n",
    "# AUTOENCODERS (PERFORM DIMENSIONALITY REDUCTION USING AUTOENCODERS)\n",
    "input_df = Input(shape=(70 ,))  # The 70 features of our dataset\n",
    "\n",
    "# Encoder\n",
    "x = Dense(units=7, activation='relu')(input_df)\n",
    "x = Dense(units=500, activation='relu', kernel_initializer='glorot_uniform')(x)\n",
    "x = Dense(units=500, activation='relu', kernel_initializer='glorot_uniform')(x)\n",
    "x = Dense(units=2000, activation='relu', kernel_initializer='glorot_uniform')(x)\n",
    "# Bottleneck\n",
    "encoded = Dense(units=10, activation='relu', kernel_initializer='glorot_uniform')(x)\n",
    "# Decoder\n",
    "x = Dense(units=2000, activation='relu', kernel_initializer='glorot_uniform')(encoded)\n",
    "x = Dense(units=500, activation='relu', kernel_initializer='glorot_uniform')(x)\n",
    "# we reconstruct the same number of features as the input\n",
    "decoded = Dense(units=70 , kernel_initializer='glorot_uniform')(x)   \n",
    "\n",
    "# Autoencoder\n",
    "autoencoder = Model(input_df, decoded)\n",
    "# Encoder\n",
    "encoder = Model(input_df, encoded)\n",
    "\n",
    "# autoencoder.compile(optimizer='adam', loss='mean_squared_error')\n",
    "# autoencoder.fit(x= normalized_df, y= normalized_df, batch_size=128, epochs=25,verbose=1)\n",
    "# Use Autoencoder to reduce the number of features / dimensions\n",
    "pred = encoder.predict(normalized_df)\n"
   ]
  },
  {
   "cell_type": "markdown",
   "metadata": {
    "id": "o6_6-HAdJAUE"
   },
   "source": [
    "### ** K-Means**"
   ]
  },
  {
   "cell_type": "markdown",
   "metadata": {
    "id": "qSTusuxxJIML"
   },
   "source": [
    "Menentukan jumlah cluster dengan elbow method"
   ]
  },
  {
   "cell_type": "code",
   "execution_count": 16,
   "metadata": {
    "id": "JQCxVD1jIXD_"
   },
   "outputs": [],
   "source": [
    "distortions = []\n",
    "inertias = []\n",
    "mapping1 = {}\n",
    "mapping2 = {}\n",
    "K = range(1, 10)\n",
    "\n",
    "for k in K:\n",
    "    # Building and fitting the model\n",
    "    kmeanModel = KMeans(n_clusters=k).fit(pred)\n",
    "    kmeanModel.fit(pred)\n",
    " \n",
    "    distortions.append(sum(np.min(cdist(pred, kmeanModel.cluster_centers_,\n",
    "                                        'euclidean'), axis=1)) / pred.shape[0])\n",
    "    inertias.append(kmeanModel.inertia_)\n",
    " \n",
    "    mapping1[k] = sum(np.min(cdist(pred, kmeanModel.cluster_centers_,\n",
    "                                   'euclidean'), axis=1)) / pred.shape[0]\n",
    "    mapping2[k] = kmeanModel.inertia_"
   ]
  },
  {
   "cell_type": "code",
   "execution_count": 17,
   "metadata": {},
   "outputs": [
    {
     "data": {
      "image/png": "[encoded data removed]",
      "text/plain": [
       "<Figure size 432x288 with 1 Axes>"
      ]
     },
     "metadata": {},
     "output_type": "display_data"
    }
   ],
   "source": [
    "plt.plot(K, distortions, 'bx-')\n",
    "plt.xlabel('Values of K')\n",
    "plt.ylabel('Distortion')\n",
    "plt.title('The Elbow Method using Distortion')\n",
    "plt.show()"
   ]
  },
  {
   "cell_type": "code",
   "execution_count": 17,
   "metadata": {},
   "outputs": [
    {
     "name": "stdout",
     "output_type": "stream",
     "text": [
      "0.9532296288877716\n",
      "1.0730034479368913\n",
      "1.044292211201196\n",
      "0.9493448704671195\n",
      "1.192124189235192\n",
      "1.1474111106706175\n",
      "1.0786831035021294\n"
     ]
    },
    {
     "data": {
      "image/png": "[encoded data removed]",
      "text/plain": [
       "<Figure size 432x288 with 1 Axes>"
      ]
     },
     "metadata": {},
     "output_type": "display_data"
    }
   ],
   "source": [
    "from sklearn.metrics import davies_bouldin_score\n",
    "k = [2, 3, 4, 5, 6, 7, 8]\n",
    "scores = []\n",
    "\n",
    "for i in k:\n",
    "    y_pred = KMeans(n_clusters = i, max_iter=1000, random_state = 43).fit_predict(pred)\n",
    "    score = davies_bouldin_score(pred, y_pred)\n",
    "    scores.append(score)\n",
    "    print(score)\n",
    "\n",
    "plt.plot(k, scores, 'o-')\n",
    "plt.title('DAVIES-BOULDIN')\n",
    "plt.show()"
   ]
  },
  {
   "cell_type": "markdown",
   "metadata": {},
   "source": [
    "#### n=5"
   ]
  },
  {
   "cell_type": "code",
   "execution_count": 13,
   "metadata": {
    "scrolled": true
   },
   "outputs": [],
   "source": [
    "# Kmeans\n",
    "kmeans_pca_5= KMeans(5)\n",
    "kmeans_pca_5.fit(pred)\n",
    "centroids = kmeans_pca_5.cluster_centers_\n",
    "clusters = kmeans_pca_5.labels_\n"
   ]
  },
  {
   "cell_type": "code",
   "execution_count": 22,
   "metadata": {},
   "outputs": [],
   "source": [
    "fkrtl_not_transform = pd.read_csv('D:/KULIAHHH/TUGAS AKHIR/TA-2/datasampel/fkrtl_not_transformation.csv')\n",
    "\n",
    "bins = np.linspace(min(fkrtl_not_transform['FKRTL-Biaya Tagih']), max(fkrtl_not_transform['FKRTL-Biaya Tagih']), 6)\n",
    "kategori = ['sangat murah', 'murah', 'standar', 'mahal', 'sangat mahal']\n",
    "fkrtl_not_transform['biaya_tagih_binned'] = pd.cut(fkrtl_not_transform['FKRTL-Biaya Tagih'], bins, labels=kategori, include_lowest=True)"
   ]
  },
  {
   "cell_type": "code",
   "execution_count": 23,
   "metadata": {},
   "outputs": [],
   "source": [
    "bins = np.linspace(min(fkrtl_not_transform['fkrtl-Lama Kunjungan']), max(fkrtl_not_transform['fkrtl-Lama Kunjungan']), 6)\n",
    "kategori = ['sangat sebentar', 'sebentar', 'standar', 'lama', 'sangat lama']\n",
    "fkrtl_not_transform['lama_kunjungan_binned'] = pd.cut(fkrtl_not_transform['fkrtl-Lama Kunjungan'], bins, labels=kategori, include_lowest=True)"
   ]
  },
  {
   "cell_type": "code",
   "execution_count": 24,
   "metadata": {},
   "outputs": [],
   "source": [
    "df_with_labels = pd.concat([fkrtl_not_transform, pd.DataFrame({'cluster':clusters})], axis=1 )\n",
    "df_with_labels['Segment K-means Autoencoder'] = kmeans_pca_5.labels_\n",
    "df_with_labels.to_csv('fkrtl_hasil_cluster_binning_autoencoder_5.csv')\n"
   ]
  },
  {
   "cell_type": "code",
   "execution_count": 14,
   "metadata": {},
   "outputs": [
    {
     "name": "stdout",
     "output_type": "stream",
     "text": [
      "0.42733786\n"
     ]
    }
   ],
   "source": [
    "from sklearn.metrics import silhouette_score\n",
    "\n",
    "print(silhouette_score(pred, kmeans_pca_5.labels_))"
   ]
  },
  {
   "cell_type": "code",
   "execution_count": 25,
   "metadata": {},
   "outputs": [
    {
     "data": {
      "text/plain": [
       "4457.5908203125"
      ]
     },
     "execution_count": 25,
     "metadata": {},
     "output_type": "execute_result"
    }
   ],
   "source": [
    "kmeans_pca_5.inertia_"
   ]
  },
  {
   "cell_type": "markdown",
   "metadata": {},
   "source": [
    "n=6"
   ]
  },
  {
   "cell_type": "code",
   "execution_count": 15,
   "metadata": {
    "scrolled": true
   },
   "outputs": [],
   "source": [
    "# Kmeans\n",
    "kmeans_pca_6= KMeans(6)\n",
    "kmeans_pca_6.fit(pred)\n",
    "centroids = kmeans_pca_6.cluster_centers_\n",
    "clusters = kmeans_pca_6.labels_\n"
   ]
  },
  {
   "cell_type": "code",
   "execution_count": 27,
   "metadata": {},
   "outputs": [
    {
     "name": "stderr",
     "output_type": "stream",
     "text": [
      "C:\\Users\\WIN10\\Anaconda3\\lib\\site-packages\\IPython\\core\\interactiveshell.py:2785: DtypeWarning: Columns (13) have mixed types.Specify dtype option on import or set low_memory=False.\n",
      "  interactivity=interactivity, compiler=compiler, result=result)\n"
     ]
    }
   ],
   "source": [
    "fkrtl_not_transform = pd.read_csv('D:/KULIAHHH/TUGAS AKHIR/TA-2/datasampel/fkrtl_not_transformation.csv')\n",
    "\n",
    "bins = np.linspace(min(fkrtl_not_transform['FKRTL-Biaya Tagih']), max(fkrtl_not_transform['FKRTL-Biaya Tagih']), 6)\n",
    "kategori = ['sangat murah', 'murah', 'standar', 'mahal', 'sangat mahal']\n",
    "fkrtl_not_transform['biaya_tagih_binned'] = pd.cut(fkrtl_not_transform['FKRTL-Biaya Tagih'], bins, labels=kategori, include_lowest=True)"
   ]
  },
  {
   "cell_type": "code",
   "execution_count": 28,
   "metadata": {},
   "outputs": [],
   "source": [
    "bins = np.linspace(min(fkrtl_not_transform['fkrtl-Lama Kunjungan']), max(fkrtl_not_transform['fkrtl-Lama Kunjungan']), 6)\n",
    "kategori = ['sangat sebentar', 'sebentar', 'standar', 'lama', 'sangat lama']\n",
    "fkrtl_not_transform['lama_kunjungan_binned'] = pd.cut(fkrtl_not_transform['fkrtl-Lama Kunjungan'], bins, labels=kategori, include_lowest=True)"
   ]
  },
  {
   "cell_type": "code",
   "execution_count": 29,
   "metadata": {},
   "outputs": [],
   "source": [
    "df_with_labels = pd.concat([fkrtl_not_transform, pd.DataFrame({'cluster':clusters})], axis=1 )\n",
    "df_with_labels['Segment K-means Autoencoder'] = kmeans_pca_6.labels_\n",
    "df_with_labels.to_csv('fkrtl_hasil_cluster_binning_autoencoder_6.csv')\n"
   ]
  },
  {
   "cell_type": "code",
   "execution_count": null,
   "metadata": {},
   "outputs": [],
   "source": [
    "from sklearn.metrics import silhouette_score\n",
    "\n",
    "print(silhouette_score(pred, kmeans_pca_6.labels_))"
   ]
  },
  {
   "cell_type": "code",
   "execution_count": 30,
   "metadata": {},
   "outputs": [
    {
     "data": {
      "text/plain": [
       "3977.8056640625"
      ]
     },
     "execution_count": 30,
     "metadata": {},
     "output_type": "execute_result"
    }
   ],
   "source": [
    "kmeans_pca_6.inertia_"
   ]
  },
  {
   "cell_type": "code",
   "execution_count": null,
   "metadata": {},
   "outputs": [],
   "source": [
    "# from sklearn.metrics import silhouette_score\n",
    "# k = [2, 3, 4, 5, 6, 7, 8]\n",
    "# score=[]\n",
    "# for n_cluster in k:\n",
    "#     kmeans = KMeans(n_clusters=n_cluster).fit(final_principal)\n",
    "#     score.append(silhouette_score(final_principal,kmeans.labels_))\n",
    "\n",
    "# plt.plot(k, score, 'o-')\n",
    "# plt.xlabel(\"Value for k\")\n",
    "# plt.ylabel(\"Silhouette score\")\n",
    "# plt.title('Silhouette Method')\n",
    "# plt.show()"
   ]
  },
  {
   "cell_type": "markdown",
   "metadata": {},
   "source": [
    "# VISUALISASI CLUSTER"
   ]
  },
  {
   "cell_type": "code",
   "execution_count": 31,
   "metadata": {},
   "outputs": [
    {
     "data": {
      "image/png": "[encoded data removed]",
      "text/plain": [
       "<Figure size 432x288 with 1 Axes>"
      ]
     },
     "metadata": {},
     "output_type": "display_data"
    }
   ],
   "source": [
    "# Getting the Centroids\n",
    "centroids = kmeans_pca_6.cluster_centers_\n",
    "X = np.array(pred)\n",
    "label = kmeans_pca_6.labels_\n",
    "u_labels = np.unique(label)\n",
    "\n",
    "#plotting the results:\n",
    " \n",
    "for i in u_labels:\n",
    "    plt.scatter(X[label == i , 0] , X[label == i , 1] , label = i)\n",
    "plt.scatter(centroids[:,0] , centroids[:,1] , s = 100, color = 'k')\n",
    "plt.legend()\n",
    "plt.show()"
   ]
  },
  {
   "cell_type": "code",
   "execution_count": 36,
   "metadata": {},
   "outputs": [
    {
     "data": {
      "text/plain": [
       "<mpl_toolkits.mplot3d.art3d.Path3DCollection at 0x226a9a45668>"
      ]
     },
     "execution_count": 36,
     "metadata": {},
     "output_type": "execute_result"
    },
    {
     "data": {
      "image/png": "[encoded data removed]",
      "text/plain": [
       "<Figure size 360x360 with 1 Axes>"
      ]
     },
     "metadata": {},
     "output_type": "display_data"
    }
   ],
   "source": [
    "label = kmeans_pca_6.labels_\n",
    "X = np.array(pred)\n",
    "fig = plt.figure(figsize = (5,5))\n",
    "ax = fig.add_subplot(111, projection='3d')\n",
    "ax.scatter(X[label == 0,0],X[label == 0,1],X[label == 0,2])\n",
    "ax.scatter(X[label == 1,0],X[label == 1,1],X[label == 1,2])\n",
    "ax.scatter(X[label == 2,0],X[label == 2,1],X[label == 2,2])\n",
    "ax.scatter(X[label == 3,0],X[label == 3,1],X[label == 3,2])\n",
    "ax.scatter(X[label == 4,0],X[label == 4,1],X[label == 4,2])\n",
    "ax.scatter(X[label == 5,0],X[label == 5,1],X[label == 5,2])\n",
    "# ax.scatter(final_principal[label == 5,0],final_principal[label == 5,1],final_principal[label == 5,2])\n"
   ]
  },
  {
   "cell_type": "code",
   "execution_count": 25,
   "metadata": {
    "colab": {
     "base_uri": "https://localhost:8080/"
    },
    "id": "ztpMXdPnDhJz",
    "outputId": "9265b1e3-7eea-4c72-9e77-5444cfed0a49"
   },
   "outputs": [
    {
     "name": "stderr",
     "output_type": "stream",
     "text": [
      "C:\\Users\\WIN10\\Anaconda3\\lib\\site-packages\\IPython\\core\\interactiveshell.py:2785: DtypeWarning: Columns (13) have mixed types.Specify dtype option on import or set low_memory=False.\n",
      "  interactivity=interactivity, compiler=compiler, result=result)\n"
     ]
    }
   ],
   "source": [
    "fkrtl_not_transform = pd.read_csv('D:/KULIAHHH/TUGAS AKHIR/TA-2/datasampel/fkrtl_not_transformation.csv')"
   ]
  },
  {
   "cell_type": "markdown",
   "metadata": {
    "id": "GmHxaBcJ-FSu"
   },
   "source": [
    "Analisis Hasil"
   ]
  },
  {
   "cell_type": "code",
   "execution_count": 28,
   "metadata": {
    "id": "3zJOm_0c-DTN"
   },
   "outputs": [],
   "source": [
    "fkrtl_segm_pca_kmeans = pd.concat([fkrtl_not_transform.reset_index(drop = True), pd.DataFrame(final_component_mca)], axis = 1)\n",
    "fkrtl_segm_pca_kmeans.columns.values[-5: ] = ['Component 1', 'Component 2', 'Component 3', 'Component 4', 'Component 5']\n",
    "\n",
    "fkrtl_segm_pca_kmeans['Cluster'] = kmeans_pca_6.labels_"
   ]
  },
  {
   "cell_type": "code",
   "execution_count": null,
   "metadata": {
    "colab": {
     "base_uri": "https://localhost:8080/",
     "height": 493
    },
    "id": "9sr3wRp16_2p",
    "outputId": "135d1cc0-3df8-4266-def3-04999f99aba6"
   },
   "outputs": [],
   "source": [
    "fkrtl_segm_pca_kmeans"
   ]
  },
  {
   "cell_type": "code",
   "execution_count": 29,
   "metadata": {
    "id": "cZzBYxFELf1M"
   },
   "outputs": [],
   "source": [
    "fkrtl_segm_pca_kmeans['Segment'] = fkrtl_segm_pca_kmeans['Cluster'].map({0:'first', 1:'second', 2:'third', 3:'fourth', 4:'fifth', 5:'sixth'})"
   ]
  },
  {
   "cell_type": "code",
   "execution_count": 30,
   "metadata": {},
   "outputs": [],
   "source": [
    "fkrtl_segm_pca_kmeans.to_csv('D:/KULIAHHH/TUGAS AKHIR/TA-2/hasil cluster/fkrtl-mca-kmeans-full_6cluster.csv')"
   ]
  },
  {
   "cell_type": "code",
   "execution_count": 3,
   "metadata": {},
   "outputs": [
    {
     "name": "stderr",
     "output_type": "stream",
     "text": [
      "C:\\Users\\WIN10\\Anaconda3\\lib\\site-packages\\IPython\\core\\interactiveshell.py:2785: DtypeWarning: Columns (14) have mixed types.Specify dtype option on import or set low_memory=False.\n",
      "  interactivity=interactivity, compiler=compiler, result=result)\n"
     ]
    }
   ],
   "source": [
    "fkrtl_segm_pca_kmeans = pd.read_csv('D:/KULIAHHH/TUGAS AKHIR/TA-2/hasil cluster/fkrtl-pca-mca-kmeans-full.csv')"
   ]
  },
  {
   "cell_type": "markdown",
   "metadata": {
    "id": "9ZxBvZdXNUfa"
   },
   "source": [
    "Visualisasi Cluster"
   ]
  },
  {
   "cell_type": "code",
   "execution_count": 111,
   "metadata": {
    "colab": {
     "base_uri": "https://localhost:8080/",
     "height": 604
    },
    "collapsed": true,
    "id": "NM9ihbSqP2ny",
    "outputId": "47529a91-9207-46e4-d4d2-f0482cb39aa6"
   },
   "outputs": [
    {
     "name": "stderr",
     "output_type": "stream",
     "text": [
      "C:\\Users\\WIN10\\Anaconda3\\lib\\site-packages\\seaborn\\_decorators.py:43: FutureWarning: Pass the following variables as keyword args: x, y. From version 0.12, the only valid positional argument will be `data`, and passing other arguments without an explicit keyword will result in an error or misinterpretation.\n",
      "  FutureWarning\n"
     ]
    },
    {
     "data": {
      "image/png": "[encoded data removed]",
      "text/plain": [
       "<Figure size 720x576 with 1 Axes>"
      ]
     },
     "metadata": {},
     "output_type": "display_data"
    }
   ],
   "source": [
    "import seaborn as sns\n",
    "x_axis = fkrtl_segm_pca_kmeans['Component 6']\n",
    "y_axis = fkrtl_segm_pca_kmeans['Component 7']\n",
    "\n",
    "plt.figure(figsize = (10, 8))\n",
    "sns.scatterplot(x_axis, y_axis, hue = fkrtl_segm_pca_kmeans['Cluster'], palette = ['#f15a22', '#9db1bb', \"#FF0B04\", \"#4374B3\"])\n",
    "plt.title('Cluster by PCA Components')\n",
    "plt.show()"
   ]
  },
  {
   "cell_type": "markdown",
   "metadata": {
    "id": "whqekMv6Rptu"
   },
   "source": [
    "## Analisis Hasil Custer"
   ]
  },
  {
   "cell_type": "code",
   "execution_count": 36,
   "metadata": {
    "colab": {
     "base_uri": "https://localhost:8080/",
     "height": 284
    },
    "id": "aYKSd-dmRUnw",
    "outputId": "989dc141-7580-4098-b3c0-22d6588ed49b"
   },
   "outputs": [],
   "source": [
    "# Hasil join dengan indikator left_only\n",
    "options = ['first'] \n",
    "\n",
    "# selecting rows based on condition \n",
    "cluster1 = fkrtl_segm_pca_kmeans[fkrtl_segm_pca_kmeans['Segment'].isin(options)]\n",
    "# cluster1.head()"
   ]
  },
  {
   "cell_type": "code",
   "execution_count": 37,
   "metadata": {
    "colab": {
     "base_uri": "https://localhost:8080/",
     "height": 284
    },
    "id": "DLWPDY4bS6XW",
    "outputId": "b7bb2e79-1280-4e9c-9286-e44c43fd479d"
   },
   "outputs": [],
   "source": [
    "# Hasil join dengan indikator left_only\n",
    "options = ['second'] \n",
    "\n",
    "# selecting rows based on condition \n",
    "cluster2 = fkrtl_segm_pca_kmeans[fkrtl_segm_pca_kmeans['Segment'].isin(options)]\n",
    "# cluster2.head()"
   ]
  },
  {
   "cell_type": "code",
   "execution_count": 38,
   "metadata": {
    "colab": {
     "base_uri": "https://localhost:8080/",
     "height": 493
    },
    "id": "MU_1ohwi2bsx",
    "outputId": "47b85794-3654-4b36-9a83-9896c09c2348"
   },
   "outputs": [],
   "source": [
    "# Hasil join dengan indikator left_only\n",
    "options = ['third'] \n",
    "\n",
    "# selecting rows based on condition \n",
    "cluster3 = fkrtl_segm_pca_kmeans[fkrtl_segm_pca_kmeans['Segment'].isin(options)]\n",
    "# cluster3"
   ]
  },
  {
   "cell_type": "code",
   "execution_count": 39,
   "metadata": {
    "colab": {
     "base_uri": "https://localhost:8080/",
     "height": 284
    },
    "id": "sr-_w0li2hI7",
    "outputId": "eb173b7f-7624-47f3-96bd-3f69984ba624"
   },
   "outputs": [],
   "source": [
    "# Hasil join dengan indikator left_only\n",
    "options = ['fourth'] \n",
    "\n",
    "# selecting rows based on condition \n",
    "cluster4 = fkrtl_segm_pca_kmeans[fkrtl_segm_pca_kmeans['Segment'].isin(options)]\n",
    "# cluster4.head()"
   ]
  },
  {
   "cell_type": "code",
   "execution_count": 52,
   "metadata": {},
   "outputs": [],
   "source": [
    "# Hasil join dengan indikator left_only\n",
    "options = ['fifth'] \n",
    "\n",
    "# selecting rows based on condition \n",
    "cluster5 = fkrtl_segm_pca_kmeans[fkrtl_segm_pca_kmeans['Segment'].isin(options)]\n",
    "# cluster5.head()"
   ]
  },
  {
   "cell_type": "code",
   "execution_count": 51,
   "metadata": {},
   "outputs": [],
   "source": [
    "# Hasil join dengan indikator left_only\n",
    "options = ['sixth'] \n",
    "\n",
    "# selecting rows based on condition \n",
    "cluster6 = fkrtl_segm_pca_kmeans[fkrtl_segm_pca_kmeans['Segment'].isin(options)]\n",
    "# cluster5.head()"
   ]
  },
  {
   "cell_type": "code",
   "execution_count": 42,
   "metadata": {
    "colab": {
     "base_uri": "https://localhost:8080/",
     "height": 294
    },
    "id": "IGWKDhIk27mK",
    "outputId": "424e73bf-b873-4ad9-ff67-38ce263e5e23"
   },
   "outputs": [
    {
     "data": {
      "image/png": "[encoded data removed]",
      "text/plain": [
       "<Figure size 432x288 with 1 Axes>"
      ]
     },
     "metadata": {},
     "output_type": "display_data"
    }
   ],
   "source": [
    "import seaborn as sns\n",
    "cluster_size = []\n",
    "for centroid, cluster_df in df_with_labels.groupby(\"Segment\"):\n",
    "        cluster_size.append([centroid, len(cluster_df)])\n",
    "cluster_sizes = pd.DataFrame(cluster_size, columns = [\"cluster\", \"size\"])\n",
    "cluster_sizes.set_index(\"cluster\", drop = True, inplace = True)\n",
    "sns.barplot(x=cluster_sizes.index, y='size', data=cluster_sizes)\n",
    "plt.title('population size by cluster')\n",
    "plt.show()"
   ]
  },
  {
   "cell_type": "code",
   "execution_count": 43,
   "metadata": {
    "colab": {
     "base_uri": "https://localhost:8080/"
    },
    "id": "yGzUHTMbw5Gu",
    "outputId": "03fabc8e-06dd-4ce2-a377-e8208d190d89"
   },
   "outputs": [
    {
     "name": "stdout",
     "output_type": "stream",
     "text": [
      "Number of samples in:\n",
      "cluster fifth -> 85321\n",
      "cluster first -> 261671\n",
      "cluster fourth -> 114178\n",
      "cluster second -> 379631\n",
      "cluster sixth -> 66103\n",
      "cluster third -> 1\n"
     ]
    }
   ],
   "source": [
    "print('Number of samples in:')\n",
    "for cluster, df_cluster in fkrtl_segm_pca_kmeans.groupby('Segment'):\n",
    "  print('cluster', cluster, '->',len(df_cluster))"
   ]
  },
  {
   "cell_type": "code",
   "execution_count": 13,
   "metadata": {},
   "outputs": [
    {
     "name": "stdout",
     "output_type": "stream",
     "text": [
      "<class 'pandas.core.frame.DataFrame'>\n",
      "RangeIndex: 906905 entries, 0 to 906904\n",
      "Data columns (total 54 columns):\n",
      " #   Column                                  Non-Null Count   Dtype  \n",
      "---  ------                                  --------------   -----  \n",
      " 0   Unnamed: 0                              906905 non-null  int64  \n",
      " 1   Unnamed: 0.1                            906905 non-null  int64  \n",
      " 2   Hasil Rujukan FKTP?                     906905 non-null  object \n",
      " 3   provinsi perujuk sama?                  906905 non-null  object \n",
      " 4   kab/kota perujuk sama?                  906905 non-null  object \n",
      " 5   fkrtl-tanggal datang                    906905 non-null  object \n",
      " 6   fkrtl-tanggal pulang                    906905 non-null  object \n",
      " 7   fkrtl-Lama Kunjungan                    906905 non-null  int64  \n",
      " 8   fkrtl-Hari Kunjungan                    906905 non-null  object \n",
      " 9   fkrtl-Weekend?                          906905 non-null  int64  \n",
      " 10  fkrtl-Month                             906905 non-null  int64  \n",
      " 11  fkrtl-Year                              906905 non-null  int64  \n",
      " 12  fkrtl-Quarter                           906905 non-null  int64  \n",
      " 13  Nomor Peserta                           906905 non-null  int64  \n",
      " 14  FKRTL-ID Kunjungan                      906905 non-null  object \n",
      " 15  FKRTL-Provinsi Faskes                   906905 non-null  object \n",
      " 16  FKRTL-Kab/Kota Faskes                   906905 non-null  object \n",
      " 17  FKRTL-Kepemilikan Faskes                906905 non-null  object \n",
      " 18  FKRTL-Jenis Faskes                      906905 non-null  object \n",
      " 19  FKRTL-Tipe Faskes                       906905 non-null  object \n",
      " 20  FKRTL-Tingkat Layanan                   906905 non-null  object \n",
      " 21  FKRTL-Segmen Peserta                    906905 non-null  object \n",
      " 22  FKRTL-Kelas Rawat                       906905 non-null  object \n",
      " 23  FKRTL-Status Pulang                     906905 non-null  object \n",
      " 24  FKRTL-Kode dan Nama Diagnosis Masuk     906905 non-null  object \n",
      " 25  FKRTL-Kode dan Nama Diagnosis Sekunder  517274 non-null  object \n",
      " 26  FKRTL-Kode dan Nama Diagnosis Primer    906905 non-null  object \n",
      " 27  FKRTL-Biaya Tagih                       906905 non-null  int64  \n",
      " 28  FKRTL-Biaya Verifikasi                  906905 non-null  int64  \n",
      " 29  FKRTL-Provinsi Faskes Perujuk           906905 non-null  object \n",
      " 30  FKRTL-Kab/Kota Faskes Perujuk           906905 non-null  object \n",
      " 31  FKRTL-Kepemilikan Faskes Perujuk        906905 non-null  object \n",
      " 32  FKRTL-Jenis Faskes Perujuk              906905 non-null  object \n",
      " 33  FKRTL-Tipe Faskes Perujuk               906905 non-null  object \n",
      " 34  Hubungan Keluarga                       906905 non-null  object \n",
      " 35  Status Kawin                            906905 non-null  object \n",
      " 36  Kelas Rawat Peserta                     906905 non-null  object \n",
      " 37  Jenis Kelamin Peserta                   906905 non-null  object \n",
      " 38  Segmen Peserta yang Terdaftar           906905 non-null  object \n",
      " 39  Kepemilikan Faskes yang Terdaftar       906905 non-null  object \n",
      " 40  Jenis Faskes yang Terdaftar             906905 non-null  object \n",
      " 41  Provinsi Peserta Terdaftar              906905 non-null  object \n",
      " 42  Kab/Kota Peserta Terdaftar              906905 non-null  object \n",
      " 43  Umur                                    906905 non-null  int64  \n",
      " 44  kategori umur                           906905 non-null  object \n",
      " 45  Component 1                             906905 non-null  float64\n",
      " 46  Component 2                             906905 non-null  float64\n",
      " 47  Component 3                             906905 non-null  float64\n",
      " 48  Component 4                             906905 non-null  float64\n",
      " 49  Component 5                             906905 non-null  float64\n",
      " 50  Component 6                             906905 non-null  float64\n",
      " 51  Component 7                             906905 non-null  float64\n",
      " 52  Cluster                                 906905 non-null  int64  \n",
      " 53  Segment                                 906905 non-null  object \n",
      "dtypes: float64(7), int64(12), object(35)\n",
      "memory usage: 373.6+ MB\n"
     ]
    }
   ],
   "source": [
    "fkrtl_segm_pca_kmeans.info()"
   ]
  },
  {
   "cell_type": "code",
   "execution_count": 46,
   "metadata": {},
   "outputs": [
    {
     "data": {
      "text/plain": [
       "PPU              105254\n",
       "PBPU             101474\n",
       "BUKAN PEKERJA     28928\n",
       "PBI APBN          19064\n",
       "PBI APBD           6869\n",
       "MISSING              82\n",
       "Name: FKRTL-Segmen Peserta, dtype: int64"
      ]
     },
     "execution_count": 46,
     "metadata": {},
     "output_type": "execute_result"
    }
   ],
   "source": [
    "cluster1['FKRTL-Segmen Peserta'].value_counts()"
   ]
  },
  {
   "cell_type": "code",
   "execution_count": 54,
   "metadata": {},
   "outputs": [
    {
     "data": {
      "text/plain": [
       "BUKAN PEKERJA     9.400030\n",
       "MISSING           3.092784\n",
       "PBI APBD          4.623644\n",
       "PBI APBN          3.496225\n",
       "PBPU              4.813496\n",
       "PPU              10.153414\n",
       "Name: FKRTL-Segmen Peserta, dtype: float64"
      ]
     },
     "execution_count": 54,
     "metadata": {},
     "output_type": "execute_result"
    }
   ],
   "source": [
    "(cluster6['FKRTL-Segmen Peserta'].value_counts()/fkrtl_segm_pca_kmeans['FKRTL-Segmen Peserta'].value_counts())*100"
   ]
  },
  {
   "cell_type": "code",
   "execution_count": null,
   "metadata": {},
   "outputs": [],
   "source": []
  },
  {
   "cell_type": "code",
   "execution_count": 17,
   "metadata": {},
   "outputs": [
    {
     "name": "stdout",
     "output_type": "stream",
     "text": [
      "238750000\n",
      "64400\n"
     ]
    }
   ],
   "source": [
    "print(cluster1['FKRTL-Biaya Tagih'].max())\n",
    "print(cluster1['FKRTL-Biaya Tagih'].min())"
   ]
  },
  {
   "cell_type": "code",
   "execution_count": 18,
   "metadata": {},
   "outputs": [
    {
     "name": "stdout",
     "output_type": "stream",
     "text": [
      "161451296\n",
      "0\n"
     ]
    }
   ],
   "source": [
    "print(cluster2['FKRTL-Biaya Tagih'].max())\n",
    "print(cluster2['FKRTL-Biaya Tagih'].min())"
   ]
  },
  {
   "cell_type": "code",
   "execution_count": 20,
   "metadata": {},
   "outputs": [
    {
     "name": "stdout",
     "output_type": "stream",
     "text": [
      "17839500\n",
      "101500\n"
     ]
    }
   ],
   "source": [
    "print(cluster3['FKRTL-Biaya Tagih'].max())\n",
    "print(cluster3['FKRTL-Biaya Tagih'].min())"
   ]
  },
  {
   "cell_type": "code",
   "execution_count": 21,
   "metadata": {},
   "outputs": [
    {
     "name": "stdout",
     "output_type": "stream",
     "text": [
      "178007696\n",
      "83400\n"
     ]
    }
   ],
   "source": [
    "print(cluster5['FKRTL-Biaya Tagih'].max())\n",
    "print(cluster5['FKRTL-Biaya Tagih'].min())"
   ]
  },
  {
   "cell_type": "code",
   "execution_count": 22,
   "metadata": {},
   "outputs": [
    {
     "name": "stdout",
     "output_type": "stream",
     "text": [
      "821900\n",
      "821900\n"
     ]
    }
   ],
   "source": [
    "print(cluster4['FKRTL-Biaya Tagih'].max())\n",
    "print(cluster4['FKRTL-Biaya Tagih'].min())"
   ]
  },
  {
   "cell_type": "code",
   "execution_count": null,
   "metadata": {},
   "outputs": [],
   "source": []
  }
 ],
 "metadata": {
  "colab": {
   "collapsed_sections": [],
   "name": "Cluster-FKRTL.ipynb",
   "provenance": []
  },
  "kernelspec": {
   "display_name": "Python 3",
   "language": "python",
   "name": "python3"
  },
  "language_info": {
   "codemirror_mode": {
    "name": "ipython",
    "version": 3
   },
   "file_extension": ".py",
   "mimetype": "text/x-python",
   "name": "python",
   "nbconvert_exporter": "python",
   "pygments_lexer": "ipython3",
   "version": "3.6.5"
  }
 },
 "nbformat": 4,
 "nbformat_minor": 1
}
