{
 "cells": [
  {
   "cell_type": "code",
   "execution_count": 1,
   "metadata": {
    "id": "5VSY6jNXAnKJ"
   },
   "outputs": [],
   "source": [
    "import numpy as np\n",
    "import pandas as pd"
   ]
  },
  {
   "cell_type": "code",
   "execution_count": 2,
   "metadata": {
    "id": "46flJKv5A0_l"
   },
   "outputs": [],
   "source": [
    "# import data\n",
    "\n",
    "data = pd.read_csv('D:/KULIAHHH/TUGAS AKHIR/TA-2/datasampel/fktp_not_transformation.csv')"
   ]
  },
  {
   "cell_type": "code",
   "execution_count": 3,
   "metadata": {
    "id": "UGPZyjGkQvGA"
   },
   "outputs": [],
   "source": [
    "data.drop(['Unnamed: 0', 'ID Kunjungan', 'Nomor Peserta', 'FKTP-tanggal datang', 'FKTP-tanggal pulang', 'Segmen Peserta yang Terdaftar', 'Kepemilikan Faskes yang Terdaftar', \n",
    "         'Jenis Faskes yang Terdaftar', 'Provinsi Peserta Terdaftar', 'Kab/Kota Peserta Terdaftar', 'FKTP-Kab/Kota Faskes Rujukan', 'FKTP-Kab/Kota Faskes', 'FKTP-Provinsi Faskes Rujukan', 'FKTP-Kab/Kota Faskes Rujukan', 'FKTP-Kepemilikan Faskes Rujukan', 'FKTP-Jenis Faskes Rujukan',\n",
    "        'FKTP-Jenis Kunjungan', 'FKTP-Poli Faskes Rujukan', 'FKTP-Provinsi Faskes', 'kategori umur', 'Status Kawin', 'Hubungan Keluarga', 'FKTP-Year', 'FKTP-Month', 'FKTP-Kode dan Nama Diagnosis', 'Kapitasi?', 'FKTP-Biaya Verifikasi'], axis=1, inplace=True)"
   ]
  },
  {
   "cell_type": "code",
   "execution_count": 4,
   "metadata": {
    "colab": {
     "base_uri": "https://localhost:8080/"
    },
    "id": "tvCFa3_IQnIi",
    "outputId": "dcd1ccf0-3226-4ecb-e321-a4c80c0ca9ca"
   },
   "outputs": [
    {
     "name": "stdout",
     "output_type": "stream",
     "text": [
      "The number of numerical variables in the dataset : 6\n",
      "The number of categorical variables in the dataset : 15\n"
     ]
    }
   ],
   "source": [
    "print(\"The number of numerical variables in the dataset : {}\".format(data.select_dtypes(include=[np.number]).shape[1]))\n",
    "print(\"The number of categorical variables in the dataset : {}\".format(data.select_dtypes(exclude=[np.number]).shape[1]))"
   ]
  },
  {
   "cell_type": "code",
   "execution_count": 5,
   "metadata": {
    "id": "AVso6k8nQnIk"
   },
   "outputs": [],
   "source": [
    "data_num = data.select_dtypes(include=[np.number])\n",
    "data_cat = data.select_dtypes(exclude=[np.number])"
   ]
  },
  {
   "cell_type": "markdown",
   "metadata": {
    "id": "X5_KXRl9C2Hz"
   },
   "source": [
    "## **Dimensionality Reduction with MCA**"
   ]
  },
  {
   "cell_type": "code",
   "execution_count": 6,
   "metadata": {
    "colab": {
     "base_uri": "https://localhost:8080/"
    },
    "id": "Hxi26bRL1I29",
    "outputId": "cefebf42-2a1e-4218-f721-de60a248278b"
   },
   "outputs": [
    {
     "name": "stdout",
     "output_type": "stream",
     "text": [
      "Requirement already satisfied: prince in c:\\users\\user\\anaconda3\\lib\\site-packages (0.7.1)\n",
      "Requirement already satisfied: scikit-learn>=0.22.1 in c:\\users\\user\\anaconda3\\lib\\site-packages (from prince) (0.23.2)\n",
      "Requirement already satisfied: scipy>=1.3.0 in c:\\users\\user\\anaconda3\\lib\\site-packages (from prince) (1.5.3)\n",
      "Requirement already satisfied: matplotlib>=3.0.2 in c:\\users\\user\\anaconda3\\lib\\site-packages (from prince) (3.2.2)\n",
      "Requirement already satisfied: pandas>=1.0.3 in c:\\users\\user\\anaconda3\\lib\\site-packages (from prince) (1.1.3)\n",
      "Requirement already satisfied: numpy>=1.17.1 in c:\\users\\user\\anaconda3\\lib\\site-packages (from prince) (1.19.5)\n",
      "Requirement already satisfied: python-dateutil>=2.1 in c:\\users\\user\\anaconda3\\lib\\site-packages (from matplotlib>=3.0.2->prince) (2.8.1)\n",
      "Requirement already satisfied: pyparsing!=2.0.4,!=2.1.2,!=2.1.6,>=2.0.1 in c:\\users\\user\\anaconda3\\lib\\site-packages (from matplotlib>=3.0.2->prince) (2.4.7)\n",
      "Requirement already satisfied: cycler>=0.10 in c:\\users\\user\\anaconda3\\lib\\site-packages (from matplotlib>=3.0.2->prince) (0.10.0)\n",
      "Requirement already satisfied: kiwisolver>=1.0.1 in c:\\users\\user\\anaconda3\\lib\\site-packages (from matplotlib>=3.0.2->prince) (1.3.0)\n",
      "Requirement already satisfied: six in c:\\users\\user\\anaconda3\\lib\\site-packages (from cycler>=0.10->matplotlib>=3.0.2->prince) (1.15.0)\n",
      "Requirement already satisfied: pytz>=2017.2 in c:\\users\\user\\anaconda3\\lib\\site-packages (from pandas>=1.0.3->prince) (2020.5)\n",
      "Requirement already satisfied: joblib>=0.11 in c:\\users\\user\\anaconda3\\lib\\site-packages (from scikit-learn>=0.22.1->prince) (1.0.0)\n",
      "Requirement already satisfied: threadpoolctl>=2.0.0 in c:\\users\\user\\anaconda3\\lib\\site-packages (from scikit-learn>=0.22.1->prince) (2.1.0)\n",
      "Note: you may need to restart the kernel to use updated packages.\n"
     ]
    }
   ],
   "source": [
    "pip install prince"
   ]
  },
  {
   "cell_type": "code",
   "execution_count": 7,
   "metadata": {
    "id": "OQraqSZazP9I"
   },
   "outputs": [],
   "source": [
    "import prince\n",
    "mca = prince.MCA(n_components=5, n_iter=3, copy=True, check_input=True, engine='auto', random_state=42)"
   ]
  },
  {
   "cell_type": "code",
   "execution_count": 8,
   "metadata": {
    "id": "vGZ62uM0QnIn"
   },
   "outputs": [],
   "source": [
    "mca = mca.fit(data_cat)"
   ]
  },
  {
   "cell_type": "code",
   "execution_count": 9,
   "metadata": {
    "colab": {
     "base_uri": "https://localhost:8080/"
    },
    "id": "yazkwqgmQnIo",
    "outputId": "b45203d2-e478-4455-f4a6-87a003c041f8"
   },
   "outputs": [
    {
     "data": {
      "text/plain": [
       "[0.341427806102252,\n",
       " 0.2795933192255481,\n",
       " 0.17968007351708404,\n",
       " 0.1659638487672585,\n",
       " 0.147768127393982]"
      ]
     },
     "execution_count": 9,
     "metadata": {},
     "output_type": "execute_result"
    }
   ],
   "source": [
    "mca.eigenvalues_"
   ]
  },
  {
   "cell_type": "code",
   "execution_count": 10,
   "metadata": {
    "colab": {
     "base_uri": "https://localhost:8080/"
    },
    "id": "f96E-BQTQnIo",
    "outputId": "2c95180b-fbf7-4f05-ba55-8119ffaab5df"
   },
   "outputs": [
    {
     "data": {
      "text/plain": [
       "6.866666666666666"
      ]
     },
     "execution_count": 10,
     "metadata": {},
     "output_type": "execute_result"
    }
   ],
   "source": [
    "mca.total_inertia_"
   ]
  },
  {
   "cell_type": "code",
   "execution_count": 11,
   "metadata": {
    "colab": {
     "base_uri": "https://localhost:8080/"
    },
    "id": "lWNAZYEsQnIp",
    "outputId": "5669acd9-e5d8-48a1-b1ab-41db4a55a10e"
   },
   "outputs": [
    {
     "data": {
      "text/plain": [
       "[0.04972249603430855,\n",
       " 0.04071747367362351,\n",
       " 0.0261670009976336,\n",
       " 0.02416949253892114,\n",
       " 0.02151963020300709]"
      ]
     },
     "execution_count": 11,
     "metadata": {},
     "output_type": "execute_result"
    }
   ],
   "source": [
    "mca.explained_inertia_"
   ]
  },
  {
   "cell_type": "code",
   "execution_count": 12,
   "metadata": {
    "id": "W7Suo2iPQnIp"
   },
   "outputs": [],
   "source": [
    "final_component = mca.transform(data_cat)"
   ]
  },
  {
   "cell_type": "code",
   "execution_count": 13,
   "metadata": {
    "id": "kw-IntQpQnIp"
   },
   "outputs": [],
   "source": [
    "from numpy.core.defchararray import add\n",
    "\n",
    "final_component = final_component.assign(new=add('', np.arange(1, len(final_component) + 1).astype(str)))"
   ]
  },
  {
   "cell_type": "code",
   "execution_count": 14,
   "metadata": {
    "id": "e3RsYDrFQnIq"
   },
   "outputs": [],
   "source": [
    "final_component.rename(columns = {0 : 'first_component_mca', 1 : 'second_component_mca', 2 : 'third_component_mca', 3:'fourth_component_mca', 4:'fifth_component_mca'}, inplace = True)"
   ]
  },
  {
   "cell_type": "code",
   "execution_count": 15,
   "metadata": {
    "colab": {
     "base_uri": "https://localhost:8080/",
     "height": 419
    },
    "id": "lDKkkg1K0u51",
    "outputId": "ef70ee91-5cfe-40c6-fcd3-634bb5c23963"
   },
   "outputs": [
    {
     "data": {
      "text/html": [
       "<div>\n",
       "<style scoped>\n",
       "    .dataframe tbody tr th:only-of-type {\n",
       "        vertical-align: middle;\n",
       "    }\n",
       "\n",
       "    .dataframe tbody tr th {\n",
       "        vertical-align: top;\n",
       "    }\n",
       "\n",
       "    .dataframe thead th {\n",
       "        text-align: right;\n",
       "    }\n",
       "</style>\n",
       "<table border=\"1\" class=\"dataframe\">\n",
       "  <thead>\n",
       "    <tr style=\"text-align: right;\">\n",
       "      <th></th>\n",
       "      <th>first_component_mca</th>\n",
       "      <th>second_component_mca</th>\n",
       "      <th>third_component_mca</th>\n",
       "      <th>fourth_component_mca</th>\n",
       "      <th>fifth_component_mca</th>\n",
       "      <th>new</th>\n",
       "    </tr>\n",
       "  </thead>\n",
       "  <tbody>\n",
       "    <tr>\n",
       "      <th>0</th>\n",
       "      <td>-0.531136</td>\n",
       "      <td>-1.363312</td>\n",
       "      <td>2.180885</td>\n",
       "      <td>-0.388911</td>\n",
       "      <td>-0.450070</td>\n",
       "      <td>1</td>\n",
       "    </tr>\n",
       "    <tr>\n",
       "      <th>1</th>\n",
       "      <td>-0.656355</td>\n",
       "      <td>-1.496469</td>\n",
       "      <td>1.741451</td>\n",
       "      <td>-0.222060</td>\n",
       "      <td>-0.186666</td>\n",
       "      <td>2</td>\n",
       "    </tr>\n",
       "    <tr>\n",
       "      <th>2</th>\n",
       "      <td>-0.569351</td>\n",
       "      <td>-1.040713</td>\n",
       "      <td>0.424713</td>\n",
       "      <td>-0.102001</td>\n",
       "      <td>0.027576</td>\n",
       "      <td>3</td>\n",
       "    </tr>\n",
       "    <tr>\n",
       "      <th>3</th>\n",
       "      <td>-0.579249</td>\n",
       "      <td>-1.345868</td>\n",
       "      <td>2.296480</td>\n",
       "      <td>-0.380025</td>\n",
       "      <td>-0.188862</td>\n",
       "      <td>4</td>\n",
       "    </tr>\n",
       "    <tr>\n",
       "      <th>4</th>\n",
       "      <td>-0.431465</td>\n",
       "      <td>-0.642478</td>\n",
       "      <td>0.626789</td>\n",
       "      <td>-0.121582</td>\n",
       "      <td>0.065384</td>\n",
       "      <td>5</td>\n",
       "    </tr>\n",
       "    <tr>\n",
       "      <th>...</th>\n",
       "      <td>...</td>\n",
       "      <td>...</td>\n",
       "      <td>...</td>\n",
       "      <td>...</td>\n",
       "      <td>...</td>\n",
       "      <td>...</td>\n",
       "    </tr>\n",
       "    <tr>\n",
       "      <th>1733750</th>\n",
       "      <td>1.231270</td>\n",
       "      <td>-0.853455</td>\n",
       "      <td>-0.221010</td>\n",
       "      <td>-0.030807</td>\n",
       "      <td>0.038293</td>\n",
       "      <td>1733751</td>\n",
       "    </tr>\n",
       "    <tr>\n",
       "      <th>1733751</th>\n",
       "      <td>1.231270</td>\n",
       "      <td>-0.853455</td>\n",
       "      <td>-0.221010</td>\n",
       "      <td>-0.030807</td>\n",
       "      <td>0.038293</td>\n",
       "      <td>1733752</td>\n",
       "    </tr>\n",
       "    <tr>\n",
       "      <th>1733752</th>\n",
       "      <td>1.237051</td>\n",
       "      <td>-0.863042</td>\n",
       "      <td>-0.228519</td>\n",
       "      <td>-0.024249</td>\n",
       "      <td>0.039792</td>\n",
       "      <td>1733753</td>\n",
       "    </tr>\n",
       "    <tr>\n",
       "      <th>1733753</th>\n",
       "      <td>1.474406</td>\n",
       "      <td>0.069505</td>\n",
       "      <td>0.208592</td>\n",
       "      <td>-0.007632</td>\n",
       "      <td>0.418886</td>\n",
       "      <td>1733754</td>\n",
       "    </tr>\n",
       "    <tr>\n",
       "      <th>1733754</th>\n",
       "      <td>1.220516</td>\n",
       "      <td>-0.928617</td>\n",
       "      <td>-0.275972</td>\n",
       "      <td>-0.038305</td>\n",
       "      <td>-0.019531</td>\n",
       "      <td>1733755</td>\n",
       "    </tr>\n",
       "  </tbody>\n",
       "</table>\n",
       "<p>1733755 rows × 6 columns</p>\n",
       "</div>"
      ],
      "text/plain": [
       "         first_component_mca  second_component_mca  third_component_mca  \\\n",
       "0                  -0.531136             -1.363312             2.180885   \n",
       "1                  -0.656355             -1.496469             1.741451   \n",
       "2                  -0.569351             -1.040713             0.424713   \n",
       "3                  -0.579249             -1.345868             2.296480   \n",
       "4                  -0.431465             -0.642478             0.626789   \n",
       "...                      ...                   ...                  ...   \n",
       "1733750             1.231270             -0.853455            -0.221010   \n",
       "1733751             1.231270             -0.853455            -0.221010   \n",
       "1733752             1.237051             -0.863042            -0.228519   \n",
       "1733753             1.474406              0.069505             0.208592   \n",
       "1733754             1.220516             -0.928617            -0.275972   \n",
       "\n",
       "         fourth_component_mca  fifth_component_mca      new  \n",
       "0                   -0.388911            -0.450070        1  \n",
       "1                   -0.222060            -0.186666        2  \n",
       "2                   -0.102001             0.027576        3  \n",
       "3                   -0.380025            -0.188862        4  \n",
       "4                   -0.121582             0.065384        5  \n",
       "...                       ...                  ...      ...  \n",
       "1733750             -0.030807             0.038293  1733751  \n",
       "1733751             -0.030807             0.038293  1733752  \n",
       "1733752             -0.024249             0.039792  1733753  \n",
       "1733753             -0.007632             0.418886  1733754  \n",
       "1733754             -0.038305            -0.019531  1733755  \n",
       "\n",
       "[1733755 rows x 6 columns]"
      ]
     },
     "execution_count": 15,
     "metadata": {},
     "output_type": "execute_result"
    }
   ],
   "source": [
    "final_component"
   ]
  },
  {
   "cell_type": "markdown",
   "metadata": {
    "id": "dF0yvY32QnIq"
   },
   "source": [
    "## **Dimensionality Reduction with PCA**"
   ]
  },
  {
   "cell_type": "markdown",
   "metadata": {
    "id": "crdRaJaxQnIq"
   },
   "source": [
    "### Correlation"
   ]
  },
  {
   "cell_type": "code",
   "execution_count": 16,
   "metadata": {
    "colab": {
     "base_uri": "https://localhost:8080/",
     "height": 166
    },
    "id": "wiS1qr1wQnIr",
    "outputId": "32a80744-9588-44dc-caff-e83afb515145"
   },
   "outputs": [
    {
     "data": {
      "text/html": [
       "<style  type=\"text/css\" >\n",
       "#T_f06d1e7a_cd18_11eb_a52e_54e1ad2938f1row0_col0,#T_f06d1e7a_cd18_11eb_a52e_54e1ad2938f1row1_col1,#T_f06d1e7a_cd18_11eb_a52e_54e1ad2938f1row2_col2,#T_f06d1e7a_cd18_11eb_a52e_54e1ad2938f1row3_col3,#T_f06d1e7a_cd18_11eb_a52e_54e1ad2938f1row4_col4,#T_f06d1e7a_cd18_11eb_a52e_54e1ad2938f1row5_col5{\n",
       "            background-color:  #b40426;\n",
       "            color:  #f1f1f1;\n",
       "        }#T_f06d1e7a_cd18_11eb_a52e_54e1ad2938f1row0_col1{\n",
       "            background-color:  #f39577;\n",
       "            color:  #000000;\n",
       "        }#T_f06d1e7a_cd18_11eb_a52e_54e1ad2938f1row0_col2{\n",
       "            background-color:  #5470de;\n",
       "            color:  #000000;\n",
       "        }#T_f06d1e7a_cd18_11eb_a52e_54e1ad2938f1row0_col3{\n",
       "            background-color:  #516ddb;\n",
       "            color:  #000000;\n",
       "        }#T_f06d1e7a_cd18_11eb_a52e_54e1ad2938f1row0_col4,#T_f06d1e7a_cd18_11eb_a52e_54e1ad2938f1row3_col5,#T_f06d1e7a_cd18_11eb_a52e_54e1ad2938f1row4_col0{\n",
       "            background-color:  #3d50c3;\n",
       "            color:  #f1f1f1;\n",
       "        }#T_f06d1e7a_cd18_11eb_a52e_54e1ad2938f1row0_col5,#T_f06d1e7a_cd18_11eb_a52e_54e1ad2938f1row3_col2,#T_f06d1e7a_cd18_11eb_a52e_54e1ad2938f1row3_col4{\n",
       "            background-color:  #3f53c6;\n",
       "            color:  #f1f1f1;\n",
       "        }#T_f06d1e7a_cd18_11eb_a52e_54e1ad2938f1row1_col0{\n",
       "            background-color:  #f39778;\n",
       "            color:  #000000;\n",
       "        }#T_f06d1e7a_cd18_11eb_a52e_54e1ad2938f1row1_col2{\n",
       "            background-color:  #5f7fe8;\n",
       "            color:  #000000;\n",
       "        }#T_f06d1e7a_cd18_11eb_a52e_54e1ad2938f1row1_col3{\n",
       "            background-color:  #4e68d8;\n",
       "            color:  #000000;\n",
       "        }#T_f06d1e7a_cd18_11eb_a52e_54e1ad2938f1row1_col4,#T_f06d1e7a_cd18_11eb_a52e_54e1ad2938f1row1_col5,#T_f06d1e7a_cd18_11eb_a52e_54e1ad2938f1row2_col4,#T_f06d1e7a_cd18_11eb_a52e_54e1ad2938f1row4_col2,#T_f06d1e7a_cd18_11eb_a52e_54e1ad2938f1row5_col0,#T_f06d1e7a_cd18_11eb_a52e_54e1ad2938f1row5_col1,#T_f06d1e7a_cd18_11eb_a52e_54e1ad2938f1row5_col3{\n",
       "            background-color:  #3b4cc0;\n",
       "            color:  #f1f1f1;\n",
       "        }#T_f06d1e7a_cd18_11eb_a52e_54e1ad2938f1row2_col0{\n",
       "            background-color:  #5572df;\n",
       "            color:  #000000;\n",
       "        }#T_f06d1e7a_cd18_11eb_a52e_54e1ad2938f1row2_col1{\n",
       "            background-color:  #6485ec;\n",
       "            color:  #000000;\n",
       "        }#T_f06d1e7a_cd18_11eb_a52e_54e1ad2938f1row2_col3,#T_f06d1e7a_cd18_11eb_a52e_54e1ad2938f1row2_col5,#T_f06d1e7a_cd18_11eb_a52e_54e1ad2938f1row4_col3{\n",
       "            background-color:  #4257c9;\n",
       "            color:  #f1f1f1;\n",
       "        }#T_f06d1e7a_cd18_11eb_a52e_54e1ad2938f1row3_col0{\n",
       "            background-color:  #4f69d9;\n",
       "            color:  #000000;\n",
       "        }#T_f06d1e7a_cd18_11eb_a52e_54e1ad2938f1row3_col1{\n",
       "            background-color:  #506bda;\n",
       "            color:  #000000;\n",
       "        }#T_f06d1e7a_cd18_11eb_a52e_54e1ad2938f1row4_col1,#T_f06d1e7a_cd18_11eb_a52e_54e1ad2938f1row5_col4{\n",
       "            background-color:  #3e51c5;\n",
       "            color:  #f1f1f1;\n",
       "        }#T_f06d1e7a_cd18_11eb_a52e_54e1ad2938f1row4_col5{\n",
       "            background-color:  #4358cb;\n",
       "            color:  #f1f1f1;\n",
       "        }#T_f06d1e7a_cd18_11eb_a52e_54e1ad2938f1row5_col2{\n",
       "            background-color:  #3c4ec2;\n",
       "            color:  #f1f1f1;\n",
       "        }</style><table id=\"T_f06d1e7a_cd18_11eb_a52e_54e1ad2938f1\" ><thead>    <tr>        <th class=\"blank level0\" ></th>        <th class=\"col_heading level0 col0\" >Jumlah Tindakan Non-Kapitasi</th>        <th class=\"col_heading level0 col1\" >FKTP-Biaya Tagih</th>        <th class=\"col_heading level0 col2\" >FKTP-Lama Kunjungan</th>        <th class=\"col_heading level0 col3\" >FKTP-Weekend?</th>        <th class=\"col_heading level0 col4\" >FKTP-Quarter</th>        <th class=\"col_heading level0 col5\" >Umur</th>    </tr></thead><tbody>\n",
       "                <tr>\n",
       "                        <th id=\"T_f06d1e7a_cd18_11eb_a52e_54e1ad2938f1level0_row0\" class=\"row_heading level0 row0\" >Jumlah Tindakan Non-Kapitasi</th>\n",
       "                        <td id=\"T_f06d1e7a_cd18_11eb_a52e_54e1ad2938f1row0_col0\" class=\"data row0 col0\" >1.000000</td>\n",
       "                        <td id=\"T_f06d1e7a_cd18_11eb_a52e_54e1ad2938f1row0_col1\" class=\"data row0 col1\" >0.753939</td>\n",
       "                        <td id=\"T_f06d1e7a_cd18_11eb_a52e_54e1ad2938f1row0_col2\" class=\"data row0 col2\" >0.076596</td>\n",
       "                        <td id=\"T_f06d1e7a_cd18_11eb_a52e_54e1ad2938f1row0_col3\" class=\"data row0 col3\" >0.059383</td>\n",
       "                        <td id=\"T_f06d1e7a_cd18_11eb_a52e_54e1ad2938f1row0_col4\" class=\"data row0 col4\" >0.000072</td>\n",
       "                        <td id=\"T_f06d1e7a_cd18_11eb_a52e_54e1ad2938f1row0_col5\" class=\"data row0 col5\" >-0.010630</td>\n",
       "            </tr>\n",
       "            <tr>\n",
       "                        <th id=\"T_f06d1e7a_cd18_11eb_a52e_54e1ad2938f1level0_row1\" class=\"row_heading level0 row1\" >FKTP-Biaya Tagih</th>\n",
       "                        <td id=\"T_f06d1e7a_cd18_11eb_a52e_54e1ad2938f1row1_col0\" class=\"data row1 col0\" >0.753939</td>\n",
       "                        <td id=\"T_f06d1e7a_cd18_11eb_a52e_54e1ad2938f1row1_col1\" class=\"data row1 col1\" >1.000000</td>\n",
       "                        <td id=\"T_f06d1e7a_cd18_11eb_a52e_54e1ad2938f1row1_col2\" class=\"data row1 col2\" >0.111208</td>\n",
       "                        <td id=\"T_f06d1e7a_cd18_11eb_a52e_54e1ad2938f1row1_col3\" class=\"data row1 col3\" >0.048271</td>\n",
       "                        <td id=\"T_f06d1e7a_cd18_11eb_a52e_54e1ad2938f1row1_col4\" class=\"data row1 col4\" >-0.010833</td>\n",
       "                        <td id=\"T_f06d1e7a_cd18_11eb_a52e_54e1ad2938f1row1_col5\" class=\"data row1 col5\" >-0.026754</td>\n",
       "            </tr>\n",
       "            <tr>\n",
       "                        <th id=\"T_f06d1e7a_cd18_11eb_a52e_54e1ad2938f1level0_row2\" class=\"row_heading level0 row2\" >FKTP-Lama Kunjungan</th>\n",
       "                        <td id=\"T_f06d1e7a_cd18_11eb_a52e_54e1ad2938f1row2_col0\" class=\"data row2 col0\" >0.076596</td>\n",
       "                        <td id=\"T_f06d1e7a_cd18_11eb_a52e_54e1ad2938f1row2_col1\" class=\"data row2 col1\" >0.111208</td>\n",
       "                        <td id=\"T_f06d1e7a_cd18_11eb_a52e_54e1ad2938f1row2_col2\" class=\"data row2 col2\" >1.000000</td>\n",
       "                        <td id=\"T_f06d1e7a_cd18_11eb_a52e_54e1ad2938f1row2_col3\" class=\"data row2 col3\" >0.008498</td>\n",
       "                        <td id=\"T_f06d1e7a_cd18_11eb_a52e_54e1ad2938f1row2_col4\" class=\"data row2 col4\" >-0.007350</td>\n",
       "                        <td id=\"T_f06d1e7a_cd18_11eb_a52e_54e1ad2938f1row2_col5\" class=\"data row2 col5\" >-0.001712</td>\n",
       "            </tr>\n",
       "            <tr>\n",
       "                        <th id=\"T_f06d1e7a_cd18_11eb_a52e_54e1ad2938f1level0_row3\" class=\"row_heading level0 row3\" >FKTP-Weekend?</th>\n",
       "                        <td id=\"T_f06d1e7a_cd18_11eb_a52e_54e1ad2938f1row3_col0\" class=\"data row3 col0\" >0.059383</td>\n",
       "                        <td id=\"T_f06d1e7a_cd18_11eb_a52e_54e1ad2938f1row3_col1\" class=\"data row3 col1\" >0.048271</td>\n",
       "                        <td id=\"T_f06d1e7a_cd18_11eb_a52e_54e1ad2938f1row3_col2\" class=\"data row3 col2\" >0.008498</td>\n",
       "                        <td id=\"T_f06d1e7a_cd18_11eb_a52e_54e1ad2938f1row3_col3\" class=\"data row3 col3\" >1.000000</td>\n",
       "                        <td id=\"T_f06d1e7a_cd18_11eb_a52e_54e1ad2938f1row3_col4\" class=\"data row3 col4\" >0.007972</td>\n",
       "                        <td id=\"T_f06d1e7a_cd18_11eb_a52e_54e1ad2938f1row3_col5\" class=\"data row3 col5\" >-0.017904</td>\n",
       "            </tr>\n",
       "            <tr>\n",
       "                        <th id=\"T_f06d1e7a_cd18_11eb_a52e_54e1ad2938f1level0_row4\" class=\"row_heading level0 row4\" >FKTP-Quarter</th>\n",
       "                        <td id=\"T_f06d1e7a_cd18_11eb_a52e_54e1ad2938f1row4_col0\" class=\"data row4 col0\" >0.000072</td>\n",
       "                        <td id=\"T_f06d1e7a_cd18_11eb_a52e_54e1ad2938f1row4_col1\" class=\"data row4 col1\" >-0.010833</td>\n",
       "                        <td id=\"T_f06d1e7a_cd18_11eb_a52e_54e1ad2938f1row4_col2\" class=\"data row4 col2\" >-0.007350</td>\n",
       "                        <td id=\"T_f06d1e7a_cd18_11eb_a52e_54e1ad2938f1row4_col3\" class=\"data row4 col3\" >0.007972</td>\n",
       "                        <td id=\"T_f06d1e7a_cd18_11eb_a52e_54e1ad2938f1row4_col4\" class=\"data row4 col4\" >1.000000</td>\n",
       "                        <td id=\"T_f06d1e7a_cd18_11eb_a52e_54e1ad2938f1row4_col5\" class=\"data row4 col5\" >0.002127</td>\n",
       "            </tr>\n",
       "            <tr>\n",
       "                        <th id=\"T_f06d1e7a_cd18_11eb_a52e_54e1ad2938f1level0_row5\" class=\"row_heading level0 row5\" >Umur</th>\n",
       "                        <td id=\"T_f06d1e7a_cd18_11eb_a52e_54e1ad2938f1row5_col0\" class=\"data row5 col0\" >-0.010630</td>\n",
       "                        <td id=\"T_f06d1e7a_cd18_11eb_a52e_54e1ad2938f1row5_col1\" class=\"data row5 col1\" >-0.026754</td>\n",
       "                        <td id=\"T_f06d1e7a_cd18_11eb_a52e_54e1ad2938f1row5_col2\" class=\"data row5 col2\" >-0.001712</td>\n",
       "                        <td id=\"T_f06d1e7a_cd18_11eb_a52e_54e1ad2938f1row5_col3\" class=\"data row5 col3\" >-0.017904</td>\n",
       "                        <td id=\"T_f06d1e7a_cd18_11eb_a52e_54e1ad2938f1row5_col4\" class=\"data row5 col4\" >0.002127</td>\n",
       "                        <td id=\"T_f06d1e7a_cd18_11eb_a52e_54e1ad2938f1row5_col5\" class=\"data row5 col5\" >1.000000</td>\n",
       "            </tr>\n",
       "    </tbody></table>"
      ],
      "text/plain": [
       "<pandas.io.formats.style.Styler at 0x2b7e75b50b8>"
      ]
     },
     "execution_count": 16,
     "metadata": {},
     "output_type": "execute_result"
    }
   ],
   "source": [
    "import seaborn as sn\n",
    "import matplotlib.pyplot as plt\n",
    "\n",
    "corrMatrix = data_num.corr()\n",
    "# corrMatrix\n",
    "corrMatrix.style.background_gradient(cmap='coolwarm')"
   ]
  },
  {
   "cell_type": "code",
   "execution_count": 17,
   "metadata": {
    "id": "JSUY08MPQnIr"
   },
   "outputs": [],
   "source": [
    "from sklearn.preprocessing import MinMaxScaler\n",
    "# normalizing the data\n",
    "X_std = MinMaxScaler(feature_range=(0, 1)).fit_transform(data_num)"
   ]
  },
  {
   "cell_type": "code",
   "execution_count": 18,
   "metadata": {
    "colab": {
     "base_uri": "https://localhost:8080/"
    },
    "id": "r3v35w5sQnIs",
    "outputId": "59e9143a-9f0a-4661-a2c7-1160d97efdf2"
   },
   "outputs": [
    {
     "data": {
      "text/plain": [
       "PCA()"
      ]
     },
     "execution_count": 18,
     "metadata": {},
     "output_type": "execute_result"
    }
   ],
   "source": [
    "from sklearn.cluster import KMeans # Our clustering algorithm\n",
    "from sklearn.decomposition import PCA # Needed for dimension reduction\n",
    "pca = PCA()\n",
    "pca.fit(X_std)"
   ]
  },
  {
   "cell_type": "code",
   "execution_count": 19,
   "metadata": {
    "colab": {
     "base_uri": "https://localhost:8080/",
     "height": 530
    },
    "id": "95TfWlfpQnIs",
    "outputId": "b5334c4e-58f7-46d2-a01c-f33507b8848f",
    "scrolled": false
   },
   "outputs": [
    {
     "data": {
      "text/plain": [
       "Text(0, 0.5, 'Cummulative Explained Variance')"
      ]
     },
     "execution_count": 19,
     "metadata": {},
     "output_type": "execute_result"
    },
    {
     "data": {
      "image/png": "[encoded data removed]",
      "text/plain": [
       "<Figure size 720x576 with 1 Axes>"
      ]
     },
     "metadata": {
      "needs_background": "light"
     },
     "output_type": "display_data"
    }
   ],
   "source": [
    "from matplotlib import*\n",
    "import matplotlib.pyplot as plt\n",
    "plt.figure(figsize = (10,8))\n",
    "plt.plot(range(1,7), pca.explained_variance_ratio_.cumsum(), marker ='o', linestyle='--')\n",
    "plt.title('Explained Variance by Components FKTP')\n",
    "plt.xlabel('Number of Components')\n",
    "plt.ylabel('Cummulative Explained Variance')\n"
   ]
  },
  {
   "cell_type": "code",
   "execution_count": 20,
   "metadata": {
    "id": "ZiR5a1NMQnIt"
   },
   "outputs": [],
   "source": [
    "pca = PCA(n_components=3)\n",
    "pca.fit(X_std)\n",
    "final_principal = pca.transform(X_std)"
   ]
  },
  {
   "cell_type": "code",
   "execution_count": 21,
   "metadata": {
    "colab": {
     "base_uri": "https://localhost:8080/"
    },
    "id": "tjCRSX67QnIt",
    "outputId": "3d74d606-9c77-44e8-c572-3b5e48243df4"
   },
   "outputs": [
    {
     "data": {
      "text/plain": [
       "array([[ 0.45074492, -0.20293334,  0.27550007],\n",
       "       [-0.21269971, -0.13004524, -0.17619359],\n",
       "       [-0.54434139, -0.0973717 , -0.1284434 ],\n",
       "       ...,\n",
       "       [ 0.11903903, -0.17016593,  0.27624779],\n",
       "       [ 0.11895291, -0.16592072, -0.03504339],\n",
       "       [-0.21276157, -0.1298626 , -0.23259102]])"
      ]
     },
     "execution_count": 21,
     "metadata": {},
     "output_type": "execute_result"
    }
   ],
   "source": [
    "final_principal"
   ]
  },
  {
   "cell_type": "code",
   "execution_count": 22,
   "metadata": {
    "id": "M-cgwgHrQnIt"
   },
   "outputs": [],
   "source": [
    "final_principal = pd.DataFrame(final_principal)"
   ]
  },
  {
   "cell_type": "code",
   "execution_count": 23,
   "metadata": {
    "colab": {
     "base_uri": "https://localhost:8080/",
     "height": 419
    },
    "id": "R2JXQ0YZQnIu",
    "outputId": "1c57eeed-10fa-4328-a98e-21cee74ce67e"
   },
   "outputs": [
    {
     "data": {
      "text/html": [
       "<div>\n",
       "<style scoped>\n",
       "    .dataframe tbody tr th:only-of-type {\n",
       "        vertical-align: middle;\n",
       "    }\n",
       "\n",
       "    .dataframe tbody tr th {\n",
       "        vertical-align: top;\n",
       "    }\n",
       "\n",
       "    .dataframe thead th {\n",
       "        text-align: right;\n",
       "    }\n",
       "</style>\n",
       "<table border=\"1\" class=\"dataframe\">\n",
       "  <thead>\n",
       "    <tr style=\"text-align: right;\">\n",
       "      <th></th>\n",
       "      <th>0</th>\n",
       "      <th>1</th>\n",
       "      <th>2</th>\n",
       "    </tr>\n",
       "  </thead>\n",
       "  <tbody>\n",
       "    <tr>\n",
       "      <th>0</th>\n",
       "      <td>0.450745</td>\n",
       "      <td>-0.202933</td>\n",
       "      <td>0.275500</td>\n",
       "    </tr>\n",
       "    <tr>\n",
       "      <th>1</th>\n",
       "      <td>-0.212700</td>\n",
       "      <td>-0.130045</td>\n",
       "      <td>-0.176194</td>\n",
       "    </tr>\n",
       "    <tr>\n",
       "      <th>2</th>\n",
       "      <td>-0.544341</td>\n",
       "      <td>-0.097372</td>\n",
       "      <td>-0.128443</td>\n",
       "    </tr>\n",
       "    <tr>\n",
       "      <th>3</th>\n",
       "      <td>0.450670</td>\n",
       "      <td>-0.199098</td>\n",
       "      <td>-0.007469</td>\n",
       "    </tr>\n",
       "    <tr>\n",
       "      <th>4</th>\n",
       "      <td>0.450672</td>\n",
       "      <td>-0.199114</td>\n",
       "      <td>-0.007454</td>\n",
       "    </tr>\n",
       "    <tr>\n",
       "      <th>...</th>\n",
       "      <td>...</td>\n",
       "      <td>...</td>\n",
       "      <td>...</td>\n",
       "    </tr>\n",
       "    <tr>\n",
       "      <th>1733750</th>\n",
       "      <td>0.450699</td>\n",
       "      <td>-0.203523</td>\n",
       "      <td>0.275701</td>\n",
       "    </tr>\n",
       "    <tr>\n",
       "      <th>1733751</th>\n",
       "      <td>0.119042</td>\n",
       "      <td>-0.170295</td>\n",
       "      <td>0.285681</td>\n",
       "    </tr>\n",
       "    <tr>\n",
       "      <th>1733752</th>\n",
       "      <td>0.119039</td>\n",
       "      <td>-0.170166</td>\n",
       "      <td>0.276248</td>\n",
       "    </tr>\n",
       "    <tr>\n",
       "      <th>1733753</th>\n",
       "      <td>0.118953</td>\n",
       "      <td>-0.165921</td>\n",
       "      <td>-0.035043</td>\n",
       "    </tr>\n",
       "    <tr>\n",
       "      <th>1733754</th>\n",
       "      <td>-0.212762</td>\n",
       "      <td>-0.129863</td>\n",
       "      <td>-0.232591</td>\n",
       "    </tr>\n",
       "  </tbody>\n",
       "</table>\n",
       "<p>1733755 rows × 3 columns</p>\n",
       "</div>"
      ],
      "text/plain": [
       "                0         1         2\n",
       "0        0.450745 -0.202933  0.275500\n",
       "1       -0.212700 -0.130045 -0.176194\n",
       "2       -0.544341 -0.097372 -0.128443\n",
       "3        0.450670 -0.199098 -0.007469\n",
       "4        0.450672 -0.199114 -0.007454\n",
       "...           ...       ...       ...\n",
       "1733750  0.450699 -0.203523  0.275701\n",
       "1733751  0.119042 -0.170295  0.285681\n",
       "1733752  0.119039 -0.170166  0.276248\n",
       "1733753  0.118953 -0.165921 -0.035043\n",
       "1733754 -0.212762 -0.129863 -0.232591\n",
       "\n",
       "[1733755 rows x 3 columns]"
      ]
     },
     "execution_count": 23,
     "metadata": {},
     "output_type": "execute_result"
    }
   ],
   "source": [
    "final_principal"
   ]
  },
  {
   "cell_type": "code",
   "execution_count": 24,
   "metadata": {
    "id": "5T4oMU1GQnIu"
   },
   "outputs": [],
   "source": [
    "from numpy.core.defchararray import add\n",
    "\n",
    "final_principal = final_principal.assign(new=add('', np.arange(1, len(final_principal) + 1).astype(str)))"
   ]
  },
  {
   "cell_type": "code",
   "execution_count": 25,
   "metadata": {
    "colab": {
     "base_uri": "https://localhost:8080/",
     "height": 419
    },
    "id": "DvLOTPvwQnIu",
    "outputId": "a321ef90-3d64-4915-f3bc-5a411c94bd06"
   },
   "outputs": [
    {
     "data": {
      "text/html": [
       "<div>\n",
       "<style scoped>\n",
       "    .dataframe tbody tr th:only-of-type {\n",
       "        vertical-align: middle;\n",
       "    }\n",
       "\n",
       "    .dataframe tbody tr th {\n",
       "        vertical-align: top;\n",
       "    }\n",
       "\n",
       "    .dataframe thead th {\n",
       "        text-align: right;\n",
       "    }\n",
       "</style>\n",
       "<table border=\"1\" class=\"dataframe\">\n",
       "  <thead>\n",
       "    <tr style=\"text-align: right;\">\n",
       "      <th></th>\n",
       "      <th>0</th>\n",
       "      <th>1</th>\n",
       "      <th>2</th>\n",
       "      <th>new</th>\n",
       "    </tr>\n",
       "  </thead>\n",
       "  <tbody>\n",
       "    <tr>\n",
       "      <th>0</th>\n",
       "      <td>0.450745</td>\n",
       "      <td>-0.202933</td>\n",
       "      <td>0.275500</td>\n",
       "      <td>1</td>\n",
       "    </tr>\n",
       "    <tr>\n",
       "      <th>1</th>\n",
       "      <td>-0.212700</td>\n",
       "      <td>-0.130045</td>\n",
       "      <td>-0.176194</td>\n",
       "      <td>2</td>\n",
       "    </tr>\n",
       "    <tr>\n",
       "      <th>2</th>\n",
       "      <td>-0.544341</td>\n",
       "      <td>-0.097372</td>\n",
       "      <td>-0.128443</td>\n",
       "      <td>3</td>\n",
       "    </tr>\n",
       "    <tr>\n",
       "      <th>3</th>\n",
       "      <td>0.450670</td>\n",
       "      <td>-0.199098</td>\n",
       "      <td>-0.007469</td>\n",
       "      <td>4</td>\n",
       "    </tr>\n",
       "    <tr>\n",
       "      <th>4</th>\n",
       "      <td>0.450672</td>\n",
       "      <td>-0.199114</td>\n",
       "      <td>-0.007454</td>\n",
       "      <td>5</td>\n",
       "    </tr>\n",
       "    <tr>\n",
       "      <th>...</th>\n",
       "      <td>...</td>\n",
       "      <td>...</td>\n",
       "      <td>...</td>\n",
       "      <td>...</td>\n",
       "    </tr>\n",
       "    <tr>\n",
       "      <th>1733750</th>\n",
       "      <td>0.450699</td>\n",
       "      <td>-0.203523</td>\n",
       "      <td>0.275701</td>\n",
       "      <td>1733751</td>\n",
       "    </tr>\n",
       "    <tr>\n",
       "      <th>1733751</th>\n",
       "      <td>0.119042</td>\n",
       "      <td>-0.170295</td>\n",
       "      <td>0.285681</td>\n",
       "      <td>1733752</td>\n",
       "    </tr>\n",
       "    <tr>\n",
       "      <th>1733752</th>\n",
       "      <td>0.119039</td>\n",
       "      <td>-0.170166</td>\n",
       "      <td>0.276248</td>\n",
       "      <td>1733753</td>\n",
       "    </tr>\n",
       "    <tr>\n",
       "      <th>1733753</th>\n",
       "      <td>0.118953</td>\n",
       "      <td>-0.165921</td>\n",
       "      <td>-0.035043</td>\n",
       "      <td>1733754</td>\n",
       "    </tr>\n",
       "    <tr>\n",
       "      <th>1733754</th>\n",
       "      <td>-0.212762</td>\n",
       "      <td>-0.129863</td>\n",
       "      <td>-0.232591</td>\n",
       "      <td>1733755</td>\n",
       "    </tr>\n",
       "  </tbody>\n",
       "</table>\n",
       "<p>1733755 rows × 4 columns</p>\n",
       "</div>"
      ],
      "text/plain": [
       "                0         1         2      new\n",
       "0        0.450745 -0.202933  0.275500        1\n",
       "1       -0.212700 -0.130045 -0.176194        2\n",
       "2       -0.544341 -0.097372 -0.128443        3\n",
       "3        0.450670 -0.199098 -0.007469        4\n",
       "4        0.450672 -0.199114 -0.007454        5\n",
       "...           ...       ...       ...      ...\n",
       "1733750  0.450699 -0.203523  0.275701  1733751\n",
       "1733751  0.119042 -0.170295  0.285681  1733752\n",
       "1733752  0.119039 -0.170166  0.276248  1733753\n",
       "1733753  0.118953 -0.165921 -0.035043  1733754\n",
       "1733754 -0.212762 -0.129863 -0.232591  1733755\n",
       "\n",
       "[1733755 rows x 4 columns]"
      ]
     },
     "execution_count": 25,
     "metadata": {},
     "output_type": "execute_result"
    }
   ],
   "source": [
    "final_principal"
   ]
  },
  {
   "cell_type": "code",
   "execution_count": 26,
   "metadata": {
    "id": "p-vcZ2trQnIv"
   },
   "outputs": [],
   "source": [
    "final_principal.rename(columns = {0 : 'first_component_pca', 1 : 'second_component_pca', 2 : 'third_component_pca'}, inplace = True)"
   ]
  },
  {
   "cell_type": "code",
   "execution_count": 27,
   "metadata": {
    "id": "sXtyVtOuQnIv"
   },
   "outputs": [],
   "source": [
    "final_attribut = pd.concat([final_principal, final_component], axis=1)"
   ]
  },
  {
   "cell_type": "code",
   "execution_count": 28,
   "metadata": {
    "colab": {
     "base_uri": "https://localhost:8080/",
     "height": 419
    },
    "id": "KP-5wEYnQnIw",
    "outputId": "8841daa7-0379-48a7-d2de-c0dbbc95f09c"
   },
   "outputs": [
    {
     "data": {
      "text/html": [
       "<div>\n",
       "<style scoped>\n",
       "    .dataframe tbody tr th:only-of-type {\n",
       "        vertical-align: middle;\n",
       "    }\n",
       "\n",
       "    .dataframe tbody tr th {\n",
       "        vertical-align: top;\n",
       "    }\n",
       "\n",
       "    .dataframe thead th {\n",
       "        text-align: right;\n",
       "    }\n",
       "</style>\n",
       "<table border=\"1\" class=\"dataframe\">\n",
       "  <thead>\n",
       "    <tr style=\"text-align: right;\">\n",
       "      <th></th>\n",
       "      <th>first_component_pca</th>\n",
       "      <th>second_component_pca</th>\n",
       "      <th>third_component_pca</th>\n",
       "      <th>new</th>\n",
       "      <th>first_component_mca</th>\n",
       "      <th>second_component_mca</th>\n",
       "      <th>third_component_mca</th>\n",
       "      <th>fourth_component_mca</th>\n",
       "      <th>fifth_component_mca</th>\n",
       "      <th>new</th>\n",
       "    </tr>\n",
       "  </thead>\n",
       "  <tbody>\n",
       "    <tr>\n",
       "      <th>0</th>\n",
       "      <td>0.450745</td>\n",
       "      <td>-0.202933</td>\n",
       "      <td>0.275500</td>\n",
       "      <td>1</td>\n",
       "      <td>-0.531136</td>\n",
       "      <td>-1.363312</td>\n",
       "      <td>2.180885</td>\n",
       "      <td>-0.388911</td>\n",
       "      <td>-0.450070</td>\n",
       "      <td>1</td>\n",
       "    </tr>\n",
       "    <tr>\n",
       "      <th>1</th>\n",
       "      <td>-0.212700</td>\n",
       "      <td>-0.130045</td>\n",
       "      <td>-0.176194</td>\n",
       "      <td>2</td>\n",
       "      <td>-0.656355</td>\n",
       "      <td>-1.496469</td>\n",
       "      <td>1.741451</td>\n",
       "      <td>-0.222060</td>\n",
       "      <td>-0.186666</td>\n",
       "      <td>2</td>\n",
       "    </tr>\n",
       "    <tr>\n",
       "      <th>2</th>\n",
       "      <td>-0.544341</td>\n",
       "      <td>-0.097372</td>\n",
       "      <td>-0.128443</td>\n",
       "      <td>3</td>\n",
       "      <td>-0.569351</td>\n",
       "      <td>-1.040713</td>\n",
       "      <td>0.424713</td>\n",
       "      <td>-0.102001</td>\n",
       "      <td>0.027576</td>\n",
       "      <td>3</td>\n",
       "    </tr>\n",
       "    <tr>\n",
       "      <th>3</th>\n",
       "      <td>0.450670</td>\n",
       "      <td>-0.199098</td>\n",
       "      <td>-0.007469</td>\n",
       "      <td>4</td>\n",
       "      <td>-0.579249</td>\n",
       "      <td>-1.345868</td>\n",
       "      <td>2.296480</td>\n",
       "      <td>-0.380025</td>\n",
       "      <td>-0.188862</td>\n",
       "      <td>4</td>\n",
       "    </tr>\n",
       "    <tr>\n",
       "      <th>4</th>\n",
       "      <td>0.450672</td>\n",
       "      <td>-0.199114</td>\n",
       "      <td>-0.007454</td>\n",
       "      <td>5</td>\n",
       "      <td>-0.431465</td>\n",
       "      <td>-0.642478</td>\n",
       "      <td>0.626789</td>\n",
       "      <td>-0.121582</td>\n",
       "      <td>0.065384</td>\n",
       "      <td>5</td>\n",
       "    </tr>\n",
       "    <tr>\n",
       "      <th>...</th>\n",
       "      <td>...</td>\n",
       "      <td>...</td>\n",
       "      <td>...</td>\n",
       "      <td>...</td>\n",
       "      <td>...</td>\n",
       "      <td>...</td>\n",
       "      <td>...</td>\n",
       "      <td>...</td>\n",
       "      <td>...</td>\n",
       "      <td>...</td>\n",
       "    </tr>\n",
       "    <tr>\n",
       "      <th>1733750</th>\n",
       "      <td>0.450699</td>\n",
       "      <td>-0.203523</td>\n",
       "      <td>0.275701</td>\n",
       "      <td>1733751</td>\n",
       "      <td>1.231270</td>\n",
       "      <td>-0.853455</td>\n",
       "      <td>-0.221010</td>\n",
       "      <td>-0.030807</td>\n",
       "      <td>0.038293</td>\n",
       "      <td>1733751</td>\n",
       "    </tr>\n",
       "    <tr>\n",
       "      <th>1733751</th>\n",
       "      <td>0.119042</td>\n",
       "      <td>-0.170295</td>\n",
       "      <td>0.285681</td>\n",
       "      <td>1733752</td>\n",
       "      <td>1.231270</td>\n",
       "      <td>-0.853455</td>\n",
       "      <td>-0.221010</td>\n",
       "      <td>-0.030807</td>\n",
       "      <td>0.038293</td>\n",
       "      <td>1733752</td>\n",
       "    </tr>\n",
       "    <tr>\n",
       "      <th>1733752</th>\n",
       "      <td>0.119039</td>\n",
       "      <td>-0.170166</td>\n",
       "      <td>0.276248</td>\n",
       "      <td>1733753</td>\n",
       "      <td>1.237051</td>\n",
       "      <td>-0.863042</td>\n",
       "      <td>-0.228519</td>\n",
       "      <td>-0.024249</td>\n",
       "      <td>0.039792</td>\n",
       "      <td>1733753</td>\n",
       "    </tr>\n",
       "    <tr>\n",
       "      <th>1733753</th>\n",
       "      <td>0.118953</td>\n",
       "      <td>-0.165921</td>\n",
       "      <td>-0.035043</td>\n",
       "      <td>1733754</td>\n",
       "      <td>1.474406</td>\n",
       "      <td>0.069505</td>\n",
       "      <td>0.208592</td>\n",
       "      <td>-0.007632</td>\n",
       "      <td>0.418886</td>\n",
       "      <td>1733754</td>\n",
       "    </tr>\n",
       "    <tr>\n",
       "      <th>1733754</th>\n",
       "      <td>-0.212762</td>\n",
       "      <td>-0.129863</td>\n",
       "      <td>-0.232591</td>\n",
       "      <td>1733755</td>\n",
       "      <td>1.220516</td>\n",
       "      <td>-0.928617</td>\n",
       "      <td>-0.275972</td>\n",
       "      <td>-0.038305</td>\n",
       "      <td>-0.019531</td>\n",
       "      <td>1733755</td>\n",
       "    </tr>\n",
       "  </tbody>\n",
       "</table>\n",
       "<p>1733755 rows × 10 columns</p>\n",
       "</div>"
      ],
      "text/plain": [
       "         first_component_pca  second_component_pca  third_component_pca  \\\n",
       "0                   0.450745             -0.202933             0.275500   \n",
       "1                  -0.212700             -0.130045            -0.176194   \n",
       "2                  -0.544341             -0.097372            -0.128443   \n",
       "3                   0.450670             -0.199098            -0.007469   \n",
       "4                   0.450672             -0.199114            -0.007454   \n",
       "...                      ...                   ...                  ...   \n",
       "1733750             0.450699             -0.203523             0.275701   \n",
       "1733751             0.119042             -0.170295             0.285681   \n",
       "1733752             0.119039             -0.170166             0.276248   \n",
       "1733753             0.118953             -0.165921            -0.035043   \n",
       "1733754            -0.212762             -0.129863            -0.232591   \n",
       "\n",
       "             new  first_component_mca  second_component_mca  \\\n",
       "0              1            -0.531136             -1.363312   \n",
       "1              2            -0.656355             -1.496469   \n",
       "2              3            -0.569351             -1.040713   \n",
       "3              4            -0.579249             -1.345868   \n",
       "4              5            -0.431465             -0.642478   \n",
       "...          ...                  ...                   ...   \n",
       "1733750  1733751             1.231270             -0.853455   \n",
       "1733751  1733752             1.231270             -0.853455   \n",
       "1733752  1733753             1.237051             -0.863042   \n",
       "1733753  1733754             1.474406              0.069505   \n",
       "1733754  1733755             1.220516             -0.928617   \n",
       "\n",
       "         third_component_mca  fourth_component_mca  fifth_component_mca  \\\n",
       "0                   2.180885             -0.388911            -0.450070   \n",
       "1                   1.741451             -0.222060            -0.186666   \n",
       "2                   0.424713             -0.102001             0.027576   \n",
       "3                   2.296480             -0.380025            -0.188862   \n",
       "4                   0.626789             -0.121582             0.065384   \n",
       "...                      ...                   ...                  ...   \n",
       "1733750            -0.221010             -0.030807             0.038293   \n",
       "1733751            -0.221010             -0.030807             0.038293   \n",
       "1733752            -0.228519             -0.024249             0.039792   \n",
       "1733753             0.208592             -0.007632             0.418886   \n",
       "1733754            -0.275972             -0.038305            -0.019531   \n",
       "\n",
       "             new  \n",
       "0              1  \n",
       "1              2  \n",
       "2              3  \n",
       "3              4  \n",
       "4              5  \n",
       "...          ...  \n",
       "1733750  1733751  \n",
       "1733751  1733752  \n",
       "1733752  1733753  \n",
       "1733753  1733754  \n",
       "1733754  1733755  \n",
       "\n",
       "[1733755 rows x 10 columns]"
      ]
     },
     "execution_count": 28,
     "metadata": {},
     "output_type": "execute_result"
    }
   ],
   "source": [
    "final_attribut"
   ]
  },
  {
   "cell_type": "code",
   "execution_count": 29,
   "metadata": {
    "id": "gxk9PntEQnIw"
   },
   "outputs": [],
   "source": [
    "final_attribut.drop(['new'], axis=1, inplace=True)"
   ]
  },
  {
   "cell_type": "code",
   "execution_count": 30,
   "metadata": {
    "colab": {
     "base_uri": "https://localhost:8080/",
     "height": 419
    },
    "id": "z0Mc4c4L16sw",
    "outputId": "58d8da0c-3be6-4462-de1e-533291b65aae"
   },
   "outputs": [
    {
     "data": {
      "text/html": [
       "<div>\n",
       "<style scoped>\n",
       "    .dataframe tbody tr th:only-of-type {\n",
       "        vertical-align: middle;\n",
       "    }\n",
       "\n",
       "    .dataframe tbody tr th {\n",
       "        vertical-align: top;\n",
       "    }\n",
       "\n",
       "    .dataframe thead th {\n",
       "        text-align: right;\n",
       "    }\n",
       "</style>\n",
       "<table border=\"1\" class=\"dataframe\">\n",
       "  <thead>\n",
       "    <tr style=\"text-align: right;\">\n",
       "      <th></th>\n",
       "      <th>first_component_pca</th>\n",
       "      <th>second_component_pca</th>\n",
       "      <th>third_component_pca</th>\n",
       "      <th>first_component_mca</th>\n",
       "      <th>second_component_mca</th>\n",
       "      <th>third_component_mca</th>\n",
       "      <th>fourth_component_mca</th>\n",
       "      <th>fifth_component_mca</th>\n",
       "    </tr>\n",
       "  </thead>\n",
       "  <tbody>\n",
       "    <tr>\n",
       "      <th>0</th>\n",
       "      <td>0.450745</td>\n",
       "      <td>-0.202933</td>\n",
       "      <td>0.275500</td>\n",
       "      <td>-0.531136</td>\n",
       "      <td>-1.363312</td>\n",
       "      <td>2.180885</td>\n",
       "      <td>-0.388911</td>\n",
       "      <td>-0.450070</td>\n",
       "    </tr>\n",
       "    <tr>\n",
       "      <th>1</th>\n",
       "      <td>-0.212700</td>\n",
       "      <td>-0.130045</td>\n",
       "      <td>-0.176194</td>\n",
       "      <td>-0.656355</td>\n",
       "      <td>-1.496469</td>\n",
       "      <td>1.741451</td>\n",
       "      <td>-0.222060</td>\n",
       "      <td>-0.186666</td>\n",
       "    </tr>\n",
       "    <tr>\n",
       "      <th>2</th>\n",
       "      <td>-0.544341</td>\n",
       "      <td>-0.097372</td>\n",
       "      <td>-0.128443</td>\n",
       "      <td>-0.569351</td>\n",
       "      <td>-1.040713</td>\n",
       "      <td>0.424713</td>\n",
       "      <td>-0.102001</td>\n",
       "      <td>0.027576</td>\n",
       "    </tr>\n",
       "    <tr>\n",
       "      <th>3</th>\n",
       "      <td>0.450670</td>\n",
       "      <td>-0.199098</td>\n",
       "      <td>-0.007469</td>\n",
       "      <td>-0.579249</td>\n",
       "      <td>-1.345868</td>\n",
       "      <td>2.296480</td>\n",
       "      <td>-0.380025</td>\n",
       "      <td>-0.188862</td>\n",
       "    </tr>\n",
       "    <tr>\n",
       "      <th>4</th>\n",
       "      <td>0.450672</td>\n",
       "      <td>-0.199114</td>\n",
       "      <td>-0.007454</td>\n",
       "      <td>-0.431465</td>\n",
       "      <td>-0.642478</td>\n",
       "      <td>0.626789</td>\n",
       "      <td>-0.121582</td>\n",
       "      <td>0.065384</td>\n",
       "    </tr>\n",
       "    <tr>\n",
       "      <th>...</th>\n",
       "      <td>...</td>\n",
       "      <td>...</td>\n",
       "      <td>...</td>\n",
       "      <td>...</td>\n",
       "      <td>...</td>\n",
       "      <td>...</td>\n",
       "      <td>...</td>\n",
       "      <td>...</td>\n",
       "    </tr>\n",
       "    <tr>\n",
       "      <th>1733750</th>\n",
       "      <td>0.450699</td>\n",
       "      <td>-0.203523</td>\n",
       "      <td>0.275701</td>\n",
       "      <td>1.231270</td>\n",
       "      <td>-0.853455</td>\n",
       "      <td>-0.221010</td>\n",
       "      <td>-0.030807</td>\n",
       "      <td>0.038293</td>\n",
       "    </tr>\n",
       "    <tr>\n",
       "      <th>1733751</th>\n",
       "      <td>0.119042</td>\n",
       "      <td>-0.170295</td>\n",
       "      <td>0.285681</td>\n",
       "      <td>1.231270</td>\n",
       "      <td>-0.853455</td>\n",
       "      <td>-0.221010</td>\n",
       "      <td>-0.030807</td>\n",
       "      <td>0.038293</td>\n",
       "    </tr>\n",
       "    <tr>\n",
       "      <th>1733752</th>\n",
       "      <td>0.119039</td>\n",
       "      <td>-0.170166</td>\n",
       "      <td>0.276248</td>\n",
       "      <td>1.237051</td>\n",
       "      <td>-0.863042</td>\n",
       "      <td>-0.228519</td>\n",
       "      <td>-0.024249</td>\n",
       "      <td>0.039792</td>\n",
       "    </tr>\n",
       "    <tr>\n",
       "      <th>1733753</th>\n",
       "      <td>0.118953</td>\n",
       "      <td>-0.165921</td>\n",
       "      <td>-0.035043</td>\n",
       "      <td>1.474406</td>\n",
       "      <td>0.069505</td>\n",
       "      <td>0.208592</td>\n",
       "      <td>-0.007632</td>\n",
       "      <td>0.418886</td>\n",
       "    </tr>\n",
       "    <tr>\n",
       "      <th>1733754</th>\n",
       "      <td>-0.212762</td>\n",
       "      <td>-0.129863</td>\n",
       "      <td>-0.232591</td>\n",
       "      <td>1.220516</td>\n",
       "      <td>-0.928617</td>\n",
       "      <td>-0.275972</td>\n",
       "      <td>-0.038305</td>\n",
       "      <td>-0.019531</td>\n",
       "    </tr>\n",
       "  </tbody>\n",
       "</table>\n",
       "<p>1733755 rows × 8 columns</p>\n",
       "</div>"
      ],
      "text/plain": [
       "         first_component_pca  second_component_pca  third_component_pca  \\\n",
       "0                   0.450745             -0.202933             0.275500   \n",
       "1                  -0.212700             -0.130045            -0.176194   \n",
       "2                  -0.544341             -0.097372            -0.128443   \n",
       "3                   0.450670             -0.199098            -0.007469   \n",
       "4                   0.450672             -0.199114            -0.007454   \n",
       "...                      ...                   ...                  ...   \n",
       "1733750             0.450699             -0.203523             0.275701   \n",
       "1733751             0.119042             -0.170295             0.285681   \n",
       "1733752             0.119039             -0.170166             0.276248   \n",
       "1733753             0.118953             -0.165921            -0.035043   \n",
       "1733754            -0.212762             -0.129863            -0.232591   \n",
       "\n",
       "         first_component_mca  second_component_mca  third_component_mca  \\\n",
       "0                  -0.531136             -1.363312             2.180885   \n",
       "1                  -0.656355             -1.496469             1.741451   \n",
       "2                  -0.569351             -1.040713             0.424713   \n",
       "3                  -0.579249             -1.345868             2.296480   \n",
       "4                  -0.431465             -0.642478             0.626789   \n",
       "...                      ...                   ...                  ...   \n",
       "1733750             1.231270             -0.853455            -0.221010   \n",
       "1733751             1.231270             -0.853455            -0.221010   \n",
       "1733752             1.237051             -0.863042            -0.228519   \n",
       "1733753             1.474406              0.069505             0.208592   \n",
       "1733754             1.220516             -0.928617            -0.275972   \n",
       "\n",
       "         fourth_component_mca  fifth_component_mca  \n",
       "0                   -0.388911            -0.450070  \n",
       "1                   -0.222060            -0.186666  \n",
       "2                   -0.102001             0.027576  \n",
       "3                   -0.380025            -0.188862  \n",
       "4                   -0.121582             0.065384  \n",
       "...                       ...                  ...  \n",
       "1733750             -0.030807             0.038293  \n",
       "1733751             -0.030807             0.038293  \n",
       "1733752             -0.024249             0.039792  \n",
       "1733753             -0.007632             0.418886  \n",
       "1733754             -0.038305            -0.019531  \n",
       "\n",
       "[1733755 rows x 8 columns]"
      ]
     },
     "execution_count": 30,
     "metadata": {},
     "output_type": "execute_result"
    }
   ],
   "source": [
    "final_attribut"
   ]
  },
  {
   "cell_type": "markdown",
   "metadata": {
    "id": "o6_6-HAdJAUE"
   },
   "source": [
    "### ** K-Means**"
   ]
  },
  {
   "cell_type": "markdown",
   "metadata": {
    "id": "qSTusuxxJIML"
   },
   "source": [
    "Menentukan jumlah cluster dengan elbow method"
   ]
  },
  {
   "cell_type": "code",
   "execution_count": 31,
   "metadata": {
    "id": "wDyf-dAoQn38"
   },
   "outputs": [],
   "source": [
    "from scipy.spatial.distance import cdist\n",
    "distortions = []\n",
    "inertias = []\n",
    "mapping1 = {}\n",
    "mapping2 = {}\n",
    "K = range(1, 10)\n",
    "\n",
    "for k in K:\n",
    "    # Building and fitting the model\n",
    "    kmeanModel = KMeans(n_clusters=k).fit(final_attribut)\n",
    "    kmeanModel.fit(final_attribut)\n",
    " \n",
    "    distortions.append(sum(np.min(cdist(final_attribut, kmeanModel.cluster_centers_,\n",
    "                                        'euclidean'), axis=1)) / final_attribut.shape[0])\n",
    "    inertias.append(kmeanModel.inertia_)\n",
    " \n",
    "    mapping1[k] = sum(np.min(cdist(final_attribut, kmeanModel.cluster_centers_,\n",
    "                                   'euclidean'), axis=1)) / final_attribut.shape[0]\n",
    "    mapping2[k] = kmeanModel.inertia_"
   ]
  },
  {
   "cell_type": "code",
   "execution_count": 32,
   "metadata": {
    "colab": {
     "base_uri": "https://localhost:8080/",
     "height": 295
    },
    "id": "JQCxVD1jIXD_",
    "outputId": "66e195fe-1deb-4d40-fcdf-67020104c88c"
   },
   "outputs": [
    {
     "data": {
      "image/png": "[encoded data removed]",
      "text/plain": [
       "<Figure size 432x288 with 1 Axes>"
      ]
     },
     "metadata": {
      "needs_background": "light"
     },
     "output_type": "display_data"
    }
   ],
   "source": [
    "plt.plot(K, distortions, 'bx-')\n",
    "plt.xlabel('Values of K')\n",
    "plt.ylabel('Distortion')\n",
    "plt.title('The Elbow Method using Distortion')\n",
    "plt.show()"
   ]
  },
  {
   "cell_type": "markdown",
   "metadata": {
    "id": "581p-gjiQn39"
   },
   "source": [
    "### Davies Bouldin Score"
   ]
  },
  {
   "cell_type": "code",
   "execution_count": 33,
   "metadata": {
    "colab": {
     "base_uri": "https://localhost:8080/",
     "height": 400
    },
    "id": "-w6u5h1SQn39",
    "outputId": "85fb54a2-44a6-4954-d8b5-acdd146ae168"
   },
   "outputs": [
    {
     "name": "stdout",
     "output_type": "stream",
     "text": [
      "0.8808608167085912\n",
      "1.267387975029309\n",
      "1.0325568473304894\n",
      "0.865542292092813\n",
      "0.877307275175113\n",
      "0.8594400276900548\n",
      "0.9212718426165935\n"
     ]
    },
    {
     "data": {
      "image/png": "[encoded data removed]",
      "text/plain": [
       "<Figure size 432x288 with 1 Axes>"
      ]
     },
     "metadata": {
      "needs_background": "light"
     },
     "output_type": "display_data"
    }
   ],
   "source": [
    "from sklearn.metrics import davies_bouldin_score\n",
    "k = [2, 3, 4, 5, 6, 7, 8]\n",
    "scores = []\n",
    "\n",
    "for i in k:\n",
    "    y_pred = KMeans(n_clusters = i, max_iter=1000, random_state = 43).fit_predict(final_attribut)\n",
    "    score = davies_bouldin_score(final_attribut, y_pred)\n",
    "    scores.append(score)\n",
    "    print(score)\n",
    "\n",
    "plt.plot(k, scores, 'o-')\n",
    "plt.title('DAVIES-BOULDIN')\n",
    "plt.show()"
   ]
  },
  {
   "cell_type": "code",
   "execution_count": null,
   "metadata": {
    "id": "qCYrNByjTcRP"
   },
   "outputs": [
    {
     "name": "stdout",
     "output_type": "stream",
     "text": [
      "[0.4587930123176231]\n",
      "[0.4587930123176231, 0.31935869443656484]\n",
      "[0.4587930123176231, 0.31935869443656484, 0.3327075621622098]\n"
     ]
    }
   ],
   "source": [
    "from sklearn.metrics import silhouette_score\n",
    "k = [2, 3, 4, 5, 6, 7, 8]\n",
    "score=[]\n",
    "for n_cluster in k:\n",
    "    kmeans = KMeans(n_clusters=n_cluster).fit(final_attribut)\n",
    "    score.append(silhouette_score(final_attribut,kmeans.labels_))\n",
    "    print(score)\n",
    "plt.plot(k, score, 'o-')\n",
    "plt.xlabel(\"Value for k\")\n",
    "plt.ylabel(\"Silhouette score\")\n",
    "plt.title('Silhouette Method')\n",
    "plt.show()"
   ]
  },
  {
   "cell_type": "code",
   "execution_count": 89,
   "metadata": {},
   "outputs": [
    {
     "name": "stdout",
     "output_type": "stream",
     "text": [
      "[0.45879301231762276]\n",
      "[0.45879301231762276, 0.3193581147715615]\n",
      "[0.45879301231762276, 0.3193581147715615, 0.3327095338000049]\n",
      "[0.45879301231762276, 0.3193581147715615, 0.3327095338000049, 0.36500544191531137]\n",
      "[0.45879301231762276, 0.3193581147715615, 0.3327095338000049, 0.36500544191531137, 0.3881782117018569]\n",
      "[0.45879301231762276, 0.3193581147715615, 0.3327095338000049, 0.36500544191531137, 0.3881782117018569, 0.4095022762637515]\n",
      "[0.45879301231762276, 0.3193581147715615, 0.3327095338000049, 0.36500544191531137, 0.3881782117018569, 0.4095022762637515, 0.3846063280639545]\n"
     ]
    },
    {
     "data": {
      "image/png": "[encoded data removed]",
      "text/plain": [
       "<Figure size 432x288 with 1 Axes>"
      ]
     },
     "metadata": {
      "needs_background": "light"
     },
     "output_type": "display_data"
    }
   ],
   "source": [
    "from sklearn.metrics import silhouette_score\n",
    "k = [2, 3, 4, 5, 6, 7, 8]\n",
    "score=[]\n",
    "for n_cluster in k:\n",
    "    kmeans = KMeans(n_clusters=n_cluster).fit(final_attribut)\n",
    "    score.append(silhouette_score(final_attribut,kmeans.labels_))\n",
    "    print(score)\n",
    "plt.plot(k, score, 'o-')\n",
    "plt.xlabel(\"Value for k\")\n",
    "plt.ylabel(\"Silhouette score\")\n",
    "plt.title('Silhouette Method')\n",
    "plt.show()"
   ]
  },
  {
   "cell_type": "code",
   "execution_count": null,
   "metadata": {
    "id": "btNsNS904H6S"
   },
   "outputs": [],
   "source": [
    " "
   ]
  },
  {
   "cell_type": "markdown",
   "metadata": {
    "id": "TA-uSTE0Qn3-"
   },
   "source": [
    "##### n=2"
   ]
  },
  {
   "cell_type": "code",
   "execution_count": 35,
   "metadata": {
    "id": "Jf7OSm3NQn3_"
   },
   "outputs": [],
   "source": [
    "kmeans_pca_2 = KMeans(n_clusters = 2, init ='k-means++', random_state=42)"
   ]
  },
  {
   "cell_type": "code",
   "execution_count": 36,
   "metadata": {
    "colab": {
     "base_uri": "https://localhost:8080/"
    },
    "id": "30ekGEodQn3_",
    "outputId": "355b7e43-84ef-473c-adf7-78088819cc1c"
   },
   "outputs": [
    {
     "data": {
      "text/plain": [
       "KMeans(n_clusters=2, random_state=42)"
      ]
     },
     "execution_count": 36,
     "metadata": {},
     "output_type": "execute_result"
    }
   ],
   "source": [
    "# fit data dengan model kmeans pca\n",
    "kmeans_pca_2.fit(final_attribut)"
   ]
  },
  {
   "cell_type": "code",
   "execution_count": 37,
   "metadata": {
    "colab": {
     "base_uri": "https://localhost:8080/"
    },
    "id": "1buSC1kaQn4A",
    "outputId": "796517d6-f8f6-4274-cfd1-2b81d2cb5ebf"
   },
   "outputs": [
    {
     "data": {
      "text/plain": [
       "1886612.608350062"
      ]
     },
     "execution_count": 37,
     "metadata": {},
     "output_type": "execute_result"
    }
   ],
   "source": [
    "kmeans_pca_2.inertia_"
   ]
  },
  {
   "cell_type": "markdown",
   "metadata": {
    "id": "_VzpMIPXQn4C"
   },
   "source": [
    "#### n = 3"
   ]
  },
  {
   "cell_type": "code",
   "execution_count": 38,
   "metadata": {
    "id": "K7x5LjBk9iW_"
   },
   "outputs": [],
   "source": [
    "kmeans_pca = KMeans(n_clusters = 3, init ='k-means++', random_state=42)"
   ]
  },
  {
   "cell_type": "code",
   "execution_count": 39,
   "metadata": {
    "colab": {
     "base_uri": "https://localhost:8080/"
    },
    "id": "jw7gbTn594sR",
    "outputId": "085f91c9-1a5a-4323-d5ca-b1c56b7e1a5d"
   },
   "outputs": [
    {
     "data": {
      "text/plain": [
       "KMeans(n_clusters=3, random_state=42)"
      ]
     },
     "execution_count": 39,
     "metadata": {},
     "output_type": "execute_result"
    }
   ],
   "source": [
    "# fit data dengan model kmeans pca\n",
    "kmeans_pca.fit(final_attribut)"
   ]
  },
  {
   "cell_type": "code",
   "execution_count": 40,
   "metadata": {
    "colab": {
     "base_uri": "https://localhost:8080/"
    },
    "id": "BYfc7JzOQn4C",
    "outputId": "bc78de17-6e6b-4461-8b10-9b88a3f1fc12"
   },
   "outputs": [
    {
     "data": {
      "text/plain": [
       "1484833.0630101352"
      ]
     },
     "execution_count": 40,
     "metadata": {},
     "output_type": "execute_result"
    }
   ],
   "source": [
    "kmeans_pca.inertia_"
   ]
  },
  {
   "cell_type": "markdown",
   "metadata": {
    "id": "swHU9zHlQn4E"
   },
   "source": [
    "#### n=4"
   ]
  },
  {
   "cell_type": "code",
   "execution_count": 41,
   "metadata": {
    "id": "27IKokxTQn4E"
   },
   "outputs": [],
   "source": [
    "kmeans_pca_4 = KMeans(n_clusters = 4, init ='k-means++', random_state=42)"
   ]
  },
  {
   "cell_type": "code",
   "execution_count": 42,
   "metadata": {
    "colab": {
     "base_uri": "https://localhost:8080/"
    },
    "id": "F_lLTrqhQn4E",
    "outputId": "4aa79f28-f617-492a-d658-9075ad92dc36"
   },
   "outputs": [
    {
     "data": {
      "text/plain": [
       "KMeans(n_clusters=4, random_state=42)"
      ]
     },
     "execution_count": 42,
     "metadata": {},
     "output_type": "execute_result"
    }
   ],
   "source": [
    "# fit data dengan model kmeans pca\n",
    "kmeans_pca_4.fit(final_attribut)"
   ]
  },
  {
   "cell_type": "code",
   "execution_count": 43,
   "metadata": {
    "colab": {
     "base_uri": "https://localhost:8080/"
    },
    "id": "QUFjbRyPQn4E",
    "outputId": "f1edae6c-cc49-419c-ba2d-d9b3c8e8dcf6"
   },
   "outputs": [
    {
     "data": {
      "text/plain": [
       "1209083.6578829894"
      ]
     },
     "execution_count": 43,
     "metadata": {},
     "output_type": "execute_result"
    }
   ],
   "source": [
    "kmeans_pca_4.inertia_"
   ]
  },
  {
   "cell_type": "markdown",
   "metadata": {
    "id": "Ar7LzEqFQn4G"
   },
   "source": [
    "#### n=5"
   ]
  },
  {
   "cell_type": "code",
   "execution_count": 44,
   "metadata": {
    "id": "NQCTf6uqQn4G"
   },
   "outputs": [],
   "source": [
    "kmeans_pca_5 = KMeans(n_clusters = 5, init ='k-means++', random_state=42)"
   ]
  },
  {
   "cell_type": "code",
   "execution_count": 45,
   "metadata": {
    "colab": {
     "base_uri": "https://localhost:8080/"
    },
    "id": "V4tXFuFxQn4G",
    "outputId": "a74885fc-ad8d-4edd-b246-b6e2ab153aa8"
   },
   "outputs": [
    {
     "data": {
      "text/plain": [
       "KMeans(n_clusters=5, random_state=42)"
      ]
     },
     "execution_count": 45,
     "metadata": {},
     "output_type": "execute_result"
    }
   ],
   "source": [
    "# fit data dengan model kmeans pca\n",
    "kmeans_pca_5.fit(final_attribut)"
   ]
  },
  {
   "cell_type": "code",
   "execution_count": 46,
   "metadata": {
    "colab": {
     "base_uri": "https://localhost:8080/"
    },
    "id": "NMFmcbnOQn4G",
    "outputId": "790c5b5c-52c3-4232-a3bf-4ba9cadfeb15"
   },
   "outputs": [
    {
     "data": {
      "text/plain": [
       "944048.980004749"
      ]
     },
     "execution_count": 46,
     "metadata": {},
     "output_type": "execute_result"
    }
   ],
   "source": [
    "kmeans_pca_5.inertia_"
   ]
  },
  {
   "cell_type": "markdown",
   "metadata": {
    "id": "5hqKmAB9Qn4H"
   },
   "source": [
    "#### n=6"
   ]
  },
  {
   "cell_type": "code",
   "execution_count": 47,
   "metadata": {
    "id": "aBQiu1xeQn4I"
   },
   "outputs": [],
   "source": [
    "kmeans_pca_6 = KMeans(n_clusters = 6, init ='k-means++', random_state=42)"
   ]
  },
  {
   "cell_type": "code",
   "execution_count": 48,
   "metadata": {
    "colab": {
     "base_uri": "https://localhost:8080/"
    },
    "id": "19HbGEboQn4I",
    "outputId": "afe7bf66-7b5e-4f7d-9836-8a33b4af2f20"
   },
   "outputs": [
    {
     "data": {
      "text/plain": [
       "KMeans(n_clusters=6, random_state=42)"
      ]
     },
     "execution_count": 48,
     "metadata": {},
     "output_type": "execute_result"
    }
   ],
   "source": [
    "# fit data dengan model kmeans pca\n",
    "kmeans_pca_6.fit(final_attribut)"
   ]
  },
  {
   "cell_type": "code",
   "execution_count": 49,
   "metadata": {
    "colab": {
     "base_uri": "https://localhost:8080/"
    },
    "id": "aaxM74lbnAM2",
    "outputId": "c8e1231f-223a-4192-c65f-5f9a33d68e0b"
   },
   "outputs": [
    {
     "data": {
      "text/plain": [
       "764171.3990699794"
      ]
     },
     "execution_count": 49,
     "metadata": {},
     "output_type": "execute_result"
    }
   ],
   "source": [
    "kmeans_pca_6.inertia_"
   ]
  },
  {
   "cell_type": "markdown",
   "metadata": {
    "id": "XgdqSeutizz6"
   },
   "source": [
    "#### n=7"
   ]
  },
  {
   "cell_type": "code",
   "execution_count": 50,
   "metadata": {
    "id": "dJwEqC8xizz7"
   },
   "outputs": [],
   "source": [
    "kmeans_pca_7 = KMeans(n_clusters = 7, init ='k-means++', random_state=42)"
   ]
  },
  {
   "cell_type": "code",
   "execution_count": 51,
   "metadata": {
    "colab": {
     "base_uri": "https://localhost:8080/"
    },
    "id": "P93AiF-rizz7",
    "outputId": "acd584f3-2b28-4ac4-dfa0-739ca27de01b"
   },
   "outputs": [
    {
     "data": {
      "text/plain": [
       "KMeans(n_clusters=7, random_state=42)"
      ]
     },
     "execution_count": 51,
     "metadata": {},
     "output_type": "execute_result"
    }
   ],
   "source": [
    "# fit data dengan model kmeans pca\n",
    "kmeans_pca_7.fit(final_attribut)"
   ]
  },
  {
   "cell_type": "code",
   "execution_count": 52,
   "metadata": {
    "colab": {
     "base_uri": "https://localhost:8080/"
    },
    "id": "kOeV_8sBizz7",
    "outputId": "4466e33d-3664-4132-8204-8dac0eacecac"
   },
   "outputs": [
    {
     "data": {
      "text/plain": [
       "651373.1643998843"
      ]
     },
     "execution_count": 52,
     "metadata": {},
     "output_type": "execute_result"
    }
   ],
   "source": [
    "kmeans_pca_7.inertia_"
   ]
  },
  {
   "cell_type": "markdown",
   "metadata": {
    "id": "hsiY1EOpi0up"
   },
   "source": [
    "#### n=8"
   ]
  },
  {
   "cell_type": "code",
   "execution_count": 53,
   "metadata": {
    "id": "_EtAINDni0up"
   },
   "outputs": [],
   "source": [
    "kmeans_pca_8 = KMeans(n_clusters = 8, init ='k-means++', random_state=42)"
   ]
  },
  {
   "cell_type": "code",
   "execution_count": 54,
   "metadata": {
    "colab": {
     "base_uri": "https://localhost:8080/"
    },
    "id": "ieXc3_MFi0uq",
    "outputId": "a173361e-5365-4300-86e3-cf40df7bf121"
   },
   "outputs": [
    {
     "data": {
      "text/plain": [
       "KMeans(random_state=42)"
      ]
     },
     "execution_count": 54,
     "metadata": {},
     "output_type": "execute_result"
    }
   ],
   "source": [
    "# fit data dengan model kmeans pca\n",
    "kmeans_pca_8.fit(final_attribut)"
   ]
  },
  {
   "cell_type": "code",
   "execution_count": 55,
   "metadata": {
    "colab": {
     "base_uri": "https://localhost:8080/"
    },
    "id": "JbI6dYCQi0uq",
    "outputId": "e0bb1cb9-f985-4636-b2c5-7bba69081888"
   },
   "outputs": [
    {
     "data": {
      "text/plain": [
       "598475.9543132413"
      ]
     },
     "execution_count": 55,
     "metadata": {},
     "output_type": "execute_result"
    }
   ],
   "source": [
    "kmeans_pca_8.inertia_"
   ]
  },
  {
   "cell_type": "markdown",
   "metadata": {
    "id": "w6DBdith4lxX"
   },
   "source": [
    "Analisis Hasil"
   ]
  },
  {
   "cell_type": "code",
   "execution_count": 56,
   "metadata": {
    "id": "2hLvwe_nOocw"
   },
   "outputs": [],
   "source": [
    "fktp_not_transform = pd.read_csv('E:/Mata Kuliah/Semester 8/TugasAkhir II/Week 15/Data/fktp_not_transformation.csv')"
   ]
  },
  {
   "cell_type": "code",
   "execution_count": 57,
   "metadata": {
    "id": "pk4SYi504lxY"
   },
   "outputs": [],
   "source": [
    "fktp_segm_pca_kmeans = pd.concat([fktp_not_transform.reset_index(drop = True), pd.DataFrame(final_attribut)], axis = 1)\n",
    "fktp_segm_pca_kmeans.columns.values[-8: ] = ['Component 1', 'Component 2', 'Component 3', 'Component 4', 'Component 5', 'Component 6', 'Component 7', 'Component 8']\n",
    "\n",
    "fktp_segm_pca_kmeans['Cluster'] = kmeans_pca_6.labels_"
   ]
  },
  {
   "cell_type": "code",
   "execution_count": 58,
   "metadata": {
    "id": "exdKgPSZ4lxZ"
   },
   "outputs": [],
   "source": [
    "fktp_segm_pca_kmeans['Segment'] = fktp_segm_pca_kmeans['Cluster'].map({0:'1', 1:'2', 2:'3', 3:'4', 4:'5', 5:'6'})"
   ]
  },
  {
   "cell_type": "code",
   "execution_count": 59,
   "metadata": {
    "colab": {
     "base_uri": "https://localhost:8080/",
     "height": 295
    },
    "id": "OGsxVI7jGoHK",
    "outputId": "ab0c9503-7dff-4e06-865b-e0cee89b566a"
   },
   "outputs": [
    {
     "data": {
      "image/png": "[encoded data removed]",
      "text/plain": [
       "<Figure size 432x288 with 1 Axes>"
      ]
     },
     "metadata": {
      "needs_background": "light"
     },
     "output_type": "display_data"
    }
   ],
   "source": [
    "#Check size of each cluster - Are they all representative ?\n",
    "import seaborn as sns\n",
    "cluster_size = []\n",
    "for centroid, cluster_df in fktp_segm_pca_kmeans.groupby(\"Segment\"):\n",
    "        cluster_size.append([centroid, len(cluster_df)])\n",
    "cluster_sizes = pd.DataFrame(cluster_size, columns = [\"cluster\", \"size\"])\n",
    "cluster_sizes.set_index(\"cluster\", drop = True, inplace = True)\n",
    "sns.barplot(x=cluster_sizes.index, y='size', data=cluster_sizes)\n",
    "plt.title('Population Size by Cluster')\n",
    "plt.show()"
   ]
  },
  {
   "cell_type": "code",
   "execution_count": 60,
   "metadata": {},
   "outputs": [
    {
     "data": {
      "text/plain": [
       "2    544196\n",
       "3    491906\n",
       "4    453456\n",
       "1    160186\n",
       "5     51590\n",
       "6     32421\n",
       "Name: Segment, dtype: int64"
      ]
     },
     "execution_count": 60,
     "metadata": {},
     "output_type": "execute_result"
    }
   ],
   "source": [
    "fktp_segm_pca_kmeans['Segment'].value_counts()"
   ]
  },
  {
   "cell_type": "code",
   "execution_count": 62,
   "metadata": {},
   "outputs": [
    {
     "data": {
      "image/png": "[encoded data removed]",
      "text/plain": [
       "<Figure size 432x288 with 1 Axes>"
      ]
     },
     "metadata": {
      "needs_background": "light"
     },
     "output_type": "display_data"
    }
   ],
   "source": [
    "# Getting the Centroids\n",
    "centroids = kmeans_pca_6.cluster_centers_\n",
    "X = np.array(final_attribut)\n",
    "label = kmeans_pca_6.labels_\n",
    "u_labels = np.unique(label)\n",
    "\n",
    "#plotting the results:\n",
    " \n",
    "for i in u_labels:\n",
    "    plt.scatter(X[label == i , 0] , X[label == i , 1] , label = i)\n",
    "plt.scatter(centroids[:,0] , centroids[:,1] , s = 100, color = 'k')\n",
    "plt.legend()\n",
    "plt.show()"
   ]
  },
  {
   "cell_type": "code",
   "execution_count": 63,
   "metadata": {},
   "outputs": [
    {
     "data": {
      "text/plain": [
       "<mpl_toolkits.mplot3d.art3d.Path3DCollection at 0x2b87752f588>"
      ]
     },
     "execution_count": 63,
     "metadata": {},
     "output_type": "execute_result"
    },
    {
     "data": {
      "image/png": "[encoded data removed]",
      "text/plain": [
       "<Figure size 720x720 with 1 Axes>"
      ]
     },
     "metadata": {
      "needs_background": "light"
     },
     "output_type": "display_data"
    }
   ],
   "source": [
    "label = kmeans_pca_6.labels_\n",
    "X = np.array(final_attribut)\n",
    "fig = plt.figure(figsize = (10,10))\n",
    "ax = fig.add_subplot(111, projection='3d')\n",
    "ax.scatter(X[label == 0,0],X[label == 0,1],X[label == 0,2])\n",
    "ax.scatter(X[label == 1,0],X[label == 1,1],X[label == 1,2])\n",
    "ax.scatter(X[label == 2,0],X[label == 2,1],X[label == 2,2])\n",
    "ax.scatter(X[label == 3,0],X[label == 3,1],X[label == 3,2])\n",
    "ax.scatter(X[label == 4,0],X[label == 4,1],X[label == 4,2])\n",
    "ax.scatter(X[label == 5,0],X[label == 5,1],X[label == 5,2])\n",
    "# ax.scatter(final_principal[label == 5,0],final_principal[label == 5,1],final_principal[label == 5,2])"
   ]
  },
  {
   "cell_type": "code",
   "execution_count": 64,
   "metadata": {
    "id": "DXY4cgCRoZxv"
   },
   "outputs": [],
   "source": [
    "fktp_segm_pca_kmeans.to_csv('E:/Mata Kuliah/Semester 8/TugasAkhir II/Week 16/Data/2/fktp_hasil_cluster_mca+pca_6.csv')"
   ]
  },
  {
   "cell_type": "code",
   "execution_count": 65,
   "metadata": {
    "id": "5z2788eGnjJJ"
   },
   "outputs": [],
   "source": [
    "fktp_segm_pca_kmeans.drop(['Unnamed: 0','Component 1', 'Component 2', 'Component 3', 'Component 4', 'Component 5', 'Component 6', 'Component 7', 'Component 8', 'Cluster', 'Segment'], axis=1, inplace=True)"
   ]
  },
  {
   "cell_type": "code",
   "execution_count": 66,
   "metadata": {
    "id": "hZWWccl3pMA4"
   },
   "outputs": [],
   "source": [
    "fktp_segm_pca_kmeans = pd.concat([fktp_not_transform.reset_index(drop = True), pd.DataFrame(final_attribut)], axis = 1)\n",
    "fktp_segm_pca_kmeans.columns.values[-8: ] = ['Component 1', 'Component 2', 'Component 3', 'Component 4', 'Component 5', 'Component 6', 'Component 7', 'Component 8']\n",
    "\n",
    "fktp_segm_pca_kmeans['Cluster'] = kmeans_pca_5.labels_"
   ]
  },
  {
   "cell_type": "code",
   "execution_count": 67,
   "metadata": {
    "id": "fbYZldIhpXDU"
   },
   "outputs": [],
   "source": [
    "fktp_segm_pca_kmeans['Segment'] = fktp_segm_pca_kmeans['Cluster'].map({0:'1', 1:'2', 2:'3', 3:'4', 4:'5'})"
   ]
  },
  {
   "cell_type": "code",
   "execution_count": 68,
   "metadata": {
    "colab": {
     "base_uri": "https://localhost:8080/",
     "height": 295
    },
    "id": "SraFdBiypXDV",
    "outputId": "a180aa3e-216f-43c5-9011-b42d4193a11c"
   },
   "outputs": [
    {
     "data": {
      "image/png": "[encoded data removed]",
      "text/plain": [
       "<Figure size 432x288 with 1 Axes>"
      ]
     },
     "metadata": {
      "needs_background": "light"
     },
     "output_type": "display_data"
    }
   ],
   "source": [
    "#Check size of each cluster - Are they all representative ?\n",
    "import seaborn as sns\n",
    "cluster_size = []\n",
    "for centroid, cluster_df in fktp_segm_pca_kmeans.groupby(\"Segment\"):\n",
    "        cluster_size.append([centroid, len(cluster_df)])\n",
    "cluster_sizes = pd.DataFrame(cluster_size, columns = [\"cluster\", \"size\"])\n",
    "cluster_sizes.set_index(\"cluster\", drop = True, inplace = True)\n",
    "sns.barplot(x=cluster_sizes.index, y='size', data=cluster_sizes)\n",
    "plt.title('Population Size by Cluster')\n",
    "plt.show()"
   ]
  },
  {
   "cell_type": "code",
   "execution_count": 69,
   "metadata": {
    "colab": {
     "base_uri": "https://localhost:8080/"
    },
    "id": "_0czbIp-pXDW",
    "outputId": "c4f4eb4b-e354-4d1e-d1b7-73614615d5ab"
   },
   "outputs": [
    {
     "data": {
      "text/plain": [
       "3    943709\n",
       "1    545771\n",
       "4    160192\n",
       "5     51662\n",
       "2     32421\n",
       "Name: Segment, dtype: int64"
      ]
     },
     "execution_count": 69,
     "metadata": {},
     "output_type": "execute_result"
    }
   ],
   "source": [
    "fktp_segm_pca_kmeans['Segment'].value_counts()"
   ]
  },
  {
   "cell_type": "code",
   "execution_count": 70,
   "metadata": {},
   "outputs": [
    {
     "data": {
      "image/png": "[encoded data removed]",
      "text/plain": [
       "<Figure size 432x288 with 1 Axes>"
      ]
     },
     "metadata": {
      "needs_background": "light"
     },
     "output_type": "display_data"
    }
   ],
   "source": [
    "# Getting the Centroids\n",
    "centroids = kmeans_pca_5.cluster_centers_\n",
    "X = np.array(final_attribut)\n",
    "label = kmeans_pca_5.labels_\n",
    "u_labels = np.unique(label)\n",
    "\n",
    "#plotting the results:\n",
    " \n",
    "for i in u_labels:\n",
    "    plt.scatter(X[label == i , 0] , X[label == i , 1] , label = i)\n",
    "plt.scatter(centroids[:,0] , centroids[:,1] , s = 100, color = 'k')\n",
    "plt.legend()\n",
    "plt.show()"
   ]
  },
  {
   "cell_type": "code",
   "execution_count": 71,
   "metadata": {},
   "outputs": [
    {
     "data": {
      "text/plain": [
       "<mpl_toolkits.mplot3d.art3d.Path3DCollection at 0x2b84ed3cbe0>"
      ]
     },
     "execution_count": 71,
     "metadata": {},
     "output_type": "execute_result"
    },
    {
     "data": {
      "image/png": "[encoded data removed]",
      "text/plain": [
       "<Figure size 720x720 with 1 Axes>"
      ]
     },
     "metadata": {
      "needs_background": "light"
     },
     "output_type": "display_data"
    }
   ],
   "source": [
    "label = kmeans_pca_6.labels_\n",
    "X = np.array(final_attribut)\n",
    "fig = plt.figure(figsize = (10,10))\n",
    "ax = fig.add_subplot(111, projection='3d')\n",
    "ax.scatter(X[label == 0,0],X[label == 0,1],X[label == 0,2])\n",
    "ax.scatter(X[label == 1,0],X[label == 1,1],X[label == 1,2])\n",
    "ax.scatter(X[label == 2,0],X[label == 2,1],X[label == 2,2])\n",
    "ax.scatter(X[label == 3,0],X[label == 3,1],X[label == 3,2])\n",
    "ax.scatter(X[label == 4,0],X[label == 4,1],X[label == 4,2])\n",
    "#ax.scatter(X[label == 5,0],X[label == 5,1],X[label == 5,2])\n",
    "# ax.scatter(final_principal[label == 5,0],final_principal[label == 5,1],final_principal[label == 5,2])"
   ]
  },
  {
   "cell_type": "code",
   "execution_count": 72,
   "metadata": {
    "colab": {
     "base_uri": "https://localhost:8080/",
     "height": 165
    },
    "id": "v4xeBXHWp9bb",
    "outputId": "e7407027-fc5e-4895-8c10-e68a2e2da596"
   },
   "outputs": [],
   "source": [
    "fktp_segm_pca_kmeans.to_csv('E:/Mata Kuliah/Semester 8/TugasAkhir II/Week 16/Data/2/fktp_hasil_cluster_mca+pca_5.csv')"
   ]
  },
  {
   "cell_type": "code",
   "execution_count": 73,
   "metadata": {},
   "outputs": [],
   "source": [
    "fktp_segm_pca_kmeans.drop(['Unnamed: 0','Component 1', 'Component 2', 'Component 3', 'Component 4', 'Component 5', 'Component 6', 'Component 7', 'Component 8', 'Cluster', 'Segment'], axis=1, inplace=True)"
   ]
  },
  {
   "cell_type": "code",
   "execution_count": 74,
   "metadata": {},
   "outputs": [],
   "source": [
    "fktp_segm_pca_kmeans = pd.concat([fktp_not_transform.reset_index(drop = True), pd.DataFrame(final_attribut)], axis = 1)\n",
    "fktp_segm_pca_kmeans.columns.values[-8: ] = ['Component 1', 'Component 2', 'Component 3', 'Component 4', 'Component 5', 'Component 6', 'Component 7', 'Component 8']\n",
    "\n",
    "fktp_segm_pca_kmeans['Cluster'] = kmeans_pca_4.labels_"
   ]
  },
  {
   "cell_type": "code",
   "execution_count": 75,
   "metadata": {},
   "outputs": [],
   "source": [
    "fktp_segm_pca_kmeans['Segment'] = fktp_segm_pca_kmeans['Cluster'].map({0:'1', 1:'2', 2:'3', 3:'4'})"
   ]
  },
  {
   "cell_type": "code",
   "execution_count": 76,
   "metadata": {},
   "outputs": [
    {
     "data": {
      "image/png": "[encoded data removed]",
      "text/plain": [
       "<Figure size 432x288 with 1 Axes>"
      ]
     },
     "metadata": {
      "needs_background": "light"
     },
     "output_type": "display_data"
    }
   ],
   "source": [
    "#Check size of each cluster - Are they all representative ?\n",
    "import seaborn as sns\n",
    "cluster_size = []\n",
    "for centroid, cluster_df in fktp_segm_pca_kmeans.groupby(\"Segment\"):\n",
    "        cluster_size.append([centroid, len(cluster_df)])\n",
    "cluster_sizes = pd.DataFrame(cluster_size, columns = [\"cluster\", \"size\"])\n",
    "cluster_sizes.set_index(\"cluster\", drop = True, inplace = True)\n",
    "sns.barplot(x=cluster_sizes.index, y='size', data=cluster_sizes)\n",
    "plt.title('Population Size by Cluster')\n",
    "plt.show()"
   ]
  },
  {
   "cell_type": "code",
   "execution_count": 77,
   "metadata": {},
   "outputs": [
    {
     "data": {
      "text/plain": [
       "4    975059\n",
       "2    545952\n",
       "1    161061\n",
       "3     51683\n",
       "Name: Segment, dtype: int64"
      ]
     },
     "execution_count": 77,
     "metadata": {},
     "output_type": "execute_result"
    }
   ],
   "source": [
    "fktp_segm_pca_kmeans['Segment'].value_counts()"
   ]
  },
  {
   "cell_type": "code",
   "execution_count": 78,
   "metadata": {},
   "outputs": [
    {
     "data": {
      "image/png": "[encoded data removed]",
      "text/plain": [
       "<Figure size 432x288 with 1 Axes>"
      ]
     },
     "metadata": {
      "needs_background": "light"
     },
     "output_type": "display_data"
    }
   ],
   "source": [
    "# Getting the Centroids\n",
    "centroids = kmeans_pca_4.cluster_centers_\n",
    "X = np.array(final_attribut)\n",
    "label = kmeans_pca_4.labels_\n",
    "u_labels = np.unique(label)\n",
    "\n",
    "#plotting the results:\n",
    " \n",
    "for i in u_labels:\n",
    "    plt.scatter(X[label == i , 0] , X[label == i , 1] , label = i)\n",
    "plt.scatter(centroids[:,0] , centroids[:,1] , s = 100, color = 'k')\n",
    "plt.legend()\n",
    "plt.show()"
   ]
  },
  {
   "cell_type": "code",
   "execution_count": 79,
   "metadata": {},
   "outputs": [
    {
     "data": {
      "text/plain": [
       "<mpl_toolkits.mplot3d.art3d.Path3DCollection at 0x2b84f3929b0>"
      ]
     },
     "execution_count": 79,
     "metadata": {},
     "output_type": "execute_result"
    },
    {
     "data": {
      "image/png": "[encoded data removed]",
      "text/plain": [
       "<Figure size 720x720 with 1 Axes>"
      ]
     },
     "metadata": {
      "needs_background": "light"
     },
     "output_type": "display_data"
    }
   ],
   "source": [
    "label = kmeans_pca_4.labels_\n",
    "X = np.array(final_attribut)\n",
    "fig = plt.figure(figsize = (10,10))\n",
    "ax = fig.add_subplot(111, projection='3d')\n",
    "ax.scatter(X[label == 0,0],X[label == 0,1],X[label == 0,2])\n",
    "ax.scatter(X[label == 1,0],X[label == 1,1],X[label == 1,2])\n",
    "ax.scatter(X[label == 2,0],X[label == 2,1],X[label == 2,2])\n",
    "ax.scatter(X[label == 3,0],X[label == 3,1],X[label == 3,2])\n",
    "ax.scatter(X[label == 4,0],X[label == 4,1],X[label == 4,2])\n",
    "# ax.scatter(X[label == 5,0],X[label == 5,1],X[label == 5,2])\n",
    "# ax.scatter(final_principal[label == 5,0],final_principal[label == 5,1],final_principal[label == 5,2])"
   ]
  },
  {
   "cell_type": "code",
   "execution_count": 80,
   "metadata": {},
   "outputs": [],
   "source": [
    "fktp_segm_pca_kmeans.to_csv('E:/Mata Kuliah/Semester 8/TugasAkhir II/Week 16/Data/2/fktp_hasil_cluster_mca+pca_4.csv')"
   ]
  },
  {
   "cell_type": "code",
   "execution_count": 81,
   "metadata": {},
   "outputs": [],
   "source": [
    "fktp_segm_pca_kmeans.drop(['Unnamed: 0','Component 1', 'Component 2', 'Component 3', 'Component 4', 'Component 5', 'Component 6', 'Component 7', 'Component 8', 'Cluster', 'Segment'], axis=1, inplace=True)"
   ]
  },
  {
   "cell_type": "code",
   "execution_count": 82,
   "metadata": {},
   "outputs": [],
   "source": [
    "fktp_segm_pca_kmeans = pd.concat([fktp_not_transform.reset_index(drop = True), pd.DataFrame(final_attribut)], axis = 1)\n",
    "fktp_segm_pca_kmeans.columns.values[-8: ] = ['Component 1', 'Component 2', 'Component 3', 'Component 4', 'Component 5', 'Component 6', 'Component 7', 'Component 8']\n",
    "\n",
    "fktp_segm_pca_kmeans['Cluster'] = kmeans_pca.labels_"
   ]
  },
  {
   "cell_type": "code",
   "execution_count": 83,
   "metadata": {},
   "outputs": [],
   "source": [
    "fktp_segm_pca_kmeans['Segment'] = fktp_segm_pca_kmeans['Cluster'].map({0:'1', 1:'2', 2:'3'})"
   ]
  },
  {
   "cell_type": "code",
   "execution_count": 84,
   "metadata": {},
   "outputs": [
    {
     "data": {
      "image/png": "[encoded data removed]",
      "text/plain": [
       "<Figure size 432x288 with 1 Axes>"
      ]
     },
     "metadata": {
      "needs_background": "light"
     },
     "output_type": "display_data"
    }
   ],
   "source": [
    "#Check size of each cluster - Are they all representative ?\n",
    "import seaborn as sns\n",
    "cluster_size = []\n",
    "for centroid, cluster_df in fktp_segm_pca_kmeans.groupby(\"Segment\"):\n",
    "        cluster_size.append([centroid, len(cluster_df)])\n",
    "cluster_sizes = pd.DataFrame(cluster_size, columns = [\"cluster\", \"size\"])\n",
    "cluster_sizes.set_index(\"cluster\", drop = True, inplace = True)\n",
    "sns.barplot(x=cluster_sizes.index, y='size', data=cluster_sizes)\n",
    "plt.title('Population Size by Cluster')\n",
    "plt.show()"
   ]
  },
  {
   "cell_type": "code",
   "execution_count": 85,
   "metadata": {},
   "outputs": [
    {
     "data": {
      "text/plain": [
       "3    979521\n",
       "2    592789\n",
       "1    161445\n",
       "Name: Segment, dtype: int64"
      ]
     },
     "execution_count": 85,
     "metadata": {},
     "output_type": "execute_result"
    }
   ],
   "source": [
    "fktp_segm_pca_kmeans['Segment'].value_counts()"
   ]
  },
  {
   "cell_type": "code",
   "execution_count": 86,
   "metadata": {},
   "outputs": [
    {
     "data": {
      "image/png": "[encoded data removed]",
      "text/plain": [
       "<Figure size 432x288 with 1 Axes>"
      ]
     },
     "metadata": {
      "needs_background": "light"
     },
     "output_type": "display_data"
    }
   ],
   "source": [
    "# Getting the Centroids\n",
    "centroids = kmeans_pca.cluster_centers_\n",
    "X = np.array(final_attribut)\n",
    "label = kmeans_pca.labels_\n",
    "u_labels = np.unique(label)\n",
    "\n",
    "#plotting the results:\n",
    " \n",
    "for i in u_labels:\n",
    "    plt.scatter(X[label == i , 0] , X[label == i , 1] , label = i)\n",
    "plt.scatter(centroids[:,0] , centroids[:,1] , s = 100, color = 'k')\n",
    "plt.legend()\n",
    "plt.show()"
   ]
  },
  {
   "cell_type": "code",
   "execution_count": 87,
   "metadata": {},
   "outputs": [
    {
     "data": {
      "text/plain": [
       "<mpl_toolkits.mplot3d.art3d.Path3DCollection at 0x2b85c3f1128>"
      ]
     },
     "execution_count": 87,
     "metadata": {},
     "output_type": "execute_result"
    },
    {
     "data": {
      "image/png": "[encoded data removed]",
      "text/plain": [
       "<Figure size 720x720 with 1 Axes>"
      ]
     },
     "metadata": {
      "needs_background": "light"
     },
     "output_type": "display_data"
    }
   ],
   "source": [
    "label = kmeans_pca.labels_\n",
    "X = np.array(final_attribut)\n",
    "fig = plt.figure(figsize = (10,10))\n",
    "ax = fig.add_subplot(111, projection='3d')\n",
    "ax.scatter(X[label == 0,0],X[label == 0,1],X[label == 0,2])\n",
    "ax.scatter(X[label == 1,0],X[label == 1,1],X[label == 1,2])\n",
    "ax.scatter(X[label == 2,0],X[label == 2,1],X[label == 2,2])\n",
    "#ax.scatter(X[label == 3,0],X[label == 3,1],X[label == 3,2])\n",
    "#ax.scatter(X[label == 4,0],X[label == 4,1],X[label == 4,2])\n",
    "# ax.scatter(X[label == 5,0],X[label == 5,1],X[label == 5,2])\n",
    "# ax.scatter(final_principal[label == 5,0],final_principal[label == 5,1],final_principal[label == 5,2])"
   ]
  },
  {
   "cell_type": "code",
   "execution_count": 88,
   "metadata": {},
   "outputs": [],
   "source": [
    "fktp_segm_pca_kmeans.to_csv('E:/Mata Kuliah/Semester 8/TugasAkhir II/Week 16/Data/2/fktp_hasil_cluster_mca+pca_3.csv')"
   ]
  },
  {
   "cell_type": "code",
   "execution_count": null,
   "metadata": {},
   "outputs": [],
   "source": []
  },
  {
   "cell_type": "code",
   "execution_count": 81,
   "metadata": {
    "id": "2VOtEVJGFsSf"
   },
   "outputs": [
    {
     "name": "stdout",
     "output_type": "stream",
     "text": [
      "0.3881782521463137\n"
     ]
    }
   ],
   "source": [
    "from sklearn.metrics import silhouette_score\n",
    "\n",
    "print(silhouette_score(final_attribut, kmeans_pca_6.labels_))"
   ]
  },
  {
   "cell_type": "code",
   "execution_count": null,
   "metadata": {
    "id": "ZK-YniDpQnJP"
   },
   "outputs": [],
   "source": []
  }
 ],
 "metadata": {
  "colab": {
   "collapsed_sections": [],
   "name": "Rev2-FKTP MCA + PCA K-Means Full.ipynb",
   "provenance": []
  },
  "kernelspec": {
   "display_name": "Python 3",
   "language": "python",
   "name": "python3"
  },
  "language_info": {
   "codemirror_mode": {
    "name": "ipython",
    "version": 3
   },
   "file_extension": ".py",
   "mimetype": "text/x-python",
   "name": "python",
   "nbconvert_exporter": "python",
   "pygments_lexer": "ipython3",
   "version": "3.6.5"
  }
 },
 "nbformat": 4,
 "nbformat_minor": 1
}
