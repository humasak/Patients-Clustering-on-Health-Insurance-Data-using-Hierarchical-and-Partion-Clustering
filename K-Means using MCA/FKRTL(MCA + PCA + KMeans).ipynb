{
 "cells": [
  {
   "cell_type": "code",
   "execution_count": 1,
   "metadata": {
    "id": "5VSY6jNXAnKJ"
   },
   "outputs": [],
   "source": [
    "import numpy as np\n",
    "import pandas as pd\n",
    "from scipy.spatial.distance import cdist"
   ]
  },
  {
   "cell_type": "code",
   "execution_count": 2,
   "metadata": {
    "colab": {
     "base_uri": "https://localhost:8080/"
    },
    "id": "5UQe1lHpQ2X2",
    "outputId": "eb73920b-989a-4e57-97da-6563b5ad5a6d"
   },
   "outputs": [
    {
     "name": "stderr",
     "output_type": "stream",
     "text": [
      "C:\\Users\\WIN10\\Anaconda3\\lib\\site-packages\\IPython\\core\\interactiveshell.py:2785: DtypeWarning: Columns (13) have mixed types.Specify dtype option on import or set low_memory=False.\n",
      "  interactivity=interactivity, compiler=compiler, result=result)\n"
     ]
    }
   ],
   "source": [
    "# import data\n",
    "\n",
    "data = pd.read_csv('D:/KULIAHHH/TUGAS AKHIR/TA-2/datasampel/fkrtl_not_transformation.csv')"
   ]
  },
  {
   "cell_type": "code",
   "execution_count": 3,
   "metadata": {
    "id": "46flJKv5A0_l"
   },
   "outputs": [],
   "source": [
    "data.drop(['Unnamed: 0', 'fkrtl-tanggal datang', 'FKRTL-ID Kunjungan', 'Nomor Peserta', 'fkrtl-tanggal pulang',\n",
    "           'FKRTL-Provinsi Faskes', 'FKRTL-Kab/Kota Faskes', 'FKRTL-Provinsi Faskes Perujuk', 'FKRTL-Kab/Kota Faskes Perujuk', \n",
    "           'FKRTL-Kepemilikan Faskes Perujuk', 'FKRTL-Jenis Faskes Perujuk', 'FKRTL-Tipe Faskes Perujuk', 'Segmen Peserta yang Terdaftar', \n",
    "           'Kepemilikan Faskes yang Terdaftar', 'Jenis Faskes yang Terdaftar', 'Provinsi Peserta Terdaftar', 'Kab/Kota Peserta Terdaftar', 'fkrtl-Year',\n",
    "          'FKRTL-Kode dan Nama Diagnosis Masuk', 'FKRTL-Kode dan Nama Diagnosis Sekunder', 'FKRTL-Kode dan Nama Diagnosis Primer', 'Status Kawin', 'Hubungan Keluarga', 'kategori umur',\n",
    "          'fkrtl-Month', 'fkrtl-Hari Kunjungan', 'provinsi perujuk sama?', 'kab/kota perujuk sama?'], axis=1, inplace=True)"
   ]
  },
  {
   "cell_type": "code",
   "execution_count": 4,
   "metadata": {
    "colab": {
     "base_uri": "https://localhost:8080/"
    },
    "id": "W08D68bhQn3v",
    "outputId": "4b5106ef-f372-4235-b16e-755d7ef3876f"
   },
   "outputs": [
    {
     "name": "stdout",
     "output_type": "stream",
     "text": [
      "<class 'pandas.core.frame.DataFrame'>\n",
      "RangeIndex: 906905 entries, 0 to 906904\n",
      "Data columns (total 16 columns):\n",
      " #   Column                    Non-Null Count   Dtype \n",
      "---  ------                    --------------   ----- \n",
      " 0   Hasil Rujukan FKTP?       906905 non-null  object\n",
      " 1   fkrtl-Lama Kunjungan      906905 non-null  int64 \n",
      " 2   fkrtl-Weekend?            906905 non-null  int64 \n",
      " 3   fkrtl-Quarter             906905 non-null  int64 \n",
      " 4   FKRTL-Kepemilikan Faskes  906905 non-null  object\n",
      " 5   FKRTL-Jenis Faskes        906905 non-null  object\n",
      " 6   FKRTL-Tipe Faskes         906905 non-null  object\n",
      " 7   FKRTL-Tingkat Layanan     906905 non-null  object\n",
      " 8   FKRTL-Segmen Peserta      906905 non-null  object\n",
      " 9   FKRTL-Kelas Rawat         906905 non-null  object\n",
      " 10  FKRTL-Status Pulang       906905 non-null  object\n",
      " 11  FKRTL-Biaya Tagih         906905 non-null  int64 \n",
      " 12  FKRTL-Biaya Verifikasi    906905 non-null  int64 \n",
      " 13  Kelas Rawat Peserta       906905 non-null  object\n",
      " 14  Jenis Kelamin Peserta     906905 non-null  object\n",
      " 15  Umur                      906905 non-null  int64 \n",
      "dtypes: int64(6), object(10)\n",
      "memory usage: 110.7+ MB\n"
     ]
    }
   ],
   "source": [
    "data.info()"
   ]
  },
  {
   "cell_type": "code",
   "execution_count": 5,
   "metadata": {
    "colab": {
     "base_uri": "https://localhost:8080/"
    },
    "id": "4VHcns-sQn3w",
    "outputId": "0f11c506-190c-4b80-9282-d5be4cf96633"
   },
   "outputs": [
    {
     "name": "stdout",
     "output_type": "stream",
     "text": [
      "The number of numerical variables in the dataset : 6\n",
      "The number of categorical variables in the dataset : 10\n"
     ]
    }
   ],
   "source": [
    "print(\"The number of numerical variables in the dataset : {}\".format(data.select_dtypes(include=[np.number]).shape[1]))\n",
    "print(\"The number of categorical variables in the dataset : {}\".format(data.select_dtypes(exclude=[np.number]).shape[1]))"
   ]
  },
  {
   "cell_type": "code",
   "execution_count": 6,
   "metadata": {
    "id": "2MuCOpE_Qn3w"
   },
   "outputs": [],
   "source": [
    "data_num = data.select_dtypes(include=[np.number])\n",
    "data_cat = data.select_dtypes(exclude=[np.number])"
   ]
  },
  {
   "cell_type": "code",
   "execution_count": 7,
   "metadata": {},
   "outputs": [],
   "source": [
    "data_cat.to_csv('D:/KULIAHHH/TUGAS AKHIR/TA-2/datasampel/FKRTL MCA PCA data category only.csv')"
   ]
  },
  {
   "cell_type": "markdown",
   "metadata": {
    "id": "X5_KXRl9C2Hz"
   },
   "source": [
    "## **Dimensionality Reduction with MCA**"
   ]
  },
  {
   "cell_type": "code",
   "execution_count": 8,
   "metadata": {
    "id": "OQraqSZazP9I"
   },
   "outputs": [],
   "source": [
    "import prince\n",
    "mca = prince.MCA(n_components=5, n_iter=3, copy=True, check_input=True, engine='auto', random_state=42)"
   ]
  },
  {
   "cell_type": "code",
   "execution_count": 9,
   "metadata": {
    "id": "YmM9U5CZQn3y"
   },
   "outputs": [],
   "source": [
    "mca = mca.fit(data_cat)"
   ]
  },
  {
   "cell_type": "code",
   "execution_count": 10,
   "metadata": {
    "colab": {
     "base_uri": "https://localhost:8080/"
    },
    "id": "xuL7fEXKQn3y",
    "outputId": "80ba6696-6542-4289-bb24-ccaf794f7fbb"
   },
   "outputs": [
    {
     "data": {
      "text/plain": [
       "[0.22957349312695347,\n",
       " 0.2029335303662458,\n",
       " 0.19890341953718577,\n",
       " 0.1986259165889822,\n",
       " 0.17139569922968778]"
      ]
     },
     "execution_count": 10,
     "metadata": {},
     "output_type": "execute_result"
    }
   ],
   "source": [
    "mca.eigenvalues_"
   ]
  },
  {
   "cell_type": "code",
   "execution_count": 11,
   "metadata": {
    "colab": {
     "base_uri": "https://localhost:8080/"
    },
    "id": "r9RT_5XqQn3z",
    "outputId": "51aa2f7b-b7d6-42e6-aee3-df4e28d32221"
   },
   "outputs": [
    {
     "data": {
      "text/plain": [
       "5.7"
      ]
     },
     "execution_count": 11,
     "metadata": {},
     "output_type": "execute_result"
    }
   ],
   "source": [
    "mca.total_inertia_"
   ]
  },
  {
   "cell_type": "code",
   "execution_count": 12,
   "metadata": {
    "colab": {
     "base_uri": "https://localhost:8080/"
    },
    "id": "xQB7FEMMQn30",
    "outputId": "aaf05707-f1a9-4056-8acc-0a0de44da207"
   },
   "outputs": [
    {
     "data": {
      "text/plain": [
       "[0.040276051425785844,\n",
       " 0.03560237374846746,\n",
       " 0.03489533676090697,\n",
       " 0.03484665203315169,\n",
       " 0.030069420917489365]"
      ]
     },
     "execution_count": 12,
     "metadata": {},
     "output_type": "execute_result"
    }
   ],
   "source": [
    "mca.explained_inertia_"
   ]
  },
  {
   "cell_type": "code",
   "execution_count": 13,
   "metadata": {
    "id": "_Oeig1mwQn30"
   },
   "outputs": [],
   "source": [
    "final_component = mca.transform(data_cat)"
   ]
  },
  {
   "cell_type": "code",
   "execution_count": 14,
   "metadata": {
    "id": "b1K3QN9MQn31"
   },
   "outputs": [],
   "source": [
    "from numpy.core.defchararray import add\n",
    "\n",
    "final_component = final_component.assign(new=add('', np.arange(1, len(final_component) + 1).astype(str)))"
   ]
  },
  {
   "cell_type": "code",
   "execution_count": 15,
   "metadata": {
    "colab": {
     "base_uri": "https://localhost:8080/",
     "height": 419
    },
    "id": "8qHAGBgiSMTR",
    "outputId": "42c4bcc4-54c6-40ca-dc3f-9e02425be87c"
   },
   "outputs": [
    {
     "data": {
      "text/html": [
       "<div>\n",
       "<style scoped>\n",
       "    .dataframe tbody tr th:only-of-type {\n",
       "        vertical-align: middle;\n",
       "    }\n",
       "\n",
       "    .dataframe tbody tr th {\n",
       "        vertical-align: top;\n",
       "    }\n",
       "\n",
       "    .dataframe thead th {\n",
       "        text-align: right;\n",
       "    }\n",
       "</style>\n",
       "<table border=\"1\" class=\"dataframe\">\n",
       "  <thead>\n",
       "    <tr style=\"text-align: right;\">\n",
       "      <th></th>\n",
       "      <th>0</th>\n",
       "      <th>1</th>\n",
       "      <th>2</th>\n",
       "      <th>3</th>\n",
       "      <th>4</th>\n",
       "      <th>new</th>\n",
       "    </tr>\n",
       "  </thead>\n",
       "  <tbody>\n",
       "    <tr>\n",
       "      <th>0</th>\n",
       "      <td>-0.482193</td>\n",
       "      <td>-1.314366</td>\n",
       "      <td>-0.139377</td>\n",
       "      <td>0.234796</td>\n",
       "      <td>-0.534846</td>\n",
       "      <td>1</td>\n",
       "    </tr>\n",
       "    <tr>\n",
       "      <th>1</th>\n",
       "      <td>0.575586</td>\n",
       "      <td>-0.790547</td>\n",
       "      <td>-0.406820</td>\n",
       "      <td>0.198746</td>\n",
       "      <td>-2.191210</td>\n",
       "      <td>2</td>\n",
       "    </tr>\n",
       "    <tr>\n",
       "      <th>2</th>\n",
       "      <td>-0.208762</td>\n",
       "      <td>-0.135072</td>\n",
       "      <td>-0.244325</td>\n",
       "      <td>0.042749</td>\n",
       "      <td>-1.485076</td>\n",
       "      <td>3</td>\n",
       "    </tr>\n",
       "    <tr>\n",
       "      <th>3</th>\n",
       "      <td>1.121162</td>\n",
       "      <td>-1.119388</td>\n",
       "      <td>-0.642665</td>\n",
       "      <td>0.297018</td>\n",
       "      <td>-0.591111</td>\n",
       "      <td>4</td>\n",
       "    </tr>\n",
       "    <tr>\n",
       "      <th>4</th>\n",
       "      <td>-0.482193</td>\n",
       "      <td>-1.314366</td>\n",
       "      <td>-0.139377</td>\n",
       "      <td>0.234796</td>\n",
       "      <td>-0.534846</td>\n",
       "      <td>5</td>\n",
       "    </tr>\n",
       "    <tr>\n",
       "      <th>...</th>\n",
       "      <td>...</td>\n",
       "      <td>...</td>\n",
       "      <td>...</td>\n",
       "      <td>...</td>\n",
       "      <td>...</td>\n",
       "      <td>...</td>\n",
       "    </tr>\n",
       "    <tr>\n",
       "      <th>906900</th>\n",
       "      <td>-0.804672</td>\n",
       "      <td>-0.395274</td>\n",
       "      <td>0.146022</td>\n",
       "      <td>0.045020</td>\n",
       "      <td>0.129247</td>\n",
       "      <td>906901</td>\n",
       "    </tr>\n",
       "    <tr>\n",
       "      <th>906901</th>\n",
       "      <td>-0.537710</td>\n",
       "      <td>0.208135</td>\n",
       "      <td>0.074359</td>\n",
       "      <td>-0.067534</td>\n",
       "      <td>-0.034734</td>\n",
       "      <td>906902</td>\n",
       "    </tr>\n",
       "    <tr>\n",
       "      <th>906902</th>\n",
       "      <td>-0.804672</td>\n",
       "      <td>-0.395274</td>\n",
       "      <td>0.146022</td>\n",
       "      <td>0.045020</td>\n",
       "      <td>0.129247</td>\n",
       "      <td>906903</td>\n",
       "    </tr>\n",
       "    <tr>\n",
       "      <th>906903</th>\n",
       "      <td>0.801939</td>\n",
       "      <td>-0.377441</td>\n",
       "      <td>-0.588152</td>\n",
       "      <td>0.182224</td>\n",
       "      <td>-0.235499</td>\n",
       "      <td>906904</td>\n",
       "    </tr>\n",
       "    <tr>\n",
       "      <th>906904</th>\n",
       "      <td>0.337475</td>\n",
       "      <td>0.262069</td>\n",
       "      <td>-0.378863</td>\n",
       "      <td>0.052618</td>\n",
       "      <td>0.246350</td>\n",
       "      <td>906905</td>\n",
       "    </tr>\n",
       "  </tbody>\n",
       "</table>\n",
       "<p>906905 rows × 6 columns</p>\n",
       "</div>"
      ],
      "text/plain": [
       "               0         1         2         3         4     new\n",
       "0      -0.482193 -1.314366 -0.139377  0.234796 -0.534846       1\n",
       "1       0.575586 -0.790547 -0.406820  0.198746 -2.191210       2\n",
       "2      -0.208762 -0.135072 -0.244325  0.042749 -1.485076       3\n",
       "3       1.121162 -1.119388 -0.642665  0.297018 -0.591111       4\n",
       "4      -0.482193 -1.314366 -0.139377  0.234796 -0.534846       5\n",
       "...          ...       ...       ...       ...       ...     ...\n",
       "906900 -0.804672 -0.395274  0.146022  0.045020  0.129247  906901\n",
       "906901 -0.537710  0.208135  0.074359 -0.067534 -0.034734  906902\n",
       "906902 -0.804672 -0.395274  0.146022  0.045020  0.129247  906903\n",
       "906903  0.801939 -0.377441 -0.588152  0.182224 -0.235499  906904\n",
       "906904  0.337475  0.262069 -0.378863  0.052618  0.246350  906905\n",
       "\n",
       "[906905 rows x 6 columns]"
      ]
     },
     "execution_count": 15,
     "metadata": {},
     "output_type": "execute_result"
    }
   ],
   "source": [
    "final_component"
   ]
  },
  {
   "cell_type": "code",
   "execution_count": 16,
   "metadata": {
    "id": "KobosscLQn31"
   },
   "outputs": [],
   "source": [
    "final_component.rename(columns = {0 : 'first_component_mca', 1 : 'second_component_mca', 2 : 'third_component_mca', 3:'fourth_component_mca', 4:'fifth_component_mca'}, inplace = True)"
   ]
  },
  {
   "cell_type": "code",
   "execution_count": 17,
   "metadata": {
    "colab": {
     "base_uri": "https://localhost:8080/",
     "height": 419
    },
    "id": "cBPmDpEdSbF7",
    "outputId": "4e1ade90-58fc-4a50-ea06-736fd18168a1"
   },
   "outputs": [
    {
     "data": {
      "text/html": [
       "<div>\n",
       "<style scoped>\n",
       "    .dataframe tbody tr th:only-of-type {\n",
       "        vertical-align: middle;\n",
       "    }\n",
       "\n",
       "    .dataframe tbody tr th {\n",
       "        vertical-align: top;\n",
       "    }\n",
       "\n",
       "    .dataframe thead th {\n",
       "        text-align: right;\n",
       "    }\n",
       "</style>\n",
       "<table border=\"1\" class=\"dataframe\">\n",
       "  <thead>\n",
       "    <tr style=\"text-align: right;\">\n",
       "      <th></th>\n",
       "      <th>first_component_mca</th>\n",
       "      <th>second_component_mca</th>\n",
       "      <th>third_component_mca</th>\n",
       "      <th>fourth_component_mca</th>\n",
       "      <th>fifth_component_mca</th>\n",
       "      <th>new</th>\n",
       "    </tr>\n",
       "  </thead>\n",
       "  <tbody>\n",
       "    <tr>\n",
       "      <th>0</th>\n",
       "      <td>-0.482193</td>\n",
       "      <td>-1.314366</td>\n",
       "      <td>-0.139377</td>\n",
       "      <td>0.234796</td>\n",
       "      <td>-0.534846</td>\n",
       "      <td>1</td>\n",
       "    </tr>\n",
       "    <tr>\n",
       "      <th>1</th>\n",
       "      <td>0.575586</td>\n",
       "      <td>-0.790547</td>\n",
       "      <td>-0.406820</td>\n",
       "      <td>0.198746</td>\n",
       "      <td>-2.191210</td>\n",
       "      <td>2</td>\n",
       "    </tr>\n",
       "    <tr>\n",
       "      <th>2</th>\n",
       "      <td>-0.208762</td>\n",
       "      <td>-0.135072</td>\n",
       "      <td>-0.244325</td>\n",
       "      <td>0.042749</td>\n",
       "      <td>-1.485076</td>\n",
       "      <td>3</td>\n",
       "    </tr>\n",
       "    <tr>\n",
       "      <th>3</th>\n",
       "      <td>1.121162</td>\n",
       "      <td>-1.119388</td>\n",
       "      <td>-0.642665</td>\n",
       "      <td>0.297018</td>\n",
       "      <td>-0.591111</td>\n",
       "      <td>4</td>\n",
       "    </tr>\n",
       "    <tr>\n",
       "      <th>4</th>\n",
       "      <td>-0.482193</td>\n",
       "      <td>-1.314366</td>\n",
       "      <td>-0.139377</td>\n",
       "      <td>0.234796</td>\n",
       "      <td>-0.534846</td>\n",
       "      <td>5</td>\n",
       "    </tr>\n",
       "    <tr>\n",
       "      <th>...</th>\n",
       "      <td>...</td>\n",
       "      <td>...</td>\n",
       "      <td>...</td>\n",
       "      <td>...</td>\n",
       "      <td>...</td>\n",
       "      <td>...</td>\n",
       "    </tr>\n",
       "    <tr>\n",
       "      <th>906900</th>\n",
       "      <td>-0.804672</td>\n",
       "      <td>-0.395274</td>\n",
       "      <td>0.146022</td>\n",
       "      <td>0.045020</td>\n",
       "      <td>0.129247</td>\n",
       "      <td>906901</td>\n",
       "    </tr>\n",
       "    <tr>\n",
       "      <th>906901</th>\n",
       "      <td>-0.537710</td>\n",
       "      <td>0.208135</td>\n",
       "      <td>0.074359</td>\n",
       "      <td>-0.067534</td>\n",
       "      <td>-0.034734</td>\n",
       "      <td>906902</td>\n",
       "    </tr>\n",
       "    <tr>\n",
       "      <th>906902</th>\n",
       "      <td>-0.804672</td>\n",
       "      <td>-0.395274</td>\n",
       "      <td>0.146022</td>\n",
       "      <td>0.045020</td>\n",
       "      <td>0.129247</td>\n",
       "      <td>906903</td>\n",
       "    </tr>\n",
       "    <tr>\n",
       "      <th>906903</th>\n",
       "      <td>0.801939</td>\n",
       "      <td>-0.377441</td>\n",
       "      <td>-0.588152</td>\n",
       "      <td>0.182224</td>\n",
       "      <td>-0.235499</td>\n",
       "      <td>906904</td>\n",
       "    </tr>\n",
       "    <tr>\n",
       "      <th>906904</th>\n",
       "      <td>0.337475</td>\n",
       "      <td>0.262069</td>\n",
       "      <td>-0.378863</td>\n",
       "      <td>0.052618</td>\n",
       "      <td>0.246350</td>\n",
       "      <td>906905</td>\n",
       "    </tr>\n",
       "  </tbody>\n",
       "</table>\n",
       "<p>906905 rows × 6 columns</p>\n",
       "</div>"
      ],
      "text/plain": [
       "        first_component_mca  second_component_mca  third_component_mca  \\\n",
       "0                 -0.482193             -1.314366            -0.139377   \n",
       "1                  0.575586             -0.790547            -0.406820   \n",
       "2                 -0.208762             -0.135072            -0.244325   \n",
       "3                  1.121162             -1.119388            -0.642665   \n",
       "4                 -0.482193             -1.314366            -0.139377   \n",
       "...                     ...                   ...                  ...   \n",
       "906900            -0.804672             -0.395274             0.146022   \n",
       "906901            -0.537710              0.208135             0.074359   \n",
       "906902            -0.804672             -0.395274             0.146022   \n",
       "906903             0.801939             -0.377441            -0.588152   \n",
       "906904             0.337475              0.262069            -0.378863   \n",
       "\n",
       "        fourth_component_mca  fifth_component_mca     new  \n",
       "0                   0.234796            -0.534846       1  \n",
       "1                   0.198746            -2.191210       2  \n",
       "2                   0.042749            -1.485076       3  \n",
       "3                   0.297018            -0.591111       4  \n",
       "4                   0.234796            -0.534846       5  \n",
       "...                      ...                  ...     ...  \n",
       "906900              0.045020             0.129247  906901  \n",
       "906901             -0.067534            -0.034734  906902  \n",
       "906902              0.045020             0.129247  906903  \n",
       "906903              0.182224            -0.235499  906904  \n",
       "906904              0.052618             0.246350  906905  \n",
       "\n",
       "[906905 rows x 6 columns]"
      ]
     },
     "execution_count": 17,
     "metadata": {},
     "output_type": "execute_result"
    }
   ],
   "source": [
    "final_component"
   ]
  },
  {
   "cell_type": "markdown",
   "metadata": {
    "id": "w5IFPHcWQn31"
   },
   "source": [
    "## **Dimensionality Reduction with PCA**"
   ]
  },
  {
   "cell_type": "markdown",
   "metadata": {
    "id": "SiDxo-f9Qn32"
   },
   "source": [
    "### Correlation"
   ]
  },
  {
   "cell_type": "code",
   "execution_count": 18,
   "metadata": {
    "colab": {
     "base_uri": "https://localhost:8080/",
     "height": 166
    },
    "id": "dJZ_IxBtQn32",
    "outputId": "3453ef98-3f3e-47b1-d7ec-ba5a2a44491d",
    "scrolled": true
   },
   "outputs": [
    {
     "data": {
      "text/html": [
       "<style  type=\"text/css\" >\n",
       "#T_f833b95a_c5e2_11eb_a098_54e1ad2938f1row0_col0,#T_f833b95a_c5e2_11eb_a098_54e1ad2938f1row1_col1,#T_f833b95a_c5e2_11eb_a098_54e1ad2938f1row2_col2,#T_f833b95a_c5e2_11eb_a098_54e1ad2938f1row3_col3,#T_f833b95a_c5e2_11eb_a098_54e1ad2938f1row3_col4,#T_f833b95a_c5e2_11eb_a098_54e1ad2938f1row4_col3,#T_f833b95a_c5e2_11eb_a098_54e1ad2938f1row4_col4,#T_f833b95a_c5e2_11eb_a098_54e1ad2938f1row5_col5{\n",
       "            background-color:  #b40426;\n",
       "            color:  #f1f1f1;\n",
       "        }#T_f833b95a_c5e2_11eb_a098_54e1ad2938f1row0_col1,#T_f833b95a_c5e2_11eb_a098_54e1ad2938f1row3_col1,#T_f833b95a_c5e2_11eb_a098_54e1ad2938f1row4_col1{\n",
       "            background-color:  #5b7ae5;\n",
       "            color:  #000000;\n",
       "        }#T_f833b95a_c5e2_11eb_a098_54e1ad2938f1row0_col2,#T_f833b95a_c5e2_11eb_a098_54e1ad2938f1row1_col5,#T_f833b95a_c5e2_11eb_a098_54e1ad2938f1row3_col2,#T_f833b95a_c5e2_11eb_a098_54e1ad2938f1row4_col2,#T_f833b95a_c5e2_11eb_a098_54e1ad2938f1row5_col0,#T_f833b95a_c5e2_11eb_a098_54e1ad2938f1row5_col1,#T_f833b95a_c5e2_11eb_a098_54e1ad2938f1row5_col3,#T_f833b95a_c5e2_11eb_a098_54e1ad2938f1row5_col4{\n",
       "            background-color:  #3b4cc0;\n",
       "            color:  #f1f1f1;\n",
       "        }#T_f833b95a_c5e2_11eb_a098_54e1ad2938f1row0_col3,#T_f833b95a_c5e2_11eb_a098_54e1ad2938f1row0_col4{\n",
       "            background-color:  #d2dbe8;\n",
       "            color:  #000000;\n",
       "        }#T_f833b95a_c5e2_11eb_a098_54e1ad2938f1row0_col5{\n",
       "            background-color:  #3c4ec2;\n",
       "            color:  #f1f1f1;\n",
       "        }#T_f833b95a_c5e2_11eb_a098_54e1ad2938f1row1_col0{\n",
       "            background-color:  #5a78e4;\n",
       "            color:  #000000;\n",
       "        }#T_f833b95a_c5e2_11eb_a098_54e1ad2938f1row1_col2{\n",
       "            background-color:  #3e51c5;\n",
       "            color:  #f1f1f1;\n",
       "        }#T_f833b95a_c5e2_11eb_a098_54e1ad2938f1row1_col3{\n",
       "            background-color:  #5572df;\n",
       "            color:  #000000;\n",
       "        }#T_f833b95a_c5e2_11eb_a098_54e1ad2938f1row1_col4{\n",
       "            background-color:  #5673e0;\n",
       "            color:  #000000;\n",
       "        }#T_f833b95a_c5e2_11eb_a098_54e1ad2938f1row2_col0{\n",
       "            background-color:  #4257c9;\n",
       "            color:  #f1f1f1;\n",
       "        }#T_f833b95a_c5e2_11eb_a098_54e1ad2938f1row2_col1{\n",
       "            background-color:  #485fd1;\n",
       "            color:  #f1f1f1;\n",
       "        }#T_f833b95a_c5e2_11eb_a098_54e1ad2938f1row2_col3,#T_f833b95a_c5e2_11eb_a098_54e1ad2938f1row2_col4,#T_f833b95a_c5e2_11eb_a098_54e1ad2938f1row5_col2{\n",
       "            background-color:  #3f53c6;\n",
       "            color:  #f1f1f1;\n",
       "        }#T_f833b95a_c5e2_11eb_a098_54e1ad2938f1row2_col5{\n",
       "            background-color:  #4961d2;\n",
       "            color:  #f1f1f1;\n",
       "        }#T_f833b95a_c5e2_11eb_a098_54e1ad2938f1row3_col0{\n",
       "            background-color:  #d3dbe7;\n",
       "            color:  #000000;\n",
       "        }#T_f833b95a_c5e2_11eb_a098_54e1ad2938f1row3_col5,#T_f833b95a_c5e2_11eb_a098_54e1ad2938f1row4_col5{\n",
       "            background-color:  #4055c8;\n",
       "            color:  #f1f1f1;\n",
       "        }#T_f833b95a_c5e2_11eb_a098_54e1ad2938f1row4_col0{\n",
       "            background-color:  #d4dbe6;\n",
       "            color:  #000000;\n",
       "        }</style><table id=\"T_f833b95a_c5e2_11eb_a098_54e1ad2938f1\" ><thead>    <tr>        <th class=\"blank level0\" ></th>        <th class=\"col_heading level0 col0\" >fkrtl-Lama Kunjungan</th>        <th class=\"col_heading level0 col1\" >fkrtl-Weekend?</th>        <th class=\"col_heading level0 col2\" >fkrtl-Quarter</th>        <th class=\"col_heading level0 col3\" >FKRTL-Biaya Tagih</th>        <th class=\"col_heading level0 col4\" >FKRTL-Biaya Verifikasi</th>        <th class=\"col_heading level0 col5\" >Umur</th>    </tr></thead><tbody>\n",
       "                <tr>\n",
       "                        <th id=\"T_f833b95a_c5e2_11eb_a098_54e1ad2938f1level0_row0\" class=\"row_heading level0 row0\" >fkrtl-Lama Kunjungan</th>\n",
       "                        <td id=\"T_f833b95a_c5e2_11eb_a098_54e1ad2938f1row0_col0\" class=\"data row0 col0\" >1.000000</td>\n",
       "                        <td id=\"T_f833b95a_c5e2_11eb_a098_54e1ad2938f1row0_col1\" class=\"data row0 col1\" >0.068292</td>\n",
       "                        <td id=\"T_f833b95a_c5e2_11eb_a098_54e1ad2938f1row0_col2\" class=\"data row0 col2\" >-0.010456</td>\n",
       "                        <td id=\"T_f833b95a_c5e2_11eb_a098_54e1ad2938f1row0_col3\" class=\"data row0 col3\" >0.444128</td>\n",
       "                        <td id=\"T_f833b95a_c5e2_11eb_a098_54e1ad2938f1row0_col4\" class=\"data row0 col4\" >0.444656</td>\n",
       "                        <td id=\"T_f833b95a_c5e2_11eb_a098_54e1ad2938f1row0_col5\" class=\"data row0 col5\" >-0.038407</td>\n",
       "            </tr>\n",
       "            <tr>\n",
       "                        <th id=\"T_f833b95a_c5e2_11eb_a098_54e1ad2938f1level0_row1\" class=\"row_heading level0 row1\" >fkrtl-Weekend?</th>\n",
       "                        <td id=\"T_f833b95a_c5e2_11eb_a098_54e1ad2938f1row1_col0\" class=\"data row1 col0\" >0.068292</td>\n",
       "                        <td id=\"T_f833b95a_c5e2_11eb_a098_54e1ad2938f1row1_col1\" class=\"data row1 col1\" >1.000000</td>\n",
       "                        <td id=\"T_f833b95a_c5e2_11eb_a098_54e1ad2938f1row1_col2\" class=\"data row1 col2\" >0.002431</td>\n",
       "                        <td id=\"T_f833b95a_c5e2_11eb_a098_54e1ad2938f1row1_col3\" class=\"data row1 col3\" >0.067556</td>\n",
       "                        <td id=\"T_f833b95a_c5e2_11eb_a098_54e1ad2938f1row1_col4\" class=\"data row1 col4\" >0.067602</td>\n",
       "                        <td id=\"T_f833b95a_c5e2_11eb_a098_54e1ad2938f1row1_col5\" class=\"data row1 col5\" >-0.045916</td>\n",
       "            </tr>\n",
       "            <tr>\n",
       "                        <th id=\"T_f833b95a_c5e2_11eb_a098_54e1ad2938f1level0_row2\" class=\"row_heading level0 row2\" >fkrtl-Quarter</th>\n",
       "                        <td id=\"T_f833b95a_c5e2_11eb_a098_54e1ad2938f1row2_col0\" class=\"data row2 col0\" >-0.010456</td>\n",
       "                        <td id=\"T_f833b95a_c5e2_11eb_a098_54e1ad2938f1row2_col1\" class=\"data row2 col1\" >0.002431</td>\n",
       "                        <td id=\"T_f833b95a_c5e2_11eb_a098_54e1ad2938f1row2_col2\" class=\"data row2 col2\" >1.000000</td>\n",
       "                        <td id=\"T_f833b95a_c5e2_11eb_a098_54e1ad2938f1row2_col3\" class=\"data row2 col3\" >-0.007329</td>\n",
       "                        <td id=\"T_f833b95a_c5e2_11eb_a098_54e1ad2938f1row2_col4\" class=\"data row2 col4\" >-0.007530</td>\n",
       "                        <td id=\"T_f833b95a_c5e2_11eb_a098_54e1ad2938f1row2_col5\" class=\"data row2 col5\" >0.006011</td>\n",
       "            </tr>\n",
       "            <tr>\n",
       "                        <th id=\"T_f833b95a_c5e2_11eb_a098_54e1ad2938f1level0_row3\" class=\"row_heading level0 row3\" >FKRTL-Biaya Tagih</th>\n",
       "                        <td id=\"T_f833b95a_c5e2_11eb_a098_54e1ad2938f1row3_col0\" class=\"data row3 col0\" >0.444128</td>\n",
       "                        <td id=\"T_f833b95a_c5e2_11eb_a098_54e1ad2938f1row3_col1\" class=\"data row3 col1\" >0.067556</td>\n",
       "                        <td id=\"T_f833b95a_c5e2_11eb_a098_54e1ad2938f1row3_col2\" class=\"data row3 col2\" >-0.007329</td>\n",
       "                        <td id=\"T_f833b95a_c5e2_11eb_a098_54e1ad2938f1row3_col3\" class=\"data row3 col3\" >1.000000</td>\n",
       "                        <td id=\"T_f833b95a_c5e2_11eb_a098_54e1ad2938f1row3_col4\" class=\"data row3 col4\" >0.998928</td>\n",
       "                        <td id=\"T_f833b95a_c5e2_11eb_a098_54e1ad2938f1row3_col5\" class=\"data row3 col5\" >-0.024471</td>\n",
       "            </tr>\n",
       "            <tr>\n",
       "                        <th id=\"T_f833b95a_c5e2_11eb_a098_54e1ad2938f1level0_row4\" class=\"row_heading level0 row4\" >FKRTL-Biaya Verifikasi</th>\n",
       "                        <td id=\"T_f833b95a_c5e2_11eb_a098_54e1ad2938f1row4_col0\" class=\"data row4 col0\" >0.444656</td>\n",
       "                        <td id=\"T_f833b95a_c5e2_11eb_a098_54e1ad2938f1row4_col1\" class=\"data row4 col1\" >0.067602</td>\n",
       "                        <td id=\"T_f833b95a_c5e2_11eb_a098_54e1ad2938f1row4_col2\" class=\"data row4 col2\" >-0.007530</td>\n",
       "                        <td id=\"T_f833b95a_c5e2_11eb_a098_54e1ad2938f1row4_col3\" class=\"data row4 col3\" >0.998928</td>\n",
       "                        <td id=\"T_f833b95a_c5e2_11eb_a098_54e1ad2938f1row4_col4\" class=\"data row4 col4\" >1.000000</td>\n",
       "                        <td id=\"T_f833b95a_c5e2_11eb_a098_54e1ad2938f1row4_col5\" class=\"data row4 col5\" >-0.024460</td>\n",
       "            </tr>\n",
       "            <tr>\n",
       "                        <th id=\"T_f833b95a_c5e2_11eb_a098_54e1ad2938f1level0_row5\" class=\"row_heading level0 row5\" >Umur</th>\n",
       "                        <td id=\"T_f833b95a_c5e2_11eb_a098_54e1ad2938f1row5_col0\" class=\"data row5 col0\" >-0.038407</td>\n",
       "                        <td id=\"T_f833b95a_c5e2_11eb_a098_54e1ad2938f1row5_col1\" class=\"data row5 col1\" >-0.045916</td>\n",
       "                        <td id=\"T_f833b95a_c5e2_11eb_a098_54e1ad2938f1row5_col2\" class=\"data row5 col2\" >0.006011</td>\n",
       "                        <td id=\"T_f833b95a_c5e2_11eb_a098_54e1ad2938f1row5_col3\" class=\"data row5 col3\" >-0.024471</td>\n",
       "                        <td id=\"T_f833b95a_c5e2_11eb_a098_54e1ad2938f1row5_col4\" class=\"data row5 col4\" >-0.024460</td>\n",
       "                        <td id=\"T_f833b95a_c5e2_11eb_a098_54e1ad2938f1row5_col5\" class=\"data row5 col5\" >1.000000</td>\n",
       "            </tr>\n",
       "    </tbody></table>"
      ],
      "text/plain": [
       "<pandas.io.formats.style.Styler at 0x1c4604a8400>"
      ]
     },
     "execution_count": 18,
     "metadata": {},
     "output_type": "execute_result"
    }
   ],
   "source": [
    "import seaborn as sn\n",
    "import matplotlib.pyplot as plt\n",
    "\n",
    "corrMatrix = data_num.corr()\n",
    "# corrMatrix\n",
    "corrMatrix.style.background_gradient(cmap='coolwarm')"
   ]
  },
  {
   "cell_type": "code",
   "execution_count": 19,
   "metadata": {
    "colab": {
     "base_uri": "https://localhost:8080/"
    },
    "id": "ogMXADhQQn32",
    "outputId": "896cef9a-11b1-4b6d-9f67-d033bfa92237"
   },
   "outputs": [
    {
     "name": "stderr",
     "output_type": "stream",
     "text": [
      "C:\\Users\\User\\Anaconda3\\lib\\site-packages\\pandas\\core\\frame.py:4170: SettingWithCopyWarning: \n",
      "A value is trying to be set on a copy of a slice from a DataFrame\n",
      "\n",
      "See the caveats in the documentation: https://pandas.pydata.org/pandas-docs/stable/user_guide/indexing.html#returning-a-view-versus-a-copy\n",
      "  errors=errors,\n"
     ]
    }
   ],
   "source": [
    "# drop atribut \"Biaya verifikasi\"\n",
    "# Load data set\n",
    "data_num.drop(['FKRTL-Biaya Verifikasi'], axis=1, inplace=True)"
   ]
  },
  {
   "cell_type": "code",
   "execution_count": 11,
   "metadata": {
    "id": "auxHPKyWQn33"
   },
   "outputs": [],
   "source": [
    "from sklearn.preprocessing import MinMaxScaler\n",
    "# normalizing the data\n",
    "X_std = MinMaxScaler(feature_range=(0, 1)).fit_transform(data_num)"
   ]
  },
  {
   "cell_type": "markdown",
   "metadata": {},
   "source": [
    "covariance matrix"
   ]
  },
  {
   "cell_type": "code",
   "execution_count": 25,
   "metadata": {},
   "outputs": [
    {
     "name": "stdout",
     "output_type": "stream",
     "text": [
      "Covariance matrix n[[ 2.62563293e-05  1.19671142e-04 -2.02110594e-05  2.84242195e-05\n",
      "   2.83808509e-05 -3.84308575e-05]\n",
      " [ 1.19671142e-04  1.16950406e-01  3.13610721e-04  2.88554776e-04\n",
      "   2.87967773e-04 -3.06627847e-03]\n",
      " [-2.02110594e-05  3.13610721e-04  1.42310501e-01 -3.45304640e-05\n",
      "  -3.53835731e-05  4.42832061e-04]\n",
      " [ 2.84242195e-05  2.88554776e-04 -3.45304640e-05  1.56000568e-04\n",
      "   1.55410933e-04 -5.96847617e-05]\n",
      " [ 2.83808509e-05  2.87967773e-04 -3.53835731e-05  1.55410933e-04\n",
      "   1.55155909e-04 -5.94958644e-05]\n",
      " [-3.84308575e-05 -3.06627847e-03  4.42832061e-04 -5.96847617e-05\n",
      "  -5.94958644e-05  3.81326909e-02]]\n"
     ]
    }
   ],
   "source": [
    "mean_vec = np.mean(X_std, axis=0)\n",
    "cov_mat = (X_std - mean_vec).T.dot((X_std - mean_vec)) / (X_std.shape[0]-1)\n",
    "print('Covariance matrix n%s' %cov_mat)"
   ]
  },
  {
   "cell_type": "code",
   "execution_count": 26,
   "metadata": {},
   "outputs": [
    {
     "name": "stdout",
     "output_type": "stream",
     "text": [
      "Eigenvectors n[[ 1.33177201e-04 -1.03761904e-03  8.88172307e-04 -1.36112974e-01\n",
      "   9.90691714e-01 -1.14107149e-03]\n",
      " [-1.18854311e-02 -9.99168234e-01 -3.88420649e-02  3.54927238e-03\n",
      "  -5.22436303e-04 -5.87080809e-07]\n",
      " [-9.99921699e-01  1.17235395e-02  4.36037287e-03 -3.65714479e-04\n",
      "   9.25468008e-05  4.60617884e-06]\n",
      " [ 2.20666830e-04 -2.49296430e-03  1.28128680e-03 -7.01465366e-01\n",
      "  -9.71926295e-02 -7.06039679e-01]\n",
      " [ 2.26703317e-04 -2.48795858e-03  1.27679368e-03 -6.99573191e-01\n",
      "  -9.53037737e-02  7.08171356e-01]\n",
      " [-3.90067492e-03  3.88833758e-02 -9.99233817e-01 -2.05391011e-03\n",
      "   6.54887864e-04 -1.42228511e-06]]\n",
      "nEigenvalues n[1.42315975e-01 1.17067614e-01 3.80117533e-02 3.14854957e-04\n",
      " 2.06471315e-05 1.66701707e-07]\n"
     ]
    }
   ],
   "source": [
    "#Calculating eigenvectors and eigenvalues on covariance matrix\n",
    "cov_mat = np.cov(X_std.T)\n",
    "eig_vals, eig_vecs = np.linalg.eig(cov_mat)\n",
    "print('Eigenvectors n%s' %eig_vecs)\n",
    "print('nEigenvalues n%s' %eig_vals)"
   ]
  },
  {
   "cell_type": "code",
   "execution_count": 27,
   "metadata": {
    "colab": {
     "base_uri": "https://localhost:8080/"
    },
    "id": "ff4nSpv9Qn33",
    "outputId": "846836fe-9cfb-467b-ab02-8367e0507bbc"
   },
   "outputs": [
    {
     "data": {
      "text/plain": [
       "PCA()"
      ]
     },
     "execution_count": 27,
     "metadata": {},
     "output_type": "execute_result"
    }
   ],
   "source": [
    "from sklearn.cluster import KMeans # Our clustering algorithm\n",
    "from sklearn.decomposition import PCA # Needed for dimension reduction\n",
    "pca = PCA()\n",
    "pca.fit(X_std)"
   ]
  },
  {
   "cell_type": "code",
   "execution_count": 14,
   "metadata": {
    "colab": {
     "base_uri": "https://localhost:8080/",
     "height": 530
    },
    "id": "ISMR-JVIQn34",
    "outputId": "e4e92eb8-49a0-4825-b952-0276332e9690",
    "scrolled": false
   },
   "outputs": [
    {
     "data": {
      "text/plain": [
       "Text(0, 0.5, 'Cummulative Explained Variance')"
      ]
     },
     "execution_count": 14,
     "metadata": {},
     "output_type": "execute_result"
    },
    {
     "data": {
      "image/png": "[encoded data removed]",
      "text/plain": [
       "<Figure size 720x576 with 1 Axes>"
      ]
     },
     "metadata": {},
     "output_type": "display_data"
    }
   ],
   "source": [
    "from matplotlib import*\n",
    "import matplotlib.pyplot as plt\n",
    "plt.figure(figsize = (10,8))\n",
    "plt.plot(range(1,7), pca.explained_variance_ratio_.cumsum(), marker ='o', linestyle='--')\n",
    "plt.title('Explained Variance by Components FKTP')\n",
    "plt.xlabel('Number of Components')\n",
    "plt.ylabel('Cummulative Explained Variance')\n"
   ]
  },
  {
   "cell_type": "code",
   "execution_count": 16,
   "metadata": {
    "id": "of7PRxqhQn34"
   },
   "outputs": [],
   "source": [
    "pca = PCA(n_components=3)\n",
    "pca.fit(X_std)\n",
    "final_principal = pca.transform(X_std)"
   ]
  },
  {
   "cell_type": "code",
   "execution_count": 22,
   "metadata": {
    "colab": {
     "base_uri": "https://localhost:8080/"
    },
    "id": "OP0W8o_GQn34",
    "outputId": "85a76277-1a03-4849-c51a-0bb8cf483dbe"
   },
   "outputs": [
    {
     "name": "stdout",
     "output_type": "stream",
     "text": [
      "Explained variation per principal component: [0.47800185 0.39319926 0.12767146]\n"
     ]
    }
   ],
   "source": [
    "# eigen value\n",
    "print('Explained variation per principal component: {}'.format(pca.explained_variance_ratio_))"
   ]
  },
  {
   "cell_type": "code",
   "execution_count": 18,
   "metadata": {
    "id": "PNeEYbKvQn35"
   },
   "outputs": [],
   "source": [
    "final_principal = pd.DataFrame(final_principal)"
   ]
  },
  {
   "cell_type": "code",
   "execution_count": 27,
   "metadata": {
    "id": "tUrrPT1LQn35"
   },
   "outputs": [],
   "source": [
    "from numpy.core.defchararray import add\n",
    "\n",
    "final_principal = final_principal.assign(new=add('', np.arange(1, len(final_principal) + 1).astype(str)))"
   ]
  },
  {
   "cell_type": "code",
   "execution_count": 28,
   "metadata": {
    "colab": {
     "base_uri": "https://localhost:8080/",
     "height": 419
    },
    "id": "CpdfjF5ZQn36",
    "outputId": "74e59935-bd22-480e-d109-36733789e612"
   },
   "outputs": [
    {
     "data": {
      "text/html": [
       "<div>\n",
       "<style scoped>\n",
       "    .dataframe tbody tr th:only-of-type {\n",
       "        vertical-align: middle;\n",
       "    }\n",
       "\n",
       "    .dataframe tbody tr th {\n",
       "        vertical-align: top;\n",
       "    }\n",
       "\n",
       "    .dataframe thead th {\n",
       "        text-align: right;\n",
       "    }\n",
       "</style>\n",
       "<table border=\"1\" class=\"dataframe\">\n",
       "  <thead>\n",
       "    <tr style=\"text-align: right;\">\n",
       "      <th></th>\n",
       "      <th>0</th>\n",
       "      <th>1</th>\n",
       "      <th>2</th>\n",
       "      <th>new</th>\n",
       "    </tr>\n",
       "  </thead>\n",
       "  <tbody>\n",
       "    <tr>\n",
       "      <th>0</th>\n",
       "      <td>0.503399</td>\n",
       "      <td>0.859365</td>\n",
       "      <td>0.311390</td>\n",
       "      <td>1</td>\n",
       "    </tr>\n",
       "    <tr>\n",
       "      <th>1</th>\n",
       "      <td>-0.149615</td>\n",
       "      <td>-0.130535</td>\n",
       "      <td>-0.164100</td>\n",
       "      <td>2</td>\n",
       "    </tr>\n",
       "    <tr>\n",
       "      <th>2</th>\n",
       "      <td>0.517903</td>\n",
       "      <td>-0.113737</td>\n",
       "      <td>-0.396761</td>\n",
       "      <td>3</td>\n",
       "    </tr>\n",
       "    <tr>\n",
       "      <th>3</th>\n",
       "      <td>-0.482975</td>\n",
       "      <td>-0.134992</td>\n",
       "      <td>-0.156028</td>\n",
       "      <td>4</td>\n",
       "    </tr>\n",
       "    <tr>\n",
       "      <th>4</th>\n",
       "      <td>-0.482758</td>\n",
       "      <td>-0.132831</td>\n",
       "      <td>-0.212568</td>\n",
       "      <td>5</td>\n",
       "    </tr>\n",
       "    <tr>\n",
       "      <th>...</th>\n",
       "      <td>...</td>\n",
       "      <td>...</td>\n",
       "      <td>...</td>\n",
       "      <td>...</td>\n",
       "    </tr>\n",
       "    <tr>\n",
       "      <th>906900</th>\n",
       "      <td>0.181684</td>\n",
       "      <td>-0.146669</td>\n",
       "      <td>0.346525</td>\n",
       "      <td>906901</td>\n",
       "    </tr>\n",
       "    <tr>\n",
       "      <th>906901</th>\n",
       "      <td>-0.148900</td>\n",
       "      <td>-0.123434</td>\n",
       "      <td>-0.352507</td>\n",
       "      <td>906902</td>\n",
       "    </tr>\n",
       "    <tr>\n",
       "      <th>906902</th>\n",
       "      <td>-0.483790</td>\n",
       "      <td>-0.143112</td>\n",
       "      <td>0.051388</td>\n",
       "      <td>906903</td>\n",
       "    </tr>\n",
       "    <tr>\n",
       "      <th>906903</th>\n",
       "      <td>-0.483675</td>\n",
       "      <td>-0.141968</td>\n",
       "      <td>0.023083</td>\n",
       "      <td>906904</td>\n",
       "    </tr>\n",
       "    <tr>\n",
       "      <th>906904</th>\n",
       "      <td>-0.149820</td>\n",
       "      <td>-0.132603</td>\n",
       "      <td>-0.116839</td>\n",
       "      <td>906905</td>\n",
       "    </tr>\n",
       "  </tbody>\n",
       "</table>\n",
       "<p>906905 rows × 4 columns</p>\n",
       "</div>"
      ],
      "text/plain": [
       "               0         1         2     new\n",
       "0       0.503399  0.859365  0.311390       1\n",
       "1      -0.149615 -0.130535 -0.164100       2\n",
       "2       0.517903 -0.113737 -0.396761       3\n",
       "3      -0.482975 -0.134992 -0.156028       4\n",
       "4      -0.482758 -0.132831 -0.212568       5\n",
       "...          ...       ...       ...     ...\n",
       "906900  0.181684 -0.146669  0.346525  906901\n",
       "906901 -0.148900 -0.123434 -0.352507  906902\n",
       "906902 -0.483790 -0.143112  0.051388  906903\n",
       "906903 -0.483675 -0.141968  0.023083  906904\n",
       "906904 -0.149820 -0.132603 -0.116839  906905\n",
       "\n",
       "[906905 rows x 4 columns]"
      ]
     },
     "execution_count": 28,
     "metadata": {},
     "output_type": "execute_result"
    }
   ],
   "source": [
    "final_principal"
   ]
  },
  {
   "cell_type": "code",
   "execution_count": 29,
   "metadata": {
    "id": "7jGanpMIQn36"
   },
   "outputs": [],
   "source": [
    "final_principal.rename(columns = {0 : 'first_component_pca', 1 : 'second_component_pca', 2 : 'third_component_pca'}, inplace = True)"
   ]
  },
  {
   "cell_type": "code",
   "execution_count": 30,
   "metadata": {
    "id": "Iw2ppQgcQn36"
   },
   "outputs": [],
   "source": [
    "final_attribut = pd.concat([final_principal, final_component], axis=1)"
   ]
  },
  {
   "cell_type": "code",
   "execution_count": 31,
   "metadata": {
    "colab": {
     "base_uri": "https://localhost:8080/",
     "height": 419
    },
    "id": "W9QfTJUsQn37",
    "outputId": "94f1adf3-f475-4e4f-f623-80e04774dda8"
   },
   "outputs": [
    {
     "data": {
      "text/html": [
       "<div>\n",
       "<style scoped>\n",
       "    .dataframe tbody tr th:only-of-type {\n",
       "        vertical-align: middle;\n",
       "    }\n",
       "\n",
       "    .dataframe tbody tr th {\n",
       "        vertical-align: top;\n",
       "    }\n",
       "\n",
       "    .dataframe thead th {\n",
       "        text-align: right;\n",
       "    }\n",
       "</style>\n",
       "<table border=\"1\" class=\"dataframe\">\n",
       "  <thead>\n",
       "    <tr style=\"text-align: right;\">\n",
       "      <th></th>\n",
       "      <th>first_component_pca</th>\n",
       "      <th>second_component_pca</th>\n",
       "      <th>third_component_pca</th>\n",
       "      <th>new</th>\n",
       "      <th>first_component_mca</th>\n",
       "      <th>second_component_mca</th>\n",
       "      <th>third_component_mca</th>\n",
       "      <th>fourth_component_mca</th>\n",
       "      <th>fifth_component_mca</th>\n",
       "      <th>new</th>\n",
       "    </tr>\n",
       "  </thead>\n",
       "  <tbody>\n",
       "    <tr>\n",
       "      <th>0</th>\n",
       "      <td>0.503399</td>\n",
       "      <td>0.859365</td>\n",
       "      <td>0.311390</td>\n",
       "      <td>1</td>\n",
       "      <td>-0.482193</td>\n",
       "      <td>-1.314366</td>\n",
       "      <td>-0.139377</td>\n",
       "      <td>0.234796</td>\n",
       "      <td>-0.534846</td>\n",
       "      <td>1</td>\n",
       "    </tr>\n",
       "    <tr>\n",
       "      <th>1</th>\n",
       "      <td>-0.149615</td>\n",
       "      <td>-0.130535</td>\n",
       "      <td>-0.164100</td>\n",
       "      <td>2</td>\n",
       "      <td>0.575586</td>\n",
       "      <td>-0.790547</td>\n",
       "      <td>-0.406820</td>\n",
       "      <td>0.198746</td>\n",
       "      <td>-2.191210</td>\n",
       "      <td>2</td>\n",
       "    </tr>\n",
       "    <tr>\n",
       "      <th>2</th>\n",
       "      <td>0.517903</td>\n",
       "      <td>-0.113737</td>\n",
       "      <td>-0.396761</td>\n",
       "      <td>3</td>\n",
       "      <td>-0.208762</td>\n",
       "      <td>-0.135072</td>\n",
       "      <td>-0.244325</td>\n",
       "      <td>0.042749</td>\n",
       "      <td>-1.485076</td>\n",
       "      <td>3</td>\n",
       "    </tr>\n",
       "    <tr>\n",
       "      <th>3</th>\n",
       "      <td>-0.482975</td>\n",
       "      <td>-0.134992</td>\n",
       "      <td>-0.156028</td>\n",
       "      <td>4</td>\n",
       "      <td>1.121162</td>\n",
       "      <td>-1.119388</td>\n",
       "      <td>-0.642665</td>\n",
       "      <td>0.297018</td>\n",
       "      <td>-0.591111</td>\n",
       "      <td>4</td>\n",
       "    </tr>\n",
       "    <tr>\n",
       "      <th>4</th>\n",
       "      <td>-0.482758</td>\n",
       "      <td>-0.132831</td>\n",
       "      <td>-0.212568</td>\n",
       "      <td>5</td>\n",
       "      <td>-0.482193</td>\n",
       "      <td>-1.314366</td>\n",
       "      <td>-0.139377</td>\n",
       "      <td>0.234796</td>\n",
       "      <td>-0.534846</td>\n",
       "      <td>5</td>\n",
       "    </tr>\n",
       "    <tr>\n",
       "      <th>...</th>\n",
       "      <td>...</td>\n",
       "      <td>...</td>\n",
       "      <td>...</td>\n",
       "      <td>...</td>\n",
       "      <td>...</td>\n",
       "      <td>...</td>\n",
       "      <td>...</td>\n",
       "      <td>...</td>\n",
       "      <td>...</td>\n",
       "      <td>...</td>\n",
       "    </tr>\n",
       "    <tr>\n",
       "      <th>906900</th>\n",
       "      <td>0.181684</td>\n",
       "      <td>-0.146669</td>\n",
       "      <td>0.346525</td>\n",
       "      <td>906901</td>\n",
       "      <td>-0.804672</td>\n",
       "      <td>-0.395274</td>\n",
       "      <td>0.146022</td>\n",
       "      <td>0.045020</td>\n",
       "      <td>0.129247</td>\n",
       "      <td>906901</td>\n",
       "    </tr>\n",
       "    <tr>\n",
       "      <th>906901</th>\n",
       "      <td>-0.148900</td>\n",
       "      <td>-0.123434</td>\n",
       "      <td>-0.352507</td>\n",
       "      <td>906902</td>\n",
       "      <td>-0.537710</td>\n",
       "      <td>0.208135</td>\n",
       "      <td>0.074359</td>\n",
       "      <td>-0.067534</td>\n",
       "      <td>-0.034734</td>\n",
       "      <td>906902</td>\n",
       "    </tr>\n",
       "    <tr>\n",
       "      <th>906902</th>\n",
       "      <td>-0.483790</td>\n",
       "      <td>-0.143112</td>\n",
       "      <td>0.051388</td>\n",
       "      <td>906903</td>\n",
       "      <td>-0.804672</td>\n",
       "      <td>-0.395274</td>\n",
       "      <td>0.146022</td>\n",
       "      <td>0.045020</td>\n",
       "      <td>0.129247</td>\n",
       "      <td>906903</td>\n",
       "    </tr>\n",
       "    <tr>\n",
       "      <th>906903</th>\n",
       "      <td>-0.483675</td>\n",
       "      <td>-0.141968</td>\n",
       "      <td>0.023083</td>\n",
       "      <td>906904</td>\n",
       "      <td>0.801939</td>\n",
       "      <td>-0.377441</td>\n",
       "      <td>-0.588152</td>\n",
       "      <td>0.182224</td>\n",
       "      <td>-0.235499</td>\n",
       "      <td>906904</td>\n",
       "    </tr>\n",
       "    <tr>\n",
       "      <th>906904</th>\n",
       "      <td>-0.149820</td>\n",
       "      <td>-0.132603</td>\n",
       "      <td>-0.116839</td>\n",
       "      <td>906905</td>\n",
       "      <td>0.337475</td>\n",
       "      <td>0.262069</td>\n",
       "      <td>-0.378863</td>\n",
       "      <td>0.052618</td>\n",
       "      <td>0.246350</td>\n",
       "      <td>906905</td>\n",
       "    </tr>\n",
       "  </tbody>\n",
       "</table>\n",
       "<p>906905 rows × 10 columns</p>\n",
       "</div>"
      ],
      "text/plain": [
       "        first_component_pca  second_component_pca  third_component_pca  \\\n",
       "0                  0.503399              0.859365             0.311390   \n",
       "1                 -0.149615             -0.130535            -0.164100   \n",
       "2                  0.517903             -0.113737            -0.396761   \n",
       "3                 -0.482975             -0.134992            -0.156028   \n",
       "4                 -0.482758             -0.132831            -0.212568   \n",
       "...                     ...                   ...                  ...   \n",
       "906900             0.181684             -0.146669             0.346525   \n",
       "906901            -0.148900             -0.123434            -0.352507   \n",
       "906902            -0.483790             -0.143112             0.051388   \n",
       "906903            -0.483675             -0.141968             0.023083   \n",
       "906904            -0.149820             -0.132603            -0.116839   \n",
       "\n",
       "           new  first_component_mca  second_component_mca  \\\n",
       "0            1            -0.482193             -1.314366   \n",
       "1            2             0.575586             -0.790547   \n",
       "2            3            -0.208762             -0.135072   \n",
       "3            4             1.121162             -1.119388   \n",
       "4            5            -0.482193             -1.314366   \n",
       "...        ...                  ...                   ...   \n",
       "906900  906901            -0.804672             -0.395274   \n",
       "906901  906902            -0.537710              0.208135   \n",
       "906902  906903            -0.804672             -0.395274   \n",
       "906903  906904             0.801939             -0.377441   \n",
       "906904  906905             0.337475              0.262069   \n",
       "\n",
       "        third_component_mca  fourth_component_mca  fifth_component_mca     new  \n",
       "0                 -0.139377              0.234796            -0.534846       1  \n",
       "1                 -0.406820              0.198746            -2.191210       2  \n",
       "2                 -0.244325              0.042749            -1.485076       3  \n",
       "3                 -0.642665              0.297018            -0.591111       4  \n",
       "4                 -0.139377              0.234796            -0.534846       5  \n",
       "...                     ...                   ...                  ...     ...  \n",
       "906900             0.146022              0.045020             0.129247  906901  \n",
       "906901             0.074359             -0.067534            -0.034734  906902  \n",
       "906902             0.146022              0.045020             0.129247  906903  \n",
       "906903            -0.588152              0.182224            -0.235499  906904  \n",
       "906904            -0.378863              0.052618             0.246350  906905  \n",
       "\n",
       "[906905 rows x 10 columns]"
      ]
     },
     "execution_count": 31,
     "metadata": {},
     "output_type": "execute_result"
    }
   ],
   "source": [
    "final_attribut"
   ]
  },
  {
   "cell_type": "code",
   "execution_count": 32,
   "metadata": {
    "id": "klIIukSqQn37"
   },
   "outputs": [],
   "source": [
    "final_attribut.drop(['new'], axis=1, inplace=True)"
   ]
  },
  {
   "cell_type": "markdown",
   "metadata": {
    "id": "o6_6-HAdJAUE"
   },
   "source": [
    "### ** K-Means**"
   ]
  },
  {
   "cell_type": "markdown",
   "metadata": {
    "id": "qSTusuxxJIML"
   },
   "source": [
    "Menentukan jumlah cluster dengan elbow method"
   ]
  },
  {
   "cell_type": "code",
   "execution_count": 33,
   "metadata": {
    "id": "wDyf-dAoQn38"
   },
   "outputs": [],
   "source": [
    "distortions = []\n",
    "inertias = []\n",
    "mapping1 = {}\n",
    "mapping2 = {}\n",
    "K = range(1, 10)\n",
    "\n",
    "for k in K:\n",
    "    # Building and fitting the model\n",
    "    kmeanModel = KMeans(n_clusters=k).fit(final_attribut)\n",
    "    kmeanModel.fit(final_attribut)\n",
    " \n",
    "    distortions.append(sum(np.min(cdist(final_attribut, kmeanModel.cluster_centers_,\n",
    "                                        'euclidean'), axis=1)) / final_attribut.shape[0])\n",
    "    inertias.append(kmeanModel.inertia_)\n",
    " \n",
    "    mapping1[k] = sum(np.min(cdist(final_attribut, kmeanModel.cluster_centers_,\n",
    "                                   'euclidean'), axis=1)) / final_attribut.shape[0]\n",
    "    mapping2[k] = kmeanModel.inertia_"
   ]
  },
  {
   "cell_type": "code",
   "execution_count": 34,
   "metadata": {
    "colab": {
     "base_uri": "https://localhost:8080/",
     "height": 295
    },
    "id": "JQCxVD1jIXD_",
    "outputId": "f42aa8f9-01b9-483e-871d-567a1af9fed6"
   },
   "outputs": [
    {
     "data": {
      "image/png": "[encoded data removed]",
      "text/plain": [
       "<Figure size 432x288 with 1 Axes>"
      ]
     },
     "metadata": {
      "needs_background": "light"
     },
     "output_type": "display_data"
    }
   ],
   "source": [
    "plt.plot(K, distortions, 'bx-')\n",
    "plt.xlabel('Values of K')\n",
    "plt.ylabel('Distortion')\n",
    "plt.title('The Elbow Method using Distortion')\n",
    "plt.show()"
   ]
  },
  {
   "cell_type": "markdown",
   "metadata": {
    "id": "581p-gjiQn39"
   },
   "source": [
    "### Davies Bouldin Score"
   ]
  },
  {
   "cell_type": "code",
   "execution_count": 35,
   "metadata": {
    "colab": {
     "base_uri": "https://localhost:8080/",
     "height": 400
    },
    "id": "-w6u5h1SQn39",
    "outputId": "11338af7-719a-4c54-d90c-1ace41041c00"
   },
   "outputs": [
    {
     "name": "stdout",
     "output_type": "stream",
     "text": [
      "1.0143836526486618\n",
      "1.4031568357533162\n",
      "1.1886725939755052\n",
      "1.0379491271938477\n",
      "0.9640936416191127\n",
      "0.9543865556051895\n",
      "1.0116167936237945\n"
     ]
    },
    {
     "data": {
      "image/png": "[encoded data removed]",
      "text/plain": [
       "<Figure size 432x288 with 1 Axes>"
      ]
     },
     "metadata": {
      "needs_background": "light"
     },
     "output_type": "display_data"
    }
   ],
   "source": [
    "from sklearn.metrics import davies_bouldin_score\n",
    "k = [2, 3, 4, 5, 6, 7, 8]\n",
    "scores = []\n",
    "\n",
    "for i in k:\n",
    "    y_pred = KMeans(n_clusters = i, max_iter=1000, random_state = 43).fit_predict(final_attribut)\n",
    "    score = davies_bouldin_score(final_attribut, y_pred)\n",
    "    scores.append(score)\n",
    "    print(score)\n",
    "\n",
    "plt.plot(k, scores, 'o-')\n",
    "plt.title('DAVIES-BOULDIN')\n",
    "plt.show()"
   ]
  },
  {
   "cell_type": "code",
   "execution_count": 36,
   "metadata": {
    "colab": {
     "base_uri": "https://localhost:8080/",
     "height": 400
    },
    "id": "uS8CTfN1Qn3-",
    "outputId": "9246236d-4979-476a-c1e5-df11f24d9350"
   },
   "outputs": [
    {
     "name": "stdout",
     "output_type": "stream",
     "text": [
      "142300.6701869968\n",
      "180917.28972794983\n",
      "215098.68195516238\n",
      "250729.58714332088\n",
      "279448.4607147956\n",
      "286986.84175662126\n",
      "286967.4242053399\n"
     ]
    },
    {
     "data": {
      "image/png": "[encoded data removed]",
      "text/plain": [
       "<Figure size 432x288 with 1 Axes>"
      ]
     },
     "metadata": {
      "needs_background": "light"
     },
     "output_type": "display_data"
    }
   ],
   "source": [
    "from sklearn.metrics import calinski_harabasz_score\n",
    "k = [2, 3, 4, 5, 6, 7, 8]\n",
    "scores = []\n",
    " \n",
    "for i in k:\n",
    "    y_pred = KMeans(n_clusters = i, max_iter=1000, random_state = 43).fit_predict(final_attribut)\n",
    "    score = calinski_harabasz_score(final_attribut, y_pred)\n",
    "    scores.append(score)\n",
    "    print(score)\n",
    " \n",
    "plt.plot(k, scores, 'o-')\n",
    "plt.title('CALINSKI-HARABASZ')\n",
    "plt.show()"
   ]
  },
  {
   "cell_type": "code",
   "execution_count": 82,
   "metadata": {
    "colab": {
     "base_uri": "https://localhost:8080/",
     "height": 233
    },
    "id": "qCYrNByjTcRP",
    "outputId": "b7fdd47b-2b3d-460b-ace9-99484e7a7f16"
   },
   "outputs": [
    {
     "name": "stdout",
     "output_type": "stream",
     "text": [
      "[0.19117514129997115]\n",
      "[0.19117514129997115, 0.192325536863597]\n",
      "[0.19117514129997115, 0.192325536863597, 0.24027041652207834]\n",
      "[0.19117514129997115, 0.192325536863597, 0.24027041652207834, 0.28582984876755396]\n",
      "[0.19117514129997115, 0.192325536863597, 0.24027041652207834, 0.28582984876755396, 0.29968930413817624]\n",
      "[0.19117514129997115, 0.192325536863597, 0.24027041652207834, 0.28582984876755396, 0.29968930413817624, 0.31659325129846977]\n",
      "[0.19117514129997115, 0.192325536863597, 0.24027041652207834, 0.28582984876755396, 0.29968930413817624, 0.31659325129846977, 0.2944219466473602]\n"
     ]
    },
    {
     "data": {
      "image/png": "[encoded data removed]",
      "text/plain": [
       "<Figure size 432x288 with 1 Axes>"
      ]
     },
     "metadata": {
      "needs_background": "light"
     },
     "output_type": "display_data"
    }
   ],
   "source": [
    "from sklearn.metrics import silhouette_score\n",
    "k = [2, 3, 4, 5, 6, 7, 8]\n",
    "score=[]\n",
    "for n_cluster in k:\n",
    "    kmeans = KMeans(n_clusters=n_cluster).fit(final_attribut)\n",
    "    score.append(silhouette_score(final_attribut,kmeans.labels_))\n",
    "    print(score)\n",
    "plt.plot(k, score, 'o-')\n",
    "plt.xlabel(\"Value for k\")\n",
    "plt.ylabel(\"Silhouette score\")\n",
    "plt.title('Silhouette Method')\n",
    "plt.show()"
   ]
  },
  {
   "cell_type": "markdown",
   "metadata": {
    "id": "TA-uSTE0Qn3-"
   },
   "source": [
    "##### n=2"
   ]
  },
  {
   "cell_type": "code",
   "execution_count": 37,
   "metadata": {
    "id": "Jf7OSm3NQn3_"
   },
   "outputs": [],
   "source": [
    "kmeans_pca_2 = KMeans(n_clusters = 2, init ='k-means++', random_state=42)"
   ]
  },
  {
   "cell_type": "code",
   "execution_count": 38,
   "metadata": {
    "colab": {
     "base_uri": "https://localhost:8080/"
    },
    "id": "30ekGEodQn3_",
    "outputId": "d9f486b4-7307-4ab5-afa6-2215c4fc248d"
   },
   "outputs": [
    {
     "data": {
      "text/plain": [
       "KMeans(n_clusters=2, random_state=42)"
      ]
     },
     "execution_count": 38,
     "metadata": {},
     "output_type": "execute_result"
    }
   ],
   "source": [
    "# fit data dengan model kmeans pca\n",
    "kmeans_pca_2.fit(final_attribut)"
   ]
  },
  {
   "cell_type": "code",
   "execution_count": 39,
   "metadata": {
    "colab": {
     "base_uri": "https://localhost:8080/"
    },
    "id": "1buSC1kaQn4A",
    "outputId": "c71b6fc9-d9bf-4a1b-824a-b5a7fd470bc5"
   },
   "outputs": [
    {
     "data": {
      "text/plain": [
       "1003235.8110477375"
      ]
     },
     "execution_count": 39,
     "metadata": {},
     "output_type": "execute_result"
    }
   ],
   "source": [
    "kmeans_pca_2.inertia_"
   ]
  },
  {
   "cell_type": "markdown",
   "metadata": {
    "id": "_VzpMIPXQn4C"
   },
   "source": [
    "#### n = 3"
   ]
  },
  {
   "cell_type": "code",
   "execution_count": 40,
   "metadata": {
    "id": "K7x5LjBk9iW_"
   },
   "outputs": [],
   "source": [
    "kmeans_pca = KMeans(n_clusters = 3, init ='k-means++', random_state=42)"
   ]
  },
  {
   "cell_type": "code",
   "execution_count": 41,
   "metadata": {
    "colab": {
     "base_uri": "https://localhost:8080/"
    },
    "id": "jw7gbTn594sR",
    "outputId": "74e9ce8c-6c09-4161-b743-7488e95e7d06"
   },
   "outputs": [
    {
     "data": {
      "text/plain": [
       "KMeans(n_clusters=3, random_state=42)"
      ]
     },
     "execution_count": 41,
     "metadata": {},
     "output_type": "execute_result"
    }
   ],
   "source": [
    "# fit data dengan model kmeans pca\n",
    "kmeans_pca.fit(final_attribut)"
   ]
  },
  {
   "cell_type": "code",
   "execution_count": 42,
   "metadata": {
    "colab": {
     "base_uri": "https://localhost:8080/"
    },
    "id": "BYfc7JzOQn4C",
    "outputId": "230ab5ae-d86a-4ddd-9a04-06a18db08aac"
   },
   "outputs": [
    {
     "data": {
      "text/plain": [
       "845850.9789223014"
      ]
     },
     "execution_count": 42,
     "metadata": {},
     "output_type": "execute_result"
    }
   ],
   "source": [
    "kmeans_pca.inertia_"
   ]
  },
  {
   "cell_type": "markdown",
   "metadata": {
    "id": "swHU9zHlQn4E"
   },
   "source": [
    "#### n=4"
   ]
  },
  {
   "cell_type": "code",
   "execution_count": 43,
   "metadata": {
    "id": "27IKokxTQn4E"
   },
   "outputs": [],
   "source": [
    "kmeans_pca_4 = KMeans(n_clusters = 4, init ='k-means++', random_state=42)"
   ]
  },
  {
   "cell_type": "code",
   "execution_count": 44,
   "metadata": {
    "colab": {
     "base_uri": "https://localhost:8080/"
    },
    "id": "F_lLTrqhQn4E",
    "outputId": "0450478e-68fe-4af4-fc57-486fb45c5d6a"
   },
   "outputs": [
    {
     "data": {
      "text/plain": [
       "KMeans(n_clusters=4, random_state=42)"
      ]
     },
     "execution_count": 44,
     "metadata": {},
     "output_type": "execute_result"
    }
   ],
   "source": [
    "# fit data dengan model kmeans pca\n",
    "kmeans_pca_4.fit(final_attribut)"
   ]
  },
  {
   "cell_type": "code",
   "execution_count": 45,
   "metadata": {
    "colab": {
     "base_uri": "https://localhost:8080/"
    },
    "id": "QUFjbRyPQn4E",
    "outputId": "5d0c83c6-0af4-44a0-f1dd-9ef6a71f1b72"
   },
   "outputs": [
    {
     "data": {
      "text/plain": [
       "688809.2332019248"
      ]
     },
     "execution_count": 45,
     "metadata": {},
     "output_type": "execute_result"
    }
   ],
   "source": [
    "kmeans_pca_4.inertia_"
   ]
  },
  {
   "cell_type": "markdown",
   "metadata": {
    "id": "Ar7LzEqFQn4G"
   },
   "source": [
    "#### n=5"
   ]
  },
  {
   "cell_type": "code",
   "execution_count": 46,
   "metadata": {
    "id": "NQCTf6uqQn4G"
   },
   "outputs": [],
   "source": [
    "kmeans_pca_5 = KMeans(n_clusters = 5, init ='k-means++', random_state=42)"
   ]
  },
  {
   "cell_type": "code",
   "execution_count": 47,
   "metadata": {
    "colab": {
     "base_uri": "https://localhost:8080/"
    },
    "id": "V4tXFuFxQn4G",
    "outputId": "dfe1bcf9-8a8e-49e4-ae00-17aa98ff7ed6"
   },
   "outputs": [
    {
     "data": {
      "text/plain": [
       "KMeans(n_clusters=5, random_state=42)"
      ]
     },
     "execution_count": 47,
     "metadata": {},
     "output_type": "execute_result"
    }
   ],
   "source": [
    "# fit data dengan model kmeans pca\n",
    "kmeans_pca_5.fit(final_attribut)"
   ]
  },
  {
   "cell_type": "code",
   "execution_count": 48,
   "metadata": {
    "colab": {
     "base_uri": "https://localhost:8080/"
    },
    "id": "NMFmcbnOQn4G",
    "outputId": "8855f355-adf3-4e89-8b03-15e8fe38daa4"
   },
   "outputs": [
    {
     "data": {
      "text/plain": [
       "561830.5858208629"
      ]
     },
     "execution_count": 48,
     "metadata": {},
     "output_type": "execute_result"
    }
   ],
   "source": [
    "kmeans_pca_5.inertia_"
   ]
  },
  {
   "cell_type": "markdown",
   "metadata": {
    "id": "5hqKmAB9Qn4H"
   },
   "source": [
    "#### n=6"
   ]
  },
  {
   "cell_type": "code",
   "execution_count": 49,
   "metadata": {
    "id": "aBQiu1xeQn4I"
   },
   "outputs": [],
   "source": [
    "kmeans_pca_6 = KMeans(n_clusters = 6, init ='k-means++', random_state=42)"
   ]
  },
  {
   "cell_type": "code",
   "execution_count": 50,
   "metadata": {
    "colab": {
     "base_uri": "https://localhost:8080/"
    },
    "id": "19HbGEboQn4I",
    "outputId": "55db8c3f-6630-4104-a4e7-c5598d31fe94"
   },
   "outputs": [
    {
     "data": {
      "text/plain": [
       "KMeans(n_clusters=6, random_state=42)"
      ]
     },
     "execution_count": 50,
     "metadata": {},
     "output_type": "execute_result"
    }
   ],
   "source": [
    "# fit data dengan model kmeans pca\n",
    "kmeans_pca_6.fit(final_attribut)"
   ]
  },
  {
   "cell_type": "code",
   "execution_count": 51,
   "metadata": {
    "colab": {
     "base_uri": "https://localhost:8080/"
    },
    "id": "aaxM74lbnAM2",
    "outputId": "aebbdcb7-15ba-4833-cfd5-d814d7399db7"
   },
   "outputs": [
    {
     "data": {
      "text/plain": [
       "465727.89136481046"
      ]
     },
     "execution_count": 51,
     "metadata": {},
     "output_type": "execute_result"
    }
   ],
   "source": [
    "kmeans_pca_6.inertia_"
   ]
  },
  {
   "cell_type": "markdown",
   "metadata": {
    "id": "XgdqSeutizz6"
   },
   "source": [
    "#### n=7"
   ]
  },
  {
   "cell_type": "code",
   "execution_count": 52,
   "metadata": {
    "id": "dJwEqC8xizz7"
   },
   "outputs": [],
   "source": [
    "kmeans_pca_7 = KMeans(n_clusters = 7, init ='k-means++', random_state=42)"
   ]
  },
  {
   "cell_type": "code",
   "execution_count": 53,
   "metadata": {
    "colab": {
     "base_uri": "https://localhost:8080/"
    },
    "id": "P93AiF-rizz7",
    "outputId": "bfb9b93f-528d-477e-ac8d-1219a48d1482"
   },
   "outputs": [
    {
     "data": {
      "text/plain": [
       "KMeans(n_clusters=7, random_state=42)"
      ]
     },
     "execution_count": 53,
     "metadata": {},
     "output_type": "execute_result"
    }
   ],
   "source": [
    "# fit data dengan model kmeans pca\n",
    "kmeans_pca_7.fit(final_attribut)"
   ]
  },
  {
   "cell_type": "code",
   "execution_count": 54,
   "metadata": {
    "colab": {
     "base_uri": "https://localhost:8080/"
    },
    "id": "kOeV_8sBizz7",
    "outputId": "f833006e-1cfe-4fc2-c81e-e4432e4a2ed1"
   },
   "outputs": [
    {
     "data": {
      "text/plain": [
       "408206.4717179679"
      ]
     },
     "execution_count": 54,
     "metadata": {},
     "output_type": "execute_result"
    }
   ],
   "source": [
    "kmeans_pca_7.inertia_"
   ]
  },
  {
   "cell_type": "markdown",
   "metadata": {
    "id": "hsiY1EOpi0up"
   },
   "source": [
    "#### n=8"
   ]
  },
  {
   "cell_type": "code",
   "execution_count": 55,
   "metadata": {
    "id": "_EtAINDni0up"
   },
   "outputs": [],
   "source": [
    "kmeans_pca_8 = KMeans(n_clusters = 8, init ='k-means++', random_state=42)"
   ]
  },
  {
   "cell_type": "code",
   "execution_count": 56,
   "metadata": {
    "colab": {
     "base_uri": "https://localhost:8080/"
    },
    "id": "ieXc3_MFi0uq",
    "outputId": "a850d506-8692-4049-f257-30dc37390eaf"
   },
   "outputs": [
    {
     "data": {
      "text/plain": [
       "KMeans(random_state=42)"
      ]
     },
     "execution_count": 56,
     "metadata": {},
     "output_type": "execute_result"
    }
   ],
   "source": [
    "# fit data dengan model kmeans pca\n",
    "kmeans_pca_8.fit(final_attribut)"
   ]
  },
  {
   "cell_type": "code",
   "execution_count": 57,
   "metadata": {
    "colab": {
     "base_uri": "https://localhost:8080/"
    },
    "id": "JbI6dYCQi0uq",
    "outputId": "6b961e16-eeba-477a-de2b-36db9d865d74"
   },
   "outputs": [
    {
     "data": {
      "text/plain": [
       "368046.0551631919"
      ]
     },
     "execution_count": 57,
     "metadata": {},
     "output_type": "execute_result"
    }
   ],
   "source": [
    "kmeans_pca_8.inertia_"
   ]
  },
  {
   "cell_type": "markdown",
   "metadata": {
    "id": "GmHxaBcJ-FSu"
   },
   "source": [
    "Analisis Hasil"
   ]
  },
  {
   "cell_type": "code",
   "execution_count": 58,
   "metadata": {
    "colab": {
     "base_uri": "https://localhost:8080/"
    },
    "id": "2hLvwe_nOocw",
    "outputId": "129e3c4f-bd42-4f67-d0c3-0acb1fdebea8"
   },
   "outputs": [
    {
     "name": "stderr",
     "output_type": "stream",
     "text": [
      "C:\\Users\\User\\Anaconda3\\lib\\site-packages\\IPython\\core\\interactiveshell.py:3072: DtypeWarning: Columns (13) have mixed types.Specify dtype option on import or set low_memory=False.\n",
      "  interactivity=interactivity, compiler=compiler, result=result)\n"
     ]
    }
   ],
   "source": [
    "fkrtl_not_transform = pd.read_csv('E:/Mata Kuliah/Semester 8/TugasAkhir II/Week 15/Data/fkrtl_not_transformation.csv')"
   ]
  },
  {
   "cell_type": "code",
   "execution_count": 136,
   "metadata": {
    "id": "3zJOm_0c-DTN"
   },
   "outputs": [],
   "source": [
    "fkrtl_segm_pca_kmeans = pd.concat([fkrtl_not_transform.reset_index(drop = True), pd.DataFrame(final_attribut)], axis = 1)\n",
    "fkrtl_segm_pca_kmeans.columns.values[-8: ] = ['Component 1', 'Component 2', 'Component 3', 'Component 4', 'Component 5', 'Component 6', 'Component 7', 'Component 8']\n",
    "\n",
    "fkrtl_segm_pca_kmeans['Cluster'] = kmeans_pca_6.labels_"
   ]
  },
  {
   "cell_type": "code",
   "execution_count": 139,
   "metadata": {
    "id": "cZzBYxFELf1M"
   },
   "outputs": [],
   "source": [
    "fkrtl_segm_pca_kmeans['Segment'] = fkrtl_segm_pca_kmeans['Cluster'].map({0:'1', 1:'2', 2:'3', 3:'4', 4:'5', 5:'6'})"
   ]
  },
  {
   "cell_type": "code",
   "execution_count": 140,
   "metadata": {
    "colab": {
     "base_uri": "https://localhost:8080/",
     "height": 295
    },
    "id": "OGsxVI7jGoHK",
    "outputId": "84bd12e1-e973-4a51-ae09-5249393a852d"
   },
   "outputs": [
    {
     "data": {
      "image/png": "[encoded data removed]",
      "text/plain": [
       "<Figure size 432x288 with 1 Axes>"
      ]
     },
     "metadata": {
      "needs_background": "light"
     },
     "output_type": "display_data"
    }
   ],
   "source": [
    "#Check size of each cluster - Are they all representative ?\n",
    "import seaborn as sns\n",
    "cluster_size = []\n",
    "for centroid, cluster_df in fkrtl_segm_pca_kmeans.groupby(\"Segment\"):\n",
    "        cluster_size.append([centroid, len(cluster_df)])\n",
    "cluster_sizes = pd.DataFrame(cluster_size, columns = [\"cluster\", \"size\"])\n",
    "cluster_sizes.set_index(\"cluster\", drop = True, inplace = True)\n",
    "sns.barplot(x=cluster_sizes.index, y='size', data=cluster_sizes)\n",
    "plt.title('Population Size by Cluster')\n",
    "plt.show()"
   ]
  },
  {
   "cell_type": "code",
   "execution_count": 142,
   "metadata": {},
   "outputs": [
    {
     "data": {
      "text/plain": [
       "3    396681\n",
       "2    231065\n",
       "1    120223\n",
       "6     92716\n",
       "5     66219\n",
       "4         1\n",
       "Name: Segment, dtype: int64"
      ]
     },
     "execution_count": 142,
     "metadata": {},
     "output_type": "execute_result"
    }
   ],
   "source": [
    "fkrtl_segm_pca_kmeans['Segment'].value_counts()"
   ]
  },
  {
   "cell_type": "code",
   "execution_count": 141,
   "metadata": {
    "colab": {
     "base_uri": "https://localhost:8080/"
    },
    "id": "UlA_LlglG81T",
    "outputId": "cbd602d8-7a02-4c21-b5d9-cdcfd1289d8e"
   },
   "outputs": [
    {
     "data": {
      "text/plain": [
       "2    396681\n",
       "1    231065\n",
       "0    120223\n",
       "5     92716\n",
       "4     66219\n",
       "3         1\n",
       "Name: Cluster, dtype: int64"
      ]
     },
     "execution_count": 141,
     "metadata": {},
     "output_type": "execute_result"
    }
   ],
   "source": [
    "fkrtl_segm_pca_kmeans['Cluster'].value_counts()"
   ]
  },
  {
   "cell_type": "code",
   "execution_count": 65,
   "metadata": {
    "id": "DXY4cgCRoZxv"
   },
   "outputs": [],
   "source": [
    "fkrtl_segm_pca_kmeans.to_csv('E:/Mata Kuliah/Semester 8/TugasAkhir II/Week 16/Data/fkrtl_hasil_cluster_mca+pca_6.csv')"
   ]
  },
  {
   "cell_type": "code",
   "execution_count": 66,
   "metadata": {
    "colab": {
     "base_uri": "https://localhost:8080/"
    },
    "id": "dlVy_pGEnjGE",
    "outputId": "efc28207-36b7-41ca-9ba8-760880df389d"
   },
   "outputs": [
    {
     "name": "stdout",
     "output_type": "stream",
     "text": [
      "<class 'pandas.core.frame.DataFrame'>\n",
      "RangeIndex: 906905 entries, 0 to 906904\n",
      "Data columns (total 54 columns):\n",
      " #   Column                                  Non-Null Count   Dtype  \n",
      "---  ------                                  --------------   -----  \n",
      " 0   Unnamed: 0                              906905 non-null  int64  \n",
      " 1   Hasil Rujukan FKTP?                     906905 non-null  object \n",
      " 2   provinsi perujuk sama?                  906905 non-null  object \n",
      " 3   kab/kota perujuk sama?                  906905 non-null  object \n",
      " 4   fkrtl-tanggal datang                    906905 non-null  object \n",
      " 5   fkrtl-tanggal pulang                    906905 non-null  object \n",
      " 6   fkrtl-Lama Kunjungan                    906905 non-null  int64  \n",
      " 7   fkrtl-Hari Kunjungan                    906905 non-null  object \n",
      " 8   fkrtl-Weekend?                          906905 non-null  int64  \n",
      " 9   fkrtl-Month                             906905 non-null  int64  \n",
      " 10  fkrtl-Year                              906905 non-null  int64  \n",
      " 11  fkrtl-Quarter                           906905 non-null  int64  \n",
      " 12  Nomor Peserta                           906905 non-null  int64  \n",
      " 13  FKRTL-ID Kunjungan                      906905 non-null  object \n",
      " 14  FKRTL-Provinsi Faskes                   906905 non-null  object \n",
      " 15  FKRTL-Kab/Kota Faskes                   906905 non-null  object \n",
      " 16  FKRTL-Kepemilikan Faskes                906905 non-null  object \n",
      " 17  FKRTL-Jenis Faskes                      906905 non-null  object \n",
      " 18  FKRTL-Tipe Faskes                       906905 non-null  object \n",
      " 19  FKRTL-Tingkat Layanan                   906905 non-null  object \n",
      " 20  FKRTL-Segmen Peserta                    906905 non-null  object \n",
      " 21  FKRTL-Kelas Rawat                       906905 non-null  object \n",
      " 22  FKRTL-Status Pulang                     906905 non-null  object \n",
      " 23  FKRTL-Kode dan Nama Diagnosis Masuk     906905 non-null  object \n",
      " 24  FKRTL-Kode dan Nama Diagnosis Sekunder  517274 non-null  object \n",
      " 25  FKRTL-Kode dan Nama Diagnosis Primer    906905 non-null  object \n",
      " 26  FKRTL-Biaya Tagih                       906905 non-null  int64  \n",
      " 27  FKRTL-Biaya Verifikasi                  906905 non-null  int64  \n",
      " 28  FKRTL-Provinsi Faskes Perujuk           906905 non-null  object \n",
      " 29  FKRTL-Kab/Kota Faskes Perujuk           906905 non-null  object \n",
      " 30  FKRTL-Kepemilikan Faskes Perujuk        906905 non-null  object \n",
      " 31  FKRTL-Jenis Faskes Perujuk              906905 non-null  object \n",
      " 32  FKRTL-Tipe Faskes Perujuk               906905 non-null  object \n",
      " 33  Hubungan Keluarga                       906905 non-null  object \n",
      " 34  Status Kawin                            906905 non-null  object \n",
      " 35  Kelas Rawat Peserta                     906905 non-null  object \n",
      " 36  Jenis Kelamin Peserta                   906905 non-null  object \n",
      " 37  Segmen Peserta yang Terdaftar           906905 non-null  object \n",
      " 38  Kepemilikan Faskes yang Terdaftar       906905 non-null  object \n",
      " 39  Jenis Faskes yang Terdaftar             906905 non-null  object \n",
      " 40  Provinsi Peserta Terdaftar              906905 non-null  object \n",
      " 41  Kab/Kota Peserta Terdaftar              906905 non-null  object \n",
      " 42  Umur                                    906905 non-null  int64  \n",
      " 43  kategori umur                           906905 non-null  object \n",
      " 44  Component 1                             906905 non-null  float64\n",
      " 45  Component 2                             906905 non-null  float64\n",
      " 46  Component 3                             906905 non-null  float64\n",
      " 47  Component 4                             906905 non-null  float64\n",
      " 48  Component 5                             906905 non-null  float64\n",
      " 49  Component 6                             906905 non-null  float64\n",
      " 50  Component 7                             906905 non-null  float64\n",
      " 51  Component 8                             906905 non-null  float64\n",
      " 52  Cluster                                 906905 non-null  int32  \n",
      " 53  Segment                                 814189 non-null  object \n",
      "dtypes: float64(8), int32(1), int64(10), object(35)\n",
      "memory usage: 370.2+ MB\n"
     ]
    }
   ],
   "source": [
    "fkrtl_segm_pca_kmeans.info()"
   ]
  },
  {
   "cell_type": "code",
   "execution_count": 135,
   "metadata": {
    "id": "5z2788eGnjJJ"
   },
   "outputs": [],
   "source": [
    "fkrtl_segm_pca_kmeans.drop(['Component 1', 'Component 2', 'Component 3', 'Component 4', 'Component 5', 'Component 6', 'Component 7', 'Component 8', 'Cluster', 'Segment'], axis=1, inplace=True)"
   ]
  },
  {
   "cell_type": "code",
   "execution_count": 131,
   "metadata": {
    "id": "hZWWccl3pMA4"
   },
   "outputs": [],
   "source": [
    "fkrtl_segm_pca_kmeans = pd.concat([fkrtl_not_transform.reset_index(drop = True), pd.DataFrame(final_attribut)], axis = 1)\n",
    "fkrtl_segm_pca_kmeans.columns.values[-8: ] = ['Component 1', 'Component 2', 'Component 3', 'Component 4', 'Component 5', 'Component 6', 'Component 7', 'Component 8']\n",
    "\n",
    "fkrtl_segm_pca_kmeans['Cluster'] = kmeans_pca_5.labels_"
   ]
  },
  {
   "cell_type": "code",
   "execution_count": 132,
   "metadata": {
    "id": "fbYZldIhpXDU"
   },
   "outputs": [],
   "source": [
    "fkrtl_segm_pca_kmeans['Segment'] = fkrtl_segm_pca_kmeans['Cluster'].map({0:'1', 1:'2', 2:'3', 3:'4', 4:'5'})"
   ]
  },
  {
   "cell_type": "code",
   "execution_count": 133,
   "metadata": {
    "colab": {
     "base_uri": "https://localhost:8080/",
     "height": 295
    },
    "id": "SraFdBiypXDV",
    "outputId": "ce8746db-8c11-47b3-bfcf-7d6fb540a143"
   },
   "outputs": [
    {
     "data": {
      "image/png": "[encoded data removed]",
      "text/plain": [
       "<Figure size 432x288 with 1 Axes>"
      ]
     },
     "metadata": {
      "needs_background": "light"
     },
     "output_type": "display_data"
    }
   ],
   "source": [
    "#Check size of each cluster - Are they all representative ?\n",
    "import seaborn as sns\n",
    "cluster_size = []\n",
    "for centroid, cluster_df in fkrtl_segm_pca_kmeans.groupby(\"Segment\"):\n",
    "        cluster_size.append([centroid, len(cluster_df)])\n",
    "cluster_sizes = pd.DataFrame(cluster_size, columns = [\"cluster\", \"size\"])\n",
    "cluster_sizes.set_index(\"cluster\", drop = True, inplace = True)\n",
    "sns.barplot(x=cluster_sizes.index, y='size', data=cluster_sizes)\n",
    "plt.title('Population Size by Cluster')\n",
    "plt.show()"
   ]
  },
  {
   "cell_type": "code",
   "execution_count": 134,
   "metadata": {},
   "outputs": [
    {
     "data": {
      "text/plain": [
       "3    435995\n",
       "1    309313\n",
       "2     95236\n",
       "5     66360\n",
       "4         1\n",
       "Name: Segment, dtype: int64"
      ]
     },
     "execution_count": 134,
     "metadata": {},
     "output_type": "execute_result"
    }
   ],
   "source": [
    "fkrtl_segm_pca_kmeans['Segment'].value_counts()"
   ]
  },
  {
   "cell_type": "code",
   "execution_count": 74,
   "metadata": {
    "colab": {
     "base_uri": "https://localhost:8080/"
    },
    "id": "_0czbIp-pXDW",
    "outputId": "26a8c20b-ad6c-473c-b2a2-0b0b007c7a8f"
   },
   "outputs": [
    {
     "data": {
      "text/plain": [
       "2    435995\n",
       "0    309313\n",
       "1     95236\n",
       "4     66360\n",
       "3         1\n",
       "Name: Cluster, dtype: int64"
      ]
     },
     "execution_count": 74,
     "metadata": {},
     "output_type": "execute_result"
    }
   ],
   "source": [
    "fkrtl_segm_pca_kmeans['Cluster'].value_counts()"
   ]
  },
  {
   "cell_type": "code",
   "execution_count": 75,
   "metadata": {
    "id": "v4xeBXHWp9bb"
   },
   "outputs": [],
   "source": [
    "fkrtl_segm_pca_kmeans.to_csv('E:/Mata Kuliah/Semester 8/TugasAkhir II/Week 16/Data/fkrtl_hasil_cluster_mca+pca_5.csv')"
   ]
  },
  {
   "cell_type": "code",
   "execution_count": null,
   "metadata": {},
   "outputs": [],
   "source": []
  },
  {
   "cell_type": "code",
   "execution_count": 117,
   "metadata": {
    "id": "5z2788eGnjJJ"
   },
   "outputs": [],
   "source": [
    "fkrtl_segm_pca_kmeans.drop(['Component 1', 'Component 2', 'Component 3', 'Component 4', 'Component 5', 'Component 6', 'Component 7', 'Component 8', 'Cluster', 'Segment'], axis=1, inplace=True)"
   ]
  },
  {
   "cell_type": "code",
   "execution_count": 119,
   "metadata": {},
   "outputs": [],
   "source": [
    "fkrtl_segm_pca_kmeans = pd.concat([fkrtl_not_transform.reset_index(drop = True), pd.DataFrame(final_attribut)], axis = 1)\n",
    "fkrtl_segm_pca_kmeans.columns.values[-8: ] = ['Component 1', 'Component 2', 'Component 3', 'Component 4', 'Component 5', 'Component 6', 'Component 7', 'Component 8']\n",
    "\n",
    "fkrtl_segm_pca_kmeans['Cluster'] = kmeans_pca.labels_"
   ]
  },
  {
   "cell_type": "code",
   "execution_count": 120,
   "metadata": {},
   "outputs": [],
   "source": [
    "fkrtl_segm_pca_kmeans['Segment'] = fkrtl_segm_pca_kmeans['Cluster'].map({0:'1', 1:'2', 2:'3'})"
   ]
  },
  {
   "cell_type": "code",
   "execution_count": 123,
   "metadata": {},
   "outputs": [
    {
     "data": {
      "image/png": "[encoded data removed]",
      "text/plain": [
       "<Figure size 432x288 with 1 Axes>"
      ]
     },
     "metadata": {
      "needs_background": "light"
     },
     "output_type": "display_data"
    }
   ],
   "source": [
    "#Check size of each cluster - Are they all representative ?\n",
    "import seaborn as sns\n",
    "cluster_size = []\n",
    "for centroid, cluster_df in fkrtl_segm_pca_kmeans.groupby(\"Segment\"):\n",
    "        cluster_size.append([centroid, len(cluster_df)])\n",
    "cluster_sizes = pd.DataFrame(cluster_size, columns = [\"cluster\", \"size\"])\n",
    "cluster_sizes.set_index(\"cluster\", drop = True, inplace = True)\n",
    "sns.barplot(x=cluster_sizes.index, y='size', data=cluster_sizes)\n",
    "plt.title('Population Size by Cluster')\n",
    "plt.show()"
   ]
  },
  {
   "cell_type": "code",
   "execution_count": 124,
   "metadata": {},
   "outputs": [
    {
     "data": {
      "text/plain": [
       "0    512001\n",
       "2    394903\n",
       "1         1\n",
       "Name: Cluster, dtype: int64"
      ]
     },
     "execution_count": 124,
     "metadata": {},
     "output_type": "execute_result"
    }
   ],
   "source": [
    "fkrtl_segm_pca_kmeans['Cluster'].value_counts()"
   ]
  },
  {
   "cell_type": "code",
   "execution_count": 92,
   "metadata": {},
   "outputs": [
    {
     "data": {
      "image/png": "[encoded data removed]",
      "text/plain": [
       "<Figure size 432x288 with 1 Axes>"
      ]
     },
     "metadata": {
      "needs_background": "light"
     },
     "output_type": "display_data"
    }
   ],
   "source": [
    "# Getting the Centroids\n",
    "centroids = kmeans_pca.cluster_centers_\n",
    "X = np.array(final_attribut)\n",
    "label = kmeans_pca.labels_\n",
    "u_labels = np.unique(label)\n",
    "\n",
    "#plotting the results:\n",
    " \n",
    "for i in u_labels:\n",
    "    plt.scatter(X[label == i , 0] , X[label == i , 1] , label = i)\n",
    "plt.scatter(centroids[:,0] , centroids[:,1] , s = 100, color = 'k')\n",
    "plt.legend()\n",
    "plt.show()"
   ]
  },
  {
   "cell_type": "code",
   "execution_count": 95,
   "metadata": {},
   "outputs": [
    {
     "data": {
      "text/plain": [
       "<mpl_toolkits.mplot3d.art3d.Path3DCollection at 0x1c47780a278>"
      ]
     },
     "execution_count": 95,
     "metadata": {},
     "output_type": "execute_result"
    },
    {
     "data": {
      "image/png": "[encoded data removed]",
      "text/plain": [
       "<Figure size 720x720 with 1 Axes>"
      ]
     },
     "metadata": {
      "needs_background": "light"
     },
     "output_type": "display_data"
    }
   ],
   "source": [
    "label = kmeans_pca.labels_\n",
    "X = np.array(final_attribut)\n",
    "fig = plt.figure(figsize = (10,10))\n",
    "ax = fig.add_subplot(111, projection='3d')\n",
    "ax.scatter(X[label == 0,0],X[label == 0,1],X[label == 0,2])\n",
    "ax.scatter(X[label == 1,0],X[label == 1,1],X[label == 1,2])\n",
    "ax.scatter(X[label == 2,0],X[label == 2,1],X[label == 2,2])"
   ]
  },
  {
   "cell_type": "code",
   "execution_count": 94,
   "metadata": {},
   "outputs": [],
   "source": [
    "fkrtl_segm_pca_kmeans.to_csv('E:/Mata Kuliah/Semester 8/TugasAkhir II/Week 16/Data/fkrtl_hasil_cluster_mca+pca_3.csv')"
   ]
  },
  {
   "cell_type": "code",
   "execution_count": 125,
   "metadata": {},
   "outputs": [],
   "source": [
    "fkrtl_segm_pca_kmeans.drop(['Component 1', 'Component 2', 'Component 3', 'Component 4', 'Component 5', 'Component 6', 'Component 7', 'Component 8', 'Cluster', 'Segment'], axis=1, inplace=True)"
   ]
  },
  {
   "cell_type": "code",
   "execution_count": 126,
   "metadata": {},
   "outputs": [],
   "source": [
    "fkrtl_segm_pca_kmeans = pd.concat([fkrtl_not_transform.reset_index(drop = True), pd.DataFrame(final_attribut)], axis = 1)\n",
    "fkrtl_segm_pca_kmeans.columns.values[-8: ] = ['Component 1', 'Component 2', 'Component 3', 'Component 4', 'Component 5', 'Component 6', 'Component 7', 'Component 8']\n",
    "\n",
    "fkrtl_segm_pca_kmeans['Cluster'] = kmeans_pca_4.labels_"
   ]
  },
  {
   "cell_type": "code",
   "execution_count": 127,
   "metadata": {},
   "outputs": [],
   "source": [
    "fkrtl_segm_pca_kmeans['Segment'] = fkrtl_segm_pca_kmeans['Cluster'].map({0:'1', 1:'2', 2:'3',3:'4'})"
   ]
  },
  {
   "cell_type": "code",
   "execution_count": 128,
   "metadata": {},
   "outputs": [
    {
     "data": {
      "image/png": "[encoded data removed]",
      "text/plain": [
       "<Figure size 432x288 with 1 Axes>"
      ]
     },
     "metadata": {
      "needs_background": "light"
     },
     "output_type": "display_data"
    }
   ],
   "source": [
    "#Check size of each cluster - Are they all representative ?\n",
    "import seaborn as sns\n",
    "cluster_size = []\n",
    "for centroid, cluster_df in fkrtl_segm_pca_kmeans.groupby(\"Segment\"):\n",
    "        cluster_size.append([centroid, len(cluster_df)])\n",
    "cluster_sizes = pd.DataFrame(cluster_size, columns = [\"cluster\", \"size\"])\n",
    "cluster_sizes.set_index(\"cluster\", drop = True, inplace = True)\n",
    "sns.barplot(x=cluster_sizes.index, y='size', data=cluster_sizes)\n",
    "plt.title('Population Size by Cluster')\n",
    "plt.show()"
   ]
  },
  {
   "cell_type": "code",
   "execution_count": 100,
   "metadata": {},
   "outputs": [
    {
     "data": {
      "text/plain": [
       "1    486841\n",
       "0    353628\n",
       "2     66435\n",
       "3         1\n",
       "Name: Cluster, dtype: int64"
      ]
     },
     "execution_count": 100,
     "metadata": {},
     "output_type": "execute_result"
    }
   ],
   "source": [
    "fkrtl_segm_pca_kmeans['Cluster'].value_counts()"
   ]
  },
  {
   "cell_type": "code",
   "execution_count": 129,
   "metadata": {},
   "outputs": [
    {
     "data": {
      "image/png": "[encoded data removed]",
      "text/plain": [
       "<Figure size 432x288 with 1 Axes>"
      ]
     },
     "metadata": {
      "needs_background": "light"
     },
     "output_type": "display_data"
    }
   ],
   "source": [
    "# Getting the Centroids\n",
    "centroids = kmeans_pca_4.cluster_centers_\n",
    "X = np.array(final_attribut)\n",
    "label = kmeans_pca_4.labels_\n",
    "u_labels = np.unique(label)\n",
    "\n",
    "#plotting the results:\n",
    " \n",
    "for i in u_labels:\n",
    "    plt.scatter(X[label == i , 0] , X[label == i , 1] , label = i)\n",
    "plt.scatter(centroids[:,0] , centroids[:,1] , s = 100, color = 'k')\n",
    "plt.legend()\n",
    "plt.show()"
   ]
  },
  {
   "cell_type": "code",
   "execution_count": 104,
   "metadata": {},
   "outputs": [
    {
     "data": {
      "text/plain": [
       "<mpl_toolkits.mplot3d.art3d.Path3DCollection at 0x1c47a5d07b8>"
      ]
     },
     "execution_count": 104,
     "metadata": {},
     "output_type": "execute_result"
    },
    {
     "data": {
      "image/png": "[encoded data removed]",
      "text/plain": [
       "<Figure size 720x720 with 1 Axes>"
      ]
     },
     "metadata": {
      "needs_background": "light"
     },
     "output_type": "display_data"
    }
   ],
   "source": [
    "label = kmeans_pca_4.labels_\n",
    "X = np.array(final_attribut)\n",
    "fig = plt.figure(figsize = (10,10))\n",
    "ax = fig.add_subplot(111, projection='3d')\n",
    "ax.scatter(X[label == 0,0],X[label == 0,1],X[label == 0,2])\n",
    "ax.scatter(X[label == 1,0],X[label == 1,1],X[label == 1,2])\n",
    "ax.scatter(X[label == 2,0],X[label == 2,1],X[label == 2,2])\n",
    "ax.scatter(X[label == 3,0],X[label == 3,1],X[label == 3,2])"
   ]
  },
  {
   "cell_type": "code",
   "execution_count": 103,
   "metadata": {},
   "outputs": [],
   "source": [
    "fkrtl_segm_pca_kmeans.to_csv('E:/Mata Kuliah/Semester 8/TugasAkhir II/Week 16/Data/fkrtl_hasil_cluster_mca+pca_4.csv')"
   ]
  },
  {
   "cell_type": "code",
   "execution_count": null,
   "metadata": {},
   "outputs": [],
   "source": []
  },
  {
   "cell_type": "markdown",
   "metadata": {
    "id": "RJ25KriGQn4K"
   },
   "source": [
    "# VISUALISASI CLUSTER"
   ]
  },
  {
   "cell_type": "code",
   "execution_count": 76,
   "metadata": {
    "colab": {
     "base_uri": "https://localhost:8080/",
     "height": 265
    },
    "id": "oayINIAmQn4K",
    "outputId": "5557af76-0717-4bfe-b513-2f72fd7be0e8"
   },
   "outputs": [
    {
     "data": {
      "image/png": "[encoded data removed]",
      "text/plain": [
       "<Figure size 432x288 with 1 Axes>"
      ]
     },
     "metadata": {
      "needs_background": "light"
     },
     "output_type": "display_data"
    }
   ],
   "source": [
    "# Getting the Centroids\n",
    "centroids = kmeans_pca_5.cluster_centers_\n",
    "X = np.array(final_attribut)\n",
    "label = kmeans_pca_5.labels_\n",
    "u_labels = np.unique(label)\n",
    "\n",
    "#plotting the results:\n",
    " \n",
    "for i in u_labels:\n",
    "    plt.scatter(X[label == i , 0] , X[label == i , 1] , label = i)\n",
    "plt.scatter(centroids[:,0] , centroids[:,1] , s = 100, color = 'k')\n",
    "plt.legend()\n",
    "plt.show()"
   ]
  },
  {
   "cell_type": "code",
   "execution_count": 77,
   "metadata": {
    "colab": {
     "base_uri": "https://localhost:8080/",
     "height": 265
    },
    "id": "pITUndwx7Ykz",
    "outputId": "875e21e9-8140-447f-ef1d-bd1b5eddb055"
   },
   "outputs": [
    {
     "data": {
      "image/png": "[encoded data removed]",
      "text/plain": [
       "<Figure size 432x288 with 1 Axes>"
      ]
     },
     "metadata": {
      "needs_background": "light"
     },
     "output_type": "display_data"
    }
   ],
   "source": [
    "# Getting the Centroids\n",
    "centroids = kmeans_pca_5.cluster_centers_\n",
    "X = final_attribut.values\n",
    "label = kmeans_pca_5.labels_\n",
    "u_labels = np.unique(label)\n",
    "\n",
    "#plotting the results:\n",
    " \n",
    "for i in u_labels:\n",
    "    plt.scatter(X[label == i , 0] , X[label == i , 1] , label = i)\n",
    "plt.scatter(centroids[:,0] , centroids[:,1] , s = 100, color = 'k')\n",
    "plt.legend()\n",
    "plt.show()"
   ]
  },
  {
   "cell_type": "code",
   "execution_count": 78,
   "metadata": {
    "colab": {
     "base_uri": "https://localhost:8080/",
     "height": 592
    },
    "id": "RyKZZ9clQn4K",
    "outputId": "e7cd20e8-4cca-433e-daa4-aa045273ea14"
   },
   "outputs": [
    {
     "data": {
      "text/plain": [
       "<mpl_toolkits.mplot3d.art3d.Path3DCollection at 0x1c4853bd3c8>"
      ]
     },
     "execution_count": 78,
     "metadata": {},
     "output_type": "execute_result"
    },
    {
     "data": {
      "image/png": "[encoded data removed]",
      "text/plain": [
       "<Figure size 720x720 with 1 Axes>"
      ]
     },
     "metadata": {
      "needs_background": "light"
     },
     "output_type": "display_data"
    }
   ],
   "source": [
    "label = kmeans_pca_5.labels_\n",
    "X = np.array(final_attribut)\n",
    "fig = plt.figure(figsize = (10,10))\n",
    "ax = fig.add_subplot(111, projection='3d')\n",
    "ax.scatter(X[label == 0,0],X[label == 0,1],X[label == 0,2])\n",
    "ax.scatter(X[label == 1,0],X[label == 1,1],X[label == 1,2])\n",
    "ax.scatter(X[label == 2,0],X[label == 2,1],X[label == 2,2])\n",
    "ax.scatter(X[label == 3,0],X[label == 3,1],X[label == 3,2])\n",
    "ax.scatter(X[label == 4,0],X[label == 4,1],X[label == 4,2])\n",
    "# ax.scatter(X[label == 5,0],X[label == 5,1],X[label == 5,2])\n",
    "# ax.scatter(final_principal[label == 5,0],final_principal[label == 5,1],final_principal[label == 5,2])\n"
   ]
  },
  {
   "cell_type": "code",
   "execution_count": 79,
   "metadata": {
    "colab": {
     "base_uri": "https://localhost:8080/",
     "height": 265
    },
    "id": "3GYLR9UT9Mor",
    "outputId": "cdf0d5ce-6703-4006-b5c1-fdce4acc7592"
   },
   "outputs": [
    {
     "data": {
      "image/png": "[encoded data removed]",
      "text/plain": [
       "<Figure size 432x288 with 1 Axes>"
      ]
     },
     "metadata": {
      "needs_background": "light"
     },
     "output_type": "display_data"
    }
   ],
   "source": [
    "# Getting the Centroids\n",
    "centroids = kmeans_pca_6.cluster_centers_\n",
    "X = np.array(final_attribut)\n",
    "label = kmeans_pca_6.labels_\n",
    "u_labels = np.unique(label)\n",
    "\n",
    "#plotting the results:\n",
    " \n",
    "for i in u_labels:\n",
    "    plt.scatter(X[label == i , 0] , X[label == i , 1] , label = i)\n",
    "plt.scatter(centroids[:,0] , centroids[:,1] , s = 100, color = 'k')\n",
    "plt.legend()\n",
    "plt.show()"
   ]
  },
  {
   "cell_type": "code",
   "execution_count": 80,
   "metadata": {
    "colab": {
     "base_uri": "https://localhost:8080/",
     "height": 592
    },
    "id": "ly-sBSot9QOA",
    "outputId": "b9d7136e-c8d3-4279-df60-7949430cd4b9"
   },
   "outputs": [
    {
     "data": {
      "text/plain": [
       "<mpl_toolkits.mplot3d.art3d.Path3DCollection at 0x1c4768abc88>"
      ]
     },
     "execution_count": 80,
     "metadata": {},
     "output_type": "execute_result"
    },
    {
     "data": {
      "image/png": "[encoded data removed]",
      "text/plain": [
       "<Figure size 720x720 with 1 Axes>"
      ]
     },
     "metadata": {
      "needs_background": "light"
     },
     "output_type": "display_data"
    }
   ],
   "source": [
    "label = kmeans_pca_6.labels_\n",
    "X = np.array(final_attribut)\n",
    "fig = plt.figure(figsize = (10,10))\n",
    "ax = fig.add_subplot(111, projection='3d')\n",
    "ax.scatter(X[label == 0,0],X[label == 0,1],X[label == 0,2])\n",
    "ax.scatter(X[label == 1,0],X[label == 1,1],X[label == 1,2])\n",
    "ax.scatter(X[label == 2,0],X[label == 2,1],X[label == 2,2])\n",
    "ax.scatter(X[label == 3,0],X[label == 3,1],X[label == 3,2])\n",
    "ax.scatter(X[label == 4,0],X[label == 4,1],X[label == 4,2])\n",
    "ax.scatter(X[label == 5,0],X[label == 5,1],X[label == 5,2])\n",
    "# ax.scatter(final_principal[label == 5,0],final_principal[label == 5,1],final_principal[label == 5,2])\n"
   ]
  },
  {
   "cell_type": "code",
   "execution_count": 81,
   "metadata": {
    "colab": {
     "base_uri": "https://localhost:8080/"
    },
    "id": "xt0Lph4G9QVl",
    "outputId": "2ccc0af3-369a-4647-c127-6d2758939670"
   },
   "outputs": [
    {
     "name": "stdout",
     "output_type": "stream",
     "text": [
      "0.29968577370350974\n"
     ]
    }
   ],
   "source": [
    "from sklearn.metrics import silhouette_score\n",
    "\n",
    "print(silhouette_score(final_attribut, kmeans_pca_6.labels_))"
   ]
  },
  {
   "cell_type": "code",
   "execution_count": null,
   "metadata": {
    "id": "qeeM0TK3Qn4U"
   },
   "outputs": [],
   "source": []
  }
 ],
 "metadata": {
  "colab": {
   "collapsed_sections": [],
   "name": "Rev2-FKRTL(MCA + PCA K-Means Full).ipynb",
   "provenance": []
  },
  "kernelspec": {
   "display_name": "Python 3",
   "language": "python",
   "name": "python3"
  },
  "language_info": {
   "codemirror_mode": {
    "name": "ipython",
    "version": 3
   },
   "file_extension": ".py",
   "mimetype": "text/x-python",
   "name": "python",
   "nbconvert_exporter": "python",
   "pygments_lexer": "ipython3",
   "version": "3.6.5"
  }
 },
 "nbformat": 4,
 "nbformat_minor": 1
}
